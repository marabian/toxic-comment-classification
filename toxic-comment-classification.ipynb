{
  "nbformat": 4,
  "nbformat_minor": 0,
  "metadata": {
    "colab": {
      "name": "toxic-comment-classification.ipynb",
      "provenance": [],
      "toc_visible": true,
      "include_colab_link": true
    },
    "kernelspec": {
      "display_name": "Python 3",
      "language": "python",
      "name": "python3"
    },
    "language_info": {
      "codemirror_mode": {
        "name": "ipython",
        "version": 3
      },
      "file_extension": ".py",
      "mimetype": "text/x-python",
      "name": "python",
      "nbconvert_exporter": "python",
      "pygments_lexer": "ipython3",
      "version": "3.6.9"
    },
    "accelerator": "GPU"
  },
  "cells": [
    {
      "cell_type": "markdown",
      "metadata": {
        "id": "view-in-github",
        "colab_type": "text"
      },
      "source": [
        "<a href=\"https://colab.research.google.com/github/marabian/toxic-comment-classification/blob/master/toxic-comment-classification.ipynb\" target=\"_parent\"><img src=\"https://colab.research.google.com/assets/colab-badge.svg\" alt=\"Open In Colab\"/></a>"
      ]
    },
    {
      "cell_type": "markdown",
      "metadata": {
        "id": "lIn9UllDiY27"
      },
      "source": [
        "# Toxic Comment Classification\n",
        "***\n",
        "\n",
        "[Link to Kaggle challenge/dataset](https://www.kaggle.com/c/jigsaw-toxic-comment-classification-challenge/)\n"
      ]
    },
    {
      "cell_type": "code",
      "metadata": {
        "id": "4-ayCVuciY28"
      },
      "source": [
        "import os\n",
        "import random as rnd\n",
        "\n",
        "# data analysis and wrangling\n",
        "import pandas as pd\n",
        "import numpy as np\n",
        "\n",
        "\n",
        "# visualization\n",
        "import seaborn as sns\n",
        "import matplotlib.pyplot as plt\n",
        "%matplotlib inline\n",
        "\n",
        "# machine learning\n",
        "from sklearn.preprocessing import StandardScaler\n",
        "from sklearn.preprocessing import MinMaxScaler\n",
        "from sklearn.model_selection import GridSearchCV\n",
        "from sklearn.model_selection import cross_validate\n",
        "from sklearn.linear_model import LogisticRegression\n",
        "from sklearn.preprocessing import PolynomialFeatures\n",
        "from sklearn.svm import SVC, LinearSVC\n",
        "from sklearn.ensemble import RandomForestClassifier\n",
        "from sklearn.neighbors import KNeighborsClassifier\n",
        "from sklearn.naive_bayes import GaussianNB\n",
        "from sklearn.linear_model import Perceptron\n",
        "from sklearn.linear_model import SGDClassifier\n",
        "from sklearn.tree import DecisionTreeClassifier\n",
        "\n",
        "# deep learning\n",
        "import tensorflow as tf\n",
        "from tensorflow import keras\n",
        "from tensorflow.keras import layers"
      ],
      "execution_count": 6,
      "outputs": []
    },
    {
      "cell_type": "code",
      "metadata": {
        "id": "k3nbWyyWxSTN",
        "outputId": "b9be5df8-88d6-4430-fe7b-778bdfc91950",
        "colab": {
          "base_uri": "https://localhost:8080/",
          "height": 34
        }
      },
      "source": [
        "# to mount google drive for colab\n",
        "from google.colab import drive\n",
        "drive.mount('/content/drive')"
      ],
      "execution_count": 7,
      "outputs": [
        {
          "output_type": "stream",
          "text": [
            "Mounted at /content/drive\n"
          ],
          "name": "stdout"
        }
      ]
    },
    {
      "cell_type": "code",
      "metadata": {
        "id": "uzzxZRECiY3A",
        "outputId": "32af62d9-b3b3-4294-826a-0a91409cc803",
        "colab": {
          "base_uri": "https://localhost:8080/",
          "height": 34
        }
      },
      "source": [
        "# check gpu support\n",
        "print(\"Num GPUs Available: \", len(tf.config.experimental.list_physical_devices('GPU')))"
      ],
      "execution_count": 8,
      "outputs": [
        {
          "output_type": "stream",
          "text": [
            "Num GPUs Available:  1\n"
          ],
          "name": "stdout"
        }
      ]
    },
    {
      "cell_type": "code",
      "metadata": {
        "id": "l4EZP9hmiY3D"
      },
      "source": [
        "# check if gpu working\n",
        "# tf.test.gpu_device_name()"
      ],
      "execution_count": 9,
      "outputs": []
    },
    {
      "cell_type": "code",
      "metadata": {
        "id": "wPY2Xk3NiY3F",
        "outputId": "1cfcba40-d8d0-4981-a64e-09b9aa1e1f52",
        "colab": {
          "base_uri": "https://localhost:8080/",
          "height": 34
        }
      },
      "source": [
        "# change notebook theme\n",
        "!jt -t oceans16 -T -N -kl"
      ],
      "execution_count": 101,
      "outputs": [
        {
          "output_type": "stream",
          "text": [
            "/bin/bash: jt: command not found\n"
          ],
          "name": "stdout"
        }
      ]
    },
    {
      "cell_type": "markdown",
      "metadata": {
        "id": "pfwXP2iviY3H"
      },
      "source": [
        "# Workflow\n",
        "\n",
        "\n",
        "* Defining the problem and assembling a dataset<br>\n",
        "\n",
        "\n",
        "* Choosing a measure of success\n",
        "\n",
        "\n",
        "* Deciding on an evaluation protocol\n",
        "\n",
        "\n",
        "* Preparing your data for ML algorithms\n",
        "\n",
        "\n",
        "* Developing a model that does better than a baseline\n",
        "\n",
        "\n",
        "* Scaling up: developing a model that overfits\n",
        "\n",
        "\n",
        "* Regularizing your model and tuning your hyperparameters\n",
        "\n"
      ]
    },
    {
      "cell_type": "markdown",
      "metadata": {
        "id": "q595P4FZiY3M"
      },
      "source": [
        "# Defining the problem and assembling a dataset\n",
        "***\n"
      ]
    },
    {
      "cell_type": "markdown",
      "metadata": {
        "id": "aDDjkaX3yXZK"
      },
      "source": [
        "We are challenged to build a multi-headed model that’s capable of detecting different types of of toxicity like threats, obscenity, insults, and identity-based hate. Our training data will consist of ~160,000 comments from Wikipedia’s talk page edits with labeled levels of toxicity. Detecting toxic comments online will hopefully help online discussion become more productive and respectful.<br>\n",
        "\n",
        "Since we have many classes, this problem is an instance of multiclass classification; and because each data point could belong to multiple categories (in this case, levels of toxicity), this is a **multilabel, multiclass classification problem**.\n",
        "\n",
        "We will start with a solving a subset of this problem, using **binary classification** to classify between \"good\" and \"toxic\" comments."
      ]
    },
    {
      "cell_type": "code",
      "metadata": {
        "id": "VU5_EFwrw-IS"
      },
      "source": [
        "path_to_data = \"/content/drive/My Drive/machine learning/notebooks/data/jigsaw-toxic-comment-classification-challenge/\""
      ],
      "execution_count": 3,
      "outputs": []
    },
    {
      "cell_type": "code",
      "metadata": {
        "id": "X7WgMsIzVdOt"
      },
      "source": [
        "path_to_data = \"data/\""
      ],
      "execution_count": 4,
      "outputs": []
    },
    {
      "cell_type": "code",
      "metadata": {
        "id": "I3Cp997UiY3M",
        "outputId": "68536038-20d2-4ef4-95dc-a226fd36ec35",
        "colab": {
          "base_uri": "https://localhost:8080/",
          "height": 214
        }
      },
      "source": [
        "train_df = pd.read_csv(path_to_data + \"train.csv\")\n",
        "labels = ['toxic', 'severe_toxic', 'obscene', 'threat', 'insult', 'identity_hate']\n",
        "train_df\n",
        "\n"
      ],
      "execution_count": 5,
      "outputs": [
        {
          "output_type": "error",
          "ename": "NameError",
          "evalue": "ignored",
          "traceback": [
            "\u001b[0;31m---------------------------------------------------------------------------\u001b[0m",
            "\u001b[0;31mNameError\u001b[0m                                 Traceback (most recent call last)",
            "\u001b[0;32m<ipython-input-5-6ca8f1b63f84>\u001b[0m in \u001b[0;36m<module>\u001b[0;34m()\u001b[0m\n\u001b[0;32m----> 1\u001b[0;31m \u001b[0mtrain_df\u001b[0m \u001b[0;34m=\u001b[0m \u001b[0mpd\u001b[0m\u001b[0;34m.\u001b[0m\u001b[0mread_csv\u001b[0m\u001b[0;34m(\u001b[0m\u001b[0mpath_to_data\u001b[0m \u001b[0;34m+\u001b[0m \u001b[0;34m\"train.csv\"\u001b[0m\u001b[0;34m)\u001b[0m\u001b[0;34m\u001b[0m\u001b[0;34m\u001b[0m\u001b[0m\n\u001b[0m\u001b[1;32m      2\u001b[0m \u001b[0mlabels\u001b[0m \u001b[0;34m=\u001b[0m \u001b[0;34m[\u001b[0m\u001b[0;34m'toxic'\u001b[0m\u001b[0;34m,\u001b[0m \u001b[0;34m'severe_toxic'\u001b[0m\u001b[0;34m,\u001b[0m \u001b[0;34m'obscene'\u001b[0m\u001b[0;34m,\u001b[0m \u001b[0;34m'threat'\u001b[0m\u001b[0;34m,\u001b[0m \u001b[0;34m'insult'\u001b[0m\u001b[0;34m,\u001b[0m \u001b[0;34m'identity_hate'\u001b[0m\u001b[0;34m]\u001b[0m\u001b[0;34m\u001b[0m\u001b[0;34m\u001b[0m\u001b[0m\n\u001b[1;32m      3\u001b[0m \u001b[0mtrain_df\u001b[0m\u001b[0;34m\u001b[0m\u001b[0;34m\u001b[0m\u001b[0m\n\u001b[1;32m      4\u001b[0m \u001b[0;34m\u001b[0m\u001b[0m\n",
            "\u001b[0;31mNameError\u001b[0m: name 'pd' is not defined"
          ]
        }
      ]
    },
    {
      "cell_type": "markdown",
      "metadata": {
        "id": "eo4QjJV976L4"
      },
      "source": [
        "Let's build a new dataframe containing just the training examples for our binary classification problem."
      ]
    },
    {
      "cell_type": "code",
      "metadata": {
        "id": "VdF6ssXk75qq"
      },
      "source": [
        "bin_df = pd.concat([\n",
        "           train_df[train_df[labels].eq(0).all(1)][['id', 'comment_text', 'toxic']], # get new df with rows for \"good\" comments\n",
        "           train_df[train_df['toxic'] == 1][['id', 'comment_text', 'toxic']]] # get new dataframe with rows for \"toxic\" comments\n",
        "         ).reset_index(drop=True)"
      ],
      "execution_count": 106,
      "outputs": []
    },
    {
      "cell_type": "code",
      "metadata": {
        "id": "Wr58geauiY3P",
        "outputId": "a6f731b6-a810-403f-d6b5-46d88d91535e",
        "colab": {
          "base_uri": "https://localhost:8080/",
          "height": 419
        }
      },
      "source": [
        "bin_df"
      ],
      "execution_count": 107,
      "outputs": [
        {
          "output_type": "execute_result",
          "data": {
            "text/html": [
              "<div>\n",
              "<style scoped>\n",
              "    .dataframe tbody tr th:only-of-type {\n",
              "        vertical-align: middle;\n",
              "    }\n",
              "\n",
              "    .dataframe tbody tr th {\n",
              "        vertical-align: top;\n",
              "    }\n",
              "\n",
              "    .dataframe thead th {\n",
              "        text-align: right;\n",
              "    }\n",
              "</style>\n",
              "<table border=\"1\" class=\"dataframe\">\n",
              "  <thead>\n",
              "    <tr style=\"text-align: right;\">\n",
              "      <th></th>\n",
              "      <th>id</th>\n",
              "      <th>comment_text</th>\n",
              "      <th>toxic</th>\n",
              "    </tr>\n",
              "  </thead>\n",
              "  <tbody>\n",
              "    <tr>\n",
              "      <th>0</th>\n",
              "      <td>0000997932d777bf</td>\n",
              "      <td>Explanation\\nWhy the edits made under my usern...</td>\n",
              "      <td>0</td>\n",
              "    </tr>\n",
              "    <tr>\n",
              "      <th>1</th>\n",
              "      <td>000103f0d9cfb60f</td>\n",
              "      <td>D'aww! He matches this background colour I'm s...</td>\n",
              "      <td>0</td>\n",
              "    </tr>\n",
              "    <tr>\n",
              "      <th>2</th>\n",
              "      <td>000113f07ec002fd</td>\n",
              "      <td>Hey man, I'm really not trying to edit war. It...</td>\n",
              "      <td>0</td>\n",
              "    </tr>\n",
              "    <tr>\n",
              "      <th>3</th>\n",
              "      <td>0001b41b1c6bb37e</td>\n",
              "      <td>\"\\nMore\\nI can't make any real suggestions on ...</td>\n",
              "      <td>0</td>\n",
              "    </tr>\n",
              "    <tr>\n",
              "      <th>4</th>\n",
              "      <td>0001d958c54c6e35</td>\n",
              "      <td>You, sir, are my hero. Any chance you remember...</td>\n",
              "      <td>0</td>\n",
              "    </tr>\n",
              "    <tr>\n",
              "      <th>...</th>\n",
              "      <td>...</td>\n",
              "      <td>...</td>\n",
              "      <td>...</td>\n",
              "    </tr>\n",
              "    <tr>\n",
              "      <th>158635</th>\n",
              "      <td>fef4cf7ba0012866</td>\n",
              "      <td>\"\\n\\n our previous conversation \\n\\nyou fuckin...</td>\n",
              "      <td>1</td>\n",
              "    </tr>\n",
              "    <tr>\n",
              "      <th>158636</th>\n",
              "      <td>ff39a2895fc3b40e</td>\n",
              "      <td>YOU ARE A MISCHIEVIOUS PUBIC HAIR</td>\n",
              "      <td>1</td>\n",
              "    </tr>\n",
              "    <tr>\n",
              "      <th>158637</th>\n",
              "      <td>ffa33d3122b599d6</td>\n",
              "      <td>Your absurd edits \\n\\nYour absurd edits on gre...</td>\n",
              "      <td>1</td>\n",
              "    </tr>\n",
              "    <tr>\n",
              "      <th>158638</th>\n",
              "      <td>ffb47123b2d82762</td>\n",
              "      <td>\"\\n\\nHey listen don't you ever!!!! Delete my e...</td>\n",
              "      <td>1</td>\n",
              "    </tr>\n",
              "    <tr>\n",
              "      <th>158639</th>\n",
              "      <td>ffbdbb0483ed0841</td>\n",
              "      <td>and i'm going to keep posting the stuff u dele...</td>\n",
              "      <td>1</td>\n",
              "    </tr>\n",
              "  </tbody>\n",
              "</table>\n",
              "<p>158640 rows × 3 columns</p>\n",
              "</div>"
            ],
            "text/plain": [
              "                      id  ... toxic\n",
              "0       0000997932d777bf  ...     0\n",
              "1       000103f0d9cfb60f  ...     0\n",
              "2       000113f07ec002fd  ...     0\n",
              "3       0001b41b1c6bb37e  ...     0\n",
              "4       0001d958c54c6e35  ...     0\n",
              "...                  ...  ...   ...\n",
              "158635  fef4cf7ba0012866  ...     1\n",
              "158636  ff39a2895fc3b40e  ...     1\n",
              "158637  ffa33d3122b599d6  ...     1\n",
              "158638  ffb47123b2d82762  ...     1\n",
              "158639  ffbdbb0483ed0841  ...     1\n",
              "\n",
              "[158640 rows x 3 columns]"
            ]
          },
          "metadata": {
            "tags": []
          },
          "execution_count": 107
        }
      ]
    },
    {
      "cell_type": "markdown",
      "metadata": {
        "id": "GooB2kaN9O3Y"
      },
      "source": [
        "**Plot distribution of toxic comment frequency**"
      ]
    },
    {
      "cell_type": "code",
      "metadata": {
        "id": "PBnWsAje7gtB",
        "outputId": "81e160c0-6180-4722-b228-0284b9a0ab0a",
        "colab": {
          "base_uri": "https://localhost:8080/",
          "height": 285
        }
      },
      "source": [
        "sns.set_theme(style=\"darkgrid\")\n",
        "ax = sns.countplot(x=\"toxic\", data=bin_df)"
      ],
      "execution_count": 108,
      "outputs": [
        {
          "output_type": "display_data",
          "data": {
            "image/png": "[encoded data removed]",
            "text/plain": [
              "<Figure size 432x288 with 1 Axes>"
            ]
          },
          "metadata": {
            "tags": []
          }
        }
      ]
    },
    {
      "cell_type": "code",
      "metadata": {
        "id": "cWhdY4fH9aJU",
        "outputId": "1436e9c3-99f1-4ad1-ace8-a95c800a415c",
        "colab": {
          "base_uri": "https://localhost:8080/",
          "height": 68
        }
      },
      "source": [
        "print(bin_df['toxic'].value_counts())"
      ],
      "execution_count": 109,
      "outputs": [
        {
          "output_type": "stream",
          "text": [
            "0    143346\n",
            "1     15294\n",
            "Name: toxic, dtype: int64\n"
          ],
          "name": "stdout"
        }
      ]
    },
    {
      "cell_type": "markdown",
      "metadata": {
        "id": "wXVbw51B-Kqm"
      },
      "source": [
        "As we can see, our classes are heavily imbalanced. There are a lot more \"good\" comments than \"toxic\". To deal with this class imbalance problem, we will choose ***precision and recall*** as our **evaluation metric**. This will be our measure of success."
      ]
    },
    {
      "cell_type": "code",
      "metadata": {
        "id": "u_NPPiVd-JTi"
      },
      "source": [
        ""
      ],
      "execution_count": 109,
      "outputs": []
    },
    {
      "cell_type": "markdown",
      "metadata": {
        "id": "MnSuKR7z-4gW"
      },
      "source": [
        "# Preparing the raw text data\n",
        "***"
      ]
    },
    {
      "cell_type": "markdown",
      "metadata": {
        "id": "7IKpS-H6_BFB"
      },
      "source": [
        "Let's start doing some text preprocessing! In NLP, the main steps to preprocess raw text into tensors includes the following steps:<br> ***word tokenization***, ***text cleaning*** (lowercasing, removing stop words and punctuation, stemming), and ***text vectorization***.\n",
        "\n",
        "Our first *vectorization scheme* will be using **TF-IDF vectors** for the  most common words found in our corpus.\n",
        "\n",
        "In information retrieval, **TF-IDF**, short for term frequency–inverse document frequency, is a numerical statistic that is intended to reflect how important a word is to a document in a collection or corpus. We will use *Scikit-Learn's* awesome **TfidfVectorizer** to convert a collection of raw documents to a matrix of TF-IDF features. This does all the text preprocessing steps we need."
      ]
    },
    {
      "cell_type": "markdown",
      "metadata": {
        "id": "sIArd-inDEQo"
      },
      "source": [
        "## Bulding feature vectors using TF-IDF"
      ]
    },
    {
      "cell_type": "code",
      "metadata": {
        "id": "LPHfgx0c-5W6",
        "outputId": "5267639f-287a-4d25-825c-96a3ca367238",
        "colab": {
          "base_uri": "https://localhost:8080/",
          "height": 51
        }
      },
      "source": [
        "from sklearn.feature_extraction.text import TfidfVectorizer\n",
        "\n",
        "vectorizer = TfidfVectorizer(lowercase='True', stop_words='english', max_features=10)\n",
        "X = vectorizer.fit_transform(bin_df.comment_text)\n",
        "\n",
        "print(vectorizer.get_feature_names())\n",
        "print(X.shape)"
      ],
      "execution_count": 110,
      "outputs": [
        {
          "output_type": "stream",
          "text": [
            "['article', 'don', 'just', 'know', 'like', 'page', 'people', 'talk', 'think', 'wikipedia']\n",
            "(158640, 10)\n"
          ],
          "name": "stdout"
        }
      ]
    },
    {
      "cell_type": "markdown",
      "metadata": {
        "id": "G2YwOa0HEYXB"
      },
      "source": [
        "In order to get a better idea on how many words to consider as features, let's visualize the distribution of word counts amongst our training examples. In order to do this, we must first preprocess the raw text data ourselves. Let's define a function to preprocess the comments by *tokenizing* and *cleaning*."
      ]
    },
    {
      "cell_type": "code",
      "metadata": {
        "id": "EqhwYb8BTBEB"
      },
      "source": [
        "import re\n",
        "import string\n",
        "import numpy as np\n",
        "\n",
        "import nltk\n",
        "from nltk.corpus import stopwords\n",
        "from nltk.stem import PorterStemmer\n",
        "from nltk.tokenize import word_tokenize\n",
        "\n",
        "# stemmer\n",
        "stemmer = PorterStemmer()\n",
        "\n",
        "# stop words\n",
        "nltk.download('stopwords')\n",
        "nltk.download('punkt')\n",
        "stopwords_english = stopwords.words('english')"
      ],
      "execution_count": null,
      "outputs": []
    },
    {
      "cell_type": "code",
      "metadata": {
        "id": "jFXJwiSoFZgq"
      },
      "source": [
        "def process_comment(comment):\n",
        "    \"\"\"Process comment function.\n",
        "    Input:\n",
        "        comment: a string containing a comment\n",
        "    Output:\n",
        "        comment_clean: a list of cleaned word tokens\n",
        "\n",
        "    \"\"\"\n",
        "\n",
        "    # normalizing case\n",
        "    comment = comment.lower()\n",
        "\n",
        "    # remove special characters\n",
        "    pat = r'[^a-zA-z0-9.,!?/:;\\\"\\'\\s]' \n",
        "    comment = re.sub(pat, '', comment)\n",
        "\n",
        "    # remove numbers\n",
        "    pattern = r'[^a-zA-z.,!?/:;\\\"\\'\\s]' \n",
        "    comment = re.sub(pattern, '', comment)\n",
        "    \n",
        "    # remove punctuation in comment and stopwords\n",
        "    comment = comment.translate(str.maketrans('', '', string.punctuation))\n",
        "    stopwords = [word.translate(str.maketrans('', '', string.punctuation)) for word in stopwords_english]\n",
        "    \n",
        "    # replace repeated character sequences of length 3 or greater with sequences of length 3\n",
        "    comment = nltk.tokenize.casual.reduce_lengthening(comment)\n",
        "    \n",
        "    # tokenize comment\n",
        "    tokens = word_tokenize(comment)\n",
        "    \n",
        "    # remove stop words and stem\n",
        "    comment_clean = [stemmer.stem(token) for token in tokens if token not in stopwords and len(token) > 1]\n",
        "    #comment_clean = [token for token in tokens if token not in stopwords]\n",
        "\n",
        "    return comment_clean"
      ],
      "execution_count": 119,
      "outputs": []
    },
    {
      "cell_type": "code",
      "metadata": {
        "id": "3OoncQOUVdPE",
        "outputId": "733287ae-95fa-4a3f-d204-2ae10a8a3729",
        "colab": {
          "base_uri": "https://localhost:8080/",
          "height": 221
        }
      },
      "source": [
        "bin_df.comment_text"
      ],
      "execution_count": 121,
      "outputs": [
        {
          "output_type": "execute_result",
          "data": {
            "text/plain": [
              "0         Explanation\\nWhy the edits made under my usern...\n",
              "1         D'aww! He matches this background colour I'm s...\n",
              "2         Hey man, I'm really not trying to edit war. It...\n",
              "3         \"\\nMore\\nI can't make any real suggestions on ...\n",
              "4         You, sir, are my hero. Any chance you remember...\n",
              "                                ...                        \n",
              "158635    \"\\n\\n our previous conversation \\n\\nyou fuckin...\n",
              "158636                    YOU ARE A MISCHIEVIOUS PUBIC HAIR\n",
              "158637    Your absurd edits \\n\\nYour absurd edits on gre...\n",
              "158638    \"\\n\\nHey listen don't you ever!!!! Delete my e...\n",
              "158639    and i'm going to keep posting the stuff u dele...\n",
              "Name: comment_text, Length: 158640, dtype: object"
            ]
          },
          "metadata": {
            "tags": []
          },
          "execution_count": 121
        }
      ]
    },
    {
      "cell_type": "markdown",
      "metadata": {
        "id": "8ezz4V7QVdPG"
      },
      "source": [
        "Let's clean our entire dataset using the *process_comment* function we just defined, we will store the cleaned comments in a new column."
      ]
    },
    {
      "cell_type": "code",
      "metadata": {
        "id": "m53OyknNVdPG"
      },
      "source": [
        "bin_df['cleaned_comments'] = bin_df['comment_text'].apply(process_comment)"
      ],
      "execution_count": 122,
      "outputs": []
    },
    {
      "cell_type": "code",
      "metadata": {
        "id": "4KETx0dpVdPI"
      },
      "source": [
        "bin_df['word_count'] = bin_df['cleaned_comments'].apply(len)"
      ],
      "execution_count": 128,
      "outputs": []
    },
    {
      "cell_type": "code",
      "metadata": {
        "id": "DMh1slZrVdPK",
        "outputId": "6b2d546e-09de-4f19-c0ac-6a113f57089e",
        "colab": {
          "base_uri": "https://localhost:8080/",
          "height": 419
        }
      },
      "source": [
        "bin_df"
      ],
      "execution_count": 124,
      "outputs": [
        {
          "output_type": "execute_result",
          "data": {
            "text/html": [
              "<div>\n",
              "<style scoped>\n",
              "    .dataframe tbody tr th:only-of-type {\n",
              "        vertical-align: middle;\n",
              "    }\n",
              "\n",
              "    .dataframe tbody tr th {\n",
              "        vertical-align: top;\n",
              "    }\n",
              "\n",
              "    .dataframe thead th {\n",
              "        text-align: right;\n",
              "    }\n",
              "</style>\n",
              "<table border=\"1\" class=\"dataframe\">\n",
              "  <thead>\n",
              "    <tr style=\"text-align: right;\">\n",
              "      <th></th>\n",
              "      <th>id</th>\n",
              "      <th>comment_text</th>\n",
              "      <th>toxic</th>\n",
              "      <th>cleaned_comments</th>\n",
              "      <th>word_count</th>\n",
              "    </tr>\n",
              "  </thead>\n",
              "  <tbody>\n",
              "    <tr>\n",
              "      <th>0</th>\n",
              "      <td>0000997932d777bf</td>\n",
              "      <td>Explanation\\nWhy the edits made under my usern...</td>\n",
              "      <td>0</td>\n",
              "      <td>[explan, edit, made, usernam, hardcor, metalli...</td>\n",
              "      <td>24</td>\n",
              "    </tr>\n",
              "    <tr>\n",
              "      <th>1</th>\n",
              "      <td>000103f0d9cfb60f</td>\n",
              "      <td>D'aww! He matches this background colour I'm s...</td>\n",
              "      <td>0</td>\n",
              "      <td>[daww, match, background, colour, im, seemingl...</td>\n",
              "      <td>11</td>\n",
              "    </tr>\n",
              "    <tr>\n",
              "      <th>2</th>\n",
              "      <td>000113f07ec002fd</td>\n",
              "      <td>Hey man, I'm really not trying to edit war. It...</td>\n",
              "      <td>0</td>\n",
              "      <td>[hey, man, im, realli, tri, edit, war, guy, co...</td>\n",
              "      <td>22</td>\n",
              "    </tr>\n",
              "    <tr>\n",
              "      <th>3</th>\n",
              "      <td>0001b41b1c6bb37e</td>\n",
              "      <td>\"\\nMore\\nI can't make any real suggestions on ...</td>\n",
              "      <td>0</td>\n",
              "      <td>[cant, make, real, suggest, improv, wonder, se...</td>\n",
              "      <td>49</td>\n",
              "    </tr>\n",
              "    <tr>\n",
              "      <th>4</th>\n",
              "      <td>0001d958c54c6e35</td>\n",
              "      <td>You, sir, are my hero. Any chance you remember...</td>\n",
              "      <td>0</td>\n",
              "      <td>[sir, hero, chanc, rememb, page, that]</td>\n",
              "      <td>6</td>\n",
              "    </tr>\n",
              "    <tr>\n",
              "      <th>...</th>\n",
              "      <td>...</td>\n",
              "      <td>...</td>\n",
              "      <td>...</td>\n",
              "      <td>...</td>\n",
              "      <td>...</td>\n",
              "    </tr>\n",
              "    <tr>\n",
              "      <th>158635</th>\n",
              "      <td>fef4cf7ba0012866</td>\n",
              "      <td>\"\\n\\n our previous conversation \\n\\nyou fuckin...</td>\n",
              "      <td>1</td>\n",
              "      <td>[previou, convers, fuck, shit, eat, liber, mak...</td>\n",
              "      <td>172</td>\n",
              "    </tr>\n",
              "    <tr>\n",
              "      <th>158636</th>\n",
              "      <td>ff39a2895fc3b40e</td>\n",
              "      <td>YOU ARE A MISCHIEVIOUS PUBIC HAIR</td>\n",
              "      <td>1</td>\n",
              "      <td>[mischievi, pubic, hair]</td>\n",
              "      <td>3</td>\n",
              "    </tr>\n",
              "    <tr>\n",
              "      <th>158637</th>\n",
              "      <td>ffa33d3122b599d6</td>\n",
              "      <td>Your absurd edits \\n\\nYour absurd edits on gre...</td>\n",
              "      <td>1</td>\n",
              "      <td>[absurd, edit, absurd, edit, great, white, sha...</td>\n",
              "      <td>28</td>\n",
              "    </tr>\n",
              "    <tr>\n",
              "      <th>158638</th>\n",
              "      <td>ffb47123b2d82762</td>\n",
              "      <td>\"\\n\\nHey listen don't you ever!!!! Delete my e...</td>\n",
              "      <td>1</td>\n",
              "      <td>[hey, listen, ever, delet, edit, ever, im, ann...</td>\n",
              "      <td>47</td>\n",
              "    </tr>\n",
              "    <tr>\n",
              "      <th>158639</th>\n",
              "      <td>ffbdbb0483ed0841</td>\n",
              "      <td>and i'm going to keep posting the stuff u dele...</td>\n",
              "      <td>1</td>\n",
              "      <td>[im, go, keep, post, stuff, delet, fuck, site,...</td>\n",
              "      <td>22</td>\n",
              "    </tr>\n",
              "  </tbody>\n",
              "</table>\n",
              "<p>158640 rows × 5 columns</p>\n",
              "</div>"
            ],
            "text/plain": [
              "                      id  ... word_count\n",
              "0       0000997932d777bf  ...         24\n",
              "1       000103f0d9cfb60f  ...         11\n",
              "2       000113f07ec002fd  ...         22\n",
              "3       0001b41b1c6bb37e  ...         49\n",
              "4       0001d958c54c6e35  ...          6\n",
              "...                  ...  ...        ...\n",
              "158635  fef4cf7ba0012866  ...        172\n",
              "158636  ff39a2895fc3b40e  ...          3\n",
              "158637  ffa33d3122b599d6  ...         28\n",
              "158638  ffb47123b2d82762  ...         47\n",
              "158639  ffbdbb0483ed0841  ...         22\n",
              "\n",
              "[158640 rows x 5 columns]"
            ]
          },
          "metadata": {
            "tags": []
          },
          "execution_count": 124
        }
      ]
    },
    {
      "cell_type": "markdown",
      "metadata": {
        "id": "iywj0tq3VdPM"
      },
      "source": [
        "Now we can visualize the distribution of word counts in all comments."
      ]
    },
    {
      "cell_type": "code",
      "metadata": {
        "id": "QD0Jbd9YVdPM",
        "outputId": "cca938c3-e242-49f7-df3d-b9073b7b22fa",
        "colab": {
          "base_uri": "https://localhost:8080/",
          "height": 302
        }
      },
      "source": [
        "sns.histplot(data=bin_df, x=\"word_count\", bins=30)"
      ],
      "execution_count": 125,
      "outputs": [
        {
          "output_type": "execute_result",
          "data": {
            "text/plain": [
              "<matplotlib.axes._subplots.AxesSubplot at 0x7fd1f0dc8668>"
            ]
          },
          "metadata": {
            "tags": []
          },
          "execution_count": 125
        },
        {
          "output_type": "display_data",
          "data": {
            "image/png": "[encoded data removed]",
            "text/plain": [
              "<Figure size 432x288 with 1 Axes>"
            ]
          },
          "metadata": {
            "tags": []
          }
        }
      ]
    },
    {
      "cell_type": "markdown",
      "metadata": {
        "id": "ZuNgoXFvVdPO"
      },
      "source": [
        "Visualize the distribution of word counts in good comments."
      ]
    },
    {
      "cell_type": "code",
      "metadata": {
        "id": "ZVKG7on0VdPO",
        "outputId": "c4f8c9e5-fde7-46b9-e791-4891d23add14",
        "colab": {
          "base_uri": "https://localhost:8080/",
          "height": 302
        }
      },
      "source": [
        "sns.histplot(x=bin_df[bin_df['toxic'] == 0]['word_count'], bins=20)"
      ],
      "execution_count": 126,
      "outputs": [
        {
          "output_type": "execute_result",
          "data": {
            "text/plain": [
              "<matplotlib.axes._subplots.AxesSubplot at 0x7fd1f0d01128>"
            ]
          },
          "metadata": {
            "tags": []
          },
          "execution_count": 126
        },
        {
          "output_type": "display_data",
          "data": {
            "image/png": "[encoded data removed]",
            "text/plain": [
              "<Figure size 432x288 with 1 Axes>"
            ]
          },
          "metadata": {
            "tags": []
          }
        }
      ]
    },
    {
      "cell_type": "markdown",
      "metadata": {
        "id": "HRAjh300VdPR"
      },
      "source": [
        "Visualize the distribution of word counts in bad comments."
      ]
    },
    {
      "cell_type": "code",
      "metadata": {
        "id": "D6zV4-AjVdPR",
        "outputId": "52632843-7bd0-46c8-f015-c46822048182",
        "colab": {
          "base_uri": "https://localhost:8080/",
          "height": 302
        }
      },
      "source": [
        "sns.histplot(x=bin_df[bin_df['toxic'] == 1]['word_count'], bins=20)"
      ],
      "execution_count": 127,
      "outputs": [
        {
          "output_type": "execute_result",
          "data": {
            "text/plain": [
              "<matplotlib.axes._subplots.AxesSubplot at 0x7fd1f0c97ac8>"
            ]
          },
          "metadata": {
            "tags": []
          },
          "execution_count": 127
        },
        {
          "output_type": "display_data",
          "data": {
            "image/png": "[encoded data removed]",
            "text/plain": [
              "<Figure size 432x288 with 1 Axes>"
            ]
          },
          "metadata": {
            "tags": []
          }
        }
      ]
    },
    {
      "cell_type": "markdown",
      "metadata": {
        "id": "LCBby9m3sfGO"
      },
      "source": [
        "**Split data into train, validation sets**"
      ]
    },
    {
      "cell_type": "markdown",
      "metadata": {
        "id": "QLFTuefoVdPT"
      },
      "source": [
        "Seems like the distributions are roughly the same. Most comments contain ~100 words. We will use this as our **max_features**. Our **evaluation protocol** will be maintaining a **hold-out validation set**. Now let's split up our dataset into randomized training and validation sets. Since our classes are imbalanced, it is important that both the training and validation sets have the same ratio of \"good\" to \"bad\" comments.<br><br>We will use *Scikit-Learn's* **train_test_split** function with *stratified* sampling to do this:"
      ]
    },
    {
      "cell_type": "code",
      "metadata": {
        "id": "lrvkKOKQVdPU",
        "outputId": "21a1b386-1e85-44b8-fdc9-4e10cdfbd810",
        "colab": {
          "base_uri": "https://localhost:8080/",
          "height": 34
        }
      },
      "source": [
        "from sklearn.model_selection import train_test_split\n",
        "\n",
        "# train test split\n",
        "train, test = train_test_split(bin_df, test_size = 0.2, stratify = bin_df['toxic'], random_state=21)\n",
        "\n",
        "# get the shape of train and test split.\n",
        "print(train.shape, test.shape)"
      ],
      "execution_count": 129,
      "outputs": [
        {
          "output_type": "stream",
          "text": [
            "(126912, 5) (31728, 5)\n"
          ],
          "name": "stdout"
        }
      ]
    },
    {
      "cell_type": "markdown",
      "metadata": {
        "id": "LAmzb3ILVdPW"
      },
      "source": [
        "Let's create a ***TF-IDF vector*** of the *comment_text* column using the **TfidfVectorizer**. We will keep *max features* as 100 and use our own *tokenizer* function."
      ]
    },
    {
      "cell_type": "code",
      "metadata": {
        "id": "UT_cZ7L_VdPW",
        "outputId": "f69ec0eb-ddce-468e-8beb-1268fc0dade6",
        "colab": {
          "base_uri": "https://localhost:8080/",
          "height": 187
        }
      },
      "source": [
        "# create a TF-IDF vectorizer object\n",
        "vectorizer = TfidfVectorizer(tokenizer=process_comment, max_features=100)\n",
        "\n",
        "# fit the object with the training data comments\n",
        "vectorizer.fit(train.comment_text)"
      ],
      "execution_count": 130,
      "outputs": [
        {
          "output_type": "stream",
          "text": [
            "/usr/local/lib/python3.6/dist-packages/sklearn/feature_extraction/text.py:507: UserWarning: The parameter 'token_pattern' will not be used since 'tokenizer' is not None'\n",
            "  warnings.warn(\"The parameter 'token_pattern' will not be used\"\n"
          ],
          "name": "stderr"
        },
        {
          "output_type": "execute_result",
          "data": {
            "text/plain": [
              "TfidfVectorizer(analyzer='word', binary=False, decode_error='strict',\n",
              "                dtype=<class 'numpy.float64'>, encoding='utf-8',\n",
              "                input='content', lowercase=True, max_df=1.0, max_features=100,\n",
              "                min_df=1, ngram_range=(1, 1), norm='l2', preprocessor=None,\n",
              "                smooth_idf=True, stop_words=None, strip_accents=None,\n",
              "                sublinear_tf=False, token_pattern='(?u)\\\\b\\\\w\\\\w+\\\\b',\n",
              "                tokenizer=<function process_comment at 0x7fd202909f28>,\n",
              "                use_idf=True, vocabulary=None)"
            ]
          },
          "metadata": {
            "tags": []
          },
          "execution_count": 130
        }
      ]
    },
    {
      "cell_type": "code",
      "metadata": {
        "id": "9iXOxRv6VdPZ",
        "outputId": "58314440-6507-4fc8-bb5e-0feebbe978c6",
        "colab": {
          "base_uri": "https://localhost:8080/",
          "height": 54
        }
      },
      "source": [
        "print(vectorizer.get_feature_names())"
      ],
      "execution_count": 131,
      "outputs": [
        {
          "output_type": "stream",
          "text": [
            "['actual', 'ad', 'add', 'also', 'articl', 'ask', 'back', 'block', 'call', 'chang', 'comment', 'consid', 'content', 'contribut', 'could', 'creat', 'delet', 'discuss', 'edit', 'editor', 'even', 'fact', 'find', 'first', 'fuck', 'get', 'go', 'good', 'help', 'im', 'imag', 'includ', 'inform', 'issu', 'ive', 'know', 'like', 'link', 'list', 'look', 'made', 'make', 'mani', 'may', 'mean', 'much', 'name', 'need', 'new', 'note', 'one', 'page', 'peopl', 'person', 'place', 'pleas', 'point', 'polici', 'post', 'put', 'question', 'read', 'realli', 'reason', 'refer', 'remov', 'revert', 'right', 'said', 'say', 'section', 'see', 'seem', 'sinc', 'someon', 'someth', 'sourc', 'state', 'still', 'stop', 'tag', 'take', 'talk', 'thank', 'thing', 'think', 'time', 'tri', 'two', 'use', 'user', 'vandal', 'want', 'way', 'well', 'wikipedia', 'word', 'work', 'would', 'year']\n"
          ],
          "name": "stdout"
        }
      ]
    },
    {
      "cell_type": "markdown",
      "metadata": {
        "id": "lVE3-FUfVdPb"
      },
      "source": [
        "Use the model and transform the train and test data comments:"
      ]
    },
    {
      "cell_type": "code",
      "metadata": {
        "id": "_6K4z2LJVdPb"
      },
      "source": [
        "# transform the train and test data\n",
        "train_idf = vectorizer.transform(train.comment_text)\n",
        "test_idf  = vectorizer.transform(test.comment_text)"
      ],
      "execution_count": 132,
      "outputs": []
    },
    {
      "cell_type": "code",
      "metadata": {
        "id": "WbDzDBDdVdPe",
        "outputId": "c0b0ac8c-f9c0-4d10-dfc6-af56545c5593",
        "colab": {
          "base_uri": "https://localhost:8080/",
          "height": 34
        }
      },
      "source": [
        "print(train_idf.shape, test_idf.shape)"
      ],
      "execution_count": 134,
      "outputs": [
        {
          "output_type": "stream",
          "text": [
            "(126912, 100) (31728, 100)\n"
          ],
          "name": "stdout"
        }
      ]
    },
    {
      "cell_type": "markdown",
      "metadata": {
        "id": "m1lTd4KXVdPf"
      },
      "source": [
        "# Developing a baseline logistic regression model\n",
        "***"
      ]
    },
    {
      "cell_type": "markdown",
      "metadata": {
        "id": "D86Tk_X0VdPg"
      },
      "source": [
        "Let's create our first model, we will use a simple ***Logistic Regression*** classifier with our TF-IDF vectors as input."
      ]
    },
    {
      "cell_type": "code",
      "metadata": {
        "id": "1Bu-CHnlVdPg",
        "outputId": "8a1141df-e5a6-43a0-9642-246a21c3c301",
        "colab": {
          "base_uri": "https://localhost:8080/",
          "height": 34
        }
      },
      "source": [
        "from sklearn.linear_model import LogisticRegression\n",
        "\n",
        "log_reg = LogisticRegression()\n",
        "log_reg.fit(train_idf, train.toxic)\n",
        "acc_log_reg = log_reg.score(test_idf, test.toxic)\n",
        "print(\"Validation accuracy:\", acc_log_reg)"
      ],
      "execution_count": 135,
      "outputs": [
        {
          "output_type": "stream",
          "text": [
            "Validation accuracy: 0.9255547150781644\n"
          ],
          "name": "stdout"
        }
      ]
    },
    {
      "cell_type": "markdown",
      "metadata": {
        "id": "BSxH5jd7VdPi"
      },
      "source": [
        "92% accuracy on validation set, wow great! Hold on..."
      ]
    },
    {
      "cell_type": "code",
      "metadata": {
        "id": "Kua9QOToVdPi",
        "outputId": "4bd7a9e2-4379-4610-c214-ce2fb1cb23a6"
      },
      "source": [
        "test['toxic'].value_counts()"
      ],
      "execution_count": null,
      "outputs": [
        {
          "output_type": "execute_result",
          "data": {
            "text/plain": [
              "0    28669\n",
              "1     3059\n",
              "Name: toxic, dtype: int64"
            ]
          },
          "metadata": {
            "tags": []
          },
          "execution_count": 173
        }
      ]
    },
    {
      "cell_type": "markdown",
      "metadata": {
        "id": "5jaVcxXpVdPk"
      },
      "source": [
        "90.35% of comments in our validation set are \"good\". This means if we have a **dumb baseline model** that always predicts \"good\" for all inputs, it will achieve 90.35% accuracy.<br>\n",
        "This demonstrates why accuracy is generally not the preferred performance measure\n",
        "for classifiers, especially when you are dealing with skewed datasets (i.e., when some\n",
        "classes are much more frequent than others). Our ***Logistic regression*** model achieved very small **statistical power** despite seemingly hire accuracy.\n",
        "\n",
        "Accuracy works best if false positives and false negatives have similar cost. If the cost of false positives and false negatives are very different, it’s better to look at both Precision and Recall (or F1 score). If the dataset is balanced, better to use ROC AUC as a metric. "
      ]
    },
    {
      "cell_type": "code",
      "metadata": {
        "id": "szxDub1kVdPk",
        "outputId": "aac710da-9e08-4155-dfa4-bac8dc9ff780"
      },
      "source": [
        "#(log_reg.predict_proba(train_idf)[:,1] > 0.5).astype(int)\n",
        "y_test_probs = log_reg.predict_proba(test_idf)[:,1]\n",
        "y_test_probs.shape\n"
      ],
      "execution_count": null,
      "outputs": [
        {
          "output_type": "execute_result",
          "data": {
            "text/plain": [
              "(31728,)"
            ]
          },
          "metadata": {
            "tags": []
          },
          "execution_count": 181
        }
      ]
    },
    {
      "cell_type": "code",
      "metadata": {
        "id": "tBZE2tRTVdPo"
      },
      "source": [
        "y_test_pred = log_reg.predict(test_idf)"
      ],
      "execution_count": 142,
      "outputs": []
    },
    {
      "cell_type": "markdown",
      "metadata": {
        "id": "-TJzqUzGVdPq"
      },
      "source": [
        "# Evaluating model performance (binary classification)\n",
        "***\n",
        "<br>\n",
        "\n",
        "*Read this:* https://machinelearningmastery.com/tour-of-evaluation-metrics-for-imbalanced-classification/\n",
        "\n",
        "\n",
        "Let's define some functions which we will use to evaluate the performance of our models."
      ]
    },
    {
      "cell_type": "markdown",
      "metadata": {
        "id": "c2V0zLGCVdPr"
      },
      "source": [
        "## **Confusing Matrix**\n"
      ]
    },
    {
      "cell_type": "markdown",
      "metadata": {
        "id": "UIacmQX6WYaQ"
      },
      "source": [
        "A much better way to evaluate the performance of a classifier is to look at the **confusion matrix**. The general idea is to count the number of times instances of class A are\n",
        "classified as class B.\n",
        "\n",
        "To compute the confusion matrix, you first need to have a set of predictions, so they\n",
        "can be compared to the actual targets."
      ]
    },
    {
      "cell_type": "code",
      "metadata": {
        "id": "WbDyIyu3WdhK",
        "outputId": "da157836-e158-4064-9b3e-35317c751af6",
        "colab": {
          "base_uri": "https://localhost:8080/",
          "height": 34
        }
      },
      "source": [
        "from sklearn.metrics import confusion_matrix\n",
        "\n",
        "cf = confusion_matrix(test.toxic, y_test_pred)\n",
        "cf[1,1]"
      ],
      "execution_count": 173,
      "outputs": [
        {
          "output_type": "execute_result",
          "data": {
            "text/plain": [
              "747"
            ]
          },
          "metadata": {
            "tags": []
          },
          "execution_count": 173
        }
      ]
    },
    {
      "cell_type": "code",
      "metadata": {
        "id": "51YE4j4BVdPs"
      },
      "source": [
        "def plot_cf(cf_matrix):\n",
        "    group_names = ['True Neg','False Pos','False Neg','True Pos']\n",
        "    group_counts = [\"{0:0.0f}\".format(value) for value in\n",
        "                    cf_matrix.flatten()]\n",
        "    group_percentages = [\"{0:.2%}\".format(value) for value in\n",
        "                         cf_matrix.flatten()/np.sum(cf_matrix)]\n",
        "    labels = [f\"{v1}\\n{v2}\\n{v3}\" for v1, v2, v3 in\n",
        "              zip(group_names,group_counts,group_percentages)]\n",
        "    labels = np.asarray(labels).reshape(2,2)\n",
        "    sns.heatmap(cf_matrix, annot=labels, fmt='', cmap='Blues')"
      ],
      "execution_count": 144,
      "outputs": []
    },
    {
      "cell_type": "code",
      "metadata": {
        "id": "W1HFf2c3VdPt",
        "outputId": "d24f0fbe-9a8a-4f3f-92d6-65b56e4810b5",
        "colab": {
          "base_uri": "https://localhost:8080/",
          "height": 268
        }
      },
      "source": [
        "plot_cf(cf)"
      ],
      "execution_count": 145,
      "outputs": [
        {
          "output_type": "display_data",
          "data": {
            "image/png": "[encoded data removed]",
            "text/plain": [
              "<Figure size 432x288 with 2 Axes>"
            ]
          },
          "metadata": {
            "tags": []
          }
        }
      ]
    },
    {
      "cell_type": "markdown",
      "metadata": {
        "id": "T6KyzEkMVdPv"
      },
      "source": [
        "Each row in a confusion matrix represents an **actual class**, while each column represents a **predicted class**. A perfect classifier would have only true positives and true\n",
        "negatives, so its confusion matrix would have nonzero values only on its main diago‐\n",
        "nal (top left to bottom right):"
      ]
    },
    {
      "cell_type": "markdown",
      "metadata": {
        "id": "TcTwEsDAVdPv"
      },
      "source": [
        "## **Precision and Recall**\n",
        "\n",
        "The confusion matrix gives you a lot of information, but sometimes you may prefer a\n",
        "more concise metric. An interesting one to look at is the **accuracy of the positive predictions**; this is called the **precision** of the classifier (Equation 3-1)."
      ]
    },
    {
      "cell_type": "markdown",
      "metadata": {
        "id": "qbAEsaodVdPw"
      },
      "source": [
        "$precision = \\frac{TP}{TP + FP}$"
      ]
    },
    {
      "cell_type": "markdown",
      "metadata": {
        "id": "kclV_Q87VdPw"
      },
      "source": [
        "A trivial way to have perfect precision is to make one single positive prediction and\n",
        "ensure it is correct (precision = 1/1 = 100%). This would not be very useful since the\n",
        "classifier would ignore all but one positive instance. So precision is typically used\n",
        "along with another metric named **recall**, also called **sensitivity** or **true positive rate** - (TPR): ***this is the ratio of positive instances that are correctly detected by the classifier***"
      ]
    },
    {
      "cell_type": "markdown",
      "metadata": {
        "id": "jEyQ2tyUVdPx"
      },
      "source": [
        "$recall = \\frac{TP}{TP + FN}$"
      ]
    },
    {
      "cell_type": "code",
      "metadata": {
        "id": "tO8X2qkfVdPx",
        "outputId": "f4344e01-313a-4f60-e46d-5736a6d3f44e"
      },
      "source": [
        "from sklearn.metrics import precision_score, recall_score\n",
        "\n",
        "print(\"Precision is\", precision_score(test.toxic, y_test_pred))\n",
        "\n",
        "print(\"Recall is\", recall_score(test.toxic, y_test_pred)) #747/(2312+747)"
      ],
      "execution_count": null,
      "outputs": [
        {
          "output_type": "stream",
          "text": [
            "Precision is 0.9372647427854455\n",
            "Recall is 0.2441974501471069\n"
          ],
          "name": "stdout"
        }
      ]
    },
    {
      "cell_type": "markdown",
      "metadata": {
        "id": "JHQCkQepVdP0"
      },
      "source": [
        "Our log reg classifier doesn't look as shiny as it did when looking at its accuracy."
      ]
    },
    {
      "cell_type": "markdown",
      "metadata": {
        "id": "ZJcTXpq1WnZ2"
      },
      "source": [
        "## **F1 Score**"
      ]
    },
    {
      "cell_type": "markdown",
      "metadata": {
        "id": "3-QQyX1SVdP0"
      },
      "source": [
        "It is often convenient to combine precision and recall into a single metric called the **F1\n",
        "score**, in particular if you need a simple way to compare two classifiers. The F1\n",
        "score is the **harmonic mean of precision and recall**. Whereas the regular mean treats all values equally, the harmonic mean gives much more weight to low values.\n",
        "As a result, the **classifier will only get a high F1 score if both recall and precision are high**.\n",
        "\n",
        "F1 score is applicable for any particular point on the ROC curve. You may think of it as a measure of precision and recall at a particular threshold value whereas AUC is the area under the ROC curve. For F score to be high, both precision and recall should be high."
      ]
    },
    {
      "cell_type": "markdown",
      "metadata": {
        "id": "jKShy5t1VdP1"
      },
      "source": [
        "$F_{1} = 2 * \\frac{precision * recall}{precision + recall}$"
      ]
    },
    {
      "cell_type": "code",
      "metadata": {
        "id": "hejItAiEVdP1",
        "outputId": "8e5c9016-5334-4820-db48-6936d91d7d3e"
      },
      "source": [
        "from sklearn.metrics import f1_score\n",
        "from sklearn.metrics import auc\n",
        "\n",
        "f1_score(test.toxic, y_test_pred)"
      ],
      "execution_count": null,
      "outputs": [
        {
          "output_type": "execute_result",
          "data": {
            "text/plain": [
              "0.38744813278008294"
            ]
          },
          "metadata": {
            "tags": []
          },
          "execution_count": 172
        }
      ]
    },
    {
      "cell_type": "markdown",
      "metadata": {
        "id": "ebmBhRBNVdP3"
      },
      "source": [
        "The **F1 score** favors classifiers that have similar precision and recall. This is not always\n",
        "what you want: in some contexts you mostly care about precision, and in other contexts you really care about recall.\n",
        "\n",
        "For example, if you trained a classifier to detect videos that are safe for kids, you would probably prefer a classifier that rejects many\n",
        "good videos (low recall) but keeps only safe ones (high precision), rather than a clas‐\n",
        "sifier that has a much higher recall but lets a few really bad videos show up in your\n",
        "product (in such cases, you may even want to add a human pipeline to check the clas‐\n",
        "sifier’s video selection). \n",
        "\n",
        "On the other hand, suppose you train a classifier to detect\n",
        "shoplifters on surveillance images: it is probably fine if your classifier has only 30%\n",
        "precision as long as it has 99% recall (sure, the security guards will get a few false\n",
        "alerts, but almost all shoplifters will get caught).\n",
        "Unfortunately, you can’t have it both ways: increasing precision reduces recall, and\n",
        "vice versa. This is called the **precision/recall tradeoff**."
      ]
    },
    {
      "cell_type": "markdown",
      "metadata": {
        "id": "NnrKDEhxVdP4"
      },
      "source": [
        "## **Precision, Recall Tradeoff and Curve**"
      ]
    },
    {
      "cell_type": "markdown",
      "metadata": {
        "id": "CpZUhywnVdP5"
      },
      "source": [
        "If you raise the threshold, will be increasing precision. Conversely, lowering the threshold increases recall and reduces precision."
      ]
    },
    {
      "cell_type": "markdown",
      "metadata": {
        "id": "Zq4YVP0EVdP8"
      },
      "source": [
        "**Precision vs Recall Curve**\n",
        "\n",
        "To plot the PR curve, you first need to compute the **precisions** and **recalls** for **various threshold values**, using the ***precision_recall_curve()*** function:"
      ]
    },
    {
      "cell_type": "code",
      "metadata": {
        "id": "a_2IJowzVdP8",
        "outputId": "dd05751e-c480-4c09-8d3c-11c5310d380c",
        "colab": {
          "base_uri": "https://localhost:8080/",
          "height": 231
        }
      },
      "source": [
        "from sklearn.metrics import precision_recall_curve\n",
        "from sklearn.metrics import f1_score\n",
        "from sklearn.metrics import auc\n",
        "\n",
        "precisions, recalls, thresholds = precision_recall_curve(test.toxic, y_test_probs)\n",
        "f1, auc = f1_score(test.toxic, y_test_pred), auc(recalls, precisions)\n",
        "auc"
      ],
      "execution_count": 96,
      "outputs": [
        {
          "output_type": "error",
          "ename": "NameError",
          "evalue": "ignored",
          "traceback": [
            "\u001b[0;31m---------------------------------------------------------------------------\u001b[0m",
            "\u001b[0;31mNameError\u001b[0m                                 Traceback (most recent call last)",
            "\u001b[0;32m<ipython-input-96-994014ad8ca3>\u001b[0m in \u001b[0;36m<module>\u001b[0;34m()\u001b[0m\n\u001b[1;32m      3\u001b[0m \u001b[0;32mfrom\u001b[0m \u001b[0msklearn\u001b[0m\u001b[0;34m.\u001b[0m\u001b[0mmetrics\u001b[0m \u001b[0;32mimport\u001b[0m \u001b[0mauc\u001b[0m\u001b[0;34m\u001b[0m\u001b[0;34m\u001b[0m\u001b[0m\n\u001b[1;32m      4\u001b[0m \u001b[0;34m\u001b[0m\u001b[0m\n\u001b[0;32m----> 5\u001b[0;31m \u001b[0mprecisions\u001b[0m\u001b[0;34m,\u001b[0m \u001b[0mrecalls\u001b[0m\u001b[0;34m,\u001b[0m \u001b[0mthresholds\u001b[0m \u001b[0;34m=\u001b[0m \u001b[0mprecision_recall_curve\u001b[0m\u001b[0;34m(\u001b[0m\u001b[0mtest\u001b[0m\u001b[0;34m.\u001b[0m\u001b[0mtoxic\u001b[0m\u001b[0;34m,\u001b[0m \u001b[0my_test_probs\u001b[0m\u001b[0;34m)\u001b[0m\u001b[0;34m\u001b[0m\u001b[0;34m\u001b[0m\u001b[0m\n\u001b[0m\u001b[1;32m      6\u001b[0m \u001b[0mf1\u001b[0m\u001b[0;34m,\u001b[0m \u001b[0mauc\u001b[0m \u001b[0;34m=\u001b[0m \u001b[0mf1_score\u001b[0m\u001b[0;34m(\u001b[0m\u001b[0mtest\u001b[0m\u001b[0;34m.\u001b[0m\u001b[0mtoxic\u001b[0m\u001b[0;34m,\u001b[0m \u001b[0my_test_pred\u001b[0m\u001b[0;34m)\u001b[0m\u001b[0;34m,\u001b[0m \u001b[0mauc\u001b[0m\u001b[0;34m(\u001b[0m\u001b[0mrecalls\u001b[0m\u001b[0;34m,\u001b[0m \u001b[0mprecisions\u001b[0m\u001b[0;34m)\u001b[0m\u001b[0;34m\u001b[0m\u001b[0;34m\u001b[0m\u001b[0m\n\u001b[1;32m      7\u001b[0m \u001b[0mauc\u001b[0m\u001b[0;34m\u001b[0m\u001b[0;34m\u001b[0m\u001b[0m\n",
            "\u001b[0;31mNameError\u001b[0m: name 'test' is not defined"
          ]
        }
      ]
    },
    {
      "cell_type": "code",
      "metadata": {
        "id": "P5KcQS7MVdP-"
      },
      "source": [
        "def plot_pr_curve(testy, precisions, recalls):\n",
        "    # plot the precision-recall curves\n",
        "    no_skill = len(testy[testy==1]) / len(testy)\n",
        "    plt.plot([0, 1], [no_skill, no_skill], linestyle='--', label='No Skill')\n",
        "    plt.plot(recalls, precisions, marker='.', label='Logistic')\n",
        "    # axis labels\n",
        "    plt.xlabel('Recall')\n",
        "    plt.ylabel('Precision')\n",
        "    # show the legend\n",
        "    plt.legend()\n",
        "    # show the plot\n",
        "    plt.show()"
      ],
      "execution_count": null,
      "outputs": []
    },
    {
      "cell_type": "code",
      "metadata": {
        "id": "302gRmwvVdQA",
        "outputId": "a9b7afb8-3c9f-4668-e0fe-1c34f40248aa"
      },
      "source": [
        "plot_pr_curve(test.toxic, precisions, recalls)"
      ],
      "execution_count": null,
      "outputs": [
        {
          "output_type": "display_data",
          "data": {
            "image/png": "[encoded data removed]",
            "text/plain": [
              "<Figure size 432x288 with 1 Axes>"
            ]
          },
          "metadata": {
            "tags": []
          }
        }
      ]
    },
    {
      "cell_type": "markdown",
      "metadata": {
        "id": "mvLmLmKuVdQC"
      },
      "source": [
        "## **ROC Curve**\n",
        "\n"
      ]
    },
    {
      "cell_type": "markdown",
      "metadata": {
        "id": "ukaNNbgrXBS7"
      },
      "source": [
        "The ROC Curve is a helpful diagnostic for binary classifiers.\n",
        "\n",
        "It is a plot of the false positive rate (x-axis) versus the true positive rate (y-axis) for a number of different candidate threshold values between 0.0 and 1.0. Put another way, it plots the false alarm rate versus the hit rate.\n",
        "\n",
        "The FPR is the ratio of negative instances that\n",
        "are incorrectly classified as positive. It is equal to one minus the true negative rate,\n",
        "which is the ratio of negative instances that are correctly classified as negative. The\n",
        "TNR is also called specificity. Hence the ROC curve plots sensitivity (recall) versus\n",
        "1 – specificity.\n",
        "\n",
        "\n",
        "To plot the ROC curve, you first need to compute the **TPR** and **FPR** for **various threshold values**, using the ***roc_curve()*** function:"
      ]
    },
    {
      "cell_type": "code",
      "metadata": {
        "id": "_bohQWN_VdQC"
      },
      "source": [
        "from sklearn.metrics import roc_curve\n",
        "\n",
        "# compute the TPR and FPR for various threshold values, \n",
        "fpr, tpr, thresholds = roc_curve(test.toxic, y_test_probs)\n"
      ],
      "execution_count": null,
      "outputs": []
    },
    {
      "cell_type": "code",
      "metadata": {
        "id": "vVOBRDRjVdQE",
        "outputId": "2025da78-5c08-4d35-b095-dafe5ba82e70"
      },
      "source": [
        "def plot_roc_curve(fpr, tpr, label=None):\n",
        "    plt.plot(fpr, tpr, linewidth=2, label=label)\n",
        "    plt.plot([0, 1], [0, 1], 'k--') # dashed diagonal\n",
        "    plt.xlabel(\"False Positive Rate\")\n",
        "    plt.ylabel(\"True Positive Rate (Recall)\")\n",
        "plot_roc_curve(fpr, tpr)\n",
        "plt.show()\n"
      ],
      "execution_count": null,
      "outputs": [
        {
          "output_type": "display_data",
          "data": {
            "image/png": "[encoded data removed]",
            "text/plain": [
              "<Figure size 432x288 with 1 Axes>"
            ]
          },
          "metadata": {
            "tags": []
          }
        }
      ]
    },
    {
      "cell_type": "markdown",
      "metadata": {
        "id": "o7H3MwIAVdQG"
      },
      "source": [
        "Once again there is a tradeoff: the higher the recall (TPR), the more false positives\n",
        "(FPR) the classifier produces. The dotted line represents the ROC curve of a purely\n",
        "random classifier; a good classifier stays as far away from that line as possible (toward\n",
        "the top-left corner).\n",
        "\n",
        "One way to compare classifiers is to measure the area under the curve (AUC). A perfect classifier will have a ROC AUC equal to 1, whereas a purely random classifier will\n",
        "have a ROC AUC equal to 0.5. Scikit-Learn provides a function to compute the ROC AUC:\n"
      ]
    },
    {
      "cell_type": "code",
      "metadata": {
        "id": "BWyQ-qfMVdQG",
        "outputId": "6a2dce38-148f-4001-dc37-624bc290c408"
      },
      "source": [
        "from sklearn.metrics import roc_auc_score\n",
        "roc_auc_score(test.toxic, y_test_probs)\n"
      ],
      "execution_count": null,
      "outputs": [
        {
          "output_type": "execute_result",
          "data": {
            "text/plain": [
              "0.8375393568720257"
            ]
          },
          "metadata": {
            "tags": []
          },
          "execution_count": 190
        }
      ]
    },
    {
      "cell_type": "markdown",
      "metadata": {
        "id": "O5xhXWi3VdQI"
      },
      "source": [
        "Since the ROC curve is so similar to the precision/recall (or PR)\n",
        "curve, you may wonder how to decide which one to use. As a rule\n",
        "of thumb, you should prefer the PR curve whenever the positive\n",
        "class is rare or when you care more about the false positives than\n",
        "the false negatives, and the ROC curve otherwise. For example,\n",
        "looking at the previous ROC curve (and the ROC AUC score), you\n",
        "may think that the classifier is really good. But this is mostly\n",
        "because there are few positives (toxic comments) compared to the negatives\n",
        "(good comments). In contrast, the PR curve makes it clear that the classifier\n",
        "has room for improvement (the curve could be closer to the topright corner)."
      ]
    },
    {
      "cell_type": "markdown",
      "metadata": {
        "id": "5oQFdcp5VdQI"
      },
      "source": [
        "## **When to Use ROC vs. Precision-Recall Curves?**\n",
        "\n",
        "*Read this:* https://stats.stackexchange.com/questions/7207/roc-vs-precision-and-recall-curves\n",
        "\n",
        "The key difference is that ROC curves will be the same no matter what the baseline probability is, but PR curves may be more useful in practice for needle-in-haystack type problems or problems where the \"positive\" class is more interesting than the negative class.\n",
        "\n",
        "\n",
        "IMHO when writing a paper you should provide whichever curve answers the question you want answered (or whichever one is more favorable to your method, if you're cynical). If your question is: \"How meaningful is a positive result from my classifier given the baseline probabilities of my problem?\", use a PR curve. If your question is, \"How well can this classifier be expected to perform in general, at a variety of different baseline probabilities?\", go with a ROC curve."
      ]
    },
    {
      "cell_type": "markdown",
      "metadata": {
        "id": "abNnH2VfVdQI"
      },
      "source": [
        "Generally, the use of ROC curves and precision-recall curves are as follows:\n",
        "\n",
        "* **ROC curves** should be used when there are roughly equal numbers of observations for each class.\n",
        "\n",
        "\n",
        "* **Precision-Recall curves** should be used when there is a moderate to large class imbalance.\n",
        "    The reason for this recommendation is that ROC curves present an optimistic picture of the model on datasets with a class imbalance."
      ]
    },
    {
      "cell_type": "markdown",
      "metadata": {
        "id": "jFTGfny_YoDc"
      },
      "source": [
        "## ***Useful functions***\n",
        "\n",
        "\n",
        "\n"
      ]
    },
    {
      "cell_type": "markdown",
      "metadata": {
        "id": "Ve3_37XjmXI7"
      },
      "source": [
        "### **Plot Confusion Matrix**\n"
      ]
    },
    {
      "cell_type": "code",
      "metadata": {
        "id": "vmQUJG5bmfY4"
      },
      "source": [
        "from sklearn.metrics import confusion_matrix\n",
        "\n",
        "def plot_cf(y_actual, y_pred):\n",
        "    cf_matrix = confusion_matrix(test.toxic, y_test_pred)\n",
        "\n",
        "    group_names = ['True Neg','False Pos','False Neg','True Pos']\n",
        "    group_counts = [\"{0:0.0f}\".format(value) for value in\n",
        "                    cf_matrix.flatten()]\n",
        "    group_percentages = [\"{0:.2%}\".format(value) for value in\n",
        "                         cf_matrix.flatten()/np.sum(cf_matrix)]\n",
        "    labels = [f\"{v1}\\n{v2}\\n{v3}\" for v1, v2, v3 in\n",
        "              zip(group_names,group_counts,group_percentages)]\n",
        "    labels = np.asarray(labels).reshape(2,2)\n",
        "    sns.heatmap(cf_matrix, annot=labels, fmt='', cmap='Blues')"
      ],
      "execution_count": 162,
      "outputs": []
    },
    {
      "cell_type": "markdown",
      "metadata": {
        "id": "CckcBBvZlcfr"
      },
      "source": [
        "### **Metrics function**\n",
        "\n",
        "Let's define a function which will return the following metrics:\n",
        "* Accuracy\n",
        "* FP\n",
        "* FN\n",
        "* Precision\n",
        "* Recall\n",
        "* F1 score\n",
        "* Precision-Recall AUC\n",
        "* ROC AUC"
      ]
    },
    {
      "cell_type": "code",
      "metadata": {
        "id": "9ygxfJ0EVdQJ"
      },
      "source": [
        "from sklearn.metrics import precision_score, recall_score\n",
        "from sklearn.metrics import confusion_matrix\n",
        "from sklearn.metrics import f1_score\n",
        "from sklearn.metrics import precision_recall_curve\n",
        "from sklearn.metrics import auc\n",
        "from sklearn.metrics import roc_auc_score\n",
        "\n",
        "def binary_classification_metrics(y_actual, y_probs, threshold):\n",
        "    # get predictions\n",
        "    y_pred = (y_probs > threshold).astype(int)\n",
        "\n",
        "    # confusion matrix\n",
        "    cf = confusion_matrix(y_actual, y_pred)\n",
        "\n",
        "    # accuracy\n",
        "    accuracy = (cf[0, 0] + cf[1, 1])/(cf[1, 0] + cf[0, 1] + cf[0, 0] + cf[1, 1])\n",
        "    \n",
        "    # number of False Positives\n",
        "    fp = cf[0, 1]\n",
        "\n",
        "    # number of False Negatives\n",
        "    fn =  cf[1, 0]\n",
        "    \n",
        "    # precision - accuracy of the positive predictions\n",
        "    precision = precision_score(y_actual, y_pred)\n",
        "\n",
        "    # recall (TPR) - this is the ratio of positive instances that are correctly detected by the classifier\n",
        "    recall = recall_score(y_actual, y_pred)\n",
        "\n",
        "    # get f1 score\n",
        "    f1 = f1_score(y_actual, y_pred)\n",
        "\n",
        "    # precision-recall AUC\n",
        "    precisions, recalls, thresholds = precision_recall_curve(y_actual, y_probs)\n",
        "    pr_auc = auc(recalls, precisions)\n",
        "\n",
        "    # ROC AUC\n",
        "    roc_auc = roc_auc_score(y_actual, y_probs)\n",
        "\n",
        "    print('Accuracy:', accuracy)\n",
        "    print('False Positives:', fp)\n",
        "    print('False Negatives:', fn)\n",
        "    print('Precision:', precision)\n",
        "    print('Recall:', recall)\n",
        "    print('F1 score:', f1)\n",
        "    print('Precision-Recall AUC:', pr_auc)\n",
        "    print('ROC AUC:', roc_auc)"
      ],
      "execution_count": 174,
      "outputs": []
    },
    {
      "cell_type": "markdown",
      "metadata": {
        "id": "RygkGB0Mm4jS"
      },
      "source": [
        "### **Plot Precision-Recall Curve**"
      ]
    },
    {
      "cell_type": "code",
      "metadata": {
        "id": "Dil0AOG_goAl"
      },
      "source": [
        "from sklearn.metrics import precision_recall_curve\n",
        "\n",
        "def plot_pr_curve(y_actual, y_probs, label=None):\n",
        "    # get precisions, recalls, thresholds\n",
        "    precisions, recalls, thresholds = precision_recall_curve(y_actual, y_probs)\n",
        "\n",
        "    # plot the precision-recall curves\n",
        "    no_skill = len(y_actual[y_actual==1]) / len(y_actual)\n",
        "    plt.plot([0, 1], [no_skill, no_skill], linestyle='--', label='No Skill')\n",
        "    plt.plot(recalls, precisions, marker='.', label=label)\n",
        "\n",
        "    # axis labels\n",
        "    plt.xlabel('Recall')\n",
        "    plt.ylabel('Precision')\n",
        "\n",
        "    # show the legend\n",
        "    plt.legend()\n",
        "\n",
        "    # show the plot\n",
        "    plt.show()"
      ],
      "execution_count": 182,
      "outputs": []
    },
    {
      "cell_type": "markdown",
      "metadata": {
        "id": "2uYtnwOSniVb"
      },
      "source": [
        "### **Plot ROC Curve**"
      ]
    },
    {
      "cell_type": "code",
      "metadata": {
        "id": "FwyMM3W5ntbZ"
      },
      "source": [
        "from sklearn.metrics import roc_curve\n",
        "\n",
        "def plot_roc_curve(y_actual, y_probs, label=None):\n",
        "    # compute the TPR and FPR for various threshold values, \n",
        "    fpr, tpr, thresholds = roc_curve(y_actual, y_probs)\n",
        "\n",
        "    plt.plot(fpr, tpr, linewidth=2, label=label)\n",
        "    plt.plot([0, 1], [0, 1], 'k--', label='No Skill') # dashed diagonal\n",
        "    plt.xlabel(\"False Positive Rate\")\n",
        "    plt.ylabel(\"True Positive Rate (Recall)\")\n",
        "\n",
        "    # show the legend\n",
        "    plt.legend()\n",
        "\n",
        "    # show the plot\n",
        "    plt.show()\n"
      ],
      "execution_count": 188,
      "outputs": []
    },
    {
      "cell_type": "code",
      "metadata": {
        "id": "XQia7jvioCfb"
      },
      "source": [
        ""
      ],
      "execution_count": null,
      "outputs": []
    },
    {
      "cell_type": "code",
      "metadata": {
        "id": "kWkceP-ipoGC"
      },
      "source": [
        ""
      ],
      "execution_count": null,
      "outputs": []
    },
    {
      "cell_type": "code",
      "metadata": {
        "id": "UbITPKelpoIA"
      },
      "source": [
        ""
      ],
      "execution_count": null,
      "outputs": []
    },
    {
      "cell_type": "markdown",
      "metadata": {
        "id": "FLL61OGvppC4"
      },
      "source": [
        "**Getting evaluation metrics for logistic regression model**"
      ]
    },
    {
      "cell_type": "code",
      "metadata": {
        "id": "TO2HI3Lbo_is",
        "outputId": "3ae0156b-199f-4383-f689-4fca245f935c",
        "colab": {
          "base_uri": "https://localhost:8080/",
          "height": 34
        }
      },
      "source": [
        "from sklearn.linear_model import LogisticRegression\n",
        "\n",
        "log_reg = LogisticRegression()\n",
        "log_reg.fit(train_idf, train.toxic)\n",
        "acc_log_reg = log_reg.score(test_idf, test.toxic)\n",
        "print(\"Validation accuracy:\", acc_log_reg)"
      ],
      "execution_count": 156,
      "outputs": [
        {
          "output_type": "stream",
          "text": [
            "Validation accuracy: 0.9255547150781644\n"
          ],
          "name": "stdout"
        }
      ]
    },
    {
      "cell_type": "code",
      "metadata": {
        "id": "z3b4mbHApEbK"
      },
      "source": [
        "# predictions using 0.5 as threshold\n",
        "y_test_pred = (log_reg.predict_proba(test_idf)[:,1] > 0.5).astype(int)\n",
        "\n",
        "# probabilities\n",
        "y_test_probs = log_reg.predict_proba(test_idf)[:,1]"
      ],
      "execution_count": 159,
      "outputs": []
    },
    {
      "cell_type": "code",
      "metadata": {
        "id": "pbPbAWz8pkLT",
        "outputId": "3701abf7-5ef9-4bb3-ebf2-9e55ea8643f8",
        "colab": {
          "base_uri": "https://localhost:8080/",
          "height": 268
        }
      },
      "source": [
        "plot_cf(test.toxic, y_test_pred)"
      ],
      "execution_count": 163,
      "outputs": [
        {
          "output_type": "display_data",
          "data": {
            "image/png": "[encoded data removed]",
            "text/plain": [
              "<Figure size 432x288 with 2 Axes>"
            ]
          },
          "metadata": {
            "tags": []
          }
        }
      ]
    },
    {
      "cell_type": "code",
      "metadata": {
        "id": "NyuUy5eIqERa",
        "outputId": "48db1bd7-46b2-44fa-9590-60a336e736bc",
        "colab": {
          "base_uri": "https://localhost:8080/",
          "height": 153
        }
      },
      "source": [
        "binary_classification_metrics(test.toxic, y_test_probs, 0.5)"
      ],
      "execution_count": 175,
      "outputs": [
        {
          "output_type": "stream",
          "text": [
            "Accuracy: 0.9255547150781644\n",
            "False Positives: 50\n",
            "False Negatives: 2312\n",
            "Precision: 0.9372647427854455\n",
            "Recall: 0.2441974501471069\n",
            "F1 score: 0.38744813278008294\n",
            "Precision-Recall AUC: 0.5206538462365435\n",
            "ROC AUC: 0.8375393568720257\n"
          ],
          "name": "stdout"
        }
      ]
    },
    {
      "cell_type": "code",
      "metadata": {
        "id": "VfqZw2IbrM7D",
        "outputId": "ce51d169-ed32-4bde-9e0a-fb7fcd7b902d",
        "colab": {
          "base_uri": "https://localhost:8080/",
          "height": 285
        }
      },
      "source": [
        "plot_pr_curve(test.toxic, y_test_probs, 'logistic regression')"
      ],
      "execution_count": 184,
      "outputs": [
        {
          "output_type": "display_data",
          "data": {
            "image/png": "[encoded data removed]",
            "text/plain": [
              "<Figure size 432x288 with 1 Axes>"
            ]
          },
          "metadata": {
            "tags": []
          }
        }
      ]
    },
    {
      "cell_type": "code",
      "metadata": {
        "id": "oj6brwp9rqYo",
        "outputId": "2bab169e-6f21-4206-8a39-493567466fa3",
        "colab": {
          "base_uri": "https://localhost:8080/",
          "height": 285
        }
      },
      "source": [
        "plot_roc_curve(test.toxic, y_test_probs, 'logistic regression')"
      ],
      "execution_count": 189,
      "outputs": [
        {
          "output_type": "display_data",
          "data": {
            "image/png": "[encoded data removed]",
            "text/plain": [
              "<Figure size 432x288 with 1 Axes>"
            ]
          },
          "metadata": {
            "tags": []
          }
        }
      ]
    },
    {
      "cell_type": "markdown",
      "metadata": {
        "id": "tq1SuJJooOX6"
      },
      "source": [
        "# Developing a feedforward DNN using TF-IDF vectors\n",
        "***"
      ]
    },
    {
      "cell_type": "markdown",
      "metadata": {
        "id": "6xAmYpnex6Gk"
      },
      "source": [
        "### **Create model**"
      ]
    },
    {
      "cell_type": "code",
      "metadata": {
        "id": "qUPEfodaoVIi"
      },
      "source": [
        "# Model definition\n",
        "from keras import models\n",
        "from keras import layers\n",
        "from keras import regularizers\n",
        "\n",
        "model = models.Sequential()\n",
        "model.add(layers.Dense(64, activation='relu', input_shape=(100,), kernel_regularizer=regularizers.l2(0.001)))\n",
        "model.add(layers.Dense(64, activation='relu', kernel_regularizer=regularizers.l2(0.001)))\n",
        "model.add(layers.Dense(1, activation='sigmoid'))"
      ],
      "execution_count": 248,
      "outputs": []
    },
    {
      "cell_type": "code",
      "metadata": {
        "id": "2lxrF7ZysNTc"
      },
      "source": [
        "# Compile the model\n",
        "model.compile(optimizer='adam',\n",
        "              loss='binary_crossentropy',\n",
        "              metrics=['accuracy'])"
      ],
      "execution_count": 249,
      "outputs": []
    },
    {
      "cell_type": "code",
      "metadata": {
        "id": "wRM8fxEitaJb",
        "outputId": "9764b721-e199-4c76-fad8-4a822923a02f",
        "colab": {
          "base_uri": "https://localhost:8080/",
          "height": 255
        }
      },
      "source": [
        "model.summary()"
      ],
      "execution_count": 250,
      "outputs": [
        {
          "output_type": "stream",
          "text": [
            "Model: \"sequential_6\"\n",
            "_________________________________________________________________\n",
            "Layer (type)                 Output Shape              Param #   \n",
            "=================================================================\n",
            "dense_14 (Dense)             (None, 64)                6464      \n",
            "_________________________________________________________________\n",
            "dense_15 (Dense)             (None, 64)                4160      \n",
            "_________________________________________________________________\n",
            "dense_16 (Dense)             (None, 1)                 65        \n",
            "=================================================================\n",
            "Total params: 10,689\n",
            "Trainable params: 10,689\n",
            "Non-trainable params: 0\n",
            "_________________________________________________________________\n"
          ],
          "name": "stdout"
        }
      ]
    },
    {
      "cell_type": "code",
      "metadata": {
        "id": "c3WdT-yEs8Vy",
        "outputId": "5983bc77-9bf7-4965-f2b3-038e531d0c6f",
        "colab": {
          "base_uri": "https://localhost:8080/",
          "height": 697
        }
      },
      "source": [
        "# train\n",
        "history_dnn = model.fit(train_idf.toarray(),\n",
        "                    train.toxic.values,\n",
        "                    epochs=20,\n",
        "                    batch_size=256,\n",
        "                    validation_data=(test_idf.toarray(), test.toxic.values))"
      ],
      "execution_count": 251,
      "outputs": [
        {
          "output_type": "stream",
          "text": [
            "Epoch 1/20\n",
            "496/496 [==============================] - 1s 3ms/step - loss: 0.3142 - accuracy: 0.9181 - val_loss: 0.2483 - val_accuracy: 0.9251\n",
            "Epoch 2/20\n",
            "496/496 [==============================] - 1s 3ms/step - loss: 0.2427 - accuracy: 0.9254 - val_loss: 0.2391 - val_accuracy: 0.9252\n",
            "Epoch 3/20\n",
            "496/496 [==============================] - 2s 3ms/step - loss: 0.2378 - accuracy: 0.9255 - val_loss: 0.2363 - val_accuracy: 0.9252\n",
            "Epoch 4/20\n",
            "496/496 [==============================] - 1s 3ms/step - loss: 0.2366 - accuracy: 0.9254 - val_loss: 0.2349 - val_accuracy: 0.9254\n",
            "Epoch 5/20\n",
            "496/496 [==============================] - 1s 3ms/step - loss: 0.2354 - accuracy: 0.9256 - val_loss: 0.2340 - val_accuracy: 0.9251\n",
            "Epoch 6/20\n",
            "496/496 [==============================] - 2s 3ms/step - loss: 0.2344 - accuracy: 0.9255 - val_loss: 0.2333 - val_accuracy: 0.9253\n",
            "Epoch 7/20\n",
            "496/496 [==============================] - 1s 3ms/step - loss: 0.2339 - accuracy: 0.9256 - val_loss: 0.2332 - val_accuracy: 0.9254\n",
            "Epoch 8/20\n",
            "496/496 [==============================] - 1s 3ms/step - loss: 0.2335 - accuracy: 0.9258 - val_loss: 0.2336 - val_accuracy: 0.9253\n",
            "Epoch 9/20\n",
            "496/496 [==============================] - 2s 3ms/step - loss: 0.2329 - accuracy: 0.9258 - val_loss: 0.2318 - val_accuracy: 0.9254\n",
            "Epoch 10/20\n",
            "496/496 [==============================] - 2s 3ms/step - loss: 0.2324 - accuracy: 0.9258 - val_loss: 0.2324 - val_accuracy: 0.9253\n",
            "Epoch 11/20\n",
            "496/496 [==============================] - 1s 3ms/step - loss: 0.2323 - accuracy: 0.9258 - val_loss: 0.2321 - val_accuracy: 0.9256\n",
            "Epoch 12/20\n",
            "496/496 [==============================] - 1s 3ms/step - loss: 0.2318 - accuracy: 0.9259 - val_loss: 0.2309 - val_accuracy: 0.9254\n",
            "Epoch 13/20\n",
            "496/496 [==============================] - 1s 3ms/step - loss: 0.2316 - accuracy: 0.9258 - val_loss: 0.2310 - val_accuracy: 0.9258\n",
            "Epoch 14/20\n",
            "496/496 [==============================] - 1s 3ms/step - loss: 0.2311 - accuracy: 0.9258 - val_loss: 0.2304 - val_accuracy: 0.9255\n",
            "Epoch 15/20\n",
            "496/496 [==============================] - 1s 3ms/step - loss: 0.2308 - accuracy: 0.9259 - val_loss: 0.2307 - val_accuracy: 0.9253\n",
            "Epoch 16/20\n",
            "496/496 [==============================] - 1s 3ms/step - loss: 0.2306 - accuracy: 0.9260 - val_loss: 0.2303 - val_accuracy: 0.9252\n",
            "Epoch 17/20\n",
            "496/496 [==============================] - 2s 4ms/step - loss: 0.2302 - accuracy: 0.9260 - val_loss: 0.2299 - val_accuracy: 0.9252\n",
            "Epoch 18/20\n",
            "496/496 [==============================] - 2s 4ms/step - loss: 0.2302 - accuracy: 0.9261 - val_loss: 0.2294 - val_accuracy: 0.9253\n",
            "Epoch 19/20\n",
            "496/496 [==============================] - 3s 6ms/step - loss: 0.2299 - accuracy: 0.9260 - val_loss: 0.2299 - val_accuracy: 0.9257\n",
            "Epoch 20/20\n",
            "496/496 [==============================] - 2s 5ms/step - loss: 0.2298 - accuracy: 0.9261 - val_loss: 0.2299 - val_accuracy: 0.9260\n"
          ],
          "name": "stdout"
        }
      ]
    },
    {
      "cell_type": "markdown",
      "metadata": {
        "id": "2-OK1Bjpx9hU"
      },
      "source": [
        "### **Evaluate model metrics**"
      ]
    },
    {
      "cell_type": "code",
      "metadata": {
        "id": "IfQ_ct3BvaIz",
        "outputId": "e8a1064e-5746-4d58-c7ba-eb9516e9d604",
        "colab": {
          "base_uri": "https://localhost:8080/",
          "height": 301
        }
      },
      "source": [
        "plot_loss(history_dnn)"
      ],
      "execution_count": 252,
      "outputs": [
        {
          "output_type": "display_data",
          "data": {
            "image/png": "[encoded data removed]",
            "text/plain": [
              "<Figure size 432x288 with 1 Axes>"
            ]
          },
          "metadata": {
            "tags": []
          }
        }
      ]
    },
    {
      "cell_type": "code",
      "metadata": {
        "id": "36IEm5lXvgNg",
        "outputId": "678b13ff-245d-435c-bd0a-3e82a8d33243",
        "colab": {
          "base_uri": "https://localhost:8080/",
          "height": 301
        }
      },
      "source": [
        "plot_accuracy(history_dnn)"
      ],
      "execution_count": 253,
      "outputs": [
        {
          "output_type": "display_data",
          "data": {
            "image/png": "[encoded data removed]",
            "text/plain": [
              "<Figure size 432x288 with 1 Axes>"
            ]
          },
          "metadata": {
            "tags": []
          }
        }
      ]
    },
    {
      "cell_type": "markdown",
      "metadata": {
        "id": "6aF4-95myyMe"
      },
      "source": [
        "Make predictions using the DNN model and get probabilities"
      ]
    },
    {
      "cell_type": "code",
      "metadata": {
        "id": "-vmK5Kg6v5VE"
      },
      "source": [
        "y_test_probs = model.predict_proba(test_idf.toarray())"
      ],
      "execution_count": 255,
      "outputs": []
    },
    {
      "cell_type": "code",
      "metadata": {
        "id": "C2UPlo5UzLPI",
        "outputId": "8ac3b765-0739-420c-a829-b06175c88403",
        "colab": {
          "base_uri": "https://localhost:8080/",
          "height": 153
        }
      },
      "source": [
        "binary_classification_metrics(test.toxic, y_test_probs, 0.5)"
      ],
      "execution_count": 256,
      "outputs": [
        {
          "output_type": "stream",
          "text": [
            "Accuracy: 0.925964447806354\n",
            "False Positives: 67\n",
            "False Negatives: 2282\n",
            "Precision: 0.9206161137440758\n",
            "Recall: 0.2540045766590389\n",
            "F1 score: 0.3981552651806303\n",
            "Precision-Recall AUC: 0.5238432593700862\n",
            "ROC AUC: 0.8397078268331497\n"
          ],
          "name": "stdout"
        }
      ]
    },
    {
      "cell_type": "markdown",
      "metadata": {
        "id": "u3FqTanO0SoG"
      },
      "source": [
        "Not really better than our log reg classifier...we can try further tuning of hyperparameters, or perhaps increasing **max_features** when vectorizing our text. Instead let's jump into using Word Embeddings and LSTMs."
      ]
    },
    {
      "cell_type": "markdown",
      "metadata": {
        "id": "OaFWmrM4wp0p"
      },
      "source": [
        "### **Function to plot training and validation loss**\n"
      ]
    },
    {
      "cell_type": "code",
      "metadata": {
        "id": "4qj2op3gwtW-"
      },
      "source": [
        "import matplotlib.pyplot as plt\n",
        "\n",
        "# takes in history object and prints training and validation loss\n",
        "def plot_loss(history):\n",
        "    loss = history.history['loss']\n",
        "    val_loss = history.history['val_loss']\n",
        "\n",
        "    epochs = range(1, len(loss) + 1)\n",
        "\n",
        "    plt.plot(epochs, loss, 'bo', label='Training loss')\n",
        "    plt.plot(epochs, val_loss, 'b', label='Validation loss')\n",
        "    plt.title('Training and validation loss')\n",
        "    plt.xlabel('Epochs')\n",
        "    plt.ylabel('Loss')\n",
        "    plt.legend()\n",
        "    \n",
        "    plt.show()"
      ],
      "execution_count": 220,
      "outputs": []
    },
    {
      "cell_type": "markdown",
      "metadata": {
        "id": "AKI8n7LPw3TX"
      },
      "source": [
        "### **Function to plot training and validation accuracy**"
      ]
    },
    {
      "cell_type": "code",
      "metadata": {
        "id": "I91K-qyow571"
      },
      "source": [
        "import matplotlib.pyplot as plt\n",
        "\n",
        "def plot_accuracy(history):\n",
        "    acc = history.history['accuracy']\n",
        "    val_acc = history.history['val_accuracy']\n",
        "\n",
        "    epochs = range(1, len(acc) + 1)\n",
        "\n",
        "    plt.plot(epochs, acc, 'bo', label='Training acc')\n",
        "    plt.plot(epochs, val_acc, 'b', label='Validation acc')\n",
        "    plt.title('Training and validation accuracy')\n",
        "    plt.xlabel('Epochs')\n",
        "    plt.ylabel('Loss')\n",
        "    plt.legend()\n",
        "\n",
        "    plt.show()"
      ],
      "execution_count": 216,
      "outputs": []
    },
    {
      "cell_type": "code",
      "metadata": {
        "id": "7yiXSpV7xExF"
      },
      "source": [
        ""
      ],
      "execution_count": null,
      "outputs": []
    },
    {
      "cell_type": "markdown",
      "metadata": {
        "id": "MOife_S_2D5S"
      },
      "source": [
        "# Developing a Recurrent Neural Network using Word Embeddings\n",
        "***"
      ]
    },
    {
      "cell_type": "markdown",
      "metadata": {
        "id": "aGF-N62V2sle"
      },
      "source": [
        "First lets try learning our own word embeddings"
      ]
    },
    {
      "cell_type": "code",
      "metadata": {
        "id": "tslPpP5G2K7H",
        "outputId": "c989f640-40ef-4cf2-c4db-41bb4103f27a",
        "colab": {
          "base_uri": "https://localhost:8080/",
          "height": 231
        }
      },
      "source": [
        "# Tokenizing the text of the raw Wikipedia comments\n",
        "from keras.preprocessing.text import Tokenizer\n",
        "from keras.preprocessing.sequence import pad_sequences\n",
        "import numpy as np\n",
        "\n",
        "maxlen = 100 # Cuts off reviews after 100 words\n",
        "max_words = 10000 # Considers only the top 10,000 words in the dataset\n",
        "\n",
        "\n",
        "tokenizer = Tokenizer(num_words=max_words)\n",
        "\n",
        "# creates the vocabulary index based on word frequency, lower integer means more frequent\n",
        "tokenizer.fit_on_texts(train.comment_text)\n",
        "\n",
        "# takes each word in the text and replaces it with its corresponding integer value from the word_index dictionary\n",
        "train_sequences = tokenizer.texts_to_sequences(train.comment_text)\n",
        "test_sequences = tokenizer.texts_to_sequences(test.comment_text)\n",
        "\n",
        "word_index = tokenizer.word_index\n",
        "print('Found %s unique tokens.' % len(word_index))\n",
        "\n",
        "# pad sequences\n",
        "# Each entry (sample) is a sequence of 100 integers - ready for Embedding layer!\n",
        "x_train = pad_sequences(train_sequences, maxlen=maxlen)\n",
        "x_test = pad_sequences(test_sequences, maxlen=maxlen)"
      ],
      "execution_count": 2,
      "outputs": [
        {
          "output_type": "error",
          "ename": "NameError",
          "evalue": "ignored",
          "traceback": [
            "\u001b[0;31m---------------------------------------------------------------------------\u001b[0m",
            "\u001b[0;31mNameError\u001b[0m                                 Traceback (most recent call last)",
            "\u001b[0;32m<ipython-input-2-cc14e4d3bbbf>\u001b[0m in \u001b[0;36m<module>\u001b[0;34m()\u001b[0m\n\u001b[1;32m     11\u001b[0m \u001b[0;34m\u001b[0m\u001b[0m\n\u001b[1;32m     12\u001b[0m \u001b[0;31m# creates the vocabulary index based on word frequency, lower integer means more frequent\u001b[0m\u001b[0;34m\u001b[0m\u001b[0;34m\u001b[0m\u001b[0;34m\u001b[0m\u001b[0m\n\u001b[0;32m---> 13\u001b[0;31m \u001b[0mtokenizer\u001b[0m\u001b[0;34m.\u001b[0m\u001b[0mfit_on_texts\u001b[0m\u001b[0;34m(\u001b[0m\u001b[0mtrain\u001b[0m\u001b[0;34m.\u001b[0m\u001b[0mcomment_text\u001b[0m\u001b[0;34m)\u001b[0m\u001b[0;34m\u001b[0m\u001b[0;34m\u001b[0m\u001b[0m\n\u001b[0m\u001b[1;32m     14\u001b[0m \u001b[0;34m\u001b[0m\u001b[0m\n\u001b[1;32m     15\u001b[0m \u001b[0;31m# takes each word in the text and replaces it with its corresponding integer value from the word_index dictionary\u001b[0m\u001b[0;34m\u001b[0m\u001b[0;34m\u001b[0m\u001b[0;34m\u001b[0m\u001b[0m\n",
            "\u001b[0;31mNameError\u001b[0m: name 'train' is not defined"
          ]
        }
      ]
    },
    {
      "cell_type": "code",
      "metadata": {
        "id": "yA6NLcta3jT1",
        "outputId": "7241cad0-9dcf-4cd1-d69f-f3ce7fcc8d98",
        "colab": {
          "base_uri": "https://localhost:8080/",
          "height": 34
        }
      },
      "source": [
        "from keras.layers import Embedding\n",
        "\n",
        "# The Embedding layer takes at least two arguments: \n",
        "# the number of possible tokens\n",
        "# the dimensionality of the embeddings (here, 64).\n",
        "embedding_layer = Embedding(10000, 64)"
      ],
      "execution_count": 282,
      "outputs": [
        {
          "output_type": "execute_result",
          "data": {
            "text/plain": [
              "0"
            ]
          },
          "metadata": {
            "tags": []
          },
          "execution_count": 282
        }
      ]
    },
    {
      "cell_type": "code",
      "metadata": {
        "id": "aKWngPAb3jtU",
        "outputId": "39869146-727d-4c51-b912-b55ac2d0f6f6",
        "colab": {
          "base_uri": "https://localhost:8080/",
          "height": 231
        }
      },
      "source": [
        "from keras.models import Sequential\n",
        "from keras.layers import Flatten, Dense, Embedding\n",
        "\n",
        "model = Sequential()\n",
        "\n",
        "# Specifies the maximum input length to the Embedding layer so you can later flatten the embedded inputs. \n",
        "# After the Embedding layer, the activations have shape (samples, maxlen, 8).\n",
        "model.add(Embedding(10000, 64, input_length=maxlen))\n",
        "\n",
        "# Flattens the 3D tensor of embeddings into a 2D tensor of shape (samples, maxlen * 64)\n",
        "model.add(Flatten())\n",
        "\n",
        "# model.add(Dense(32, activation='relu'))\n",
        "\n",
        "# Adds the classifier on top\n",
        "model.add(Dense(1, activation='sigmoid'))\n",
        "model.compile(optimizer='adam',loss='binary_crossentropy', metrics=['accuracy'])\n",
        "    \n",
        "\n",
        "model.summary()                    "
      ],
      "execution_count": 1,
      "outputs": [
        {
          "output_type": "error",
          "ename": "NameError",
          "evalue": "ignored",
          "traceback": [
            "\u001b[0;31m---------------------------------------------------------------------------\u001b[0m",
            "\u001b[0;31mNameError\u001b[0m                                 Traceback (most recent call last)",
            "\u001b[0;32m<ipython-input-1-3ca291018b4c>\u001b[0m in \u001b[0;36m<module>\u001b[0;34m()\u001b[0m\n\u001b[1;32m      6\u001b[0m \u001b[0;31m# Specifies the maximum input length to the Embedding layer so you can later flatten the embedded inputs.\u001b[0m\u001b[0;34m\u001b[0m\u001b[0;34m\u001b[0m\u001b[0;34m\u001b[0m\u001b[0m\n\u001b[1;32m      7\u001b[0m \u001b[0;31m# After the Embedding layer, the activations have shape (samples, maxlen, 8).\u001b[0m\u001b[0;34m\u001b[0m\u001b[0;34m\u001b[0m\u001b[0;34m\u001b[0m\u001b[0m\n\u001b[0;32m----> 8\u001b[0;31m \u001b[0mmodel\u001b[0m\u001b[0;34m.\u001b[0m\u001b[0madd\u001b[0m\u001b[0;34m(\u001b[0m\u001b[0mEmbedding\u001b[0m\u001b[0;34m(\u001b[0m\u001b[0;36m10000\u001b[0m\u001b[0;34m,\u001b[0m \u001b[0;36m64\u001b[0m\u001b[0;34m,\u001b[0m \u001b[0minput_length\u001b[0m\u001b[0;34m=\u001b[0m\u001b[0mmaxlen\u001b[0m\u001b[0;34m)\u001b[0m\u001b[0;34m)\u001b[0m\u001b[0;34m\u001b[0m\u001b[0;34m\u001b[0m\u001b[0m\n\u001b[0m\u001b[1;32m      9\u001b[0m \u001b[0;34m\u001b[0m\u001b[0m\n\u001b[1;32m     10\u001b[0m \u001b[0;31m# Flattens the 3D tensor of embeddings into a 2D tensor of shape (samples, maxlen * 64)\u001b[0m\u001b[0;34m\u001b[0m\u001b[0;34m\u001b[0m\u001b[0;34m\u001b[0m\u001b[0m\n",
            "\u001b[0;31mNameError\u001b[0m: name 'maxlen' is not defined"
          ]
        }
      ]
    },
    {
      "cell_type": "code",
      "metadata": {
        "id": "PRMoTxlW-Gl6"
      },
      "source": [
        ""
      ],
      "execution_count": null,
      "outputs": []
    },
    {
      "cell_type": "code",
      "metadata": {
        "id": "msycbNvY3kwm"
      },
      "source": [
        ""
      ],
      "execution_count": null,
      "outputs": []
    }
  ]
}