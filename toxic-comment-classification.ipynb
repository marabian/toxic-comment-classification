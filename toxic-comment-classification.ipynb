{
  "nbformat": 4,
  "nbformat_minor": 0,
  "metadata": {
    "colab": {
      "name": "toxic-comment-classification.ipynb",
      "provenance": [],
      "toc_visible": true,
      "include_colab_link": true
    },
    "kernelspec": {
      "display_name": "Python 3",
      "language": "python",
      "name": "python3"
    },
    "language_info": {
      "codemirror_mode": {
        "name": "ipython",
        "version": 3
      },
      "file_extension": ".py",
      "mimetype": "text/x-python",
      "name": "python",
      "nbconvert_exporter": "python",
      "pygments_lexer": "ipython3",
      "version": "3.6.9"
    }
  },
  "cells": [
    {
      "cell_type": "markdown",
      "metadata": {
        "id": "view-in-github",
        "colab_type": "text"
      },
      "source": [
        "<a href=\"https://colab.research.google.com/github/marabian/toxic-comment-classification/blob/master/toxic-comment-classification.ipynb\" target=\"_parent\"><img src=\"https://colab.research.google.com/assets/colab-badge.svg\" alt=\"Open In Colab\"/></a>"
      ]
    },
    {
      "cell_type": "markdown",
      "metadata": {
        "id": "lIn9UllDiY27"
      },
      "source": [
        "# Toxic Comment Classification\n",
        "***\n",
        "\n",
        "[Link to Kaggle challenge/dataset](https://www.kaggle.com/c/jigsaw-toxic-comment-classification-challenge/)\n"
      ]
    },
    {
      "cell_type": "code",
      "metadata": {
        "id": "4-ayCVuciY28"
      },
      "source": [
        "import os\n",
        "import random as rnd\n",
        "\n",
        "# data analysis and wrangling\n",
        "import pandas as pd\n",
        "import numpy as np\n",
        "\n",
        "\n",
        "# visualization\n",
        "import seaborn as sns\n",
        "import matplotlib.pyplot as plt\n",
        "%matplotlib inline\n",
        "\n",
        "# machine learning\n",
        "from sklearn.preprocessing import StandardScaler\n",
        "from sklearn.preprocessing import MinMaxScaler\n",
        "from sklearn.model_selection import GridSearchCV\n",
        "from sklearn.model_selection import cross_validate\n",
        "from sklearn.linear_model import LogisticRegression\n",
        "from sklearn.preprocessing import PolynomialFeatures\n",
        "from sklearn.svm import SVC, LinearSVC\n",
        "from sklearn.ensemble import RandomForestClassifier\n",
        "from sklearn.neighbors import KNeighborsClassifier\n",
        "from sklearn.naive_bayes import GaussianNB\n",
        "from sklearn.linear_model import Perceptron\n",
        "from sklearn.linear_model import SGDClassifier\n",
        "from sklearn.tree import DecisionTreeClassifier\n",
        "\n",
        "# deep learning\n",
        "import tensorflow as tf\n",
        "from tensorflow import keras\n",
        "from tensorflow.keras import layers"
      ],
      "execution_count": 11,
      "outputs": []
    },
    {
      "cell_type": "code",
      "metadata": {
        "id": "k3nbWyyWxSTN",
        "outputId": "1924daa5-b976-4c65-bd35-8ca52a609f26",
        "colab": {
          "base_uri": "https://localhost:8080/",
          "height": 34
        }
      },
      "source": [
        "# to mount google drive for colab\n",
        "from google.colab import drive\n",
        "drive.mount('/content/drive')"
      ],
      "execution_count": 10,
      "outputs": [
        {
          "output_type": "stream",
          "text": [
            "Mounted at /content/drive\n"
          ],
          "name": "stdout"
        }
      ]
    },
    {
      "cell_type": "code",
      "metadata": {
        "id": "uzzxZRECiY3A",
        "outputId": "0dab139a-67cb-4f61-fa5e-d765c819176f",
        "colab": {
          "base_uri": "https://localhost:8080/",
          "height": 34
        }
      },
      "source": [
        "# check gpu support\n",
        "print(\"Num GPUs Available: \", len(tf.config.experimental.list_physical_devices('GPU')))"
      ],
      "execution_count": null,
      "outputs": [
        {
          "output_type": "stream",
          "text": [
            "Num GPUs Available:  1\n"
          ],
          "name": "stdout"
        }
      ]
    },
    {
      "cell_type": "code",
      "metadata": {
        "id": "l4EZP9hmiY3D"
      },
      "source": [
        "# check gpu\n",
        "# ! nvidia-smi -l 1"
      ],
      "execution_count": null,
      "outputs": []
    },
    {
      "cell_type": "code",
      "metadata": {
        "id": "wPY2Xk3NiY3F",
        "outputId": "1339af5c-a98c-45c0-b207-07a31b252f34",
        "colab": {
          "base_uri": "https://localhost:8080/",
          "height": 34
        }
      },
      "source": [
        "# change notebook theme\n",
        "# !jt -t oceans16 -T -N -kl"
      ],
      "execution_count": null,
      "outputs": [
        {
          "output_type": "stream",
          "text": [
            "/bin/bash: jt: command not found\n"
          ],
          "name": "stdout"
        }
      ]
    },
    {
      "cell_type": "markdown",
      "metadata": {
        "id": "pfwXP2iviY3H"
      },
      "source": [
        "# Workflow\n",
        "\n",
        "* Defining the problem and assembling a dataset<br>\n",
        "\n",
        "\n",
        "* Choosing a measure of success\n",
        "\n",
        "\n",
        "* Deciding on an evaluation protocol\n",
        "\n",
        "\n",
        "* Preparing your data for ML algorithms\n",
        "\n",
        "\n",
        "* Developing a model that does better than a baseline\n",
        "\n",
        "\n",
        "* Scaling up: developing a model that overfits\n",
        "\n",
        "\n",
        "* Evaluating model performance\n",
        "\n",
        "\n",
        "* Regularizing your model and tuning your hyperparameters\n",
        "\n"
      ]
    },
    {
      "cell_type": "markdown",
      "metadata": {
        "id": "q595P4FZiY3M"
      },
      "source": [
        "# Defining the problem and assembling a dataset\n",
        "***\n"
      ]
    },
    {
      "cell_type": "markdown",
      "metadata": {
        "id": "aDDjkaX3yXZK"
      },
      "source": [
        "We are challenged to build a multi-headed model that’s capable of detecting different types of of toxicity like threats, obscenity, insults, and identity-based hate. Our training data will consist of ~160,000 comments from Wikipedia’s talk page edits with labeled levels of toxicity. Detecting toxic comments online will hopefully help online discussion become more productive and respectful.<br>\n",
        "\n",
        "Since we have many classes, this problem is an instance of multiclass classification; and because each data point could belong to multiple categories (in this case, levels of toxicity), this is a **multilabel, multiclass classification problem**.\n",
        "\n",
        "We will start with a solving a subset of this problem, using **binary classification** to classify between \"good\" and \"toxic\" comments."
      ]
    },
    {
      "cell_type": "code",
      "metadata": {
        "id": "VU5_EFwrw-IS"
      },
      "source": [
        "path_to_data = \"/content/drive/My Drive/machine learning/notebooks/data/jigsaw-toxic-comment-classification-challenge/\""
      ],
      "execution_count": 7,
      "outputs": []
    },
    {
      "cell_type": "code",
      "metadata": {
        "id": "X7WgMsIzVdOt"
      },
      "source": [
        "#path_to_data = \"data/\""
      ],
      "execution_count": null,
      "outputs": []
    },
    {
      "cell_type": "code",
      "metadata": {
        "id": "I3Cp997UiY3M",
        "outputId": "bc702713-ba04-4cd0-faae-399cde34a075",
        "colab": {
          "base_uri": "https://localhost:8080/",
          "height": 470
        }
      },
      "source": [
        "train_df = pd.read_csv(path_to_data + \"train.csv\")\n",
        "labels = ['toxic', 'severe_toxic', 'obscene', 'threat', 'insult', 'identity_hate']\n",
        "train_df\n",
        "\n"
      ],
      "execution_count": 6,
      "outputs": [
        {
          "output_type": "execute_result",
          "data": {
            "text/html": [
              "<div>\n",
              "<style scoped>\n",
              "    .dataframe tbody tr th:only-of-type {\n",
              "        vertical-align: middle;\n",
              "    }\n",
              "\n",
              "    .dataframe tbody tr th {\n",
              "        vertical-align: top;\n",
              "    }\n",
              "\n",
              "    .dataframe thead th {\n",
              "        text-align: right;\n",
              "    }\n",
              "</style>\n",
              "<table border=\"1\" class=\"dataframe\">\n",
              "  <thead>\n",
              "    <tr style=\"text-align: right;\">\n",
              "      <th></th>\n",
              "      <th>id</th>\n",
              "      <th>comment_text</th>\n",
              "      <th>toxic</th>\n",
              "      <th>severe_toxic</th>\n",
              "      <th>obscene</th>\n",
              "      <th>threat</th>\n",
              "      <th>insult</th>\n",
              "      <th>identity_hate</th>\n",
              "    </tr>\n",
              "  </thead>\n",
              "  <tbody>\n",
              "    <tr>\n",
              "      <th>0</th>\n",
              "      <td>0000997932d777bf</td>\n",
              "      <td>Explanation\\nWhy the edits made under my usern...</td>\n",
              "      <td>0</td>\n",
              "      <td>0</td>\n",
              "      <td>0</td>\n",
              "      <td>0</td>\n",
              "      <td>0</td>\n",
              "      <td>0</td>\n",
              "    </tr>\n",
              "    <tr>\n",
              "      <th>1</th>\n",
              "      <td>000103f0d9cfb60f</td>\n",
              "      <td>D'aww! He matches this background colour I'm s...</td>\n",
              "      <td>0</td>\n",
              "      <td>0</td>\n",
              "      <td>0</td>\n",
              "      <td>0</td>\n",
              "      <td>0</td>\n",
              "      <td>0</td>\n",
              "    </tr>\n",
              "    <tr>\n",
              "      <th>2</th>\n",
              "      <td>000113f07ec002fd</td>\n",
              "      <td>Hey man, I'm really not trying to edit war. It...</td>\n",
              "      <td>0</td>\n",
              "      <td>0</td>\n",
              "      <td>0</td>\n",
              "      <td>0</td>\n",
              "      <td>0</td>\n",
              "      <td>0</td>\n",
              "    </tr>\n",
              "    <tr>\n",
              "      <th>3</th>\n",
              "      <td>0001b41b1c6bb37e</td>\n",
              "      <td>\"\\nMore\\nI can't make any real suggestions on ...</td>\n",
              "      <td>0</td>\n",
              "      <td>0</td>\n",
              "      <td>0</td>\n",
              "      <td>0</td>\n",
              "      <td>0</td>\n",
              "      <td>0</td>\n",
              "    </tr>\n",
              "    <tr>\n",
              "      <th>4</th>\n",
              "      <td>0001d958c54c6e35</td>\n",
              "      <td>You, sir, are my hero. Any chance you remember...</td>\n",
              "      <td>0</td>\n",
              "      <td>0</td>\n",
              "      <td>0</td>\n",
              "      <td>0</td>\n",
              "      <td>0</td>\n",
              "      <td>0</td>\n",
              "    </tr>\n",
              "    <tr>\n",
              "      <th>...</th>\n",
              "      <td>...</td>\n",
              "      <td>...</td>\n",
              "      <td>...</td>\n",
              "      <td>...</td>\n",
              "      <td>...</td>\n",
              "      <td>...</td>\n",
              "      <td>...</td>\n",
              "      <td>...</td>\n",
              "    </tr>\n",
              "    <tr>\n",
              "      <th>159566</th>\n",
              "      <td>ffe987279560d7ff</td>\n",
              "      <td>\":::::And for the second time of asking, when ...</td>\n",
              "      <td>0</td>\n",
              "      <td>0</td>\n",
              "      <td>0</td>\n",
              "      <td>0</td>\n",
              "      <td>0</td>\n",
              "      <td>0</td>\n",
              "    </tr>\n",
              "    <tr>\n",
              "      <th>159567</th>\n",
              "      <td>ffea4adeee384e90</td>\n",
              "      <td>You should be ashamed of yourself \\n\\nThat is ...</td>\n",
              "      <td>0</td>\n",
              "      <td>0</td>\n",
              "      <td>0</td>\n",
              "      <td>0</td>\n",
              "      <td>0</td>\n",
              "      <td>0</td>\n",
              "    </tr>\n",
              "    <tr>\n",
              "      <th>159568</th>\n",
              "      <td>ffee36eab5c267c9</td>\n",
              "      <td>Spitzer \\n\\nUmm, theres no actual article for ...</td>\n",
              "      <td>0</td>\n",
              "      <td>0</td>\n",
              "      <td>0</td>\n",
              "      <td>0</td>\n",
              "      <td>0</td>\n",
              "      <td>0</td>\n",
              "    </tr>\n",
              "    <tr>\n",
              "      <th>159569</th>\n",
              "      <td>fff125370e4aaaf3</td>\n",
              "      <td>And it looks like it was actually you who put ...</td>\n",
              "      <td>0</td>\n",
              "      <td>0</td>\n",
              "      <td>0</td>\n",
              "      <td>0</td>\n",
              "      <td>0</td>\n",
              "      <td>0</td>\n",
              "    </tr>\n",
              "    <tr>\n",
              "      <th>159570</th>\n",
              "      <td>fff46fc426af1f9a</td>\n",
              "      <td>\"\\nAnd ... I really don't think you understand...</td>\n",
              "      <td>0</td>\n",
              "      <td>0</td>\n",
              "      <td>0</td>\n",
              "      <td>0</td>\n",
              "      <td>0</td>\n",
              "      <td>0</td>\n",
              "    </tr>\n",
              "  </tbody>\n",
              "</table>\n",
              "<p>159571 rows × 8 columns</p>\n",
              "</div>"
            ],
            "text/plain": [
              "                      id  ... identity_hate\n",
              "0       0000997932d777bf  ...             0\n",
              "1       000103f0d9cfb60f  ...             0\n",
              "2       000113f07ec002fd  ...             0\n",
              "3       0001b41b1c6bb37e  ...             0\n",
              "4       0001d958c54c6e35  ...             0\n",
              "...                  ...  ...           ...\n",
              "159566  ffe987279560d7ff  ...             0\n",
              "159567  ffea4adeee384e90  ...             0\n",
              "159568  ffee36eab5c267c9  ...             0\n",
              "159569  fff125370e4aaaf3  ...             0\n",
              "159570  fff46fc426af1f9a  ...             0\n",
              "\n",
              "[159571 rows x 8 columns]"
            ]
          },
          "metadata": {
            "tags": []
          },
          "execution_count": 6
        }
      ]
    },
    {
      "cell_type": "markdown",
      "metadata": {
        "id": "eo4QjJV976L4"
      },
      "source": [
        "Let's build a new dataframe containing just the training examples for our binary classification problem."
      ]
    },
    {
      "cell_type": "code",
      "metadata": {
        "id": "VdF6ssXk75qq"
      },
      "source": [
        "bin_df = pd.concat([\n",
        "           train_df[train_df[labels].eq(0).all(1)][['id', 'comment_text', 'toxic']], # get new df with rows for \"good\" comments\n",
        "           train_df[train_df['toxic'] == 1][['id', 'comment_text', 'toxic']]] # get new dataframe with rows for \"toxic\" comments\n",
        "         ).reset_index(drop=True)"
      ],
      "execution_count": null,
      "outputs": []
    },
    {
      "cell_type": "code",
      "metadata": {
        "id": "Wr58geauiY3P",
        "outputId": "db8f026e-80aa-40b3-d985-4c0f4a084e56",
        "colab": {
          "base_uri": "https://localhost:8080/",
          "height": 419
        }
      },
      "source": [
        "bin_df"
      ],
      "execution_count": null,
      "outputs": [
        {
          "output_type": "execute_result",
          "data": {
            "text/html": [
              "<div>\n",
              "<style scoped>\n",
              "    .dataframe tbody tr th:only-of-type {\n",
              "        vertical-align: middle;\n",
              "    }\n",
              "\n",
              "    .dataframe tbody tr th {\n",
              "        vertical-align: top;\n",
              "    }\n",
              "\n",
              "    .dataframe thead th {\n",
              "        text-align: right;\n",
              "    }\n",
              "</style>\n",
              "<table border=\"1\" class=\"dataframe\">\n",
              "  <thead>\n",
              "    <tr style=\"text-align: right;\">\n",
              "      <th></th>\n",
              "      <th>id</th>\n",
              "      <th>comment_text</th>\n",
              "      <th>toxic</th>\n",
              "    </tr>\n",
              "  </thead>\n",
              "  <tbody>\n",
              "    <tr>\n",
              "      <th>0</th>\n",
              "      <td>0000997932d777bf</td>\n",
              "      <td>Explanation\\nWhy the edits made under my usern...</td>\n",
              "      <td>0</td>\n",
              "    </tr>\n",
              "    <tr>\n",
              "      <th>1</th>\n",
              "      <td>000103f0d9cfb60f</td>\n",
              "      <td>D'aww! He matches this background colour I'm s...</td>\n",
              "      <td>0</td>\n",
              "    </tr>\n",
              "    <tr>\n",
              "      <th>2</th>\n",
              "      <td>000113f07ec002fd</td>\n",
              "      <td>Hey man, I'm really not trying to edit war. It...</td>\n",
              "      <td>0</td>\n",
              "    </tr>\n",
              "    <tr>\n",
              "      <th>3</th>\n",
              "      <td>0001b41b1c6bb37e</td>\n",
              "      <td>\"\\nMore\\nI can't make any real suggestions on ...</td>\n",
              "      <td>0</td>\n",
              "    </tr>\n",
              "    <tr>\n",
              "      <th>4</th>\n",
              "      <td>0001d958c54c6e35</td>\n",
              "      <td>You, sir, are my hero. Any chance you remember...</td>\n",
              "      <td>0</td>\n",
              "    </tr>\n",
              "    <tr>\n",
              "      <th>...</th>\n",
              "      <td>...</td>\n",
              "      <td>...</td>\n",
              "      <td>...</td>\n",
              "    </tr>\n",
              "    <tr>\n",
              "      <th>158635</th>\n",
              "      <td>fef4cf7ba0012866</td>\n",
              "      <td>\"\\n\\n our previous conversation \\n\\nyou fuckin...</td>\n",
              "      <td>1</td>\n",
              "    </tr>\n",
              "    <tr>\n",
              "      <th>158636</th>\n",
              "      <td>ff39a2895fc3b40e</td>\n",
              "      <td>YOU ARE A MISCHIEVIOUS PUBIC HAIR</td>\n",
              "      <td>1</td>\n",
              "    </tr>\n",
              "    <tr>\n",
              "      <th>158637</th>\n",
              "      <td>ffa33d3122b599d6</td>\n",
              "      <td>Your absurd edits \\n\\nYour absurd edits on gre...</td>\n",
              "      <td>1</td>\n",
              "    </tr>\n",
              "    <tr>\n",
              "      <th>158638</th>\n",
              "      <td>ffb47123b2d82762</td>\n",
              "      <td>\"\\n\\nHey listen don't you ever!!!! Delete my e...</td>\n",
              "      <td>1</td>\n",
              "    </tr>\n",
              "    <tr>\n",
              "      <th>158639</th>\n",
              "      <td>ffbdbb0483ed0841</td>\n",
              "      <td>and i'm going to keep posting the stuff u dele...</td>\n",
              "      <td>1</td>\n",
              "    </tr>\n",
              "  </tbody>\n",
              "</table>\n",
              "<p>158640 rows × 3 columns</p>\n",
              "</div>"
            ],
            "text/plain": [
              "                      id  ... toxic\n",
              "0       0000997932d777bf  ...     0\n",
              "1       000103f0d9cfb60f  ...     0\n",
              "2       000113f07ec002fd  ...     0\n",
              "3       0001b41b1c6bb37e  ...     0\n",
              "4       0001d958c54c6e35  ...     0\n",
              "...                  ...  ...   ...\n",
              "158635  fef4cf7ba0012866  ...     1\n",
              "158636  ff39a2895fc3b40e  ...     1\n",
              "158637  ffa33d3122b599d6  ...     1\n",
              "158638  ffb47123b2d82762  ...     1\n",
              "158639  ffbdbb0483ed0841  ...     1\n",
              "\n",
              "[158640 rows x 3 columns]"
            ]
          },
          "metadata": {
            "tags": []
          },
          "execution_count": 84
        }
      ]
    },
    {
      "cell_type": "markdown",
      "metadata": {
        "id": "GooB2kaN9O3Y"
      },
      "source": [
        "**Plot distribution of toxic comment frequency**"
      ]
    },
    {
      "cell_type": "code",
      "metadata": {
        "id": "PBnWsAje7gtB",
        "outputId": "ab4b32e8-7751-445f-f1ea-f20a849654c8",
        "colab": {
          "base_uri": "https://localhost:8080/",
          "height": 285
        }
      },
      "source": [
        "sns.set_theme(style=\"darkgrid\")\n",
        "ax = sns.countplot(x=\"toxic\", data=bin_df)"
      ],
      "execution_count": null,
      "outputs": [
        {
          "output_type": "display_data",
          "data": {
            "image/png": "[encoded data removed]",
            "text/plain": [
              "<Figure size 432x288 with 1 Axes>"
            ]
          },
          "metadata": {
            "tags": []
          }
        }
      ]
    },
    {
      "cell_type": "code",
      "metadata": {
        "id": "cWhdY4fH9aJU",
        "outputId": "0f280e47-66b8-4d2d-f19d-36e263bdba3e",
        "colab": {
          "base_uri": "https://localhost:8080/",
          "height": 68
        }
      },
      "source": [
        "print(bin_df['toxic'].value_counts())"
      ],
      "execution_count": null,
      "outputs": [
        {
          "output_type": "stream",
          "text": [
            "0    143346\n",
            "1     15294\n",
            "Name: toxic, dtype: int64\n"
          ],
          "name": "stdout"
        }
      ]
    },
    {
      "cell_type": "markdown",
      "metadata": {
        "id": "wXVbw51B-Kqm"
      },
      "source": [
        "As we can see, our classes are heavily imbalanced. There are a lot more \"good\" comments than \"toxic\". To deal with this class imbalance problem, we will choose ***precision and recall*** as our **evaluation metric**. This will be our measure of success."
      ]
    },
    {
      "cell_type": "code",
      "metadata": {
        "id": "u_NPPiVd-JTi"
      },
      "source": [
        ""
      ],
      "execution_count": null,
      "outputs": []
    },
    {
      "cell_type": "markdown",
      "metadata": {
        "id": "MnSuKR7z-4gW"
      },
      "source": [
        "# Preparing the raw text data\n",
        "***"
      ]
    },
    {
      "cell_type": "markdown",
      "metadata": {
        "id": "7IKpS-H6_BFB"
      },
      "source": [
        "Let's start doing some text preprocessing! In NLP, the main steps to preprocess raw text into tensors includes the following steps:<br> ***word tokenization***, ***text cleaning*** (lowercasing, removing stop words and punctuation, stemming), and ***text vectorization***.\n",
        "\n",
        "Our first *vectorization scheme* will be using **TF-IDF vectors** for the  most common words found in our corpus.\n",
        "\n",
        "In information retrieval, **TF-IDF**, short for term frequency–inverse document frequency, is a numerical statistic that is intended to reflect how important a word is to a document in a collection or corpus. We will use *Scikit-Learn's* awesome **TfidfVectorizer** to convert a collection of raw documents to a matrix of TF-IDF features. This does all the text preprocessing steps we need."
      ]
    },
    {
      "cell_type": "markdown",
      "metadata": {
        "id": "sIArd-inDEQo"
      },
      "source": [
        "## Bulding feature vectors using TF-IDF"
      ]
    },
    {
      "cell_type": "code",
      "metadata": {
        "id": "LPHfgx0c-5W6"
      },
      "source": [
        "# from sklearn.feature_extraction.text import TfidfVectorizer\n",
        "\n",
        "# vectorizer = TfidfVectorizer(lowercase='True', stop_words='english', max_features=10)\n",
        "# X = vectorizer.fit_transform(bin_df.comment_text)\n",
        "\n",
        "# print(vectorizer.get_feature_names())\n",
        "# print(X.shape)"
      ],
      "execution_count": null,
      "outputs": []
    },
    {
      "cell_type": "markdown",
      "metadata": {
        "id": "G2YwOa0HEYXB"
      },
      "source": [
        "In order to get a better idea on how many words to consider as features, let's visualize the distribution of word counts amongst our training examples. In order to do this, we must first preprocess the raw text data ourselves. Let's define a function to preprocess the comments by *tokenizing* and *cleaning*."
      ]
    },
    {
      "cell_type": "code",
      "metadata": {
        "id": "EqhwYb8BTBEB",
        "outputId": "bde72fee-500f-4121-9541-1ee81662c3bb",
        "colab": {
          "base_uri": "https://localhost:8080/",
          "height": 85
        }
      },
      "source": [
        "import re\n",
        "import string\n",
        "import numpy as np\n",
        "\n",
        "import nltk\n",
        "from nltk.corpus import stopwords\n",
        "from nltk.stem import PorterStemmer\n",
        "from nltk.tokenize import word_tokenize\n",
        "\n",
        "# stemmer\n",
        "stemmer = PorterStemmer()\n",
        "\n",
        "# stop words\n",
        "nltk.download('stopwords')\n",
        "nltk.download('punkt')\n",
        "stopwords_english = stopwords.words('english')"
      ],
      "execution_count": null,
      "outputs": [
        {
          "output_type": "stream",
          "text": [
            "[nltk_data] Downloading package stopwords to /root/nltk_data...\n",
            "[nltk_data]   Unzipping corpora/stopwords.zip.\n",
            "[nltk_data] Downloading package punkt to /root/nltk_data...\n",
            "[nltk_data]   Unzipping tokenizers/punkt.zip.\n"
          ],
          "name": "stdout"
        }
      ]
    },
    {
      "cell_type": "markdown",
      "metadata": {
        "id": "OmSAIR9Ocnhh"
      },
      "source": [
        "**Function to preprocess comments**"
      ]
    },
    {
      "cell_type": "code",
      "metadata": {
        "id": "jFXJwiSoFZgq"
      },
      "source": [
        "def process_comment(comment):\n",
        "    \"\"\"Process comment function.\n",
        "    Input:\n",
        "        comment: a string containing a comment\n",
        "    Output:\n",
        "        comment_clean: a list of cleaned word tokens\n",
        "\n",
        "    \"\"\"\n",
        "\n",
        "    # normalizing case\n",
        "    comment = comment.lower()\n",
        "\n",
        "    # remove special characters\n",
        "    pat = r'[^a-zA-z0-9.,!?/:;\\\"\\'\\s]' \n",
        "    comment = re.sub(pat, '', comment)\n",
        "\n",
        "    # remove numbers\n",
        "    pattern = r'[^a-zA-z.,!?/:;\\\"\\'\\s]' \n",
        "    comment = re.sub(pattern, '', comment)\n",
        "    \n",
        "    # remove punctuation in comment and stopwords\n",
        "    comment = comment.translate(str.maketrans('', '', string.punctuation))\n",
        "    stopwords = [word.translate(str.maketrans('', '', string.punctuation)) for word in stopwords_english]\n",
        "    \n",
        "    # replace repeated character sequences of length 3 or greater with sequences of length 3\n",
        "    comment = nltk.tokenize.casual.reduce_lengthening(comment)\n",
        "    \n",
        "    # tokenize comment\n",
        "    tokens = word_tokenize(comment)\n",
        "    \n",
        "    # remove stop words and stem\n",
        "    comment_clean = [stemmer.stem(token) for token in tokens if token not in stopwords and len(token) > 1]\n",
        "    #comment_clean = [token for token in tokens if token not in stopwords]\n",
        "\n",
        "    return comment_clean"
      ],
      "execution_count": null,
      "outputs": []
    },
    {
      "cell_type": "code",
      "metadata": {
        "id": "3OoncQOUVdPE",
        "outputId": "9709978e-c3d6-413b-e833-2b551a173636",
        "colab": {
          "base_uri": "https://localhost:8080/",
          "height": 221
        }
      },
      "source": [
        "bin_df.comment_text"
      ],
      "execution_count": null,
      "outputs": [
        {
          "output_type": "execute_result",
          "data": {
            "text/plain": [
              "0         Explanation\\nWhy the edits made under my usern...\n",
              "1         D'aww! He matches this background colour I'm s...\n",
              "2         Hey man, I'm really not trying to edit war. It...\n",
              "3         \"\\nMore\\nI can't make any real suggestions on ...\n",
              "4         You, sir, are my hero. Any chance you remember...\n",
              "                                ...                        \n",
              "158635    \"\\n\\n our previous conversation \\n\\nyou fuckin...\n",
              "158636                    YOU ARE A MISCHIEVIOUS PUBIC HAIR\n",
              "158637    Your absurd edits \\n\\nYour absurd edits on gre...\n",
              "158638    \"\\n\\nHey listen don't you ever!!!! Delete my e...\n",
              "158639    and i'm going to keep posting the stuff u dele...\n",
              "Name: comment_text, Length: 158640, dtype: object"
            ]
          },
          "metadata": {
            "tags": []
          },
          "execution_count": 104
        }
      ]
    },
    {
      "cell_type": "markdown",
      "metadata": {
        "id": "8ezz4V7QVdPG"
      },
      "source": [
        "Let's clean our entire dataset using the *process_comment* function we just defined, we will store the cleaned comments in a new column."
      ]
    },
    {
      "cell_type": "code",
      "metadata": {
        "id": "m53OyknNVdPG"
      },
      "source": [
        "bin_df['cleaned_comments'] = bin_df['comment_text'].apply(process_comment)"
      ],
      "execution_count": null,
      "outputs": []
    },
    {
      "cell_type": "code",
      "metadata": {
        "id": "4KETx0dpVdPI"
      },
      "source": [
        "bin_df['word_count'] = bin_df['cleaned_comments'].apply(len)"
      ],
      "execution_count": null,
      "outputs": []
    },
    {
      "cell_type": "code",
      "metadata": {
        "id": "DMh1slZrVdPK",
        "outputId": "b5471185-61c0-4af9-f882-d15713dad7bc",
        "colab": {
          "base_uri": "https://localhost:8080/",
          "height": 419
        }
      },
      "source": [
        "bin_df"
      ],
      "execution_count": null,
      "outputs": [
        {
          "output_type": "execute_result",
          "data": {
            "text/html": [
              "<div>\n",
              "<style scoped>\n",
              "    .dataframe tbody tr th:only-of-type {\n",
              "        vertical-align: middle;\n",
              "    }\n",
              "\n",
              "    .dataframe tbody tr th {\n",
              "        vertical-align: top;\n",
              "    }\n",
              "\n",
              "    .dataframe thead th {\n",
              "        text-align: right;\n",
              "    }\n",
              "</style>\n",
              "<table border=\"1\" class=\"dataframe\">\n",
              "  <thead>\n",
              "    <tr style=\"text-align: right;\">\n",
              "      <th></th>\n",
              "      <th>id</th>\n",
              "      <th>comment_text</th>\n",
              "      <th>toxic</th>\n",
              "      <th>cleaned_comments</th>\n",
              "      <th>word_count</th>\n",
              "    </tr>\n",
              "  </thead>\n",
              "  <tbody>\n",
              "    <tr>\n",
              "      <th>0</th>\n",
              "      <td>0000997932d777bf</td>\n",
              "      <td>Explanation\\nWhy the edits made under my usern...</td>\n",
              "      <td>0</td>\n",
              "      <td>[explan, edit, made, usernam, hardcor, metalli...</td>\n",
              "      <td>24</td>\n",
              "    </tr>\n",
              "    <tr>\n",
              "      <th>1</th>\n",
              "      <td>000103f0d9cfb60f</td>\n",
              "      <td>D'aww! He matches this background colour I'm s...</td>\n",
              "      <td>0</td>\n",
              "      <td>[daww, match, background, colour, im, seemingl...</td>\n",
              "      <td>11</td>\n",
              "    </tr>\n",
              "    <tr>\n",
              "      <th>2</th>\n",
              "      <td>000113f07ec002fd</td>\n",
              "      <td>Hey man, I'm really not trying to edit war. It...</td>\n",
              "      <td>0</td>\n",
              "      <td>[hey, man, im, realli, tri, edit, war, guy, co...</td>\n",
              "      <td>22</td>\n",
              "    </tr>\n",
              "    <tr>\n",
              "      <th>3</th>\n",
              "      <td>0001b41b1c6bb37e</td>\n",
              "      <td>\"\\nMore\\nI can't make any real suggestions on ...</td>\n",
              "      <td>0</td>\n",
              "      <td>[cant, make, real, suggest, improv, wonder, se...</td>\n",
              "      <td>49</td>\n",
              "    </tr>\n",
              "    <tr>\n",
              "      <th>4</th>\n",
              "      <td>0001d958c54c6e35</td>\n",
              "      <td>You, sir, are my hero. Any chance you remember...</td>\n",
              "      <td>0</td>\n",
              "      <td>[sir, hero, chanc, rememb, page, that]</td>\n",
              "      <td>6</td>\n",
              "    </tr>\n",
              "    <tr>\n",
              "      <th>...</th>\n",
              "      <td>...</td>\n",
              "      <td>...</td>\n",
              "      <td>...</td>\n",
              "      <td>...</td>\n",
              "      <td>...</td>\n",
              "    </tr>\n",
              "    <tr>\n",
              "      <th>158635</th>\n",
              "      <td>fef4cf7ba0012866</td>\n",
              "      <td>\"\\n\\n our previous conversation \\n\\nyou fuckin...</td>\n",
              "      <td>1</td>\n",
              "      <td>[previou, convers, fuck, shit, eat, liber, mak...</td>\n",
              "      <td>172</td>\n",
              "    </tr>\n",
              "    <tr>\n",
              "      <th>158636</th>\n",
              "      <td>ff39a2895fc3b40e</td>\n",
              "      <td>YOU ARE A MISCHIEVIOUS PUBIC HAIR</td>\n",
              "      <td>1</td>\n",
              "      <td>[mischievi, pubic, hair]</td>\n",
              "      <td>3</td>\n",
              "    </tr>\n",
              "    <tr>\n",
              "      <th>158637</th>\n",
              "      <td>ffa33d3122b599d6</td>\n",
              "      <td>Your absurd edits \\n\\nYour absurd edits on gre...</td>\n",
              "      <td>1</td>\n",
              "      <td>[absurd, edit, absurd, edit, great, white, sha...</td>\n",
              "      <td>28</td>\n",
              "    </tr>\n",
              "    <tr>\n",
              "      <th>158638</th>\n",
              "      <td>ffb47123b2d82762</td>\n",
              "      <td>\"\\n\\nHey listen don't you ever!!!! Delete my e...</td>\n",
              "      <td>1</td>\n",
              "      <td>[hey, listen, ever, delet, edit, ever, im, ann...</td>\n",
              "      <td>47</td>\n",
              "    </tr>\n",
              "    <tr>\n",
              "      <th>158639</th>\n",
              "      <td>ffbdbb0483ed0841</td>\n",
              "      <td>and i'm going to keep posting the stuff u dele...</td>\n",
              "      <td>1</td>\n",
              "      <td>[im, go, keep, post, stuff, delet, fuck, site,...</td>\n",
              "      <td>22</td>\n",
              "    </tr>\n",
              "  </tbody>\n",
              "</table>\n",
              "<p>158640 rows × 5 columns</p>\n",
              "</div>"
            ],
            "text/plain": [
              "                      id  ... word_count\n",
              "0       0000997932d777bf  ...         24\n",
              "1       000103f0d9cfb60f  ...         11\n",
              "2       000113f07ec002fd  ...         22\n",
              "3       0001b41b1c6bb37e  ...         49\n",
              "4       0001d958c54c6e35  ...          6\n",
              "...                  ...  ...        ...\n",
              "158635  fef4cf7ba0012866  ...        172\n",
              "158636  ff39a2895fc3b40e  ...          3\n",
              "158637  ffa33d3122b599d6  ...         28\n",
              "158638  ffb47123b2d82762  ...         47\n",
              "158639  ffbdbb0483ed0841  ...         22\n",
              "\n",
              "[158640 rows x 5 columns]"
            ]
          },
          "metadata": {
            "tags": []
          },
          "execution_count": 107
        }
      ]
    },
    {
      "cell_type": "markdown",
      "metadata": {
        "id": "iywj0tq3VdPM"
      },
      "source": [
        "Now we can visualize the distribution of word counts in all comments."
      ]
    },
    {
      "cell_type": "code",
      "metadata": {
        "id": "QD0Jbd9YVdPM",
        "outputId": "cca938c3-e242-49f7-df3d-b9073b7b22fa",
        "colab": {
          "base_uri": "https://localhost:8080/",
          "height": 302
        }
      },
      "source": [
        "sns.histplot(data=bin_df, x=\"word_count\", bins=30)"
      ],
      "execution_count": null,
      "outputs": [
        {
          "output_type": "execute_result",
          "data": {
            "text/plain": [
              "<matplotlib.axes._subplots.AxesSubplot at 0x7fd1f0dc8668>"
            ]
          },
          "metadata": {
            "tags": []
          },
          "execution_count": 125
        },
        {
          "output_type": "display_data",
          "data": {
            "image/png": "[encoded data removed]",
            "text/plain": [
              "<Figure size 432x288 with 1 Axes>"
            ]
          },
          "metadata": {
            "tags": []
          }
        }
      ]
    },
    {
      "cell_type": "markdown",
      "metadata": {
        "id": "ZuNgoXFvVdPO"
      },
      "source": [
        "Visualize the distribution of word counts in good comments."
      ]
    },
    {
      "cell_type": "code",
      "metadata": {
        "id": "ZVKG7on0VdPO",
        "outputId": "c4f8c9e5-fde7-46b9-e791-4891d23add14",
        "colab": {
          "base_uri": "https://localhost:8080/",
          "height": 302
        }
      },
      "source": [
        "sns.histplot(x=bin_df[bin_df['toxic'] == 0]['word_count'], bins=20)"
      ],
      "execution_count": null,
      "outputs": [
        {
          "output_type": "execute_result",
          "data": {
            "text/plain": [
              "<matplotlib.axes._subplots.AxesSubplot at 0x7fd1f0d01128>"
            ]
          },
          "metadata": {
            "tags": []
          },
          "execution_count": 126
        },
        {
          "output_type": "display_data",
          "data": {
            "image/png": "[encoded data removed]",
            "text/plain": [
              "<Figure size 432x288 with 1 Axes>"
            ]
          },
          "metadata": {
            "tags": []
          }
        }
      ]
    },
    {
      "cell_type": "markdown",
      "metadata": {
        "id": "HRAjh300VdPR"
      },
      "source": [
        "Visualize the distribution of word counts in bad comments."
      ]
    },
    {
      "cell_type": "code",
      "metadata": {
        "id": "D6zV4-AjVdPR",
        "outputId": "52632843-7bd0-46c8-f015-c46822048182",
        "colab": {
          "base_uri": "https://localhost:8080/",
          "height": 302
        }
      },
      "source": [
        "sns.histplot(x=bin_df[bin_df['toxic'] == 1]['word_count'], bins=20)"
      ],
      "execution_count": null,
      "outputs": [
        {
          "output_type": "execute_result",
          "data": {
            "text/plain": [
              "<matplotlib.axes._subplots.AxesSubplot at 0x7fd1f0c97ac8>"
            ]
          },
          "metadata": {
            "tags": []
          },
          "execution_count": 127
        },
        {
          "output_type": "display_data",
          "data": {
            "image/png": "[encoded data removed]",
            "text/plain": [
              "<Figure size 432x288 with 1 Axes>"
            ]
          },
          "metadata": {
            "tags": []
          }
        }
      ]
    },
    {
      "cell_type": "markdown",
      "metadata": {
        "id": "LCBby9m3sfGO"
      },
      "source": [
        "## **Split data into train, validation sets**"
      ]
    },
    {
      "cell_type": "markdown",
      "metadata": {
        "id": "QLFTuefoVdPT"
      },
      "source": [
        "Seems like the distributions are roughly the same. Most comments contain ~100 words. We will use this as our **max_features**. Our **evaluation protocol** will be maintaining a **hold-out validation set**. Now let's split up our dataset into randomized training and validation sets. Since our classes are imbalanced, it is important that both the training and validation sets have the same ratio of \"good\" to \"bad\" comments.<br><br>We will use *Scikit-Learn's* **train_test_split** function with *stratified* sampling to do this:"
      ]
    },
    {
      "cell_type": "code",
      "metadata": {
        "id": "lrvkKOKQVdPU",
        "outputId": "5a7041eb-7f09-48e7-bf36-9db2e7d35406",
        "colab": {
          "base_uri": "https://localhost:8080/",
          "height": 34
        }
      },
      "source": [
        "from sklearn.model_selection import train_test_split\n",
        "\n",
        "# train test split\n",
        "train, test = train_test_split(bin_df, test_size = 0.2, stratify = bin_df['toxic'], random_state=21)\n",
        "\n",
        "# get the shape of train and test split.\n",
        "print(train.shape, test.shape)"
      ],
      "execution_count": null,
      "outputs": [
        {
          "output_type": "stream",
          "text": [
            "(126912, 5) (31728, 5)\n"
          ],
          "name": "stdout"
        }
      ]
    },
    {
      "cell_type": "markdown",
      "metadata": {
        "id": "LAmzb3ILVdPW"
      },
      "source": [
        "Let's create a ***TF-IDF vector*** of the *comment_text* column using the **TfidfVectorizer**. We will keep *max features* as 100 and use our own *tokenizer* function."
      ]
    },
    {
      "cell_type": "code",
      "metadata": {
        "id": "UT_cZ7L_VdPW",
        "outputId": "f69ec0eb-ddce-468e-8beb-1268fc0dade6",
        "colab": {
          "base_uri": "https://localhost:8080/",
          "height": 187
        }
      },
      "source": [
        "# create a TF-IDF vectorizer object\n",
        "vectorizer = TfidfVectorizer(tokenizer=process_comment, max_features=100)\n",
        "\n",
        "# fit the object with the training data comments\n",
        "vectorizer.fit(train.comment_text)"
      ],
      "execution_count": null,
      "outputs": [
        {
          "output_type": "stream",
          "text": [
            "/usr/local/lib/python3.6/dist-packages/sklearn/feature_extraction/text.py:507: UserWarning: The parameter 'token_pattern' will not be used since 'tokenizer' is not None'\n",
            "  warnings.warn(\"The parameter 'token_pattern' will not be used\"\n"
          ],
          "name": "stderr"
        },
        {
          "output_type": "execute_result",
          "data": {
            "text/plain": [
              "TfidfVectorizer(analyzer='word', binary=False, decode_error='strict',\n",
              "                dtype=<class 'numpy.float64'>, encoding='utf-8',\n",
              "                input='content', lowercase=True, max_df=1.0, max_features=100,\n",
              "                min_df=1, ngram_range=(1, 1), norm='l2', preprocessor=None,\n",
              "                smooth_idf=True, stop_words=None, strip_accents=None,\n",
              "                sublinear_tf=False, token_pattern='(?u)\\\\b\\\\w\\\\w+\\\\b',\n",
              "                tokenizer=<function process_comment at 0x7fd202909f28>,\n",
              "                use_idf=True, vocabulary=None)"
            ]
          },
          "metadata": {
            "tags": []
          },
          "execution_count": 130
        }
      ]
    },
    {
      "cell_type": "code",
      "metadata": {
        "id": "9iXOxRv6VdPZ",
        "outputId": "58314440-6507-4fc8-bb5e-0feebbe978c6",
        "colab": {
          "base_uri": "https://localhost:8080/",
          "height": 54
        }
      },
      "source": [
        "print(vectorizer.get_feature_names())"
      ],
      "execution_count": null,
      "outputs": [
        {
          "output_type": "stream",
          "text": [
            "['actual', 'ad', 'add', 'also', 'articl', 'ask', 'back', 'block', 'call', 'chang', 'comment', 'consid', 'content', 'contribut', 'could', 'creat', 'delet', 'discuss', 'edit', 'editor', 'even', 'fact', 'find', 'first', 'fuck', 'get', 'go', 'good', 'help', 'im', 'imag', 'includ', 'inform', 'issu', 'ive', 'know', 'like', 'link', 'list', 'look', 'made', 'make', 'mani', 'may', 'mean', 'much', 'name', 'need', 'new', 'note', 'one', 'page', 'peopl', 'person', 'place', 'pleas', 'point', 'polici', 'post', 'put', 'question', 'read', 'realli', 'reason', 'refer', 'remov', 'revert', 'right', 'said', 'say', 'section', 'see', 'seem', 'sinc', 'someon', 'someth', 'sourc', 'state', 'still', 'stop', 'tag', 'take', 'talk', 'thank', 'thing', 'think', 'time', 'tri', 'two', 'use', 'user', 'vandal', 'want', 'way', 'well', 'wikipedia', 'word', 'work', 'would', 'year']\n"
          ],
          "name": "stdout"
        }
      ]
    },
    {
      "cell_type": "markdown",
      "metadata": {
        "id": "lVE3-FUfVdPb"
      },
      "source": [
        "Use the model and transform the train and test data comments:"
      ]
    },
    {
      "cell_type": "code",
      "metadata": {
        "id": "_6K4z2LJVdPb"
      },
      "source": [
        "# transform the train and test data\n",
        "train_idf = vectorizer.transform(train.comment_text)\n",
        "test_idf  = vectorizer.transform(test.comment_text)"
      ],
      "execution_count": null,
      "outputs": []
    },
    {
      "cell_type": "code",
      "metadata": {
        "id": "WbDzDBDdVdPe",
        "outputId": "c0b0ac8c-f9c0-4d10-dfc6-af56545c5593",
        "colab": {
          "base_uri": "https://localhost:8080/",
          "height": 34
        }
      },
      "source": [
        "print(train_idf.shape, test_idf.shape)"
      ],
      "execution_count": null,
      "outputs": [
        {
          "output_type": "stream",
          "text": [
            "(126912, 100) (31728, 100)\n"
          ],
          "name": "stdout"
        }
      ]
    },
    {
      "cell_type": "markdown",
      "metadata": {
        "id": "m1lTd4KXVdPf"
      },
      "source": [
        "# Developing a baseline logistic regression model\n",
        "***"
      ]
    },
    {
      "cell_type": "markdown",
      "metadata": {
        "id": "D86Tk_X0VdPg"
      },
      "source": [
        "Let's create our first model, we will use a simple ***Logistic Regression*** classifier with our TF-IDF vectors as input."
      ]
    },
    {
      "cell_type": "code",
      "metadata": {
        "id": "1Bu-CHnlVdPg",
        "outputId": "8a1141df-e5a6-43a0-9642-246a21c3c301",
        "colab": {
          "base_uri": "https://localhost:8080/",
          "height": 34
        }
      },
      "source": [
        "from sklearn.linear_model import LogisticRegression\n",
        "\n",
        "log_reg = LogisticRegression()\n",
        "log_reg.fit(train_idf, train.toxic)\n",
        "acc_log_reg = log_reg.score(test_idf, test.toxic)\n",
        "print(\"Validation accuracy:\", acc_log_reg)"
      ],
      "execution_count": null,
      "outputs": [
        {
          "output_type": "stream",
          "text": [
            "Validation accuracy: 0.9255547150781644\n"
          ],
          "name": "stdout"
        }
      ]
    },
    {
      "cell_type": "markdown",
      "metadata": {
        "id": "BSxH5jd7VdPi"
      },
      "source": [
        "92% accuracy on validation set, wow great! Hold on..."
      ]
    },
    {
      "cell_type": "code",
      "metadata": {
        "id": "Kua9QOToVdPi",
        "outputId": "4bd7a9e2-4379-4610-c214-ce2fb1cb23a6"
      },
      "source": [
        "test['toxic'].value_counts()"
      ],
      "execution_count": null,
      "outputs": [
        {
          "output_type": "execute_result",
          "data": {
            "text/plain": [
              "0    28669\n",
              "1     3059\n",
              "Name: toxic, dtype: int64"
            ]
          },
          "metadata": {
            "tags": []
          },
          "execution_count": 173
        }
      ]
    },
    {
      "cell_type": "markdown",
      "metadata": {
        "id": "5jaVcxXpVdPk"
      },
      "source": [
        "90.35% of comments in our validation set are \"good\". This means if we have a **dumb baseline model** that always predicts \"good\" for all inputs, it will achieve 90.35% accuracy.<br>\n",
        "This demonstrates why accuracy is generally not the preferred performance measure\n",
        "for binary classifiers, especially when you are dealing with skewed datasets (i.e., when some\n",
        "classes are much more frequent than others). Our ***Logistic regression*** model achieved very small **statistical power** despite seemingly having high accuracy.\n",
        "\n",
        "Accuracy works best if false positives and false negatives have similar cost. If the cost of false positives and false negatives are very different, it’s better to look at both ROC AUC as a metric. If the dataset suffers from class imbalance, better to use Precision and Recall (or F1 score)."
      ]
    },
    {
      "cell_type": "code",
      "metadata": {
        "id": "szxDub1kVdPk",
        "outputId": "2c34d134-1dcd-49fa-b307-978397edb90b",
        "colab": {
          "base_uri": "https://localhost:8080/",
          "height": 198
        }
      },
      "source": [
        "#(log_reg.predict_proba(train_idf)[:,1] > 0.5).astype(int)\n",
        "y_test_probs = log_reg.predict_proba(test_idf)[:,1]\n",
        "y_test_probs.shape\n"
      ],
      "execution_count": null,
      "outputs": [
        {
          "output_type": "error",
          "ename": "NameError",
          "evalue": "ignored",
          "traceback": [
            "\u001b[0;31m---------------------------------------------------------------------------\u001b[0m",
            "\u001b[0;31mNameError\u001b[0m                                 Traceback (most recent call last)",
            "\u001b[0;32m<ipython-input-178-687a2ef92394>\u001b[0m in \u001b[0;36m<module>\u001b[0;34m()\u001b[0m\n\u001b[1;32m      1\u001b[0m \u001b[0;31m#(log_reg.predict_proba(train_idf)[:,1] > 0.5).astype(int)\u001b[0m\u001b[0;34m\u001b[0m\u001b[0;34m\u001b[0m\u001b[0;34m\u001b[0m\u001b[0m\n\u001b[0;32m----> 2\u001b[0;31m \u001b[0my_test_probs\u001b[0m \u001b[0;34m=\u001b[0m \u001b[0mlog_reg\u001b[0m\u001b[0;34m.\u001b[0m\u001b[0mpredict_proba\u001b[0m\u001b[0;34m(\u001b[0m\u001b[0mtest_idf\u001b[0m\u001b[0;34m)\u001b[0m\u001b[0;34m[\u001b[0m\u001b[0;34m:\u001b[0m\u001b[0;34m,\u001b[0m\u001b[0;36m1\u001b[0m\u001b[0;34m]\u001b[0m\u001b[0;34m\u001b[0m\u001b[0;34m\u001b[0m\u001b[0m\n\u001b[0m\u001b[1;32m      3\u001b[0m \u001b[0my_test_probs\u001b[0m\u001b[0;34m.\u001b[0m\u001b[0mshape\u001b[0m\u001b[0;34m\u001b[0m\u001b[0;34m\u001b[0m\u001b[0m\n",
            "\u001b[0;31mNameError\u001b[0m: name 'log_reg' is not defined"
          ]
        }
      ]
    },
    {
      "cell_type": "code",
      "metadata": {
        "id": "tBZE2tRTVdPo"
      },
      "source": [
        "y_test_pred = log_reg.predict(test_idf)"
      ],
      "execution_count": null,
      "outputs": []
    },
    {
      "cell_type": "markdown",
      "metadata": {
        "id": "-TJzqUzGVdPq"
      },
      "source": [
        "# Evaluating model performance (binary classification)\n",
        "***\n",
        "\n",
        "\n",
        "*Read this:* https://machinelearningmastery.com/tour-of-evaluation-metrics-for-imbalanced-classification/\n",
        "\n",
        "\n",
        "Let's define some functions which we will use to evaluate the performance of our models."
      ]
    },
    {
      "cell_type": "markdown",
      "metadata": {
        "id": "c2V0zLGCVdPr"
      },
      "source": [
        "## **Confusing Matrix**\n"
      ]
    },
    {
      "cell_type": "markdown",
      "metadata": {
        "id": "UIacmQX6WYaQ"
      },
      "source": [
        "A much better way to evaluate the performance of a classifier is to look at the **confusion matrix**. The general idea is to count the number of times instances of class A are\n",
        "classified as class B.\n",
        "\n",
        "To compute the confusion matrix, you first need to have a set of predictions, so they\n",
        "can be compared to the actual targets."
      ]
    },
    {
      "cell_type": "code",
      "metadata": {
        "id": "WbDyIyu3WdhK",
        "outputId": "da157836-e158-4064-9b3e-35317c751af6",
        "colab": {
          "base_uri": "https://localhost:8080/",
          "height": 34
        }
      },
      "source": [
        "from sklearn.metrics import confusion_matrix\n",
        "\n",
        "cf = confusion_matrix(test.toxic, y_test_pred)\n",
        "cf[1,1]"
      ],
      "execution_count": null,
      "outputs": [
        {
          "output_type": "execute_result",
          "data": {
            "text/plain": [
              "747"
            ]
          },
          "metadata": {
            "tags": []
          },
          "execution_count": 173
        }
      ]
    },
    {
      "cell_type": "code",
      "metadata": {
        "id": "51YE4j4BVdPs"
      },
      "source": [
        "def plot_cf(cf_matrix):\n",
        "    group_names = ['True Neg','False Pos','False Neg','True Pos']\n",
        "    group_counts = [\"{0:0.0f}\".format(value) for value in\n",
        "                    cf_matrix.flatten()]\n",
        "    group_percentages = [\"{0:.2%}\".format(value) for value in\n",
        "                         cf_matrix.flatten()/np.sum(cf_matrix)]\n",
        "    labels = [f\"{v1}\\n{v2}\\n{v3}\" for v1, v2, v3 in\n",
        "              zip(group_names,group_counts,group_percentages)]\n",
        "    labels = np.asarray(labels).reshape(2,2)\n",
        "    sns.heatmap(cf_matrix, annot=labels, fmt='', cmap='Blues')"
      ],
      "execution_count": null,
      "outputs": []
    },
    {
      "cell_type": "code",
      "metadata": {
        "id": "W1HFf2c3VdPt",
        "outputId": "d24f0fbe-9a8a-4f3f-92d6-65b56e4810b5",
        "colab": {
          "base_uri": "https://localhost:8080/",
          "height": 268
        }
      },
      "source": [
        "plot_cf(cf)"
      ],
      "execution_count": null,
      "outputs": [
        {
          "output_type": "display_data",
          "data": {
            "image/png": "[encoded data removed]",
            "text/plain": [
              "<Figure size 432x288 with 2 Axes>"
            ]
          },
          "metadata": {
            "tags": []
          }
        }
      ]
    },
    {
      "cell_type": "markdown",
      "metadata": {
        "id": "T6KyzEkMVdPv"
      },
      "source": [
        "Each row in a confusion matrix represents an **actual class**, while each column represents a **predicted class**. A perfect classifier would have only true positives and true\n",
        "negatives, so its confusion matrix would have nonzero values only on its main diago‐\n",
        "nal (top left to bottom right):"
      ]
    },
    {
      "cell_type": "markdown",
      "metadata": {
        "id": "TcTwEsDAVdPv"
      },
      "source": [
        "## **Precision and Recall**\n",
        "\n",
        "The confusion matrix gives you a lot of information, but sometimes you may prefer a\n",
        "more concise metric. An interesting one to look at is the **accuracy of the positive predictions**; this is called the **precision** of the classifier (Equation 3-1)."
      ]
    },
    {
      "cell_type": "markdown",
      "metadata": {
        "id": "qbAEsaodVdPw"
      },
      "source": [
        "$precision = \\frac{TP}{TP + FP}$"
      ]
    },
    {
      "cell_type": "markdown",
      "metadata": {
        "id": "kclV_Q87VdPw"
      },
      "source": [
        "A trivial way to have perfect precision is to make one single positive prediction and\n",
        "ensure it is correct (precision = 1/1 = 100%). This would not be very useful since the\n",
        "classifier would ignore all but one positive instance. So precision is typically used\n",
        "along with another metric named **recall**, also called **sensitivity** or **true positive rate** - (TPR): ***this is the ratio of positive instances that are correctly detected by the classifier***"
      ]
    },
    {
      "cell_type": "markdown",
      "metadata": {
        "id": "jEyQ2tyUVdPx"
      },
      "source": [
        "$recall = \\frac{TP}{TP + FN}$"
      ]
    },
    {
      "cell_type": "code",
      "metadata": {
        "id": "tO8X2qkfVdPx",
        "outputId": "f4344e01-313a-4f60-e46d-5736a6d3f44e"
      },
      "source": [
        "from sklearn.metrics import precision_score, recall_score\n",
        "\n",
        "print(\"Precision is\", precision_score(test.toxic, y_test_pred))\n",
        "\n",
        "print(\"Recall is\", recall_score(test.toxic, y_test_pred)) #747/(2312+747)"
      ],
      "execution_count": null,
      "outputs": [
        {
          "output_type": "stream",
          "text": [
            "Precision is 0.9372647427854455\n",
            "Recall is 0.2441974501471069\n"
          ],
          "name": "stdout"
        }
      ]
    },
    {
      "cell_type": "markdown",
      "metadata": {
        "id": "JHQCkQepVdP0"
      },
      "source": [
        "Our log reg classifier doesn't look as shiny as it did when looking at its accuracy. That recall is pretty bad, that means we aren't catching a lot of toxic comments."
      ]
    },
    {
      "cell_type": "markdown",
      "metadata": {
        "id": "ZJcTXpq1WnZ2"
      },
      "source": [
        "## **F1 Score**"
      ]
    },
    {
      "cell_type": "markdown",
      "metadata": {
        "id": "3-QQyX1SVdP0"
      },
      "source": [
        "It is often convenient to combine precision and recall into a single metric called the **F1\n",
        "score**, in particular if you need a simple way to compare two classifiers. The F1\n",
        "score is the **harmonic mean of precision and recall**. Whereas the regular mean treats all values equally, the harmonic mean gives much more weight to low values.\n",
        "As a result, the **classifier will only get a high F1 score if both recall and precision are high**.\n",
        "\n",
        "F1 score is applicable for any particular point on the ROC curve. You may think of it as a measure of precision and recall at a particular threshold value whereas AUC is the area under the ROC curve. For F score to be high, both precision and recall should be high."
      ]
    },
    {
      "cell_type": "markdown",
      "metadata": {
        "id": "jKShy5t1VdP1"
      },
      "source": [
        "$F_{1} = 2 * \\frac{precision * recall}{precision + recall}$"
      ]
    },
    {
      "cell_type": "code",
      "metadata": {
        "id": "hejItAiEVdP1",
        "outputId": "8e5c9016-5334-4820-db48-6936d91d7d3e"
      },
      "source": [
        "from sklearn.metrics import f1_score\n",
        "from sklearn.metrics import auc\n",
        "\n",
        "f1_score(test.toxic, y_test_pred)"
      ],
      "execution_count": null,
      "outputs": [
        {
          "output_type": "execute_result",
          "data": {
            "text/plain": [
              "0.38744813278008294"
            ]
          },
          "metadata": {
            "tags": []
          },
          "execution_count": 172
        }
      ]
    },
    {
      "cell_type": "markdown",
      "metadata": {
        "id": "ebmBhRBNVdP3"
      },
      "source": [
        "The **F1 score** favors classifiers that have similar precision and recall. This is not always\n",
        "what you want: in some contexts you mostly care about precision, and in other contexts you really care about recall.\n",
        "\n",
        "For example, if you trained a classifier to detect videos that are safe for kids, you would probably prefer a classifier that rejects many\n",
        "good videos (low recall) but keeps only safe ones (high precision), rather than a clas‐\n",
        "sifier that has a much higher recall but lets a few really bad videos show up in your\n",
        "product (in such cases, you may even want to add a human pipeline to check the clas‐\n",
        "sifier’s video selection). \n",
        "\n",
        "On the other hand, suppose you train a classifier to detect\n",
        "shoplifters on surveillance images: it is probably fine if your classifier has only 30%\n",
        "precision as long as it has 99% recall (sure, the security guards will get a few false\n",
        "alerts, but almost all shoplifters will get caught).\n",
        "Unfortunately, you can’t have it both ways: increasing precision reduces recall, and\n",
        "vice versa. This is called the **precision/recall tradeoff**."
      ]
    },
    {
      "cell_type": "markdown",
      "metadata": {
        "id": "NnrKDEhxVdP4"
      },
      "source": [
        "## **Precision, Recall Tradeoff and Curve**"
      ]
    },
    {
      "cell_type": "markdown",
      "metadata": {
        "id": "CpZUhywnVdP5"
      },
      "source": [
        "If you raise the threshold, will be increasing precision. Conversely, lowering the threshold increases recall and reduces precision."
      ]
    },
    {
      "cell_type": "markdown",
      "metadata": {
        "id": "Zq4YVP0EVdP8"
      },
      "source": [
        "**Precision vs Recall Curve**\n",
        "\n",
        "To plot the PR curve, you first need to compute the **precisions** and **recalls** for **various threshold values**, using the ***precision_recall_curve()*** function:"
      ]
    },
    {
      "cell_type": "code",
      "metadata": {
        "id": "a_2IJowzVdP8",
        "outputId": "dd05751e-c480-4c09-8d3c-11c5310d380c",
        "colab": {
          "base_uri": "https://localhost:8080/",
          "height": 231
        }
      },
      "source": [
        "from sklearn.metrics import precision_recall_curve\n",
        "from sklearn.metrics import f1_score\n",
        "from sklearn.metrics import auc\n",
        "\n",
        "precisions, recalls, thresholds = precision_recall_curve(test.toxic, y_test_probs)\n",
        "f1, auc = f1_score(test.toxic, y_test_pred), auc(recalls, precisions)\n",
        "auc"
      ],
      "execution_count": null,
      "outputs": [
        {
          "output_type": "error",
          "ename": "NameError",
          "evalue": "ignored",
          "traceback": [
            "\u001b[0;31m---------------------------------------------------------------------------\u001b[0m",
            "\u001b[0;31mNameError\u001b[0m                                 Traceback (most recent call last)",
            "\u001b[0;32m<ipython-input-96-994014ad8ca3>\u001b[0m in \u001b[0;36m<module>\u001b[0;34m()\u001b[0m\n\u001b[1;32m      3\u001b[0m \u001b[0;32mfrom\u001b[0m \u001b[0msklearn\u001b[0m\u001b[0;34m.\u001b[0m\u001b[0mmetrics\u001b[0m \u001b[0;32mimport\u001b[0m \u001b[0mauc\u001b[0m\u001b[0;34m\u001b[0m\u001b[0;34m\u001b[0m\u001b[0m\n\u001b[1;32m      4\u001b[0m \u001b[0;34m\u001b[0m\u001b[0m\n\u001b[0;32m----> 5\u001b[0;31m \u001b[0mprecisions\u001b[0m\u001b[0;34m,\u001b[0m \u001b[0mrecalls\u001b[0m\u001b[0;34m,\u001b[0m \u001b[0mthresholds\u001b[0m \u001b[0;34m=\u001b[0m \u001b[0mprecision_recall_curve\u001b[0m\u001b[0;34m(\u001b[0m\u001b[0mtest\u001b[0m\u001b[0;34m.\u001b[0m\u001b[0mtoxic\u001b[0m\u001b[0;34m,\u001b[0m \u001b[0my_test_probs\u001b[0m\u001b[0;34m)\u001b[0m\u001b[0;34m\u001b[0m\u001b[0;34m\u001b[0m\u001b[0m\n\u001b[0m\u001b[1;32m      6\u001b[0m \u001b[0mf1\u001b[0m\u001b[0;34m,\u001b[0m \u001b[0mauc\u001b[0m \u001b[0;34m=\u001b[0m \u001b[0mf1_score\u001b[0m\u001b[0;34m(\u001b[0m\u001b[0mtest\u001b[0m\u001b[0;34m.\u001b[0m\u001b[0mtoxic\u001b[0m\u001b[0;34m,\u001b[0m \u001b[0my_test_pred\u001b[0m\u001b[0;34m)\u001b[0m\u001b[0;34m,\u001b[0m \u001b[0mauc\u001b[0m\u001b[0;34m(\u001b[0m\u001b[0mrecalls\u001b[0m\u001b[0;34m,\u001b[0m \u001b[0mprecisions\u001b[0m\u001b[0;34m)\u001b[0m\u001b[0;34m\u001b[0m\u001b[0;34m\u001b[0m\u001b[0m\n\u001b[1;32m      7\u001b[0m \u001b[0mauc\u001b[0m\u001b[0;34m\u001b[0m\u001b[0;34m\u001b[0m\u001b[0m\n",
            "\u001b[0;31mNameError\u001b[0m: name 'test' is not defined"
          ]
        }
      ]
    },
    {
      "cell_type": "code",
      "metadata": {
        "id": "P5KcQS7MVdP-"
      },
      "source": [
        "def plot_pr_curve(testy, precisions, recalls):\n",
        "    # plot the precision-recall curves\n",
        "    no_skill = len(testy[testy==1]) / len(testy)\n",
        "    plt.plot([0, 1], [no_skill, no_skill], linestyle='--', label='No Skill')\n",
        "    plt.plot(recalls, precisions, marker='.', label='Logistic')\n",
        "    # axis labels\n",
        "    plt.xlabel('Recall')\n",
        "    plt.ylabel('Precision')\n",
        "    # show the legend\n",
        "    plt.legend()\n",
        "    # show the plot\n",
        "    plt.show()"
      ],
      "execution_count": null,
      "outputs": []
    },
    {
      "cell_type": "code",
      "metadata": {
        "id": "302gRmwvVdQA",
        "outputId": "a9b7afb8-3c9f-4668-e0fe-1c34f40248aa"
      },
      "source": [
        "plot_pr_curve(test.toxic, precisions, recalls)"
      ],
      "execution_count": null,
      "outputs": [
        {
          "output_type": "display_data",
          "data": {
            "image/png": "[encoded data removed]",
            "text/plain": [
              "<Figure size 432x288 with 1 Axes>"
            ]
          },
          "metadata": {
            "tags": []
          }
        }
      ]
    },
    {
      "cell_type": "markdown",
      "metadata": {
        "id": "mvLmLmKuVdQC"
      },
      "source": [
        "## **ROC Curve**\n",
        "\n"
      ]
    },
    {
      "cell_type": "markdown",
      "metadata": {
        "id": "ukaNNbgrXBS7"
      },
      "source": [
        "The ROC Curve is a helpful diagnostic for binary classifiers.\n",
        "\n",
        "It is a plot of the false positive rate (x-axis) versus the true positive rate (y-axis) for a number of different candidate threshold values between 0.0 and 1.0. Put another way, it plots the false alarm rate versus the hit rate.\n",
        "\n",
        "The FPR is the ratio of negative instances that\n",
        "are incorrectly classified as positive. It is equal to one minus the true negative rate,\n",
        "which is the ratio of negative instances that are correctly classified as negative. The\n",
        "TNR is also called specificity. Hence the ROC curve plots sensitivity (recall) versus\n",
        "1 – specificity.\n",
        "\n",
        "\n",
        "To plot the ROC curve, you first need to compute the **TPR** and **FPR** for **various threshold values**, using the ***roc_curve()*** function:"
      ]
    },
    {
      "cell_type": "code",
      "metadata": {
        "id": "_bohQWN_VdQC"
      },
      "source": [
        "from sklearn.metrics import roc_curve\n",
        "\n",
        "# compute the TPR and FPR for various threshold values, \n",
        "fpr, tpr, thresholds = roc_curve(test.toxic, y_test_probs)\n"
      ],
      "execution_count": null,
      "outputs": []
    },
    {
      "cell_type": "code",
      "metadata": {
        "id": "vVOBRDRjVdQE",
        "outputId": "2025da78-5c08-4d35-b095-dafe5ba82e70"
      },
      "source": [
        "def plot_roc_curve(fpr, tpr, label=None):\n",
        "    plt.plot(fpr, tpr, linewidth=2, label=label)\n",
        "    plt.plot([0, 1], [0, 1], 'k--') # dashed diagonal\n",
        "    plt.xlabel(\"False Positive Rate\")\n",
        "    plt.ylabel(\"True Positive Rate (Recall)\")\n",
        "plot_roc_curve(fpr, tpr)\n",
        "plt.show()\n"
      ],
      "execution_count": null,
      "outputs": [
        {
          "output_type": "display_data",
          "data": {
            "image/png": "[encoded data removed]",
            "text/plain": [
              "<Figure size 432x288 with 1 Axes>"
            ]
          },
          "metadata": {
            "tags": []
          }
        }
      ]
    },
    {
      "cell_type": "markdown",
      "metadata": {
        "id": "o7H3MwIAVdQG"
      },
      "source": [
        "Once again there is a tradeoff: the higher the recall (TPR), the more false positives\n",
        "(FPR) the classifier produces. The dotted line represents the ROC curve of a purely\n",
        "random classifier; a good classifier stays as far away from that line as possible (toward\n",
        "the top-left corner).\n",
        "\n",
        "One way to compare classifiers is to measure the area under the curve (AUC). A perfect classifier will have a ROC AUC equal to 1, whereas a purely random classifier will\n",
        "have a ROC AUC equal to 0.5. Scikit-Learn provides a function to compute the ROC AUC:\n"
      ]
    },
    {
      "cell_type": "code",
      "metadata": {
        "id": "BWyQ-qfMVdQG",
        "outputId": "6a2dce38-148f-4001-dc37-624bc290c408"
      },
      "source": [
        "from sklearn.metrics import roc_auc_score\n",
        "roc_auc_score(test.toxic, y_test_probs)\n"
      ],
      "execution_count": null,
      "outputs": [
        {
          "output_type": "execute_result",
          "data": {
            "text/plain": [
              "0.8375393568720257"
            ]
          },
          "metadata": {
            "tags": []
          },
          "execution_count": 190
        }
      ]
    },
    {
      "cell_type": "markdown",
      "metadata": {
        "id": "O5xhXWi3VdQI"
      },
      "source": [
        "Since the ROC curve is so similar to the precision/recall (or PR)\n",
        "curve, you may wonder how to decide which one to use. As a rule\n",
        "of thumb, you should prefer the PR curve whenever the positive\n",
        "class is rare or when you care more about the false positives than\n",
        "the false negatives, and the ROC curve otherwise. For example,\n",
        "looking at the previous ROC curve (and the ROC AUC score), you\n",
        "may think that the classifier is really good. But this is mostly\n",
        "because there are few positives (toxic comments) compared to the negatives\n",
        "(good comments). In contrast, the PR curve makes it clear that the classifier\n",
        "has room for improvement (the curve could be closer to the topright corner)."
      ]
    },
    {
      "cell_type": "markdown",
      "metadata": {
        "id": "5oQFdcp5VdQI"
      },
      "source": [
        "## **When to Use ROC vs. Precision-Recall Curves?**\n",
        "\n",
        "*Read this:* https://stats.stackexchange.com/questions/7207/roc-vs-precision-and-recall-curves\n",
        "\n",
        "The key difference is that ROC curves will be the same no matter what the baseline probability is, but PR curves may be more useful in practice for needle-in-haystack type problems or problems where the \"positive\" class is more interesting than the negative class.\n",
        "\n",
        "\n",
        "IMHO when writing a paper you should provide whichever curve answers the question you want answered (or whichever one is more favorable to your method, if you're cynical). If your question is: \"How meaningful is a positive result from my classifier given the baseline probabilities of my problem?\", use a PR curve. If your question is, \"How well can this classifier be expected to perform in general, at a variety of different baseline probabilities?\", go with a ROC curve."
      ]
    },
    {
      "cell_type": "markdown",
      "metadata": {
        "id": "abNnH2VfVdQI"
      },
      "source": [
        "Generally, the use of ROC curves and precision-recall curves are as follows:\n",
        "\n",
        "* **ROC curves** should be used when there are roughly equal numbers of observations for each class.\n",
        "\n",
        "\n",
        "* **Precision-Recall curves** should be used when there is a moderate to large class imbalance.\n",
        "    The reason for this recommendation is that ROC curves present an optimistic picture of the model on datasets with a class imbalance."
      ]
    },
    {
      "cell_type": "markdown",
      "metadata": {
        "id": "jFTGfny_YoDc"
      },
      "source": [
        "## ***Useful functions***\n",
        "\n",
        "\n",
        "\n"
      ]
    },
    {
      "cell_type": "markdown",
      "metadata": {
        "id": "Ve3_37XjmXI7"
      },
      "source": [
        "### **Plot Confusion Matrix**\n"
      ]
    },
    {
      "cell_type": "code",
      "metadata": {
        "id": "vmQUJG5bmfY4"
      },
      "source": [
        "from sklearn.metrics import confusion_matrix\n",
        "\n",
        "def plot_cf(y_actual, y_pred):\n",
        "    cf_matrix = confusion_matrix(test.toxic, y_test_pred)\n",
        "\n",
        "    group_names = ['True Neg','False Pos','False Neg','True Pos']\n",
        "    group_counts = [\"{0:0.0f}\".format(value) for value in\n",
        "                    cf_matrix.flatten()]\n",
        "    group_percentages = [\"{0:.2%}\".format(value) for value in\n",
        "                         cf_matrix.flatten()/np.sum(cf_matrix)]\n",
        "    labels = [f\"{v1}\\n{v2}\\n{v3}\" for v1, v2, v3 in\n",
        "              zip(group_names,group_counts,group_percentages)]\n",
        "    labels = np.asarray(labels).reshape(2,2)\n",
        "    sns.heatmap(cf_matrix, annot=labels, fmt='', cmap='Blues')"
      ],
      "execution_count": null,
      "outputs": []
    },
    {
      "cell_type": "markdown",
      "metadata": {
        "id": "CckcBBvZlcfr"
      },
      "source": [
        "### **Metrics function**\n",
        "\n",
        "Let's define a function which will return the following metrics:\n",
        "* Accuracy\n",
        "* FP\n",
        "* FN\n",
        "* Precision\n",
        "* Recall\n",
        "* F1 score\n",
        "* Precision-Recall AUC\n",
        "* ROC AUC"
      ]
    },
    {
      "cell_type": "code",
      "metadata": {
        "id": "9ygxfJ0EVdQJ"
      },
      "source": [
        "from sklearn.metrics import precision_score, recall_score\n",
        "from sklearn.metrics import confusion_matrix\n",
        "from sklearn.metrics import f1_score\n",
        "from sklearn.metrics import precision_recall_curve\n",
        "from sklearn.metrics import auc\n",
        "from sklearn.metrics import roc_auc_score\n",
        "\n",
        "def binary_classification_metrics(y_actual, y_probs, threshold):\n",
        "    # get predictions\n",
        "    y_pred = (y_probs > threshold).astype(int)\n",
        "\n",
        "    # confusion matrix\n",
        "    cf = confusion_matrix(y_actual, y_pred)\n",
        "\n",
        "    # accuracy\n",
        "    accuracy = (cf[0, 0] + cf[1, 1])/(cf[1, 0] + cf[0, 1] + cf[0, 0] + cf[1, 1])\n",
        "    \n",
        "    # number of False Positives\n",
        "    fp = cf[0, 1]\n",
        "\n",
        "    # number of False Negatives\n",
        "    fn =  cf[1, 0]\n",
        "    \n",
        "    # precision - accuracy of the positive predictions\n",
        "    precision = precision_score(y_actual, y_pred)\n",
        "\n",
        "    # recall (TPR) - this is the ratio of positive instances that are correctly detected by the classifier\n",
        "    recall = recall_score(y_actual, y_pred)\n",
        "\n",
        "    # get f1 score\n",
        "    f1 = f1_score(y_actual, y_pred)\n",
        "\n",
        "    # precision-recall AUC\n",
        "    precisions, recalls, thresholds = precision_recall_curve(y_actual, y_probs)\n",
        "    pr_auc = auc(recalls, precisions)\n",
        "\n",
        "    # ROC AUC\n",
        "    roc_auc = roc_auc_score(y_actual, y_probs)\n",
        "\n",
        "    print('Accuracy:', accuracy)\n",
        "    print('False Positives:', fp)\n",
        "    print('False Negatives:', fn)\n",
        "    print('Precision:', precision)\n",
        "    print('Recall:', recall)\n",
        "    print('F1 score:', f1)\n",
        "    print('Precision-Recall AUC:', pr_auc)\n",
        "    print('ROC AUC:', roc_auc)"
      ],
      "execution_count": null,
      "outputs": []
    },
    {
      "cell_type": "markdown",
      "metadata": {
        "id": "RygkGB0Mm4jS"
      },
      "source": [
        "### **Plot Precision-Recall Curve**"
      ]
    },
    {
      "cell_type": "code",
      "metadata": {
        "id": "Dil0AOG_goAl"
      },
      "source": [
        "from sklearn.metrics import precision_recall_curve\n",
        "\n",
        "def plot_pr_curve(y_actual, y_probs, label=None):\n",
        "    # get precisions, recalls, thresholds\n",
        "    precisions, recalls, thresholds = precision_recall_curve(y_actual, y_probs)\n",
        "\n",
        "    # plot the precision-recall curves\n",
        "    no_skill = len(y_actual[y_actual==1]) / len(y_actual)\n",
        "    plt.plot([0, 1], [no_skill, no_skill], linestyle='--', label='No Skill')\n",
        "    plt.plot(recalls, precisions, marker='.', label=label)\n",
        "\n",
        "    # axis labels\n",
        "    plt.xlabel('Recall')\n",
        "    plt.ylabel('Precision')\n",
        "\n",
        "    # show the legend\n",
        "    plt.legend()\n",
        "\n",
        "    # show the plot\n",
        "    plt.show()"
      ],
      "execution_count": null,
      "outputs": []
    },
    {
      "cell_type": "markdown",
      "metadata": {
        "id": "2uYtnwOSniVb"
      },
      "source": [
        "### **Plot ROC Curve**"
      ]
    },
    {
      "cell_type": "code",
      "metadata": {
        "id": "FwyMM3W5ntbZ"
      },
      "source": [
        "from sklearn.metrics import roc_curve\n",
        "\n",
        "def plot_roc_curve(y_actual, y_probs, label=None):\n",
        "    # compute the TPR and FPR for various threshold values, \n",
        "    fpr, tpr, thresholds = roc_curve(y_actual, y_probs)\n",
        "\n",
        "    plt.plot(fpr, tpr, linewidth=2, label=label)\n",
        "    plt.plot([0, 1], [0, 1], 'k--', label='No Skill') # dashed diagonal\n",
        "    plt.xlabel(\"False Positive Rate\")\n",
        "    plt.ylabel(\"True Positive Rate (Recall)\")\n",
        "\n",
        "    # show the legend\n",
        "    plt.legend()\n",
        "\n",
        "    # show the plot\n",
        "    plt.show()\n"
      ],
      "execution_count": null,
      "outputs": []
    },
    {
      "cell_type": "code",
      "metadata": {
        "id": "XQia7jvioCfb"
      },
      "source": [
        ""
      ],
      "execution_count": null,
      "outputs": []
    },
    {
      "cell_type": "code",
      "metadata": {
        "id": "kWkceP-ipoGC"
      },
      "source": [
        ""
      ],
      "execution_count": null,
      "outputs": []
    },
    {
      "cell_type": "code",
      "metadata": {
        "id": "UbITPKelpoIA"
      },
      "source": [
        ""
      ],
      "execution_count": null,
      "outputs": []
    },
    {
      "cell_type": "markdown",
      "metadata": {
        "id": "FLL61OGvppC4"
      },
      "source": [
        "**Getting evaluation metrics for logistic regression model**"
      ]
    },
    {
      "cell_type": "code",
      "metadata": {
        "id": "TO2HI3Lbo_is",
        "outputId": "3ae0156b-199f-4383-f689-4fca245f935c",
        "colab": {
          "base_uri": "https://localhost:8080/",
          "height": 34
        }
      },
      "source": [
        "from sklearn.linear_model import LogisticRegression\n",
        "\n",
        "log_reg = LogisticRegression()\n",
        "log_reg.fit(train_idf, train.toxic)\n",
        "acc_log_reg = log_reg.score(test_idf, test.toxic)\n",
        "print(\"Validation accuracy:\", acc_log_reg)"
      ],
      "execution_count": null,
      "outputs": [
        {
          "output_type": "stream",
          "text": [
            "Validation accuracy: 0.9255547150781644\n"
          ],
          "name": "stdout"
        }
      ]
    },
    {
      "cell_type": "code",
      "metadata": {
        "id": "z3b4mbHApEbK"
      },
      "source": [
        "# predictions using 0.5 as threshold\n",
        "y_test_pred = (log_reg.predict_proba(test_idf)[:,1] > 0.5).astype(int)\n",
        "\n",
        "# probabilities\n",
        "y_test_probs = log_reg.predict_proba(test_idf)[:,1]"
      ],
      "execution_count": null,
      "outputs": []
    },
    {
      "cell_type": "code",
      "metadata": {
        "id": "pbPbAWz8pkLT",
        "outputId": "3701abf7-5ef9-4bb3-ebf2-9e55ea8643f8",
        "colab": {
          "base_uri": "https://localhost:8080/",
          "height": 268
        }
      },
      "source": [
        "plot_cf(test.toxic, y_test_pred)"
      ],
      "execution_count": null,
      "outputs": [
        {
          "output_type": "display_data",
          "data": {
            "image/png": "[encoded data removed]",
            "text/plain": [
              "<Figure size 432x288 with 2 Axes>"
            ]
          },
          "metadata": {
            "tags": []
          }
        }
      ]
    },
    {
      "cell_type": "code",
      "metadata": {
        "id": "NyuUy5eIqERa",
        "outputId": "48db1bd7-46b2-44fa-9590-60a336e736bc",
        "colab": {
          "base_uri": "https://localhost:8080/",
          "height": 153
        }
      },
      "source": [
        "binary_classification_metrics(test.toxic, y_test_probs, 0.5)"
      ],
      "execution_count": null,
      "outputs": [
        {
          "output_type": "stream",
          "text": [
            "Accuracy: 0.9255547150781644\n",
            "False Positives: 50\n",
            "False Negatives: 2312\n",
            "Precision: 0.9372647427854455\n",
            "Recall: 0.2441974501471069\n",
            "F1 score: 0.38744813278008294\n",
            "Precision-Recall AUC: 0.5206538462365435\n",
            "ROC AUC: 0.8375393568720257\n"
          ],
          "name": "stdout"
        }
      ]
    },
    {
      "cell_type": "code",
      "metadata": {
        "id": "VfqZw2IbrM7D",
        "outputId": "ce51d169-ed32-4bde-9e0a-fb7fcd7b902d",
        "colab": {
          "base_uri": "https://localhost:8080/",
          "height": 285
        }
      },
      "source": [
        "plot_pr_curve(test.toxic, y_test_probs, 'logistic regression')"
      ],
      "execution_count": null,
      "outputs": [
        {
          "output_type": "display_data",
          "data": {
            "image/png": "[encoded data removed]",
            "text/plain": [
              "<Figure size 432x288 with 1 Axes>"
            ]
          },
          "metadata": {
            "tags": []
          }
        }
      ]
    },
    {
      "cell_type": "code",
      "metadata": {
        "id": "oj6brwp9rqYo",
        "outputId": "2bab169e-6f21-4206-8a39-493567466fa3",
        "colab": {
          "base_uri": "https://localhost:8080/",
          "height": 285
        }
      },
      "source": [
        "plot_roc_curve(test.toxic, y_test_probs, 'logistic regression')"
      ],
      "execution_count": null,
      "outputs": [
        {
          "output_type": "display_data",
          "data": {
            "image/png": "[encoded data removed]",
            "text/plain": [
              "<Figure size 432x288 with 1 Axes>"
            ]
          },
          "metadata": {
            "tags": []
          }
        }
      ]
    },
    {
      "cell_type": "markdown",
      "metadata": {
        "id": "tq1SuJJooOX6"
      },
      "source": [
        "# Developing a Feedforward DNN using TF-IDF vectors\n",
        "***"
      ]
    },
    {
      "cell_type": "markdown",
      "metadata": {
        "id": "6xAmYpnex6Gk"
      },
      "source": [
        "## **Create model**"
      ]
    },
    {
      "cell_type": "code",
      "metadata": {
        "id": "qUPEfodaoVIi"
      },
      "source": [
        "# Model definition\n",
        "from keras import models\n",
        "from keras import layers\n",
        "from keras import regularizers\n",
        "\n",
        "model = models.Sequential()\n",
        "model.add(layers.Dense(64, activation='relu', input_shape=(100,), kernel_regularizer=regularizers.l2(0.001)))\n",
        "model.add(layers.Dense(64, activation='relu', kernel_regularizer=regularizers.l2(0.001)))\n",
        "model.add(layers.Dense(1, activation='sigmoid'))"
      ],
      "execution_count": null,
      "outputs": []
    },
    {
      "cell_type": "code",
      "metadata": {
        "id": "2lxrF7ZysNTc"
      },
      "source": [
        "# Compile the model\n",
        "model.compile(optimizer='adam',\n",
        "              loss='binary_crossentropy',\n",
        "              metrics=['accuracy'])"
      ],
      "execution_count": null,
      "outputs": []
    },
    {
      "cell_type": "code",
      "metadata": {
        "id": "wRM8fxEitaJb",
        "outputId": "3ba55666-ca19-4f6e-c2ec-58df13c21fa9",
        "colab": {
          "base_uri": "https://localhost:8080/",
          "height": 255
        }
      },
      "source": [
        "model.summary()"
      ],
      "execution_count": null,
      "outputs": [
        {
          "output_type": "stream",
          "text": [
            "Model: \"sequential_15\"\n",
            "_________________________________________________________________\n",
            "Layer (type)                 Output Shape              Param #   \n",
            "=================================================================\n",
            "dense_13 (Dense)             (None, 64)                6464      \n",
            "_________________________________________________________________\n",
            "dense_14 (Dense)             (None, 64)                4160      \n",
            "_________________________________________________________________\n",
            "dense_15 (Dense)             (None, 1)                 65        \n",
            "=================================================================\n",
            "Total params: 10,689\n",
            "Trainable params: 10,689\n",
            "Non-trainable params: 0\n",
            "_________________________________________________________________\n"
          ],
          "name": "stdout"
        }
      ]
    },
    {
      "cell_type": "code",
      "metadata": {
        "id": "c3WdT-yEs8Vy",
        "outputId": "018e5a36-ace3-4967-d6cf-9e8e50e2b49a",
        "colab": {
          "base_uri": "https://localhost:8080/",
          "height": 232
        }
      },
      "source": [
        "# train\n",
        "history_dnn = model.fit(train_idf.toarray(),\n",
        "                    train.toxic.values,\n",
        "                    epochs=20,\n",
        "                    batch_size=256,\n",
        "                    validation_data=(test_idf.toarray(), test.toxic.values))"
      ],
      "execution_count": null,
      "outputs": [
        {
          "output_type": "error",
          "ename": "NameError",
          "evalue": "ignored",
          "traceback": [
            "\u001b[0;31m---------------------------------------------------------------------------\u001b[0m",
            "\u001b[0;31mNameError\u001b[0m                                 Traceback (most recent call last)",
            "\u001b[0;32m<ipython-input-98-f92daac6b15d>\u001b[0m in \u001b[0;36m<module>\u001b[0;34m()\u001b[0m\n\u001b[1;32m      1\u001b[0m \u001b[0;31m# train\u001b[0m\u001b[0;34m\u001b[0m\u001b[0;34m\u001b[0m\u001b[0;34m\u001b[0m\u001b[0m\n\u001b[0;32m----> 2\u001b[0;31m history_dnn = model.fit(train_idf.toarray(),\n\u001b[0m\u001b[1;32m      3\u001b[0m                     \u001b[0mtrain\u001b[0m\u001b[0;34m.\u001b[0m\u001b[0mtoxic\u001b[0m\u001b[0;34m.\u001b[0m\u001b[0mvalues\u001b[0m\u001b[0;34m,\u001b[0m\u001b[0;34m\u001b[0m\u001b[0;34m\u001b[0m\u001b[0m\n\u001b[1;32m      4\u001b[0m                     \u001b[0mepochs\u001b[0m\u001b[0;34m=\u001b[0m\u001b[0;36m20\u001b[0m\u001b[0;34m,\u001b[0m\u001b[0;34m\u001b[0m\u001b[0;34m\u001b[0m\u001b[0m\n\u001b[1;32m      5\u001b[0m                     \u001b[0mbatch_size\u001b[0m\u001b[0;34m=\u001b[0m\u001b[0;36m256\u001b[0m\u001b[0;34m,\u001b[0m\u001b[0;34m\u001b[0m\u001b[0;34m\u001b[0m\u001b[0m\n",
            "\u001b[0;31mNameError\u001b[0m: name 'train_idf' is not defined"
          ]
        }
      ]
    },
    {
      "cell_type": "markdown",
      "metadata": {
        "id": "2-OK1Bjpx9hU"
      },
      "source": [
        "## **Evaluate model metrics**"
      ]
    },
    {
      "cell_type": "code",
      "metadata": {
        "id": "IfQ_ct3BvaIz",
        "outputId": "e8a1064e-5746-4d58-c7ba-eb9516e9d604",
        "colab": {
          "base_uri": "https://localhost:8080/",
          "height": 301
        }
      },
      "source": [
        "plot_loss(history_dnn)"
      ],
      "execution_count": null,
      "outputs": [
        {
          "output_type": "display_data",
          "data": {
            "image/png": "[encoded data removed]",
            "text/plain": [
              "<Figure size 432x288 with 1 Axes>"
            ]
          },
          "metadata": {
            "tags": []
          }
        }
      ]
    },
    {
      "cell_type": "code",
      "metadata": {
        "id": "36IEm5lXvgNg",
        "outputId": "678b13ff-245d-435c-bd0a-3e82a8d33243",
        "colab": {
          "base_uri": "https://localhost:8080/",
          "height": 301
        }
      },
      "source": [
        "plot_accuracy(history_dnn)"
      ],
      "execution_count": null,
      "outputs": [
        {
          "output_type": "display_data",
          "data": {
            "image/png": "[encoded data removed]",
            "text/plain": [
              "<Figure size 432x288 with 1 Axes>"
            ]
          },
          "metadata": {
            "tags": []
          }
        }
      ]
    },
    {
      "cell_type": "markdown",
      "metadata": {
        "id": "6aF4-95myyMe"
      },
      "source": [
        "Make predictions using the DNN model and get probabilities"
      ]
    },
    {
      "cell_type": "code",
      "metadata": {
        "id": "-vmK5Kg6v5VE"
      },
      "source": [
        "y_test_probs = model.predict_proba(test_idf.toarray())"
      ],
      "execution_count": null,
      "outputs": []
    },
    {
      "cell_type": "code",
      "metadata": {
        "id": "C2UPlo5UzLPI",
        "outputId": "8ac3b765-0739-420c-a829-b06175c88403",
        "colab": {
          "base_uri": "https://localhost:8080/",
          "height": 153
        }
      },
      "source": [
        "binary_classification_metrics(test.toxic, y_test_probs, 0.5)"
      ],
      "execution_count": null,
      "outputs": [
        {
          "output_type": "stream",
          "text": [
            "Accuracy: 0.925964447806354\n",
            "False Positives: 67\n",
            "False Negatives: 2282\n",
            "Precision: 0.9206161137440758\n",
            "Recall: 0.2540045766590389\n",
            "F1 score: 0.3981552651806303\n",
            "Precision-Recall AUC: 0.5238432593700862\n",
            "ROC AUC: 0.8397078268331497\n"
          ],
          "name": "stdout"
        }
      ]
    },
    {
      "cell_type": "markdown",
      "metadata": {
        "id": "u3FqTanO0SoG"
      },
      "source": [
        "Not really better than our log reg classifier...we can try further tuning of hyperparameters, or perhaps increasing **max_features** when vectorizing our text. Instead let's jump into using Word Embeddings and LSTMs."
      ]
    },
    {
      "cell_type": "markdown",
      "metadata": {
        "id": "kzE4o9cbQC1v"
      },
      "source": [
        "## ***Useful functions***"
      ]
    },
    {
      "cell_type": "markdown",
      "metadata": {
        "id": "OaFWmrM4wp0p"
      },
      "source": [
        "### **Function to plot training and validation loss**\n"
      ]
    },
    {
      "cell_type": "code",
      "metadata": {
        "id": "4qj2op3gwtW-"
      },
      "source": [
        "import matplotlib.pyplot as plt\n",
        "\n",
        "# takes in history object and prints training and validation loss\n",
        "def plot_loss(history):\n",
        "    loss = history.history['loss']\n",
        "    val_loss = history.history['val_loss']\n",
        "\n",
        "    epochs = range(1, len(loss) + 1)\n",
        "\n",
        "    plt.plot(epochs, loss, 'bo', label='Training loss')\n",
        "    plt.plot(epochs, val_loss, 'b', label='Validation loss')\n",
        "    plt.title('Training and validation loss')\n",
        "    plt.xlabel('Epochs')\n",
        "    plt.ylabel('Loss')\n",
        "    plt.legend()\n",
        "    \n",
        "    plt.show()"
      ],
      "execution_count": null,
      "outputs": []
    },
    {
      "cell_type": "markdown",
      "metadata": {
        "id": "AKI8n7LPw3TX"
      },
      "source": [
        "### **Function to plot training and validation accuracy**"
      ]
    },
    {
      "cell_type": "code",
      "metadata": {
        "id": "I91K-qyow571"
      },
      "source": [
        "import matplotlib.pyplot as plt\n",
        "\n",
        "def plot_accuracy(history):\n",
        "    acc = history.history['accuracy']\n",
        "    val_acc = history.history['val_accuracy']\n",
        "\n",
        "    epochs = range(1, len(acc) + 1)\n",
        "\n",
        "    plt.plot(epochs, acc, 'bo', label='Training acc')\n",
        "    plt.plot(epochs, val_acc, 'b', label='Validation acc')\n",
        "    plt.title('Training and validation accuracy')\n",
        "    plt.xlabel('Epochs')\n",
        "    plt.ylabel('Loss')\n",
        "    plt.legend()\n",
        "\n",
        "    plt.show()"
      ],
      "execution_count": null,
      "outputs": []
    },
    {
      "cell_type": "code",
      "metadata": {
        "id": "7yiXSpV7xExF"
      },
      "source": [
        ""
      ],
      "execution_count": null,
      "outputs": []
    },
    {
      "cell_type": "markdown",
      "metadata": {
        "id": "MOife_S_2D5S"
      },
      "source": [
        "# Developing a DNN using Word Embeddings\n",
        "***"
      ]
    },
    {
      "cell_type": "markdown",
      "metadata": {
        "id": "aGF-N62V2sle"
      },
      "source": [
        "Let's try learning our own **word embeddings**. We will use Keras preprocessing functions and *Embedding* layer. \n",
        "\n",
        "Our text preprocessing here steps include:\n",
        "\n",
        "1. **Tokenization** of words\n",
        "\n",
        "2. **Indexing** - put words in dictionary, assign each word a unique index\n",
        "\n",
        "3. **Index Representation** - we could represent the sequence of words in the comments in the form of index, and feed this chain of index into our LSTM. For eg, [1,2,3,4,2,5]. \n",
        "\n",
        "4. **Vectorization** - we need a way to turn our list of integers into tensors. We can pad our lists so that they all have the same length, turn them into an integer tensor of shape *(samples, word_indices)*, and then use as the first layer in our network a layer capable of handling such integer tensors (the **Embedding layer**). \n",
        "\n",
        "    Alternatively we can **One-hot encode** our lists to turn them into vectors of 0s and 1s. This would mean, for instance, turning the sequence [3, 5] into a 10,000-dimensional vector that would be all 0s except for indices 3 and 5, which would be 1s. Then we could use as the first layer in your network a Dense layer, capable of handling floating-point vector data.\n",
        "\n",
        "    Note that since we aren't using a recurrent neural network, the order of the words isn't captured by the model and doesn't impact its predictions. If dealing with time series/sequence data, we can use an RNN to fix this problem. Note our *one-hot* encoding will be a bit different; now we must preprocess our data into **tensors** with 3 dimensions *(samples, timesteps, features)* and each feature will be a single one-hot encoded word (only 1 zero in each word vector).\n"
      ]
    },
    {
      "cell_type": "code",
      "metadata": {
        "id": "CECBvJcTjlYO",
        "outputId": "7ecac0ba-8dc7-47b5-9758-d2df4165603f",
        "colab": {
          "base_uri": "https://localhost:8080/",
          "height": 419
        }
      },
      "source": [
        "train"
      ],
      "execution_count": null,
      "outputs": [
        {
          "output_type": "execute_result",
          "data": {
            "text/html": [
              "<div>\n",
              "<style scoped>\n",
              "    .dataframe tbody tr th:only-of-type {\n",
              "        vertical-align: middle;\n",
              "    }\n",
              "\n",
              "    .dataframe tbody tr th {\n",
              "        vertical-align: top;\n",
              "    }\n",
              "\n",
              "    .dataframe thead th {\n",
              "        text-align: right;\n",
              "    }\n",
              "</style>\n",
              "<table border=\"1\" class=\"dataframe\">\n",
              "  <thead>\n",
              "    <tr style=\"text-align: right;\">\n",
              "      <th></th>\n",
              "      <th>id</th>\n",
              "      <th>comment_text</th>\n",
              "      <th>toxic</th>\n",
              "      <th>cleaned_comments</th>\n",
              "      <th>word_count</th>\n",
              "    </tr>\n",
              "  </thead>\n",
              "  <tbody>\n",
              "    <tr>\n",
              "      <th>113617</th>\n",
              "      <td>a4a63a1a49b6c2d1</td>\n",
              "      <td>X232=4,096 X=2\\n                    \\n        ...</td>\n",
              "      <td>0</td>\n",
              "      <td>[strikesstrik]</td>\n",
              "      <td>1</td>\n",
              "    </tr>\n",
              "    <tr>\n",
              "      <th>22190</th>\n",
              "      <td>4173905ab720af45</td>\n",
              "      <td>\"\\n\\nRegarding passport control, the first par...</td>\n",
              "      <td>0</td>\n",
              "      <td>[regard, passport, control, first, part, could...</td>\n",
              "      <td>121</td>\n",
              "    </tr>\n",
              "    <tr>\n",
              "      <th>59563</th>\n",
              "      <td>b18fe0b0b84e353b</td>\n",
              "      <td>[edit: neither lede nor body]</td>\n",
              "      <td>0</td>\n",
              "      <td>[edit, neither, lede, bodi]</td>\n",
              "      <td>4</td>\n",
              "    </tr>\n",
              "    <tr>\n",
              "      <th>78902</th>\n",
              "      <td>eb2f4c7c769a7d1e</td>\n",
              "      <td>\"== Wow ==\\n\\nThis article needs so much work ...</td>\n",
              "      <td>0</td>\n",
              "      <td>[wow, articl, need, much, work, even, funni, i...</td>\n",
              "      <td>322</td>\n",
              "    </tr>\n",
              "    <tr>\n",
              "      <th>148328</th>\n",
              "      <td>8873ac7531344796</td>\n",
              "      <td>- Stealthusa is an artise of the ass.</td>\n",
              "      <td>1</td>\n",
              "      <td>[stealthusa, artis, ass]</td>\n",
              "      <td>3</td>\n",
              "    </tr>\n",
              "    <tr>\n",
              "      <th>...</th>\n",
              "      <td>...</td>\n",
              "      <td>...</td>\n",
              "      <td>...</td>\n",
              "      <td>...</td>\n",
              "      <td>...</td>\n",
              "    </tr>\n",
              "    <tr>\n",
              "      <th>117094</th>\n",
              "      <td>b9768926ceabcfcb</td>\n",
              "      <td>Also Lady Penelope ignores the 'The', but the ...</td>\n",
              "      <td>0</td>\n",
              "      <td>[also, ladi, penelop, ignor, first, real, one,...</td>\n",
              "      <td>20</td>\n",
              "    </tr>\n",
              "    <tr>\n",
              "      <th>73097</th>\n",
              "      <td>d9e10c94f243efa4</td>\n",
              "      <td>Needs references\\nNo sources, unref tag added.</td>\n",
              "      <td>0</td>\n",
              "      <td>[need, refer, sourc, unref, tag, ad]</td>\n",
              "      <td>6</td>\n",
              "    </tr>\n",
              "    <tr>\n",
              "      <th>24594</th>\n",
              "      <td>4889994c5a0ddc3b</td>\n",
              "      <td>\"\\nI'm mulling a move to Sachs Covered Bridge,...</td>\n",
              "      <td>0</td>\n",
              "      <td>[im, mull, move, sach, cover, bridg, appear, c...</td>\n",
              "      <td>18</td>\n",
              "    </tr>\n",
              "    <tr>\n",
              "      <th>153138</th>\n",
              "      <td>219870ce9c1ba050</td>\n",
              "      <td>Apparently YOU care about it.  Look at all the...</td>\n",
              "      <td>1</td>\n",
              "      <td>[appar, care, look, charact, type, fuck, wrong]</td>\n",
              "      <td>7</td>\n",
              "    </tr>\n",
              "    <tr>\n",
              "      <th>78005</th>\n",
              "      <td>e8812dcf9919ec29</td>\n",
              "      <td>\"\\n\\nI'm sorry, but after reading up on Mr Mer...</td>\n",
              "      <td>0</td>\n",
              "      <td>[im, sorri, read, mr, merkey, histori, particu...</td>\n",
              "      <td>114</td>\n",
              "    </tr>\n",
              "  </tbody>\n",
              "</table>\n",
              "<p>126912 rows × 5 columns</p>\n",
              "</div>"
            ],
            "text/plain": [
              "                      id  ... word_count\n",
              "113617  a4a63a1a49b6c2d1  ...          1\n",
              "22190   4173905ab720af45  ...        121\n",
              "59563   b18fe0b0b84e353b  ...          4\n",
              "78902   eb2f4c7c769a7d1e  ...        322\n",
              "148328  8873ac7531344796  ...          3\n",
              "...                  ...  ...        ...\n",
              "117094  b9768926ceabcfcb  ...         20\n",
              "73097   d9e10c94f243efa4  ...          6\n",
              "24594   4889994c5a0ddc3b  ...         18\n",
              "153138  219870ce9c1ba050  ...          7\n",
              "78005   e8812dcf9919ec29  ...        114\n",
              "\n",
              "[126912 rows x 5 columns]"
            ]
          },
          "metadata": {
            "tags": []
          },
          "execution_count": 119
        }
      ]
    },
    {
      "cell_type": "code",
      "metadata": {
        "id": "tslPpP5G2K7H",
        "outputId": "c3e6abc3-2ee8-4d16-8ba9-2d61f353cdd9",
        "colab": {
          "base_uri": "https://localhost:8080/",
          "height": 34
        }
      },
      "source": [
        "# Tokenizing the text of the raw Wikipedia comments\n",
        "from keras.preprocessing.text import Tokenizer\n",
        "from keras.preprocessing.sequence import pad_sequences\n",
        "import numpy as np\n",
        "\n",
        "maxlen = 100 # Cuts off reviews after 100 words\n",
        "max_words = 10000 # Considers only the top 10,000 words in the dataset\n",
        "\n",
        "\n",
        "tokenizer = Tokenizer(num_words=max_words)\n",
        "\n",
        "# creates the vocabulary index based on word frequency, lower integer means more frequent\n",
        "tokenizer.fit_on_texts(train.cleaned_comments)\n",
        "\n",
        "# takes each word in the text and replaces it with its corresponding integer value from the word_index dictionary\n",
        "train_sequences = tokenizer.texts_to_sequences(train.cleaned_comments)\n",
        "test_sequences = tokenizer.texts_to_sequences(test.cleaned_comments)\n",
        "\n",
        "word_index = tokenizer.word_index\n",
        "print('Found %s unique tokens.' % len(word_index))\n",
        "\n",
        "# pad sequences\n",
        "# Each entry (sample) is a sequence of 100 integers - ready for Embedding layer!\n",
        "x_train = pad_sequences(train_sequences, maxlen=maxlen)\n",
        "x_test = pad_sequences(test_sequences, maxlen=maxlen)"
      ],
      "execution_count": null,
      "outputs": [
        {
          "output_type": "stream",
          "text": [
            "Found 154855 unique tokens.\n"
          ],
          "name": "stdout"
        }
      ]
    },
    {
      "cell_type": "code",
      "metadata": {
        "id": "9y1WEUefjyiX",
        "outputId": "da41f18b-0568-45af-8765-f78b19b8cf94",
        "colab": {
          "base_uri": "https://localhost:8080/",
          "height": 102
        }
      },
      "source": [
        "x_train[0,:]"
      ],
      "execution_count": null,
      "outputs": [
        {
          "output_type": "execute_result",
          "data": {
            "text/plain": [
              "array([0, 0, 0, 0, 0, 0, 0, 0, 0, 0, 0, 0, 0, 0, 0, 0, 0, 0, 0, 0, 0, 0,\n",
              "       0, 0, 0, 0, 0, 0, 0, 0, 0, 0, 0, 0, 0, 0, 0, 0, 0, 0, 0, 0, 0, 0,\n",
              "       0, 0, 0, 0, 0, 0, 0, 0, 0, 0, 0, 0, 0, 0, 0, 0, 0, 0, 0, 0, 0, 0,\n",
              "       0, 0, 0, 0, 0, 0, 0, 0, 0, 0, 0, 0, 0, 0, 0, 0, 0, 0, 0, 0, 0, 0,\n",
              "       0, 0, 0, 0, 0, 0, 0, 0, 0, 0, 0, 0], dtype=int32)"
            ]
          },
          "metadata": {
            "tags": []
          },
          "execution_count": 135
        }
      ]
    },
    {
      "cell_type": "code",
      "metadata": {
        "id": "aKWngPAb3jtU",
        "outputId": "ce475448-5965-4e67-f213-122ef1fb31bf",
        "colab": {
          "base_uri": "https://localhost:8080/",
          "height": 323
        }
      },
      "source": [
        "from keras.models import Sequential\n",
        "from keras.layers import Flatten, Dense, Embedding, Dropout\n",
        "\n",
        "model = Sequential()\n",
        "\n",
        "# Specifies the maximum input length to the Embedding layer so you can later flatten the embedded inputs. \n",
        "# After the Embedding layer, the activations have shape (samples, maxlen, 8).\n",
        "model.add(Embedding(10000, 8, input_length=maxlen))\n",
        "\n",
        "# Flattens the 3D tensor of embeddings into a 2D tensor of shape (samples, maxlen * 8)\n",
        "model.add(Flatten())\n",
        "\n",
        "model.add(Dense(32, activation='relu',  kernel_regularizer=regularizers.l2(l2=0.01)))\n",
        "model.add(Dropout(0.6))\n",
        "# Adds the classifier on top\n",
        "model.add(Dense(1, activation='sigmoid'))\n",
        "model.compile(optimizer='adam', loss='binary_crossentropy', metrics=['accuracy'])\n",
        "    \n",
        "\n",
        "model.summary()                    "
      ],
      "execution_count": null,
      "outputs": [
        {
          "output_type": "stream",
          "text": [
            "Model: \"sequential_21\"\n",
            "_________________________________________________________________\n",
            "Layer (type)                 Output Shape              Param #   \n",
            "=================================================================\n",
            "embedding_19 (Embedding)     (None, 100, 8)            80000     \n",
            "_________________________________________________________________\n",
            "flatten_8 (Flatten)          (None, 800)               0         \n",
            "_________________________________________________________________\n",
            "dense_26 (Dense)             (None, 32)                25632     \n",
            "_________________________________________________________________\n",
            "dropout_4 (Dropout)          (None, 32)                0         \n",
            "_________________________________________________________________\n",
            "dense_27 (Dense)             (None, 1)                 33        \n",
            "=================================================================\n",
            "Total params: 105,665\n",
            "Trainable params: 105,665\n",
            "Non-trainable params: 0\n",
            "_________________________________________________________________\n"
          ],
          "name": "stdout"
        }
      ]
    },
    {
      "cell_type": "code",
      "metadata": {
        "id": "PRMoTxlW-Gl6",
        "outputId": "fd47a6ea-6c76-42e2-df17-c4e3bb7b6215",
        "colab": {
          "base_uri": "https://localhost:8080/",
          "height": 377
        }
      },
      "source": [
        "history_embed = model.fit(x_train, \n",
        "                          train.toxic,\n",
        "                          epochs=10,\n",
        "                          batch_size=32,\n",
        "                          validation_data=(x_test, test.toxic))"
      ],
      "execution_count": null,
      "outputs": [
        {
          "output_type": "stream",
          "text": [
            "Epoch 1/10\n",
            "3966/3966 [==============================] - 16s 4ms/step - loss: 0.2447 - accuracy: 0.9155 - val_loss: 0.1787 - val_accuracy: 0.9475\n",
            "Epoch 2/10\n",
            "3966/3966 [==============================] - 16s 4ms/step - loss: 0.1796 - accuracy: 0.9536 - val_loss: 0.1644 - val_accuracy: 0.9570\n",
            "Epoch 3/10\n",
            "3966/3966 [==============================] - 16s 4ms/step - loss: 0.1641 - accuracy: 0.9565 - val_loss: 0.1635 - val_accuracy: 0.9575\n",
            "Epoch 4/10\n",
            "3966/3966 [==============================] - 16s 4ms/step - loss: 0.1560 - accuracy: 0.9581 - val_loss: 0.1657 - val_accuracy: 0.9592\n",
            "Epoch 5/10\n",
            "3966/3966 [==============================] - 16s 4ms/step - loss: 0.1488 - accuracy: 0.9592 - val_loss: 0.1788 - val_accuracy: 0.9583\n",
            "Epoch 6/10\n",
            "3966/3966 [==============================] - 16s 4ms/step - loss: 0.1445 - accuracy: 0.9604 - val_loss: 0.1731 - val_accuracy: 0.9586\n",
            "Epoch 7/10\n",
            "3966/3966 [==============================] - 16s 4ms/step - loss: 0.1403 - accuracy: 0.9610 - val_loss: 0.1862 - val_accuracy: 0.9557\n",
            "Epoch 8/10\n",
            "3966/3966 [==============================] - 16s 4ms/step - loss: 0.1369 - accuracy: 0.9633 - val_loss: 0.1857 - val_accuracy: 0.9569\n",
            "Epoch 9/10\n",
            "3966/3966 [==============================] - 16s 4ms/step - loss: 0.1332 - accuracy: 0.9632 - val_loss: 0.1968 - val_accuracy: 0.9571\n",
            "Epoch 10/10\n",
            "3966/3966 [==============================] - 16s 4ms/step - loss: 0.1288 - accuracy: 0.9659 - val_loss: 0.2048 - val_accuracy: 0.9592\n"
          ],
          "name": "stdout"
        }
      ]
    },
    {
      "cell_type": "code",
      "metadata": {
        "id": "msycbNvY3kwm",
        "outputId": "01c55585-dfab-49da-925c-849147eb5b97",
        "colab": {
          "base_uri": "https://localhost:8080/",
          "height": 301
        }
      },
      "source": [
        "plot_loss(history_embed)"
      ],
      "execution_count": null,
      "outputs": [
        {
          "output_type": "display_data",
          "data": {
            "image/png": "[encoded data removed]",
            "text/plain": [
              "<Figure size 432x288 with 1 Axes>"
            ]
          },
          "metadata": {
            "tags": []
          }
        }
      ]
    },
    {
      "cell_type": "code",
      "metadata": {
        "id": "pvu-glRR_ruc",
        "outputId": "3984f989-0576-4025-a68c-8622d7121f8c",
        "colab": {
          "base_uri": "https://localhost:8080/",
          "height": 301
        }
      },
      "source": [
        "plot_accuracy(history_embed)"
      ],
      "execution_count": null,
      "outputs": [
        {
          "output_type": "display_data",
          "data": {
            "image/png": "[encoded data removed]",
            "text/plain": [
              "<Figure size 432x288 with 1 Axes>"
            ]
          },
          "metadata": {
            "tags": []
          }
        }
      ]
    },
    {
      "cell_type": "code",
      "metadata": {
        "id": "E1jZqBpkADrq"
      },
      "source": [
        "y_test_probs = model.predict_proba(x_test)"
      ],
      "execution_count": null,
      "outputs": []
    },
    {
      "cell_type": "code",
      "metadata": {
        "id": "eUq329lXA9yn",
        "outputId": "26fddac7-bac5-4cbd-b6b9-85231f77eb43",
        "colab": {
          "base_uri": "https://localhost:8080/",
          "height": 34
        }
      },
      "source": [
        "(y_test_probs).shape"
      ],
      "execution_count": null,
      "outputs": [
        {
          "output_type": "execute_result",
          "data": {
            "text/plain": [
              "(31728, 1)"
            ]
          },
          "metadata": {
            "tags": []
          },
          "execution_count": 159
        }
      ]
    },
    {
      "cell_type": "code",
      "metadata": {
        "id": "clQoy5y1AvGJ",
        "outputId": "7f8a264a-34f9-44ca-ad99-44edeebf5a60",
        "colab": {
          "base_uri": "https://localhost:8080/",
          "height": 153
        }
      },
      "source": [
        "binary_classification_metrics(test.toxic, y_test_probs, 0.5)"
      ],
      "execution_count": null,
      "outputs": [
        {
          "output_type": "stream",
          "text": [
            "Accuracy: 0.9591527987897126\n",
            "False Positives: 432\n",
            "False Negatives: 864\n",
            "Precision: 0.8355538637228778\n",
            "Recall: 0.7175547564563582\n",
            "F1 score: 0.7720717551881815\n",
            "Precision-Recall AUC: 0.8293360318124139\n",
            "ROC AUC: 0.9500358791888173\n"
          ],
          "name": "stdout"
        }
      ]
    },
    {
      "cell_type": "code",
      "metadata": {
        "id": "FFrSuRMKtZtr",
        "outputId": "997935a7-35ca-4aed-af39-277c5fef72c9",
        "colab": {
          "base_uri": "https://localhost:8080/",
          "height": 285
        }
      },
      "source": [
        "plot_pr_curve(test.toxic, y_test_probs, label=\"Word Embedding DNN\")"
      ],
      "execution_count": null,
      "outputs": [
        {
          "output_type": "display_data",
          "data": {
            "image/png": "[encoded data removed]",
            "text/plain": [
              "<Figure size 432x288 with 1 Axes>"
            ]
          },
          "metadata": {
            "tags": []
          }
        }
      ]
    },
    {
      "cell_type": "markdown",
      "metadata": {
        "id": "wSIWjzg_BSzY"
      },
      "source": [
        "**Much better results, especially F1 score** (harmonic mean of precision and recall)<br>\n",
        "\n",
        "It's true that compared to the previous two models, the word embedding model has more *false positives*, but we also caught a lot more *false negatives* (toxic comments which would have gone undetected). \n",
        "\n",
        "This model is overall a better classifier as it has a much better **F1 score** (combination of precision and recall). Based on specific domain related needs, we can adjust our current threshold of 0.5 to improve our precision (less *false positives*) at the expense of recall (more *false negatives*). \n",
        "\n",
        "Of course, we have to make sure to test these metrics out on a separate **test set**...in case we fitted out *hyperparameters* to our hold-out validation set."
      ]
    },
    {
      "cell_type": "code",
      "metadata": {
        "id": "4mw_xHZ_rA1J"
      },
      "source": [
        "# Results for Logistic Regression baseline\n",
        "# ---------------------------------------------\n",
        "# Accuracy: 0.9255547150781644\n",
        "# False Positives: 50\n",
        "# False Negatives: 2312\n",
        "# Precision: 0.9372647427854455\n",
        "# Recall: 0.2441974501471069\n",
        "# F1 score: 0.38744813278008294\n",
        "# Precision-Recall AUC: 0.5206538462365435\n",
        "# ROC AUC: 0.8375393568720257\n",
        "\n",
        "# Results for Feedforward DNN\n",
        "# ---------------------------------------------\n",
        "# Accuracy: 0.925964447806354\n",
        "# False Positives: 67\n",
        "# False Negatives: 2282\n",
        "# Precision: 0.9206161137440758\n",
        "# Recall: 0.2540045766590389\n",
        "# F1 score: 0.3981552651806303\n",
        "# Precision-Recall AUC: 0.5238432593700862\n",
        "# ROC AUC: 0.8397078268331497"
      ],
      "execution_count": null,
      "outputs": []
    },
    {
      "cell_type": "markdown",
      "metadata": {
        "id": "32zLYaEqBpO-"
      },
      "source": [
        "# Developing a Recurrent Neural Network using Word Embeddings\n",
        "***"
      ]
    },
    {
      "cell_type": "markdown",
      "metadata": {
        "id": "X56bcgC3Bz_p"
      },
      "source": [
        "Let's learn our own word-embeddings like before, but this time train an LSTM model.\n",
        "\n",
        "\n",
        "*Tips/articles for training RNNs*<br>\n",
        "- https://stackoverflow.com/questions/48714407/rnn-regularization-which-component-to-regularize\n",
        "- https://machinelearningmastery.com/how-to-reduce-overfitting-in-deep-learning-with-weight-regularization/\n",
        "- https://danijar.com/tips-for-training-recurrent-neural-networks/\n",
        "- https://machinelearningmastery.com/how-to-reduce-overfitting-with-dropout-regularization-in-keras/\n",
        "- https://towardsdatascience.com/multi-class-text-classification-with-lstm-1590bee1bd17"
      ]
    },
    {
      "cell_type": "code",
      "metadata": {
        "id": "_vuAZ3sNA4jX",
        "outputId": "31d7331d-d997-47eb-8933-9db447179dff",
        "colab": {
          "base_uri": "https://localhost:8080/",
          "height": 292
        }
      },
      "source": [
        "# Using the LSTM Layer in Keras\n",
        "from keras.layers import LSTM\n",
        "from keras.layers import Dropout\n",
        "\n",
        "model = Sequential()\n",
        "model.add(Embedding(10000, 32, input_length=maxlen))\n",
        "model.add(LSTM(16, kernel_regularizer=regularizers.l2(l2=1e-2), recurrent_regularizer=regularizers.l2(l2=1e-4), recurrent_dropout=0.2))\n",
        "# dropout=0.7, recurrent_dropout=0.7)\n",
        "model.add(Dense(1, activation='sigmoid'))\n",
        "model.summary()\n",
        "model.compile(optimizer='adam',\n",
        "              loss='binary_crossentropy',\n",
        "              metrics=['accuracy'])"
      ],
      "execution_count": null,
      "outputs": [
        {
          "output_type": "stream",
          "text": [
            "WARNING:tensorflow:Layer lstm_15 will not use cuDNN kernel since it doesn't meet the cuDNN kernel criteria. It will use generic GPU kernel as fallback when running on GPU\n",
            "Model: \"sequential_29\"\n",
            "_________________________________________________________________\n",
            "Layer (type)                 Output Shape              Param #   \n",
            "=================================================================\n",
            "embedding_27 (Embedding)     (None, 100, 32)           320000    \n",
            "_________________________________________________________________\n",
            "lstm_15 (LSTM)               (None, 16)                3136      \n",
            "_________________________________________________________________\n",
            "dense_32 (Dense)             (None, 1)                 17        \n",
            "=================================================================\n",
            "Total params: 323,153\n",
            "Trainable params: 323,153\n",
            "Non-trainable params: 0\n",
            "_________________________________________________________________\n"
          ],
          "name": "stdout"
        }
      ]
    },
    {
      "cell_type": "code",
      "metadata": {
        "id": "630ZP9isC1hA",
        "outputId": "f03d49d8-bd05-4cb8-eb92-203dc0672146",
        "colab": {
          "base_uri": "https://localhost:8080/",
          "height": 514
        }
      },
      "source": [
        "history_lstm = model.fit(x_train, \n",
        "                          train.toxic,\n",
        "                          epochs=10,\n",
        "                          batch_size=32,\n",
        "                          validation_data=(x_test, test.toxic))"
      ],
      "execution_count": null,
      "outputs": [
        {
          "output_type": "stream",
          "text": [
            "Epoch 1/10\n",
            "3966/3966 [==============================] - 646s 163ms/step - loss: 0.1809 - accuracy: 0.9460 - val_loss: 0.1294 - val_accuracy: 0.9607\n",
            "Epoch 2/10\n",
            "3966/3966 [==============================] - 651s 164ms/step - loss: 0.1085 - accuracy: 0.9648 - val_loss: 0.1155 - val_accuracy: 0.9636\n",
            "Epoch 3/10\n",
            "3966/3966 [==============================] - 650s 164ms/step - loss: 0.0981 - accuracy: 0.9675 - val_loss: 0.1176 - val_accuracy: 0.9629\n",
            "Epoch 4/10\n",
            "2363/3966 [================>.............] - ETA: 4:11 - loss: 0.0905 - accuracy: 0.9692"
          ],
          "name": "stdout"
        },
        {
          "output_type": "error",
          "ename": "KeyboardInterrupt",
          "evalue": "ignored",
          "traceback": [
            "\u001b[0;31m---------------------------------------------------------------------------\u001b[0m",
            "\u001b[0;31mKeyboardInterrupt\u001b[0m                         Traceback (most recent call last)",
            "\u001b[0;32m<ipython-input-177-37bb2e2bde35>\u001b[0m in \u001b[0;36m<module>\u001b[0;34m()\u001b[0m\n\u001b[1;32m      3\u001b[0m                           \u001b[0mepochs\u001b[0m\u001b[0;34m=\u001b[0m\u001b[0;36m10\u001b[0m\u001b[0;34m,\u001b[0m\u001b[0;34m\u001b[0m\u001b[0;34m\u001b[0m\u001b[0m\n\u001b[1;32m      4\u001b[0m                           \u001b[0mbatch_size\u001b[0m\u001b[0;34m=\u001b[0m\u001b[0;36m32\u001b[0m\u001b[0;34m,\u001b[0m\u001b[0;34m\u001b[0m\u001b[0;34m\u001b[0m\u001b[0m\n\u001b[0;32m----> 5\u001b[0;31m                           validation_data=(x_test, test.toxic))\n\u001b[0m",
            "\u001b[0;32m/usr/local/lib/python3.6/dist-packages/tensorflow/python/keras/engine/training.py\u001b[0m in \u001b[0;36m_method_wrapper\u001b[0;34m(self, *args, **kwargs)\u001b[0m\n\u001b[1;32m    106\u001b[0m   \u001b[0;32mdef\u001b[0m \u001b[0m_method_wrapper\u001b[0m\u001b[0;34m(\u001b[0m\u001b[0mself\u001b[0m\u001b[0;34m,\u001b[0m \u001b[0;34m*\u001b[0m\u001b[0margs\u001b[0m\u001b[0;34m,\u001b[0m \u001b[0;34m**\u001b[0m\u001b[0mkwargs\u001b[0m\u001b[0;34m)\u001b[0m\u001b[0;34m:\u001b[0m\u001b[0;34m\u001b[0m\u001b[0;34m\u001b[0m\u001b[0m\n\u001b[1;32m    107\u001b[0m     \u001b[0;32mif\u001b[0m \u001b[0;32mnot\u001b[0m \u001b[0mself\u001b[0m\u001b[0;34m.\u001b[0m\u001b[0m_in_multi_worker_mode\u001b[0m\u001b[0;34m(\u001b[0m\u001b[0;34m)\u001b[0m\u001b[0;34m:\u001b[0m  \u001b[0;31m# pylint: disable=protected-access\u001b[0m\u001b[0;34m\u001b[0m\u001b[0;34m\u001b[0m\u001b[0m\n\u001b[0;32m--> 108\u001b[0;31m       \u001b[0;32mreturn\u001b[0m \u001b[0mmethod\u001b[0m\u001b[0;34m(\u001b[0m\u001b[0mself\u001b[0m\u001b[0;34m,\u001b[0m \u001b[0;34m*\u001b[0m\u001b[0margs\u001b[0m\u001b[0;34m,\u001b[0m \u001b[0;34m**\u001b[0m\u001b[0mkwargs\u001b[0m\u001b[0;34m)\u001b[0m\u001b[0;34m\u001b[0m\u001b[0;34m\u001b[0m\u001b[0m\n\u001b[0m\u001b[1;32m    109\u001b[0m \u001b[0;34m\u001b[0m\u001b[0m\n\u001b[1;32m    110\u001b[0m     \u001b[0;31m# Running inside `run_distribute_coordinator` already.\u001b[0m\u001b[0;34m\u001b[0m\u001b[0;34m\u001b[0m\u001b[0;34m\u001b[0m\u001b[0m\n",
            "\u001b[0;32m/usr/local/lib/python3.6/dist-packages/tensorflow/python/keras/engine/training.py\u001b[0m in \u001b[0;36mfit\u001b[0;34m(self, x, y, batch_size, epochs, verbose, callbacks, validation_split, validation_data, shuffle, class_weight, sample_weight, initial_epoch, steps_per_epoch, validation_steps, validation_batch_size, validation_freq, max_queue_size, workers, use_multiprocessing)\u001b[0m\n\u001b[1;32m   1096\u001b[0m                 batch_size=batch_size):\n\u001b[1;32m   1097\u001b[0m               \u001b[0mcallbacks\u001b[0m\u001b[0;34m.\u001b[0m\u001b[0mon_train_batch_begin\u001b[0m\u001b[0;34m(\u001b[0m\u001b[0mstep\u001b[0m\u001b[0;34m)\u001b[0m\u001b[0;34m\u001b[0m\u001b[0;34m\u001b[0m\u001b[0m\n\u001b[0;32m-> 1098\u001b[0;31m               \u001b[0mtmp_logs\u001b[0m \u001b[0;34m=\u001b[0m \u001b[0mtrain_function\u001b[0m\u001b[0;34m(\u001b[0m\u001b[0miterator\u001b[0m\u001b[0;34m)\u001b[0m\u001b[0;34m\u001b[0m\u001b[0;34m\u001b[0m\u001b[0m\n\u001b[0m\u001b[1;32m   1099\u001b[0m               \u001b[0;32mif\u001b[0m \u001b[0mdata_handler\u001b[0m\u001b[0;34m.\u001b[0m\u001b[0mshould_sync\u001b[0m\u001b[0;34m:\u001b[0m\u001b[0;34m\u001b[0m\u001b[0;34m\u001b[0m\u001b[0m\n\u001b[1;32m   1100\u001b[0m                 \u001b[0mcontext\u001b[0m\u001b[0;34m.\u001b[0m\u001b[0masync_wait\u001b[0m\u001b[0;34m(\u001b[0m\u001b[0;34m)\u001b[0m\u001b[0;34m\u001b[0m\u001b[0;34m\u001b[0m\u001b[0m\n",
            "\u001b[0;32m/usr/local/lib/python3.6/dist-packages/tensorflow/python/eager/def_function.py\u001b[0m in \u001b[0;36m__call__\u001b[0;34m(self, *args, **kwds)\u001b[0m\n\u001b[1;32m    778\u001b[0m       \u001b[0;32melse\u001b[0m\u001b[0;34m:\u001b[0m\u001b[0;34m\u001b[0m\u001b[0;34m\u001b[0m\u001b[0m\n\u001b[1;32m    779\u001b[0m         \u001b[0mcompiler\u001b[0m \u001b[0;34m=\u001b[0m \u001b[0;34m\"nonXla\"\u001b[0m\u001b[0;34m\u001b[0m\u001b[0;34m\u001b[0m\u001b[0m\n\u001b[0;32m--> 780\u001b[0;31m         \u001b[0mresult\u001b[0m \u001b[0;34m=\u001b[0m \u001b[0mself\u001b[0m\u001b[0;34m.\u001b[0m\u001b[0m_call\u001b[0m\u001b[0;34m(\u001b[0m\u001b[0;34m*\u001b[0m\u001b[0margs\u001b[0m\u001b[0;34m,\u001b[0m \u001b[0;34m**\u001b[0m\u001b[0mkwds\u001b[0m\u001b[0;34m)\u001b[0m\u001b[0;34m\u001b[0m\u001b[0;34m\u001b[0m\u001b[0m\n\u001b[0m\u001b[1;32m    781\u001b[0m \u001b[0;34m\u001b[0m\u001b[0m\n\u001b[1;32m    782\u001b[0m       \u001b[0mnew_tracing_count\u001b[0m \u001b[0;34m=\u001b[0m \u001b[0mself\u001b[0m\u001b[0;34m.\u001b[0m\u001b[0m_get_tracing_count\u001b[0m\u001b[0;34m(\u001b[0m\u001b[0;34m)\u001b[0m\u001b[0;34m\u001b[0m\u001b[0;34m\u001b[0m\u001b[0m\n",
            "\u001b[0;32m/usr/local/lib/python3.6/dist-packages/tensorflow/python/eager/def_function.py\u001b[0m in \u001b[0;36m_call\u001b[0;34m(self, *args, **kwds)\u001b[0m\n\u001b[1;32m    805\u001b[0m       \u001b[0;31m# In this case we have created variables on the first call, so we run the\u001b[0m\u001b[0;34m\u001b[0m\u001b[0;34m\u001b[0m\u001b[0;34m\u001b[0m\u001b[0m\n\u001b[1;32m    806\u001b[0m       \u001b[0;31m# defunned version which is guaranteed to never create variables.\u001b[0m\u001b[0;34m\u001b[0m\u001b[0;34m\u001b[0m\u001b[0;34m\u001b[0m\u001b[0m\n\u001b[0;32m--> 807\u001b[0;31m       \u001b[0;32mreturn\u001b[0m \u001b[0mself\u001b[0m\u001b[0;34m.\u001b[0m\u001b[0m_stateless_fn\u001b[0m\u001b[0;34m(\u001b[0m\u001b[0;34m*\u001b[0m\u001b[0margs\u001b[0m\u001b[0;34m,\u001b[0m \u001b[0;34m**\u001b[0m\u001b[0mkwds\u001b[0m\u001b[0;34m)\u001b[0m  \u001b[0;31m# pylint: disable=not-callable\u001b[0m\u001b[0;34m\u001b[0m\u001b[0;34m\u001b[0m\u001b[0m\n\u001b[0m\u001b[1;32m    808\u001b[0m     \u001b[0;32melif\u001b[0m \u001b[0mself\u001b[0m\u001b[0;34m.\u001b[0m\u001b[0m_stateful_fn\u001b[0m \u001b[0;32mis\u001b[0m \u001b[0;32mnot\u001b[0m \u001b[0;32mNone\u001b[0m\u001b[0;34m:\u001b[0m\u001b[0;34m\u001b[0m\u001b[0;34m\u001b[0m\u001b[0m\n\u001b[1;32m    809\u001b[0m       \u001b[0;31m# Release the lock early so that multiple threads can perform the call\u001b[0m\u001b[0;34m\u001b[0m\u001b[0;34m\u001b[0m\u001b[0;34m\u001b[0m\u001b[0m\n",
            "\u001b[0;32m/usr/local/lib/python3.6/dist-packages/tensorflow/python/eager/function.py\u001b[0m in \u001b[0;36m__call__\u001b[0;34m(self, *args, **kwargs)\u001b[0m\n\u001b[1;32m   2827\u001b[0m     \u001b[0;32mwith\u001b[0m \u001b[0mself\u001b[0m\u001b[0;34m.\u001b[0m\u001b[0m_lock\u001b[0m\u001b[0;34m:\u001b[0m\u001b[0;34m\u001b[0m\u001b[0;34m\u001b[0m\u001b[0m\n\u001b[1;32m   2828\u001b[0m       \u001b[0mgraph_function\u001b[0m\u001b[0;34m,\u001b[0m \u001b[0margs\u001b[0m\u001b[0;34m,\u001b[0m \u001b[0mkwargs\u001b[0m \u001b[0;34m=\u001b[0m \u001b[0mself\u001b[0m\u001b[0;34m.\u001b[0m\u001b[0m_maybe_define_function\u001b[0m\u001b[0;34m(\u001b[0m\u001b[0margs\u001b[0m\u001b[0;34m,\u001b[0m \u001b[0mkwargs\u001b[0m\u001b[0;34m)\u001b[0m\u001b[0;34m\u001b[0m\u001b[0;34m\u001b[0m\u001b[0m\n\u001b[0;32m-> 2829\u001b[0;31m     \u001b[0;32mreturn\u001b[0m \u001b[0mgraph_function\u001b[0m\u001b[0;34m.\u001b[0m\u001b[0m_filtered_call\u001b[0m\u001b[0;34m(\u001b[0m\u001b[0margs\u001b[0m\u001b[0;34m,\u001b[0m \u001b[0mkwargs\u001b[0m\u001b[0;34m)\u001b[0m  \u001b[0;31m# pylint: disable=protected-access\u001b[0m\u001b[0;34m\u001b[0m\u001b[0;34m\u001b[0m\u001b[0m\n\u001b[0m\u001b[1;32m   2830\u001b[0m \u001b[0;34m\u001b[0m\u001b[0m\n\u001b[1;32m   2831\u001b[0m   \u001b[0;34m@\u001b[0m\u001b[0mproperty\u001b[0m\u001b[0;34m\u001b[0m\u001b[0;34m\u001b[0m\u001b[0m\n",
            "\u001b[0;32m/usr/local/lib/python3.6/dist-packages/tensorflow/python/eager/function.py\u001b[0m in \u001b[0;36m_filtered_call\u001b[0;34m(self, args, kwargs, cancellation_manager)\u001b[0m\n\u001b[1;32m   1846\u001b[0m                            resource_variable_ops.BaseResourceVariable))],\n\u001b[1;32m   1847\u001b[0m         \u001b[0mcaptured_inputs\u001b[0m\u001b[0;34m=\u001b[0m\u001b[0mself\u001b[0m\u001b[0;34m.\u001b[0m\u001b[0mcaptured_inputs\u001b[0m\u001b[0;34m,\u001b[0m\u001b[0;34m\u001b[0m\u001b[0;34m\u001b[0m\u001b[0m\n\u001b[0;32m-> 1848\u001b[0;31m         cancellation_manager=cancellation_manager)\n\u001b[0m\u001b[1;32m   1849\u001b[0m \u001b[0;34m\u001b[0m\u001b[0m\n\u001b[1;32m   1850\u001b[0m   \u001b[0;32mdef\u001b[0m \u001b[0m_call_flat\u001b[0m\u001b[0;34m(\u001b[0m\u001b[0mself\u001b[0m\u001b[0;34m,\u001b[0m \u001b[0margs\u001b[0m\u001b[0;34m,\u001b[0m \u001b[0mcaptured_inputs\u001b[0m\u001b[0;34m,\u001b[0m \u001b[0mcancellation_manager\u001b[0m\u001b[0;34m=\u001b[0m\u001b[0;32mNone\u001b[0m\u001b[0;34m)\u001b[0m\u001b[0;34m:\u001b[0m\u001b[0;34m\u001b[0m\u001b[0;34m\u001b[0m\u001b[0m\n",
            "\u001b[0;32m/usr/local/lib/python3.6/dist-packages/tensorflow/python/eager/function.py\u001b[0m in \u001b[0;36m_call_flat\u001b[0;34m(self, args, captured_inputs, cancellation_manager)\u001b[0m\n\u001b[1;32m   1922\u001b[0m       \u001b[0;31m# No tape is watching; skip to running the function.\u001b[0m\u001b[0;34m\u001b[0m\u001b[0;34m\u001b[0m\u001b[0;34m\u001b[0m\u001b[0m\n\u001b[1;32m   1923\u001b[0m       return self._build_call_outputs(self._inference_function.call(\n\u001b[0;32m-> 1924\u001b[0;31m           ctx, args, cancellation_manager=cancellation_manager))\n\u001b[0m\u001b[1;32m   1925\u001b[0m     forward_backward = self._select_forward_and_backward_functions(\n\u001b[1;32m   1926\u001b[0m         \u001b[0margs\u001b[0m\u001b[0;34m,\u001b[0m\u001b[0;34m\u001b[0m\u001b[0;34m\u001b[0m\u001b[0m\n",
            "\u001b[0;32m/usr/local/lib/python3.6/dist-packages/tensorflow/python/eager/function.py\u001b[0m in \u001b[0;36mcall\u001b[0;34m(self, ctx, args, cancellation_manager)\u001b[0m\n\u001b[1;32m    548\u001b[0m               \u001b[0minputs\u001b[0m\u001b[0;34m=\u001b[0m\u001b[0margs\u001b[0m\u001b[0;34m,\u001b[0m\u001b[0;34m\u001b[0m\u001b[0;34m\u001b[0m\u001b[0m\n\u001b[1;32m    549\u001b[0m               \u001b[0mattrs\u001b[0m\u001b[0;34m=\u001b[0m\u001b[0mattrs\u001b[0m\u001b[0;34m,\u001b[0m\u001b[0;34m\u001b[0m\u001b[0;34m\u001b[0m\u001b[0m\n\u001b[0;32m--> 550\u001b[0;31m               ctx=ctx)\n\u001b[0m\u001b[1;32m    551\u001b[0m         \u001b[0;32melse\u001b[0m\u001b[0;34m:\u001b[0m\u001b[0;34m\u001b[0m\u001b[0;34m\u001b[0m\u001b[0m\n\u001b[1;32m    552\u001b[0m           outputs = execute.execute_with_cancellation(\n",
            "\u001b[0;32m/usr/local/lib/python3.6/dist-packages/tensorflow/python/eager/execute.py\u001b[0m in \u001b[0;36mquick_execute\u001b[0;34m(op_name, num_outputs, inputs, attrs, ctx, name)\u001b[0m\n\u001b[1;32m     58\u001b[0m     \u001b[0mctx\u001b[0m\u001b[0;34m.\u001b[0m\u001b[0mensure_initialized\u001b[0m\u001b[0;34m(\u001b[0m\u001b[0;34m)\u001b[0m\u001b[0;34m\u001b[0m\u001b[0;34m\u001b[0m\u001b[0m\n\u001b[1;32m     59\u001b[0m     tensors = pywrap_tfe.TFE_Py_Execute(ctx._handle, device_name, op_name,\n\u001b[0;32m---> 60\u001b[0;31m                                         inputs, attrs, num_outputs)\n\u001b[0m\u001b[1;32m     61\u001b[0m   \u001b[0;32mexcept\u001b[0m \u001b[0mcore\u001b[0m\u001b[0;34m.\u001b[0m\u001b[0m_NotOkStatusException\u001b[0m \u001b[0;32mas\u001b[0m \u001b[0me\u001b[0m\u001b[0;34m:\u001b[0m\u001b[0;34m\u001b[0m\u001b[0;34m\u001b[0m\u001b[0m\n\u001b[1;32m     62\u001b[0m     \u001b[0;32mif\u001b[0m \u001b[0mname\u001b[0m \u001b[0;32mis\u001b[0m \u001b[0;32mnot\u001b[0m \u001b[0;32mNone\u001b[0m\u001b[0;34m:\u001b[0m\u001b[0;34m\u001b[0m\u001b[0;34m\u001b[0m\u001b[0m\n",
            "\u001b[0;31mKeyboardInterrupt\u001b[0m: "
          ]
        }
      ]
    },
    {
      "cell_type": "markdown",
      "metadata": {
        "id": "JzAR0jiBw5TX"
      },
      "source": [
        "**Overfitting.** Let's try to combat this:<br>\n",
        "- **Input Weight Regularization:** We can apply *kernel_regularizer*=1e-3. This is applying regularization to input connections on each LSTM unit.\n",
        "\n",
        "- **Recurrent Weight Regularization:** We can also apply regularization to recurrent connections on each LSTM unit .e.g. *recurrent_regularizer*=1e-4. Remember this means \n",
        "$10^{-4}$.\n",
        "\n",
        "    Check weight shapes - if one is much smaller than the other, apply smaller decay to former\n",
        "\n",
        "- **Dropout** and **Recurrent Dropout**"
      ]
    },
    {
      "cell_type": "code",
      "metadata": {
        "id": "rhOG-tJ7CswP",
        "outputId": "91063119-c34c-4636-b72e-728222d3e753",
        "colab": {
          "base_uri": "https://localhost:8080/",
          "height": 301
        }
      },
      "source": [
        "plot_loss(history_lstm)"
      ],
      "execution_count": null,
      "outputs": [
        {
          "output_type": "display_data",
          "data": {
            "image/png": "[encoded data removed]",
            "text/plain": [
              "<Figure size 432x288 with 1 Axes>"
            ]
          },
          "metadata": {
            "tags": []
          }
        }
      ]
    },
    {
      "cell_type": "code",
      "metadata": {
        "id": "w88g93FPyfbG",
        "outputId": "9218bf55-6cb1-4bdf-fcf3-c7f9c49406a6",
        "colab": {
          "base_uri": "https://localhost:8080/",
          "height": 301
        }
      },
      "source": [
        "plot_accuracy(history_lstm)"
      ],
      "execution_count": null,
      "outputs": [
        {
          "output_type": "display_data",
          "data": {
            "image/png": "[encoded data removed]",
            "text/plain": [
              "<Figure size 432x288 with 1 Axes>"
            ]
          },
          "metadata": {
            "tags": []
          }
        }
      ]
    },
    {
      "cell_type": "code",
      "metadata": {
        "id": "NYS3K-ybE2gw",
        "outputId": "35a5be9e-b9ae-476b-b4ee-105d44688462",
        "colab": {
          "base_uri": "https://localhost:8080/",
          "height": 153
        }
      },
      "source": [
        "y_test_probs = model.predict_proba(x_test)\n",
        "binary_classification_metrics(test.toxic, y_test_probs, 0.5)"
      ],
      "execution_count": null,
      "outputs": [
        {
          "output_type": "stream",
          "text": [
            "Accuracy: 0.955023953605648\n",
            "False Positives: 616\n",
            "False Negatives: 811\n",
            "Precision: 0.7849162011173184\n",
            "Recall: 0.7348806799607714\n",
            "F1 score: 0.7590747931791322\n",
            "Precision-Recall AUC: 0.8279016545348639\n",
            "ROC AUC: 0.9497860971829258\n"
          ],
          "name": "stdout"
        }
      ]
    },
    {
      "cell_type": "code",
      "metadata": {
        "id": "eBz5Z5SuF9kl"
      },
      "source": [
        ""
      ],
      "execution_count": null,
      "outputs": []
    },
    {
      "cell_type": "markdown",
      "metadata": {
        "id": "SR2nxn5j7y4P"
      },
      "source": [
        "Assuming our metrics on the test set are similar to those on the validation set, "
      ]
    },
    {
      "cell_type": "markdown",
      "metadata": {
        "id": "84cDpHyF0Sm8"
      },
      "source": [
        "# Multiclass Multilabel Classification\n",
        "***"
      ]
    },
    {
      "cell_type": "markdown",
      "metadata": {
        "id": "YgpTOE0gFhcb"
      },
      "source": [
        "### Define the problem and get data"
      ]
    },
    {
      "cell_type": "markdown",
      "metadata": {
        "id": "Vpykez441Wat"
      },
      "source": [
        "Now let's go back to our original problem of classifying text comments into multiple levels of toxicity. Note that these classes are not mutually exclusive (a comment can be \"toxic\" and \"identity_hate\"), thus this is a **multiclass multilabel classification** problem.\n",
        "\n",
        "We will approach this problem in a similar way as we did for the binary classification problem.\n",
        "First we will build a baseline *logistic regression* model with **TF-IDF vectors** as features. Since this is a multiclass problem, we will use **one-vs-all logistic regression**.\n",
        "\n",
        "Then we will build a **multi-output recurrent neural network** (LSTM). In this case, our final layer will have K output nodes for each one of our K classes. Because this is a multiclass, multilabel classification problem, we will use *binary_crossentropy* as our loss function. The activation function will be *softmax* for multi-class classification.\n",
        "\n",
        "Our **metric** for the *multilabel classification problem* \n",
        "will be **Exact Match Ratio** (Subset accuracy):\n",
        "\n",
        "It is the most strict metric, indicating the percentage of samples that have all their labels classified correctly. There is a function in scikit-learn which implements subset accuracy, called as **accuracy_score**.\n",
        "\n",
        "*Read:*\n",
        "- https://towardsdatascience.com/multi-class-text-classification-with-lstm-1590bee1bd17\n",
        "- https://towardsdatascience.com/journey-to-the-center-of-multi-label-classification-384c40229bff"
      ]
    },
    {
      "cell_type": "code",
      "metadata": {
        "id": "1OYzfIRehbQt"
      },
      "source": [
        "path_to_data = \"/content/drive/My Drive/machine learning/notebooks/data/jigsaw-toxic-comment-classification-challenge/\""
      ],
      "execution_count": 80,
      "outputs": []
    },
    {
      "cell_type": "code",
      "metadata": {
        "id": "Z-k8E29N0byl",
        "outputId": "f1448437-7cb8-4f66-a4ba-50e869c6816b",
        "colab": {
          "base_uri": "https://localhost:8080/",
          "height": 204
        }
      },
      "source": [
        "train_df = pd.read_csv(path_to_data + \"train.csv\")\n",
        "train_df.head()"
      ],
      "execution_count": 81,
      "outputs": [
        {
          "output_type": "execute_result",
          "data": {
            "text/html": [
              "<div>\n",
              "<style scoped>\n",
              "    .dataframe tbody tr th:only-of-type {\n",
              "        vertical-align: middle;\n",
              "    }\n",
              "\n",
              "    .dataframe tbody tr th {\n",
              "        vertical-align: top;\n",
              "    }\n",
              "\n",
              "    .dataframe thead th {\n",
              "        text-align: right;\n",
              "    }\n",
              "</style>\n",
              "<table border=\"1\" class=\"dataframe\">\n",
              "  <thead>\n",
              "    <tr style=\"text-align: right;\">\n",
              "      <th></th>\n",
              "      <th>id</th>\n",
              "      <th>comment_text</th>\n",
              "      <th>toxic</th>\n",
              "      <th>severe_toxic</th>\n",
              "      <th>obscene</th>\n",
              "      <th>threat</th>\n",
              "      <th>insult</th>\n",
              "      <th>identity_hate</th>\n",
              "    </tr>\n",
              "  </thead>\n",
              "  <tbody>\n",
              "    <tr>\n",
              "      <th>0</th>\n",
              "      <td>0000997932d777bf</td>\n",
              "      <td>Explanation\\nWhy the edits made under my usern...</td>\n",
              "      <td>0</td>\n",
              "      <td>0</td>\n",
              "      <td>0</td>\n",
              "      <td>0</td>\n",
              "      <td>0</td>\n",
              "      <td>0</td>\n",
              "    </tr>\n",
              "    <tr>\n",
              "      <th>1</th>\n",
              "      <td>000103f0d9cfb60f</td>\n",
              "      <td>D'aww! He matches this background colour I'm s...</td>\n",
              "      <td>0</td>\n",
              "      <td>0</td>\n",
              "      <td>0</td>\n",
              "      <td>0</td>\n",
              "      <td>0</td>\n",
              "      <td>0</td>\n",
              "    </tr>\n",
              "    <tr>\n",
              "      <th>2</th>\n",
              "      <td>000113f07ec002fd</td>\n",
              "      <td>Hey man, I'm really not trying to edit war. It...</td>\n",
              "      <td>0</td>\n",
              "      <td>0</td>\n",
              "      <td>0</td>\n",
              "      <td>0</td>\n",
              "      <td>0</td>\n",
              "      <td>0</td>\n",
              "    </tr>\n",
              "    <tr>\n",
              "      <th>3</th>\n",
              "      <td>0001b41b1c6bb37e</td>\n",
              "      <td>\"\\nMore\\nI can't make any real suggestions on ...</td>\n",
              "      <td>0</td>\n",
              "      <td>0</td>\n",
              "      <td>0</td>\n",
              "      <td>0</td>\n",
              "      <td>0</td>\n",
              "      <td>0</td>\n",
              "    </tr>\n",
              "    <tr>\n",
              "      <th>4</th>\n",
              "      <td>0001d958c54c6e35</td>\n",
              "      <td>You, sir, are my hero. Any chance you remember...</td>\n",
              "      <td>0</td>\n",
              "      <td>0</td>\n",
              "      <td>0</td>\n",
              "      <td>0</td>\n",
              "      <td>0</td>\n",
              "      <td>0</td>\n",
              "    </tr>\n",
              "  </tbody>\n",
              "</table>\n",
              "</div>"
            ],
            "text/plain": [
              "                 id  ... identity_hate\n",
              "0  0000997932d777bf  ...             0\n",
              "1  000103f0d9cfb60f  ...             0\n",
              "2  000113f07ec002fd  ...             0\n",
              "3  0001b41b1c6bb37e  ...             0\n",
              "4  0001d958c54c6e35  ...             0\n",
              "\n",
              "[5 rows x 8 columns]"
            ]
          },
          "metadata": {
            "tags": []
          },
          "execution_count": 81
        }
      ]
    },
    {
      "cell_type": "code",
      "metadata": {
        "id": "Zky9NYcYsuqM",
        "outputId": "4185f7c1-1a05-4398-e88c-c478abde98e0",
        "colab": {
          "base_uri": "https://localhost:8080/",
          "height": 204
        }
      },
      "source": [
        "test_df = pd.read_csv(path_to_data + \"test.csv\")\n",
        "test_df.head()"
      ],
      "execution_count": 82,
      "outputs": [
        {
          "output_type": "execute_result",
          "data": {
            "text/html": [
              "<div>\n",
              "<style scoped>\n",
              "    .dataframe tbody tr th:only-of-type {\n",
              "        vertical-align: middle;\n",
              "    }\n",
              "\n",
              "    .dataframe tbody tr th {\n",
              "        vertical-align: top;\n",
              "    }\n",
              "\n",
              "    .dataframe thead th {\n",
              "        text-align: right;\n",
              "    }\n",
              "</style>\n",
              "<table border=\"1\" class=\"dataframe\">\n",
              "  <thead>\n",
              "    <tr style=\"text-align: right;\">\n",
              "      <th></th>\n",
              "      <th>id</th>\n",
              "      <th>comment_text</th>\n",
              "    </tr>\n",
              "  </thead>\n",
              "  <tbody>\n",
              "    <tr>\n",
              "      <th>0</th>\n",
              "      <td>00001cee341fdb12</td>\n",
              "      <td>Yo bitch Ja Rule is more succesful then you'll...</td>\n",
              "    </tr>\n",
              "    <tr>\n",
              "      <th>1</th>\n",
              "      <td>0000247867823ef7</td>\n",
              "      <td>== From RfC == \\n\\n The title is fine as it is...</td>\n",
              "    </tr>\n",
              "    <tr>\n",
              "      <th>2</th>\n",
              "      <td>00013b17ad220c46</td>\n",
              "      <td>\" \\n\\n == Sources == \\n\\n * Zawe Ashton on Lap...</td>\n",
              "    </tr>\n",
              "    <tr>\n",
              "      <th>3</th>\n",
              "      <td>00017563c3f7919a</td>\n",
              "      <td>:If you have a look back at the source, the in...</td>\n",
              "    </tr>\n",
              "    <tr>\n",
              "      <th>4</th>\n",
              "      <td>00017695ad8997eb</td>\n",
              "      <td>I don't anonymously edit articles at all.</td>\n",
              "    </tr>\n",
              "  </tbody>\n",
              "</table>\n",
              "</div>"
            ],
            "text/plain": [
              "                 id                                       comment_text\n",
              "0  00001cee341fdb12  Yo bitch Ja Rule is more succesful then you'll...\n",
              "1  0000247867823ef7  == From RfC == \\n\\n The title is fine as it is...\n",
              "2  00013b17ad220c46  \" \\n\\n == Sources == \\n\\n * Zawe Ashton on Lap...\n",
              "3  00017563c3f7919a  :If you have a look back at the source, the in...\n",
              "4  00017695ad8997eb          I don't anonymously edit articles at all."
            ]
          },
          "metadata": {
            "tags": []
          },
          "execution_count": 82
        }
      ]
    },
    {
      "cell_type": "code",
      "metadata": {
        "id": "Cxv2g3Gqs-Td"
      },
      "source": [
        "# -1 indicates not used for scoring\n",
        "# test_labels = pd.read_csv(path_to_data + \"test_labels.csv\")\n",
        "# test_labels.tail()"
      ],
      "execution_count": 83,
      "outputs": []
    },
    {
      "cell_type": "code",
      "metadata": {
        "id": "rfoxakICp3uO",
        "outputId": "78415fb0-cb1a-4ac2-af8a-19d42f84e737",
        "colab": {
          "base_uri": "https://localhost:8080/",
          "height": 170
        }
      },
      "source": [
        "# check for any nulls\n",
        "train_df.isnull().any()"
      ],
      "execution_count": 84,
      "outputs": [
        {
          "output_type": "execute_result",
          "data": {
            "text/plain": [
              "id               False\n",
              "comment_text     False\n",
              "toxic            False\n",
              "severe_toxic     False\n",
              "obscene          False\n",
              "threat           False\n",
              "insult           False\n",
              "identity_hate    False\n",
              "dtype: bool"
            ]
          },
          "metadata": {
            "tags": []
          },
          "execution_count": 84
        }
      ]
    },
    {
      "cell_type": "code",
      "metadata": {
        "id": "hnDYvv3IEm9N",
        "outputId": "344fa4ce-9794-4d35-e955-56bea9db7442",
        "colab": {
          "base_uri": "https://localhost:8080/",
          "height": 68
        }
      },
      "source": [
        "test_df.isnull().any()"
      ],
      "execution_count": 85,
      "outputs": [
        {
          "output_type": "execute_result",
          "data": {
            "text/plain": [
              "id              False\n",
              "comment_text    False\n",
              "dtype: bool"
            ]
          },
          "metadata": {
            "tags": []
          },
          "execution_count": 85
        }
      ]
    },
    {
      "cell_type": "markdown",
      "metadata": {
        "id": "Agcb8Fr8weNw"
      },
      "source": [
        "Make new \"good\" label which we'll just use for visualization purposes."
      ]
    },
    {
      "cell_type": "code",
      "metadata": {
        "id": "sGUc0PRe_npr"
      },
      "source": [
        "labels = ['toxic', 'severe_toxic', 'obscene', 'threat', 'insult', 'identity_hate']\n",
        "\n",
        "train_df['good'] = train_df[labels].eq(0).all(1).astype(int)"
      ],
      "execution_count": 86,
      "outputs": []
    },
    {
      "cell_type": "code",
      "metadata": {
        "id": "g6jcpkAk_9WD",
        "outputId": "49959da0-09f3-49be-9aff-e5d20f340ed2",
        "colab": {
          "base_uri": "https://localhost:8080/",
          "height": 589
        }
      },
      "source": [
        "train_df"
      ],
      "execution_count": 24,
      "outputs": [
        {
          "output_type": "execute_result",
          "data": {
            "text/html": [
              "<div>\n",
              "<style scoped>\n",
              "    .dataframe tbody tr th:only-of-type {\n",
              "        vertical-align: middle;\n",
              "    }\n",
              "\n",
              "    .dataframe tbody tr th {\n",
              "        vertical-align: top;\n",
              "    }\n",
              "\n",
              "    .dataframe thead th {\n",
              "        text-align: right;\n",
              "    }\n",
              "</style>\n",
              "<table border=\"1\" class=\"dataframe\">\n",
              "  <thead>\n",
              "    <tr style=\"text-align: right;\">\n",
              "      <th></th>\n",
              "      <th>id</th>\n",
              "      <th>comment_text</th>\n",
              "      <th>toxic</th>\n",
              "      <th>severe_toxic</th>\n",
              "      <th>obscene</th>\n",
              "      <th>threat</th>\n",
              "      <th>insult</th>\n",
              "      <th>identity_hate</th>\n",
              "      <th>good</th>\n",
              "    </tr>\n",
              "  </thead>\n",
              "  <tbody>\n",
              "    <tr>\n",
              "      <th>0</th>\n",
              "      <td>0000997932d777bf</td>\n",
              "      <td>Explanation\\nWhy the edits made under my usern...</td>\n",
              "      <td>0</td>\n",
              "      <td>0</td>\n",
              "      <td>0</td>\n",
              "      <td>0</td>\n",
              "      <td>0</td>\n",
              "      <td>0</td>\n",
              "      <td>1</td>\n",
              "    </tr>\n",
              "    <tr>\n",
              "      <th>1</th>\n",
              "      <td>000103f0d9cfb60f</td>\n",
              "      <td>D'aww! He matches this background colour I'm s...</td>\n",
              "      <td>0</td>\n",
              "      <td>0</td>\n",
              "      <td>0</td>\n",
              "      <td>0</td>\n",
              "      <td>0</td>\n",
              "      <td>0</td>\n",
              "      <td>1</td>\n",
              "    </tr>\n",
              "    <tr>\n",
              "      <th>2</th>\n",
              "      <td>000113f07ec002fd</td>\n",
              "      <td>Hey man, I'm really not trying to edit war. It...</td>\n",
              "      <td>0</td>\n",
              "      <td>0</td>\n",
              "      <td>0</td>\n",
              "      <td>0</td>\n",
              "      <td>0</td>\n",
              "      <td>0</td>\n",
              "      <td>1</td>\n",
              "    </tr>\n",
              "    <tr>\n",
              "      <th>3</th>\n",
              "      <td>0001b41b1c6bb37e</td>\n",
              "      <td>\"\\nMore\\nI can't make any real suggestions on ...</td>\n",
              "      <td>0</td>\n",
              "      <td>0</td>\n",
              "      <td>0</td>\n",
              "      <td>0</td>\n",
              "      <td>0</td>\n",
              "      <td>0</td>\n",
              "      <td>1</td>\n",
              "    </tr>\n",
              "    <tr>\n",
              "      <th>4</th>\n",
              "      <td>0001d958c54c6e35</td>\n",
              "      <td>You, sir, are my hero. Any chance you remember...</td>\n",
              "      <td>0</td>\n",
              "      <td>0</td>\n",
              "      <td>0</td>\n",
              "      <td>0</td>\n",
              "      <td>0</td>\n",
              "      <td>0</td>\n",
              "      <td>1</td>\n",
              "    </tr>\n",
              "    <tr>\n",
              "      <th>...</th>\n",
              "      <td>...</td>\n",
              "      <td>...</td>\n",
              "      <td>...</td>\n",
              "      <td>...</td>\n",
              "      <td>...</td>\n",
              "      <td>...</td>\n",
              "      <td>...</td>\n",
              "      <td>...</td>\n",
              "      <td>...</td>\n",
              "    </tr>\n",
              "    <tr>\n",
              "      <th>159566</th>\n",
              "      <td>ffe987279560d7ff</td>\n",
              "      <td>\":::::And for the second time of asking, when ...</td>\n",
              "      <td>0</td>\n",
              "      <td>0</td>\n",
              "      <td>0</td>\n",
              "      <td>0</td>\n",
              "      <td>0</td>\n",
              "      <td>0</td>\n",
              "      <td>1</td>\n",
              "    </tr>\n",
              "    <tr>\n",
              "      <th>159567</th>\n",
              "      <td>ffea4adeee384e90</td>\n",
              "      <td>You should be ashamed of yourself \\n\\nThat is ...</td>\n",
              "      <td>0</td>\n",
              "      <td>0</td>\n",
              "      <td>0</td>\n",
              "      <td>0</td>\n",
              "      <td>0</td>\n",
              "      <td>0</td>\n",
              "      <td>1</td>\n",
              "    </tr>\n",
              "    <tr>\n",
              "      <th>159568</th>\n",
              "      <td>ffee36eab5c267c9</td>\n",
              "      <td>Spitzer \\n\\nUmm, theres no actual article for ...</td>\n",
              "      <td>0</td>\n",
              "      <td>0</td>\n",
              "      <td>0</td>\n",
              "      <td>0</td>\n",
              "      <td>0</td>\n",
              "      <td>0</td>\n",
              "      <td>1</td>\n",
              "    </tr>\n",
              "    <tr>\n",
              "      <th>159569</th>\n",
              "      <td>fff125370e4aaaf3</td>\n",
              "      <td>And it looks like it was actually you who put ...</td>\n",
              "      <td>0</td>\n",
              "      <td>0</td>\n",
              "      <td>0</td>\n",
              "      <td>0</td>\n",
              "      <td>0</td>\n",
              "      <td>0</td>\n",
              "      <td>1</td>\n",
              "    </tr>\n",
              "    <tr>\n",
              "      <th>159570</th>\n",
              "      <td>fff46fc426af1f9a</td>\n",
              "      <td>\"\\nAnd ... I really don't think you understand...</td>\n",
              "      <td>0</td>\n",
              "      <td>0</td>\n",
              "      <td>0</td>\n",
              "      <td>0</td>\n",
              "      <td>0</td>\n",
              "      <td>0</td>\n",
              "      <td>1</td>\n",
              "    </tr>\n",
              "  </tbody>\n",
              "</table>\n",
              "<p>159571 rows × 9 columns</p>\n",
              "</div>"
            ],
            "text/plain": [
              "                      id  ... good\n",
              "0       0000997932d777bf  ...    1\n",
              "1       000103f0d9cfb60f  ...    1\n",
              "2       000113f07ec002fd  ...    1\n",
              "3       0001b41b1c6bb37e  ...    1\n",
              "4       0001d958c54c6e35  ...    1\n",
              "...                  ...  ...  ...\n",
              "159566  ffe987279560d7ff  ...    1\n",
              "159567  ffea4adeee384e90  ...    1\n",
              "159568  ffee36eab5c267c9  ...    1\n",
              "159569  fff125370e4aaaf3  ...    1\n",
              "159570  fff46fc426af1f9a  ...    1\n",
              "\n",
              "[159571 rows x 9 columns]"
            ]
          },
          "metadata": {
            "tags": []
          },
          "execution_count": 24
        }
      ]
    },
    {
      "cell_type": "markdown",
      "metadata": {
        "id": "csKf3nZzCdFW"
      },
      "source": [
        "Print value counts for each class"
      ]
    },
    {
      "cell_type": "code",
      "metadata": {
        "id": "-xMEEbMzx7wh",
        "outputId": "d21b031a-f6d4-4d3e-f197-c6f0b3c56d9c",
        "colab": {
          "base_uri": "https://localhost:8080/",
          "height": 578
        }
      },
      "source": [
        "print(train_df.toxic.value_counts())\n",
        "print('\\n')\n",
        "print(train_df.severe_toxic.value_counts())\n",
        "print('\\n')\n",
        "print(train_df.obscene.value_counts())\n",
        "print('\\n')\n",
        "print(train_df.threat.value_counts())\n",
        "print('\\n')\n",
        "print(train_df.insult.value_counts())\n",
        "print('\\n')\n",
        "print(train_df.identity_hate.value_counts())\n",
        "print('\\n')\n",
        "print(train_df.good.value_counts())"
      ],
      "execution_count": 75,
      "outputs": [
        {
          "output_type": "stream",
          "text": [
            "0    144277\n",
            "1     15294\n",
            "Name: toxic, dtype: int64\n",
            "\n",
            "\n",
            "0    157976\n",
            "1      1595\n",
            "Name: severe_toxic, dtype: int64\n",
            "\n",
            "\n",
            "0    151122\n",
            "1      8449\n",
            "Name: obscene, dtype: int64\n",
            "\n",
            "\n",
            "0    159093\n",
            "1       478\n",
            "Name: threat, dtype: int64\n",
            "\n",
            "\n",
            "0    151694\n",
            "1      7877\n",
            "Name: insult, dtype: int64\n",
            "\n",
            "\n",
            "0    158166\n",
            "1      1405\n",
            "Name: identity_hate, dtype: int64\n",
            "\n",
            "\n",
            "1    143346\n",
            "0     16225\n",
            "Name: good, dtype: int64\n"
          ],
          "name": "stdout"
        }
      ]
    },
    {
      "cell_type": "markdown",
      "metadata": {
        "id": "aIsM2wDzC7F0"
      },
      "source": [
        "If you count all the occurences of 1 in each column, we get 194,679 comments. Our dataset set has 159,571. This is because many comments have multiple levels of toxicity as their label. \"toxic\" has by far the most occurences. This is because many comments that have been tagged as other labels, are also toxic. For example, as seen below, all \"severe_toxic\" comments are also \"toxic\"."
      ]
    },
    {
      "cell_type": "code",
      "metadata": {
        "id": "-JOQhASJDQ1z",
        "outputId": "306e17f5-3711-41dc-d310-3bbfdc4cd527",
        "colab": {
          "base_uri": "https://localhost:8080/",
          "height": 49
        }
      },
      "source": [
        "# returns empty dataframe\n",
        "train_df[(train_df['toxic'] == 0) & (train_df['severe_toxic'] == 1)]"
      ],
      "execution_count": 56,
      "outputs": [
        {
          "output_type": "execute_result",
          "data": {
            "text/html": [
              "<div>\n",
              "<style scoped>\n",
              "    .dataframe tbody tr th:only-of-type {\n",
              "        vertical-align: middle;\n",
              "    }\n",
              "\n",
              "    .dataframe tbody tr th {\n",
              "        vertical-align: top;\n",
              "    }\n",
              "\n",
              "    .dataframe thead th {\n",
              "        text-align: right;\n",
              "    }\n",
              "</style>\n",
              "<table border=\"1\" class=\"dataframe\">\n",
              "  <thead>\n",
              "    <tr style=\"text-align: right;\">\n",
              "      <th></th>\n",
              "      <th>id</th>\n",
              "      <th>comment_text</th>\n",
              "      <th>toxic</th>\n",
              "      <th>severe_toxic</th>\n",
              "      <th>obscene</th>\n",
              "      <th>threat</th>\n",
              "      <th>insult</th>\n",
              "      <th>identity_hate</th>\n",
              "      <th>good</th>\n",
              "    </tr>\n",
              "  </thead>\n",
              "  <tbody>\n",
              "  </tbody>\n",
              "</table>\n",
              "</div>"
            ],
            "text/plain": [
              "Empty DataFrame\n",
              "Columns: [id, comment_text, toxic, severe_toxic, obscene, threat, insult, identity_hate, good]\n",
              "Index: []"
            ]
          },
          "metadata": {
            "tags": []
          },
          "execution_count": 56
        }
      ]
    },
    {
      "cell_type": "code",
      "metadata": {
        "id": "hLhfewV5QJdD",
        "outputId": "3e2672dc-e253-4665-d9fc-024f808ad5ed",
        "colab": {
          "base_uri": "https://localhost:8080/",
          "height": 470
        }
      },
      "source": [
        "train_df.drop(columns=['good'])"
      ],
      "execution_count": 76,
      "outputs": [
        {
          "output_type": "execute_result",
          "data": {
            "text/html": [
              "<div>\n",
              "<style scoped>\n",
              "    .dataframe tbody tr th:only-of-type {\n",
              "        vertical-align: middle;\n",
              "    }\n",
              "\n",
              "    .dataframe tbody tr th {\n",
              "        vertical-align: top;\n",
              "    }\n",
              "\n",
              "    .dataframe thead th {\n",
              "        text-align: right;\n",
              "    }\n",
              "</style>\n",
              "<table border=\"1\" class=\"dataframe\">\n",
              "  <thead>\n",
              "    <tr style=\"text-align: right;\">\n",
              "      <th></th>\n",
              "      <th>id</th>\n",
              "      <th>comment_text</th>\n",
              "      <th>toxic</th>\n",
              "      <th>severe_toxic</th>\n",
              "      <th>obscene</th>\n",
              "      <th>threat</th>\n",
              "      <th>insult</th>\n",
              "      <th>identity_hate</th>\n",
              "    </tr>\n",
              "  </thead>\n",
              "  <tbody>\n",
              "    <tr>\n",
              "      <th>0</th>\n",
              "      <td>0000997932d777bf</td>\n",
              "      <td>Explanation\\nWhy the edits made under my usern...</td>\n",
              "      <td>0</td>\n",
              "      <td>0</td>\n",
              "      <td>0</td>\n",
              "      <td>0</td>\n",
              "      <td>0</td>\n",
              "      <td>0</td>\n",
              "    </tr>\n",
              "    <tr>\n",
              "      <th>1</th>\n",
              "      <td>000103f0d9cfb60f</td>\n",
              "      <td>D'aww! He matches this background colour I'm s...</td>\n",
              "      <td>0</td>\n",
              "      <td>0</td>\n",
              "      <td>0</td>\n",
              "      <td>0</td>\n",
              "      <td>0</td>\n",
              "      <td>0</td>\n",
              "    </tr>\n",
              "    <tr>\n",
              "      <th>2</th>\n",
              "      <td>000113f07ec002fd</td>\n",
              "      <td>Hey man, I'm really not trying to edit war. It...</td>\n",
              "      <td>0</td>\n",
              "      <td>0</td>\n",
              "      <td>0</td>\n",
              "      <td>0</td>\n",
              "      <td>0</td>\n",
              "      <td>0</td>\n",
              "    </tr>\n",
              "    <tr>\n",
              "      <th>3</th>\n",
              "      <td>0001b41b1c6bb37e</td>\n",
              "      <td>\"\\nMore\\nI can't make any real suggestions on ...</td>\n",
              "      <td>0</td>\n",
              "      <td>0</td>\n",
              "      <td>0</td>\n",
              "      <td>0</td>\n",
              "      <td>0</td>\n",
              "      <td>0</td>\n",
              "    </tr>\n",
              "    <tr>\n",
              "      <th>4</th>\n",
              "      <td>0001d958c54c6e35</td>\n",
              "      <td>You, sir, are my hero. Any chance you remember...</td>\n",
              "      <td>0</td>\n",
              "      <td>0</td>\n",
              "      <td>0</td>\n",
              "      <td>0</td>\n",
              "      <td>0</td>\n",
              "      <td>0</td>\n",
              "    </tr>\n",
              "    <tr>\n",
              "      <th>...</th>\n",
              "      <td>...</td>\n",
              "      <td>...</td>\n",
              "      <td>...</td>\n",
              "      <td>...</td>\n",
              "      <td>...</td>\n",
              "      <td>...</td>\n",
              "      <td>...</td>\n",
              "      <td>...</td>\n",
              "    </tr>\n",
              "    <tr>\n",
              "      <th>159566</th>\n",
              "      <td>ffe987279560d7ff</td>\n",
              "      <td>\":::::And for the second time of asking, when ...</td>\n",
              "      <td>0</td>\n",
              "      <td>0</td>\n",
              "      <td>0</td>\n",
              "      <td>0</td>\n",
              "      <td>0</td>\n",
              "      <td>0</td>\n",
              "    </tr>\n",
              "    <tr>\n",
              "      <th>159567</th>\n",
              "      <td>ffea4adeee384e90</td>\n",
              "      <td>You should be ashamed of yourself \\n\\nThat is ...</td>\n",
              "      <td>0</td>\n",
              "      <td>0</td>\n",
              "      <td>0</td>\n",
              "      <td>0</td>\n",
              "      <td>0</td>\n",
              "      <td>0</td>\n",
              "    </tr>\n",
              "    <tr>\n",
              "      <th>159568</th>\n",
              "      <td>ffee36eab5c267c9</td>\n",
              "      <td>Spitzer \\n\\nUmm, theres no actual article for ...</td>\n",
              "      <td>0</td>\n",
              "      <td>0</td>\n",
              "      <td>0</td>\n",
              "      <td>0</td>\n",
              "      <td>0</td>\n",
              "      <td>0</td>\n",
              "    </tr>\n",
              "    <tr>\n",
              "      <th>159569</th>\n",
              "      <td>fff125370e4aaaf3</td>\n",
              "      <td>And it looks like it was actually you who put ...</td>\n",
              "      <td>0</td>\n",
              "      <td>0</td>\n",
              "      <td>0</td>\n",
              "      <td>0</td>\n",
              "      <td>0</td>\n",
              "      <td>0</td>\n",
              "    </tr>\n",
              "    <tr>\n",
              "      <th>159570</th>\n",
              "      <td>fff46fc426af1f9a</td>\n",
              "      <td>\"\\nAnd ... I really don't think you understand...</td>\n",
              "      <td>0</td>\n",
              "      <td>0</td>\n",
              "      <td>0</td>\n",
              "      <td>0</td>\n",
              "      <td>0</td>\n",
              "      <td>0</td>\n",
              "    </tr>\n",
              "  </tbody>\n",
              "</table>\n",
              "<p>159571 rows × 8 columns</p>\n",
              "</div>"
            ],
            "text/plain": [
              "                      id  ... identity_hate\n",
              "0       0000997932d777bf  ...             0\n",
              "1       000103f0d9cfb60f  ...             0\n",
              "2       000113f07ec002fd  ...             0\n",
              "3       0001b41b1c6bb37e  ...             0\n",
              "4       0001d958c54c6e35  ...             0\n",
              "...                  ...  ...           ...\n",
              "159566  ffe987279560d7ff  ...             0\n",
              "159567  ffea4adeee384e90  ...             0\n",
              "159568  ffee36eab5c267c9  ...             0\n",
              "159569  fff125370e4aaaf3  ...             0\n",
              "159570  fff46fc426af1f9a  ...             0\n",
              "\n",
              "[159571 rows x 8 columns]"
            ]
          },
          "metadata": {
            "tags": []
          },
          "execution_count": 76
        }
      ]
    },
    {
      "cell_type": "markdown",
      "metadata": {
        "id": "G7-3Iv6IAfrD"
      },
      "source": [
        "### One vs All Logistic Regression with TFIDF"
      ]
    },
    {
      "cell_type": "markdown",
      "metadata": {
        "id": "RQhxpF81wwKe"
      },
      "source": [
        "In an “one-to-rest” strategy, one could build multiple independent classifiers and, for an unseen instance, choose the class for which the confidence is maximized.\n",
        "The main assumption here is that the labels are mutually exclusive. You do not consider any underlying correlation between the classes in this method."
      ]
    },
    {
      "cell_type": "markdown",
      "metadata": {
        "id": "U7hvUSzNIS7-"
      },
      "source": [
        "Split dataset into *training* and *validation* sets using stratified sampling with Scikit-Learn."
      ]
    },
    {
      "cell_type": "code",
      "metadata": {
        "id": "k2O_PiBmIPQR",
        "outputId": "f20fb017-f20f-4caf-bc1a-7bad7487494a",
        "colab": {
          "base_uri": "https://localhost:8080/",
          "height": 34
        }
      },
      "source": [
        "from sklearn.model_selection import train_test_split\n",
        "\n",
        "# train test split\n",
        "train, test = train_test_split(train_df, test_size = 0.2, random_state=22)\n",
        "\n",
        "# get the shape of train and test split.\n",
        "print(train.shape, test.shape)"
      ],
      "execution_count": 100,
      "outputs": [
        {
          "output_type": "stream",
          "text": [
            "(127656, 8) (31915, 8)\n"
          ],
          "name": "stdout"
        }
      ]
    },
    {
      "cell_type": "markdown",
      "metadata": {
        "id": "Zwea01pKSQKh"
      },
      "source": [
        "Get feature vectors using TFIDF"
      ]
    },
    {
      "cell_type": "code",
      "metadata": {
        "id": "qcdUeYyGwsEz"
      },
      "source": [
        "from sklearn.feature_extraction.text import TfidfVectorizer\n",
        "\n",
        "word_vectorizer = TfidfVectorizer(max_features=20000, \n",
        "                            lowercase=True, \n",
        "                            strip_accents='ascii', \n",
        "                            analyzer='word',\n",
        "                            token_pattern=r'[a-zA-Z]{1,}',\n",
        "                            stop_words='english')\n",
        "\n",
        "word_vectorizer.fit(train.comment_text)\n",
        "train_features = word_vectorizer.transform(train.comment_text)\n",
        "test_features = word_vectorizer.transform(test.comment_text)"
      ],
      "execution_count": 93,
      "outputs": []
    },
    {
      "cell_type": "code",
      "metadata": {
        "id": "VlkpCyUdAk7Z",
        "outputId": "2e339774-3ce4-4f09-c5ee-dc5e5fede500",
        "colab": {
          "base_uri": "https://localhost:8080/",
          "height": 51
        }
      },
      "source": [
        "print(train_features.shape)\n",
        "print(test_features.shape)"
      ],
      "execution_count": 96,
      "outputs": [
        {
          "output_type": "stream",
          "text": [
            "(127656, 20000)\n",
            "(31915, 20000)\n"
          ],
          "name": "stdout"
        }
      ]
    },
    {
      "cell_type": "code",
      "metadata": {
        "id": "pNeYd2T7yK95",
        "outputId": "8379f8a4-8cd4-43d3-af34-4e2473456f30",
        "colab": {
          "base_uri": "https://localhost:8080/",
          "height": 34
        }
      },
      "source": [
        "train_y = train[labels].values\n",
        "test_y = test[labels].values"
      ],
      "execution_count": 107,
      "outputs": [
        {
          "output_type": "execute_result",
          "data": {
            "text/plain": [
              "(127656, 6)"
            ]
          },
          "metadata": {
            "tags": []
          },
          "execution_count": 107
        }
      ]
    },
    {
      "cell_type": "code",
      "metadata": {
        "id": "JSwAXOiVSwLZ"
      },
      "source": [
        "clf = LogisticRegression(multi_class='ovr')\n",
        "clf.fit(train_features, )"
      ],
      "execution_count": null,
      "outputs": []
    }
  ]
}