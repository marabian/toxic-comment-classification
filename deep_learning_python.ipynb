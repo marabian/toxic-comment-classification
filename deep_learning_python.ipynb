{
  "nbformat": 4,
  "nbformat_minor": 0,
  "metadata": {
    "colab": {
      "name": "deep-learning-python.ipynb",
      "provenance": [],
      "collapsed_sections": [],
      "toc_visible": true,
      "mount_file_id": "11A2mcExEnNuXnWWiV9veJp3dm42k8Bm2",
      "authorship_tag": "ABX9TyNZys9eOoEd/tg0Knfx3WfP",
      "include_colab_link": true
    },
    "kernelspec": {
      "name": "python3",
      "display_name": "Python 3"
    }
  },
  "cells": [
    {
      "cell_type": "markdown",
      "metadata": {
        "id": "view-in-github",
        "colab_type": "text"
      },
      "source": [
        "<a href=\"https://colab.research.google.com/github/marabian/toxic-comment-classification/blob/master/deep_learning_python.ipynb\" target=\"_parent\"><img src=\"https://colab.research.google.com/assets/colab-badge.svg\" alt=\"Open In Colab\"/></a>"
      ]
    },
    {
      "cell_type": "markdown",
      "metadata": {
        "id": "5RtkzhYT_k5b"
      },
      "source": [
        "# ***Deep Learning with Python***\n",
        "***"
      ]
    },
    {
      "cell_type": "markdown",
      "metadata": {
        "id": "VWUgSvsP_xRz"
      },
      "source": [
        "**Definitions**\n",
        "\n",
        "*Artificial Intelligence* - the effort to automate intellectual tasks normally performed by humans. \n",
        "\n",
        "*Machine Learning* - Machine learning discovers rules to execute a data-processing task, given examples of what's expected.\n",
        "ML is a subset of artificial intelligence; in fact, it’s simply a technique for realizing AI."
      ]
    },
    {
      "cell_type": "code",
      "metadata": {
        "id": "zhMns_Ho_1rn"
      },
      "source": [
        "# check colab gpu if using\n",
        "# ! nvidia-smi"
      ],
      "execution_count": null,
      "outputs": []
    },
    {
      "cell_type": "markdown",
      "metadata": {
        "id": "dYrQORJ__xV9"
      },
      "source": [
        "# <font color=\"orange\">What is Machine Learning?</font>"
      ]
    },
    {
      "cell_type": "markdown",
      "metadata": {
        "id": "Bbt3Nu3fOoBr"
      },
      "source": [
        "**Machine learning** discovers rules to execute a data-processing task, given examples of what's expected.\n",
        "\n",
        "So, to do **machine learning** we need three things:\n",
        "\n",
        "  * Input data points\n",
        "  * Examples out expected output\n",
        "  * A way to measure whether the algorithm is doing a good job. This is necessary in order to determine the distance between the algorithm’s current output and its expected output. The measurement is used as a feedback signal to adjust the way the algorithm works. This adjustment step is what we call learning.\n",
        "\n",
        "\n",
        "\n",
        "A machine-learning model transforms its input data into meaningful outputs, a process that is “learned” from exposure to known examples of inputs and outputs. Therefore, the central problem in machine learning and deep learning is to *meaningfully\n",
        "transform data*: in other words, to learn useful *representations* of the input data at\n",
        "hand—representations that get us closer to the expected output. \n",
        "\n",
        "*Learning*, in the context of machine learning, describes an automatic search\n",
        "process for better representations. \n",
        "\n",
        "All machine-learning algorithms consist of automatically finding such transformations that turn data into more-useful representations for a given task. These operations can be coordinate changes, or linear projections (which may\n",
        "destroy information), translations, nonlinear operations (such as “select all points\n",
        "such that x > 0”), and so on. \n",
        "Machine-learning algorithms aren’t usually creative in finding these transformations; they’re merely searching through a predefined set of operations, called a *hypothesis space*.\n",
        "\n",
        "So that’s what machine learning is, technically: searching for useful representations of some input data, within a predefined space of possibilities, using guidance\n",
        "from a feedback signal. This simple idea allows for solving a remarkably broad range\n",
        "of intellectual tasks, from speech recognition to autonomous car driving.\n"
      ]
    },
    {
      "cell_type": "markdown",
      "metadata": {
        "id": "N0OsW1kMOoEb"
      },
      "source": [
        "# <font color=\"orange\">What is Deep Learning?</font>"
      ]
    },
    {
      "cell_type": "markdown",
      "metadata": {
        "id": "doQtHMQPXgqG"
      },
      "source": [
        "Deep learning is a specific subfield of machine learning: a new take on learning representations from data that puts an emphasis on learning successive *layers* of increasingly\n",
        "meaningful representations. The *deep* in *deep learning* isn’t a reference to any kind of deeper understanding achieved by the approach; rather, it stands for this idea of successive layers of representations.  How many layers contribute to a model of the data is called the *depth* of the model.\n",
        "Other appropriate names for the field could have been\n",
        "*layered representations learning* and *hierarchical representations learning*.\n",
        "\n",
        "In deep learning, these layered representations are (almost always) learned via models called **neural networks**, structured in literal layers stacked on top of each other.\n",
        "\n",
        "For our purposes, deep learning is a mathematical framework for **learning representations from data**.\n",
        "\n",
        "The specification of what a layer does to its input data is stored in the layer’s *weights*, which in essence are a bunch of numbers. In technical terms, we’d say that the transformation implemented by a layer is *parameterized* by its weights (see figure 1.7). (Weights are also sometimes called the parameters of a layer.) In this context, learning\n",
        "means finding a set of values for the weights of all layers in a network, such that the\n",
        "network will correctly map example inputs to their associated targets. But here’s the thing: a deep neural network can contain tens of millions of parameters. Finding the correct value for all of them may seem like a daunting task, especially given that modifying the value of one parameter will affect the behavior of all the others!"
      ]
    },
    {
      "cell_type": "markdown",
      "metadata": {
        "id": "9NcCCilPeRLJ"
      },
      "source": [
        "<img src=\"https://drive.google.com/uc?id=1cKYKaLeFCyiG098BYNXXsZFrFzpJW6no\">\n",
        "</img>"
      ]
    },
    {
      "cell_type": "markdown",
      "metadata": {
        "id": "U1eQFpmxhVM7"
      },
      "source": [
        "To control something, first you need to be able to observe it. To control the output of a neural network, you need to be able to measure how far this output is from what you expected. This is the job of the **loss function** of the network, also called the **objective function**. The loss function takes the predictions of the network and the true target (what you wanted the network to output) and computes a distance score, capturing how well the network has done on this specific example.\n",
        "\n",
        "The fundamental trick in deep learning is to use this score as a feedback signal to adjust the value of the weights a little, in a direction that will lower the loss score for the current example (see figure 1.9). This adjustment is the job of the **optimizer**, which implements what’s called the *Backpropagation algorithm*: the central algorithm in deep learning. The next chapter explains in more detail how backpropagation works."
      ]
    },
    {
      "cell_type": "markdown",
      "metadata": {
        "id": "PyrTiXL7fDy7"
      },
      "source": [
        "<img src=\"https://drive.google.com/uc?id=1lhFvbFl93q-kZo6LRnQpfpFloKSu3nYu\"></img>"
      ]
    },
    {
      "cell_type": "markdown",
      "metadata": {
        "id": "adwjCoS3hcvN"
      },
      "source": [
        "Initially, the weights of the network are assigned random values, so the network merely implements a series of random transformations. Naturally, its output is far from what it should ideally be, and the loss score is accordingly very high. But with every example the network processes, the weights are adjusted a little in the correct direction, and the loss score decreases. This is the training loop, which, repeated a sufficient number of times (typically tens of iterations over thousands of examples), yields\n",
        "weight values that minimize the loss function. A network with a minimal loss is one for which the outputs are as close as they can be to the targets: a trained network. Once again, it’s a simple mechanism that, once scaled, ends up looking like magic. "
      ]
    },
    {
      "cell_type": "markdown",
      "metadata": {
        "id": "0Mh6m5iyBL6n"
      },
      "source": [
        "# <font color=\"orange\">Some History</font>"
      ]
    },
    {
      "cell_type": "markdown",
      "metadata": {
        "id": "ZWbC1YfeByc0"
      },
      "source": [
        "### **Two \"AI winters\"**\n",
        "First one in 1960s/early 1970s with the rise of **symbolic AI** (Marvin Minsky, Perceptron), which experts believed would create human-level artificial intelligence within a decade.<br>\n",
        "Second one in the 1980s, a new take on symbolic AI, **expert systems**, but by the early 1990s, these systems had proven expensive to maintain, difficult to scale, and limited in scope, and interest died down. Thus began the second AI winter."
      ]
    },
    {
      "cell_type": "markdown",
      "metadata": {
        "id": "aXgHtISwB33O"
      },
      "source": [
        "### **Early neural networks**\n",
        "The first successful practical application of neural nets came in 1989 from Bell Labs, when Yann LeCun combined the earlier ideas of convolutional neural networks and backpropagation, and applied them to the problem of classifying handwritten digits. The resulting network, dubbed *LeNet*, was used by the United States Postal Service in the 1990s to automate the reading of ZIP codes on mail envelopes. \n"
      ]
    },
    {
      "cell_type": "markdown",
      "metadata": {
        "id": "dGYGEReqhc2r"
      },
      "source": [
        "### **Kernel methods (SVM)**\n",
        "As neural networks started to gain some respect among researchers in the 1990s, thanks to this first success, a new approach to machine learning rose to fame and quickly sent neural nets back to oblivion: **kernel methods**. Kernel methods are a group of classification algorithms, the best known of which is the **support vector machine** (SVM).\n",
        "\n",
        "The modern formulation of an SVM was developed by Vladimir\n",
        "Vapnik and Corinna Cortes in the early 1990s at Bell Labs and\n",
        "published in 1995, although an older linear formulation was\n",
        "published by Vapnik and Alexey Chervonenkis as early as 1963.\n",
        "\n",
        "SVMs aim at solving classification problems by finding good\n",
        "decision boundaries (see figure 1.10) between two sets of points\n",
        "belonging to two different categories. A decision boundary can\n",
        "be thought of as a line or surface separating your training data\n",
        "into two spaces corresponding to two categories. To classify new\n",
        "data points, you just need to check which side of the decision\n",
        "boundary they fall on.\n",
        "\n",
        "SVMs proceed to find these boundaries in two steps:\n",
        "1. The data is mapped to a new high-dimensional representation where the\n",
        "decision boundary can be expressed as a hyperplane (if the data was twodimensional, as in figure 1.10, a hyperplane would be a straight line).\n",
        "2. A good decision boundary (a separation hyperplane) is computed by trying to\n",
        "maximize the distance between the hyperplane and the closest data points from\n",
        "each class, a step called maximizing the margin. This allows the boundary to generalize well to new samples outside of the training dataset.\n",
        "\n",
        "The technique of mapping data to a high-dimensional representation where a classification problem becomes simpler may look good on paper, but in practice it’s\n",
        "often computationally intractable. That’s where the **kernel trick** comes in (the key idea\n",
        "that kernel methods are named after). "
      ]
    },
    {
      "cell_type": "markdown",
      "metadata": {
        "id": "lUmLjzf_oASh"
      },
      "source": [
        "<img src=\"https://drive.google.com/uc?id=18uGP8nhf3-tD3gXNZK5x4YwvbTdawLax\"></img>"
      ]
    },
    {
      "cell_type": "markdown",
      "metadata": {
        "id": "lUxsFZC0nl6X"
      },
      "source": [
        "Here’s the gist of it: to find good decision hyperplanes in the new representation space, you don’t have to explicitly compute\n",
        "the coordinates of your points in the new space; you just need to compute the distance between pairs of points in that space, which can be done efficiently using a **kernel function**. A kernel function is a computationally tractable operation that maps any\n",
        "two points in your initial space to the distance between these points in your target representation space, completely bypassing the explicit computation of the new representation. Kernel functions are typically crafted by hand rather than learned from\n",
        "data—in the case of an SVM, only the separation hyperplane is learned.\n",
        "\n",
        "\n",
        "At the time they were developed, SVMs exhibited state-of-the-art performance on simple classification problems and were one of the few machine-learning methods backed by extensive theory and amenable to serious mathematical analysis, making them well understood and easily interpretable. Because of these useful properties, SVMs became extremely popular in the field for a \n",
        "long time. \n",
        "\n",
        "But SVMs proved hard to scale to large datasets and didn’t provide good results for perceptual problems such as image classification. Because an SVM is a shallow\n",
        "method, applying an SVM to perceptual problems requires first extracting useful representations manually (a step called **feature engineering**), which is difficult and brittle. \n",
        "\n",
        "*Approaches to machine learning that tend to focus on learning only one or two layers of representations of the data are sometimes called shallow learning.*"
      ]
    },
    {
      "cell_type": "markdown",
      "metadata": {
        "id": "kbQWK0oh1mv8"
      },
      "source": [
        "### **Decision trees, random forests, and gradient boosting machines**\n",
        "\n",
        "**Decision trees** are flowchart-like structures that let you classify input data points or predict output values given inputs (see figure 1.11). They’re easy to visualize and interpret. Decisions trees learned from data began to receive significant research interest\n",
        "in the 2000s, and by 2010 they were often preferred to kernel methods."
      ]
    },
    {
      "cell_type": "markdown",
      "metadata": {
        "id": "RycmsPOQ1m0W"
      },
      "source": [
        "<img src=\"https://drive.google.com/uc?id=1B7rIcK8mD5ovI9t7zUgrfttm23mhAO2a\"></img>"
      ]
    },
    {
      "cell_type": "markdown",
      "metadata": {
        "id": "LacJFtBq1m4R"
      },
      "source": [
        "In particular, the **Random Forest** algorithm introduced a robust, practical take on decision-tree learning that involves building a large number of specialized decision trees and then ensembling their outputs. Random forests are applicable to a wide range of problems—you could say that they’re almost always the second-best algorithm for any shallow machine-learning task. When the popular machine-learning competition website Kaggle (http://kaggle.com) got started in 2010, random forests quickly became a favorite on the platform—until 2014, when gradient boosting machines took over. \n",
        "\n",
        "A gradient boosting machine, much like a random forest, is a machine-learning\n",
        "technique based on ensembling weak prediction models, generally decision trees. It uses **gradient boosting**, a way to improve any machine-learning model by iteratively training new models that specialize in addressing the weak points of the previous models.\n",
        "Applied to decision trees, the use of the gradient boosting technique results in models\n",
        "that strictly outperform random forests most of the time, while having similar properties. It may be one of the best, if not the best, algorithm for dealing with nonperceptual\n",
        "data today. Alongside deep learning, it’s one of the most commonly used techniques in\n",
        "Kaggle competitions. "
      ]
    },
    {
      "cell_type": "markdown",
      "metadata": {
        "id": "2ohpJVJ21m25"
      },
      "source": [
        "### **Back to neural networks**"
      ]
    },
    {
      "cell_type": "markdown",
      "metadata": {
        "id": "Ct4MRYVE3EQ3"
      },
      "source": [
        "Around 2010, although neural networks were almost completely shunned by the scientific community at large, a number of people still working on neural networks started to make important breakthroughs: the groups of Geoffrey Hinton at the University of Toronto, Yoshua Bengio at the University of Montreal, Yann LeCun at New York University, and IDSIA in Switzerland.\n",
        "\n",
        "\n",
        " In 2011, Dan Ciresan from IDSIA began to win academic image-classification competitions with GPU-trained deep neural networks—the first practical success of modern deep learning. But the watershed moment came in 2012, with the entry of\n",
        "Hinton’s group in the yearly large-scale image-classification challenge ImageNet. The\n",
        "ImageNet challenge was notoriously difficult at the time, consisting of classifying highresolution color images into 1,000 different categories after training on 1.4 million\n",
        "images. In 2011, the top-five accuracy of the winning model, based on classical\n",
        "approaches to computer vision, was only 74.3%. Then, in 2012, a team led by Alex\n",
        "Krizhevsky and advised by Geoffrey Hinton was able to achieve a top-five accuracy of\n",
        "83.6%—a significant breakthrough. The competition has been dominated by deep\n",
        "convolutional neural networks every year since. By 2015, the winner reached an accuracy of 96.4%, and the classification task on ImageNet was considered to be a completely solved problem.\n",
        "\n",
        "Since 2012, deep convolutional neural networks (convnets) have become the go-to\n",
        "algorithm for all computer vision tasks; more generally, they work on all perceptual\n",
        "tasks. At major computer vision conferences in 2015 and 2016, it was nearly impossible to find presentations that didn’t involve convnets in some form. At the same time,\n",
        "deep learning has also found applications in many other types of problems, such as\n",
        "natural-language processing. It has completely replaced SVMs and decision trees in a\n",
        "wide range of applications. For instance, for several years, the European Organization\n",
        "for Nuclear Research, CERN, used decision tree–based methods for analysis of particle\n",
        "data from the ATLAS detector at the Large Hadron Collider (LHC); but CERN eventually switched to Keras-based deep neural networks due to their higher performance\n",
        "and ease of training on large datasets. "
      ]
    },
    {
      "cell_type": "markdown",
      "metadata": {
        "id": "wega7Fd03EYP"
      },
      "source": [
        "### **What makes Deep Learning different?**\n",
        "The primary reason deep learning took off so quickly is that it offered better performance on many problems. But that’s not the only reason. Deep learning also makes problem-solving much easier, because it completely automates what used to be the\n",
        "most crucial step in a machine-learning workflow: feature engineering.\n",
        "\n",
        "Previous machine-learning techniques—shallow learning—only involved transforming the input data into one or two successive representation spaces, usually via\n",
        "simple transformations such as high-dimensional non-linear projections (SVMs) or\n",
        "decision trees. But the refined representations required by complex problems generally can’t be attained by such techniques. As such, humans had to go to great lengths\n",
        "to make the initial input data more amenable to processing by these methods: they\n",
        "had to manually engineer good layers of representations for their data. This is called **feature engineering**. Deep learning, on the other hand, completely automates this step: with deep learning, you learn all features in one pass rather than having to engineer them yourself. This has greatly simplified machine-learning workflows, often replacing sophisticated multistage pipelines with a single, simple, end-to-end deep-learning\n",
        "model.\n",
        "\n",
        "The two essential characteristics of how deep learning learns from data:\n",
        "the **incremental, layer-by-layer way in which increasingly complex representations are developed**,\n",
        "and **the fact that these intermediate incremental representations are learned jointly**, each layer\n",
        "being updated to follow both the representational needs of the layer above and the\n",
        "needs of the layer below. Together, these two properties have made deep learning\n",
        "vastly more successful than previous approaches to machine learning.\n",
        "\n",
        "The two techniques you should be the most familiar with in order to be\n",
        "successful in applied machine learning today: *gradient boosting machines*, for **shallowlearning problems**; and *deep learning*, for **perceptual problems**. In technical terms, this means you’ll need to be familiar with **XGBoost** and **Keras**—the two libraries that currently dominate Kaggle competitions. With this book in hand, you’re already one big step closer\n"
      ]
    },
    {
      "cell_type": "markdown",
      "metadata": {
        "id": "T_ow5ggE4uAc"
      },
      "source": [
        "**Why deep learning? Why now?**\n",
        "\n",
        "The two key ideas of deep learning for computer vision—convolutional neural networks and backpropagation—were already well understood in 1989. The Long ShortTerm Memory (LSTM) algorithm, which is fundamental to deep learning for\n",
        "timeseries, was developed in 1997 and has barely changed since. So why did deep\n",
        "learning only take off after 2012? What changed in these two decades?\n",
        " In general, three technical forces are driving advances in machine learning:\n",
        " * Hardware\n",
        " * Datasets and benchmarks\n",
        " * Algorithms\n",
        "\n",
        "In addition to hardware and data, until the late 2000s, we were missing a reliable way to train very deep neural networks. As a result, neural networks were still fairly shallow, using only one or two layers of representations; thus, they weren’t able to shine against more-refined shallow methods such as SVMs and random forests. The key issue was that of **gradient propagation** through deep stacks of layers. The feedback signal used to train\n",
        "neural networks would fade away as the number of layers increased.\n",
        "\n",
        "This changed around 2009–2010 with the advent of several simple but important\n",
        "algorithmic improvements that allowed for better gradient propagation:\n",
        "* Better **activation functions**\n",
        "* Better **weight-initialization schemes**, starting with layer-wise pretraining, which was quickly abandoned\n",
        "* Better **optimization schemes**, such as *RMSProp* and *Adam*\n",
        "\n",
        "Only when these improvements began to allow for training models with 10 or more layers did deep learning start to shine.\n",
        "\n",
        "Finally, in 2014, 2015, and 2016, even more advanced ways to help gradient propagation were discovered, such as batch normalization, residual connections, and depthwise separable convolutions. Today we can train from scratch models that are\n",
        "thousands of layers deep"
      ]
    },
    {
      "cell_type": "markdown",
      "metadata": {
        "id": "bOGusfm9AxZz"
      },
      "source": [
        "### **The democratiziation of deep learning**\n",
        "\n",
        "One of the key factors driving this inflow of new faces in deep learning has been thedemocratization of the toolsets used in the field. In the early days, doing deep learning required significant C++ and CUDA expertise, which few people possessed. Nowadays, basic Python scripting skills suffice to do advanced deep-learning research. This has been\n",
        "driven most notably by the development of Theano and then TensorFlow—two symbolic tensor-manipulation frameworks for Python that support autodifferentiation, greatly simplifying the implementation of new models—and by the rise of user-friendly libraries such as Keras, which makes deep learning as easy as manipulating LEGO bricks. After its\n",
        "release in early 2015, Keras quickly became the go-to deep-learning solution for large numbers of new startups, graduate students, and researchers pivoting into the field. "
      ]
    },
    {
      "cell_type": "markdown",
      "metadata": {
        "id": "6oAHzWvjAxdE"
      },
      "source": [
        "### **Will it last?**\n",
        "\n",
        "Is there anything special about deep neural networks that makes them the “right”\n",
        "approach for companies to be investing in and for researchers to flock to? Or is deep\n",
        "learning just a fad that may not last? Will we still be using deep neural networks in\n",
        "20 years?\n",
        "\n",
        "Deep learning has several properties that justify its status as an AI revolution, and\n",
        "it’s here to stay. We may not be using neural networks two decades from now, but whatever we use will directly inherit from modern deep learning and its core concepts.\n",
        "These important properties can be broadly sorted into three categories:\n",
        "* *Simplicity* — Deep learning removes the need for feature engineering, replacing\n",
        "complex, brittle, engineering-heavy pipelines with simple, end-to-end trainable\n",
        "models that are typically built using only five or six different tensor operations.\n",
        "* *Scalability* — Deep learning is highly amenable to parallelization on GPUs or\n",
        "TPUs, so it can take full advantage of Moore’s law. In addition, deep-learning\n",
        "models are trained by iterating over small batches of data, allowing them to be\n",
        "trained on datasets of arbitrary size. (The only bottleneck is the amount of\n",
        "parallel computational power available, which, thanks to Moore’s law, is a fastmoving barrier.)\n",
        "* *Versatility and reusability* — Unlike many prior machine-learning approaches, deep-learning models can be trained on additional data without restarting from\n",
        "scratch, making them viable for continuous online learning—an important property for very large production models. Furthermore, trained deep-learning models are repurposable and thus reusable: for instance, it’s possible to take a deep-learning model trained for image classification and drop it into a videoprocessing pipeline. This allows us to reinvest previous work into increasingly complex and powerful models. This also makes deep learning applicable to\n",
        "fairly small datasets.\n",
        "\n",
        "\n",
        "Deep learning has only been in the spotlight for a few years, and we haven’t yet established the full scope of what it can do. With every passing month, we learn about new\n",
        "use cases and engineering improvements that lift previous limitations. Following a scientific revolution, progress generally follows a sigmoid curve: it starts with a period of fast progress, which gradually stabilizes as researchers hit hard limitations, and then further improvements become incremental. Deep learning in 2017 seems to be in the first half of that sigmoid, with much more progress to come in the next few years"
      ]
    },
    {
      "cell_type": "markdown",
      "metadata": {
        "id": "4STTHZg6Axfm"
      },
      "source": [
        "# <font color=\"orange\">**The Mathematical Building Blocks of Neural Networks**</font>"
      ]
    },
    {
      "cell_type": "markdown",
      "metadata": {
        "id": "eojtJsH-AxcE"
      },
      "source": [
        "**Note on classes and labels**<br>\n",
        "In machine learning, a category in a classification problem is called a **class**. Data points are called **samples**. The class associated with a specific sample is called a\n",
        "**label**."
      ]
    },
    {
      "cell_type": "code",
      "metadata": {
        "id": "YibuilFE_yvI",
        "outputId": "372fee61-99fc-4cbb-8817-43b2af3b5496",
        "colab": {
          "base_uri": "https://localhost:8080/",
          "height": 51
        }
      },
      "source": [
        "from keras.datasets import mnist\n",
        "\n",
        "(train_images, train_labels), (test_images, test_labels) = mnist.load_data()"
      ],
      "execution_count": null,
      "outputs": [
        {
          "output_type": "stream",
          "text": [
            "Downloading data from https://storage.googleapis.com/tensorflow/tf-keras-datasets/mnist.npz\n",
            "11493376/11490434 [==============================] - 0s 0us/step\n"
          ],
          "name": "stdout"
        }
      ]
    },
    {
      "cell_type": "code",
      "metadata": {
        "id": "hhM1G_ELFKdi",
        "outputId": "984ba5de-d8ea-470a-e430-2e17517792be",
        "colab": {
          "base_uri": "https://localhost:8080/",
          "height": 34
        }
      },
      "source": [
        "train_images.shape"
      ],
      "execution_count": null,
      "outputs": [
        {
          "output_type": "execute_result",
          "data": {
            "text/plain": [
              "(60000, 28, 28)"
            ]
          },
          "metadata": {
            "tags": []
          },
          "execution_count": 4
        }
      ]
    },
    {
      "cell_type": "code",
      "metadata": {
        "id": "SXx71LrdFTZb",
        "outputId": "729a5572-549c-493d-a416-31448821c581",
        "colab": {
          "base_uri": "https://localhost:8080/",
          "height": 34
        }
      },
      "source": [
        "len(train_labels)"
      ],
      "execution_count": null,
      "outputs": [
        {
          "output_type": "execute_result",
          "data": {
            "text/plain": [
              "60000"
            ]
          },
          "metadata": {
            "tags": []
          },
          "execution_count": 5
        }
      ]
    },
    {
      "cell_type": "markdown",
      "metadata": {
        "id": "4GDPPhr5F3cL"
      },
      "source": [
        "The core building block of neural networks is the **layer**, a data-processing module that you can think of as a filter for data. Some data goes in, and it comes out in a more useful form. Specifically, layers extract **representations** out of the data fed into them—hopefully, representations that are more meaningful for the problem at hand. Most of deep learning consists of chaining together simple layers that will implement a form\n",
        "of progressive **data distillation**. A deep-learning model is like a sieve for data processing, made of a succession of increasingly refined data filters — the layers."
      ]
    },
    {
      "cell_type": "code",
      "metadata": {
        "id": "G1c8RkvAF7Fk",
        "outputId": "4d687644-122e-4a7b-ecfa-d539d4789224",
        "colab": {
          "base_uri": "https://localhost:8080/",
          "height": 34
        }
      },
      "source": [
        "import numpy as np\n",
        "x = np.array(12)\n",
        "x.shape"
      ],
      "execution_count": null,
      "outputs": [
        {
          "output_type": "execute_result",
          "data": {
            "text/plain": [
              "()"
            ]
          },
          "metadata": {
            "tags": []
          },
          "execution_count": 8
        }
      ]
    },
    {
      "cell_type": "markdown",
      "metadata": {
        "id": "K_jpfNXLKJKd"
      },
      "source": [
        "### <font color=\"MediumSeaGreen\">**Tensors**</font>\n",
        "***\n",
        "At its core, a tensor is a container for data—almost always numerical data. So, it’s a container for numbers. You may be already familiar with matrices, which are 2D tensors: tensors are a generalization of matrices to an arbitrary number of dimensions\n",
        "(note that in the context of tensors, a dimension is often called an axis). The number of axes of a tensor is also called its **rank**.\n",
        "\n",
        "A tensor is defined by three key attributes:\n",
        "* **Number of axes (rank)** — For instance, a 3D tensor has three axes, and a matrix has\n",
        "two axes. This is also called the tensor’s ndim in Python libraries such as Numpy.\n",
        "* **Shape** — This is a tuple of integers that describes how many dimensions the tensor has along each axis. For instance, the previous matrix example has shape\n",
        "(3, 5), and the 3D tensor example has shape (3, 3, 5). A vector has a shape\n",
        "with a single element, such as (5,), whereas a scalar has an empty shape, ().\n",
        "* **Data type** (usually called **dtype** in Python libraries) — This is the type of the data\n",
        "contained in the tensor; for instance, a tensor’s type could be float32, uint8,\n",
        "float64, and so on. On rare occasions, you may see a char tensor. Note that\n",
        "string tensors don’t exist in Numpy (or in most other libraries), because tensors\n",
        "live in preallocated, contiguous memory segments: and strings, being variable\n",
        "length, would preclude the use of this implementation.\n",
        "\n",
        "\n",
        "**Dimensionality** can denote either the number of entries along a specific axis (as in the case of our 5D vector) or the number of axes in a tensor (such as a\n",
        "5D tensor), which can be confusing at times. In the latter case, it’s technically more\n",
        "correct to talk about a tensor of rank 5 (the rank of a tensor being the number of axes),\n",
        "but the ambiguous notation 5D tensor is common regardless. "
      ]
    },
    {
      "cell_type": "code",
      "metadata": {
        "id": "qc2fOg1FKQpH",
        "outputId": "fb3519f7-6359-4da7-c305-586c082a9cb5",
        "colab": {
          "base_uri": "https://localhost:8080/",
          "height": 34
        }
      },
      "source": [
        "print(train_images.shape)"
      ],
      "execution_count": null,
      "outputs": [
        {
          "output_type": "stream",
          "text": [
            "(60000, 28, 28)\n"
          ],
          "name": "stdout"
        }
      ]
    },
    {
      "cell_type": "markdown",
      "metadata": {
        "id": "EKSQGCvIVH7y"
      },
      "source": [
        "### **Manipulating tensors in Numpy**"
      ]
    },
    {
      "cell_type": "markdown",
      "metadata": {
        "id": "8ppKQ7tzVMMt"
      },
      "source": [
        "Selecting specific elements in a tensor is called **tensor slicing**. Let’s look at the tensor-slicing operations you can do on Numpy arrays. The following example selects digits #10 to #100 (#100 isn’t included) and puts\n",
        "them in an array of shape (90, 28, 28):"
      ]
    },
    {
      "cell_type": "code",
      "metadata": {
        "id": "8ApDgYk1VIqr",
        "outputId": "49b1a76f-25b8-40e4-b6a2-9ac7fb3bdee8",
        "colab": {
          "base_uri": "https://localhost:8080/",
          "height": 34
        }
      },
      "source": [
        "# tensor slicing - example 1\n",
        "my_slice = train_images[10:100]\n",
        "print(my_slice.shape)"
      ],
      "execution_count": null,
      "outputs": [
        {
          "output_type": "stream",
          "text": [
            "(90, 28, 28)\n"
          ],
          "name": "stdout"
        }
      ]
    },
    {
      "cell_type": "markdown",
      "metadata": {
        "id": "13YEbrpOVbsM"
      },
      "source": [
        "It’s equivalent to this more detailed notation, which specifies a start index and stop index for the slice along each tensor axis. Note that : is equivalent to selecting the\n",
        "entire axis:"
      ]
    },
    {
      "cell_type": "code",
      "metadata": {
        "id": "97dLXY_aVSa-",
        "outputId": "fa034140-28c2-46e1-c60e-85fdcd1772ff",
        "colab": {
          "base_uri": "https://localhost:8080/",
          "height": 34
        }
      },
      "source": [
        "# tensor slicing -example 2\n",
        "my_slice = train_images[10:100, :, :]\n",
        "my_slice.shape"
      ],
      "execution_count": null,
      "outputs": [
        {
          "output_type": "execute_result",
          "data": {
            "text/plain": [
              "(90, 28, 28)"
            ]
          },
          "metadata": {
            "tags": []
          },
          "execution_count": 11
        }
      ]
    },
    {
      "cell_type": "code",
      "metadata": {
        "id": "hCArb_DaVsh4",
        "outputId": "33b03c41-5314-445b-aac3-5fcd4e71688d",
        "colab": {
          "base_uri": "https://localhost:8080/",
          "height": 34
        }
      },
      "source": [
        "# Also equivalent to previous example\n",
        "my_slice = train_images[10:100, 0:28, 0:28]\n",
        "my_slice.shape"
      ],
      "execution_count": null,
      "outputs": [
        {
          "output_type": "execute_result",
          "data": {
            "text/plain": [
              "(90, 28, 28)"
            ]
          },
          "metadata": {
            "tags": []
          },
          "execution_count": 15
        }
      ]
    },
    {
      "cell_type": "markdown",
      "metadata": {
        "id": "vCnTTsn4WPXR"
      },
      "source": [
        "In general, you may select between any two indices along each tensor axis. For instance, in order to select 14 × 14 pixels in the bottom-right corner of all images, you\n",
        "do this:"
      ]
    },
    {
      "cell_type": "code",
      "metadata": {
        "id": "EhUioWwhVsj8",
        "outputId": "2c27798f-fc2c-44e6-f59c-00876cb67515",
        "colab": {
          "base_uri": "https://localhost:8080/",
          "height": 34
        }
      },
      "source": [
        "my_slice = train_images[:, 14:, 14:]\n",
        "print(my_slice.ndim)"
      ],
      "execution_count": null,
      "outputs": [
        {
          "output_type": "stream",
          "text": [
            "3\n"
          ],
          "name": "stdout"
        }
      ]
    },
    {
      "cell_type": "markdown",
      "metadata": {
        "id": "8Op2yxbHWa4K"
      },
      "source": [
        "It’s also possible to use negative indices. Much like negative indices in Python lists, they indicate a position relative to the end of the current axis. In order to crop the images to patches of 14 × 14 pixels centered in the middle, you do this:"
      ]
    },
    {
      "cell_type": "code",
      "metadata": {
        "id": "cHBHfgJdWY9O",
        "outputId": "9bc840e9-2696-40d8-c814-799a429a665d",
        "colab": {
          "base_uri": "https://localhost:8080/",
          "height": 34
        }
      },
      "source": [
        "my_slice = train_images[:, 7:-7, 7:-7]\n",
        "print(my_slice.shape)"
      ],
      "execution_count": null,
      "outputs": [
        {
          "output_type": "stream",
          "text": [
            "(60000, 14, 14)\n"
          ],
          "name": "stdout"
        }
      ]
    },
    {
      "cell_type": "code",
      "metadata": {
        "id": "fXRbFtIBWfa0"
      },
      "source": [
        ""
      ],
      "execution_count": null,
      "outputs": []
    },
    {
      "cell_type": "markdown",
      "metadata": {
        "id": "G0ET5Ym9Wr0X"
      },
      "source": [
        "### **The notation of data batches**\n",
        "\n",
        "\n",
        "In general, the first axis (axis 0, because indexing starts at 0) in all data tensors you’ll\n",
        "come across in deep learning will be the **samples axis**  (sometimes called the **samples dimension**). In the MNIST example, samples are images of digits. In addition, deep-learning models don’t process an entire dataset at once; rather, they break the data into small batches. Concretely, here’s one batch of our MNIST digits, with batch size of 128:"
      ]
    },
    {
      "cell_type": "code",
      "metadata": {
        "id": "uPaCZ45iWyvv",
        "outputId": "b2cdf29a-2550-45a7-aec6-159590fd9101",
        "colab": {
          "base_uri": "https://localhost:8080/",
          "height": 34
        }
      },
      "source": [
        "batch = train_images[:128]\n",
        "print(batch.shape)"
      ],
      "execution_count": null,
      "outputs": [
        {
          "output_type": "stream",
          "text": [
            "(128, 28, 28)\n"
          ],
          "name": "stdout"
        }
      ]
    },
    {
      "cell_type": "code",
      "metadata": {
        "id": "Tz2UTu3AXYtB",
        "outputId": "b6cb5f7e-0597-4d79-85e9-1b44e0339d64",
        "colab": {
          "base_uri": "https://localhost:8080/",
          "height": 34
        }
      },
      "source": [
        "# And here’s the next batch:\n",
        "batch = train_images[128:256]\n",
        "print(batch.shape)"
      ],
      "execution_count": null,
      "outputs": [
        {
          "output_type": "stream",
          "text": [
            "(128, 28, 28)\n"
          ],
          "name": "stdout"
        }
      ]
    },
    {
      "cell_type": "markdown",
      "metadata": {
        "id": "wBSvptiBXSd3"
      },
      "source": [
        "When considering such a **batch tensor**, the first axis (axis 0) is called the **batch axis** or **batch dimension**. This is a term you’ll frequently encounter when using Keras and other\n",
        "deep-learning libraries. "
      ]
    },
    {
      "cell_type": "markdown",
      "metadata": {
        "id": "Hkp3GMsPXhU2"
      },
      "source": [
        "## <font color=\"MediumSeaGreen\">**Real-world examples of data tensors**</font>\n",
        "***"
      ]
    },
    {
      "cell_type": "markdown",
      "metadata": {
        "id": "s1_PEIDBXkho"
      },
      "source": [
        "Let’s make data tensors more concrete with a few examples similar to what you’ll encounter later. The data you’ll manipulate will almost always fall into one of the following categories:\n",
        "\n",
        "* **Vector data** — 2D tensors of shape (samples, features)\n",
        "* **Timeseries data** or **sequence data** — 3D tensors of shape (samples, timesteps,\n",
        "features)\n",
        "* **Image data** — 4D tensors of shape (samples, height, width, channels) or (samples,\n",
        "channels, height, width)\n",
        "* **Video data** — 5D tensors of shape (samples, frames, height, width, channels) or\n",
        "(samples, frames, channels, height, width)"
      ]
    },
    {
      "cell_type": "markdown",
      "metadata": {
        "id": "esyPXGTpaFbG"
      },
      "source": [
        "### **Vector data**\n",
        "\n",
        "This is the most common case. In such a dataset, each single data point can be encoded as a vector, and thus a batch of data will be encoded as a 2D tensor (that is, an array of vectors), where the first axis is the **samples axis** and the second axis is the **features axis**.\n",
        "\n",
        "\n",
        "Let’s take a look at two examples:\n",
        "* An actuarial dataset of people, where we consider each person’s age, ZIP code,\n",
        "and income. Each person can be characterized as a vector of 3 values, and thus\n",
        "an entire dataset of 100,000 people can be stored in a 2D tensor of shape\n",
        "(100000, 3).\n",
        "\n",
        "* A dataset of text documents, where we represent each document by the counts\n",
        "of how many times each word appears in it (out of a dictionary of 20,000 common words). Each document can be encoded as a vector of 20,000 values (one\n",
        "count per word in the dictionary), and thus an entire dataset of 500 documents\n",
        "can be stored in a tensor of shape (500, 20000). "
      ]
    },
    {
      "cell_type": "markdown",
      "metadata": {
        "id": "1fAolliraLtZ"
      },
      "source": [
        "### **Timeseries data or sequence data**\n",
        "\n",
        "Whenever time matters in your data (or the notion of sequence order), it makes sense to store it in a 3D tensor with an explicit time axis. Each sample can be encoded as a\n",
        "sequence of vectors (a 2D tensor), and thus a batch of data will be encoded as a 3D\n",
        "tensor (see figure 2.3).\n",
        "\n",
        "<img src=\"https://drive.google.com/uc?id=1zenn_ewWQWfloKdLfTVTp716eHO_hiOp\"></img>\n",
        "\n",
        "\n",
        "The time axis is always the second axis (axis of index 1), by convention. Let’s look at a few examples:\n",
        "* A dataset of stock prices. Every minute, we store the current price of the stock,\n",
        "the highest price in the past minute, and the lowest price in the past minute.\n",
        "Thus every minute is encoded as a 3D vector, an entire day of trading is\n",
        "encoded as a 2D tensor of shape (390, 3) (there are 390 minutes in a trading\n",
        "day), and 250 days’ worth of data can be stored in a 3D tensor of shape (250,\n",
        "390, 3). Here, each sample would be one day’s worth of data.\n",
        "\n",
        "* A dataset of tweets, where we encode each tweet as a sequence of 280 characters\n",
        "out of an alphabet of 128 unique characters. In this setting, each character can\n",
        "be encoded as a binary vector of size 128 (an all-zeros vector except for a 1 entry\n",
        "at the index corresponding to the character). Then each tweet can be encoded\n",
        "as a 2D tensor of shape (280, 128), and a dataset of 1 million tweets can be\n",
        "stored in a tensor of shape (1000000, 280, 128). "
      ]
    },
    {
      "cell_type": "markdown",
      "metadata": {
        "id": "bXiHlCyfbhjt"
      },
      "source": [
        "### **Image data**\n",
        "\n",
        "Images typically have three dimensions: height, width, and color depth. Although grayscale images (like our MNIST digits) have only a single color channel and could\n",
        "thus be stored in 2D tensors, by convention image tensors are always 3D, with a onedimensional color channel for grayscale images. A batch of 128 grayscale images of\n",
        "size 256 × 256 could thus be stored in a tensor of shape (128, 256, 256, 1), and a batch of 128 color images could be stored in a tensor of shape (128, 256, 256, 3)\n",
        "(see figure 2.4).\n",
        "\n",
        "\n",
        "\n",
        "<img src=\"https://drive.google.com/uc?id=117bgbjE5fzcERGWuAsXjzUaOa_u-WiWh\"></img>\n",
        "\n",
        "\n",
        "\n",
        "There are two conventions for shapes of images tensors: the channels-last convention\n",
        "(used by TensorFlow) and the channels-first convention (used by Theano). The TensorFlow machine-learning framework, from Google, places the color-depth axis at the\n",
        "end: (samples, height, width, color_depth). Meanwhile, Theano places the color\n",
        "depth axis right after the batch axis: (samples, color_depth, height, width). \n"
      ]
    },
    {
      "cell_type": "markdown",
      "metadata": {
        "id": "92ShPzsb07Jo"
      },
      "source": [
        "### **Video data**"
      ]
    },
    {
      "cell_type": "markdown",
      "metadata": {
        "id": "Zi_ZALUE1OLY"
      },
      "source": [
        "Video data is one of the few types of real-world data for which you’ll need **5D tensors**.\n",
        "A video can be understood as a sequence of frames, each frame being a color image.\n",
        "Because each frame can be stored in a 3D tensor (height, width, color_depth), a\n",
        "sequence of frames can be stored in a 4D tensor (frames, height, width, color_\n",
        "depth), and thus a batch of different videos can be stored in a 5D tensor of shape\n",
        "(samples, frames, height, width, color_depth).\n",
        "\n",
        "\n",
        " For instance, a 60-second, 144 × 256 YouTube video clip sampled at 4 frames per\n",
        "second would have 240 frames. A batch of four such video clips would be stored in a\n",
        "tensor of shape (4, 240, 144, 256, 3). That’s a total of 106,168,320 values! If the\n",
        "dtype of the tensor was float32, then each value would be stored in 32 bits, so the\n",
        "tensor would represent 405 MB. Heavy! Videos you encounter in real life are much\n",
        "lighter, because they aren’t stored in float32, and they’re typically compressed by a\n",
        "large factor (such as in the MPEG format). "
      ]
    },
    {
      "cell_type": "markdown",
      "metadata": {
        "id": "kC2lcJgq1kNi"
      },
      "source": [
        "## <font color=\"MediumSeaGreen\">**Tensor operations**</font>\n",
        "***\n",
        "\n",
        "The gears of neural networks: ***tensor operations***"
      ]
    },
    {
      "cell_type": "markdown",
      "metadata": {
        "id": "MDFVdxdk1wpC"
      },
      "source": [
        "Much as any computer program can be ultimately reduced to a small set of binary\n",
        "operations on binary inputs (AND, OR, NOR, and so on), all transformations learned\n",
        "by deep neural networks can be reduced to a handful of **tensor operations** applied to\n",
        "tensors of numeric data. For instance, it’s possible to add tensors, multiply tensors,\n",
        "and so on.\n",
        "\n",
        "In our initial example, we were building our network by stacking Dense layers on\n",
        "top of each other. A Keras layer instance looks like this:\n",
        "\n",
        "`keras.layers.Dense(512, activation='relu')`\n",
        "\n",
        "This layer can be interpreted as a function, which takes as input a 2D tensor and\n",
        "returns another 2D tensor—a new representation for the input tensor. Specifically, the\n",
        "function is as follows (where W is a 2D tensor and b is a vector, both attributes of the\n",
        "layer):\n",
        "\n",
        "`output = relu(dot(W, input) + b)`\n",
        "\n",
        "Let’s unpack this. We have three tensor operations here: a dot product (dot) between\n",
        "the input tensor and a tensor named W; an addition (+) between the resulting 2D tensor and a vector b; and, finally, a relu operation. relu(x) is max(x, 0)."
      ]
    },
    {
      "cell_type": "markdown",
      "metadata": {
        "id": "HgfO0L0n2I-m"
      },
      "source": [
        "### **Element-wise operations**\n",
        "\n",
        "Operations that are\n",
        "applied independently to each entry in the tensors being considered. This means\n",
        "these operations are highly amenable to massively parallel implementations (*vectorized*\n",
        "implementations, a term that comes from the *vector processor* supercomputer architecture from the 1970–1990 period).\n",
        "\n",
        "- relu\n",
        "- addition (+)\n"
      ]
    },
    {
      "cell_type": "markdown",
      "metadata": {
        "id": "QRiwWteM3GVp"
      },
      "source": [
        "### **Broadcasting**"
      ]
    },
    {
      "cell_type": "markdown",
      "metadata": {
        "id": "RYsw9Wt83MFL"
      },
      "source": [
        "In the Dense layer introduced earlier, we added a 2D\n",
        "tensor with a vector. What happens with addition when the shapes of the two tensors\n",
        "being added differ?\n",
        " When possible, and if there’s no ambiguity, the smaller tensor will be broadcasted to\n",
        "match the shape of the larger tensor. Broadcasting consists of two steps:\n",
        "1. Axes (called *broadcast axes*) are added to the smaller tensor to match the ndim of\n",
        "the larger tensor.\n",
        "2. The smaller tensor is repeated alongside these new axes to match the full shape\n",
        "of the larger tensor."
      ]
    },
    {
      "cell_type": "code",
      "metadata": {
        "id": "V-p7S5aX7maY"
      },
      "source": [
        ""
      ],
      "execution_count": null,
      "outputs": []
    },
    {
      "cell_type": "markdown",
      "metadata": {
        "id": "JTtYy44o3kb_"
      },
      "source": [
        "Let’s look at a concrete example. Consider X with shape (32, 10) and y with shape\n",
        "(10,). First, we add an empty first axis to y, whose shape becomes (1, 10). Then, we\n",
        "repeat y 32 times alongside this new axis, so that we end up with a tensor Y with shape\n",
        "(32, 10), where Y[i, :] == y for i in range(0, 32). At this point, we can proceed to\n",
        "add X and Y, because they have the same shape.\n",
        "\n",
        " In terms of implementation, no new 2D tensor is created, because that would be\n",
        "terribly inefficient. The repetition operation is entirely virtual: it happens at the algorithmic level rather than at the memory level. But thinking of the vector being repeated 10 times alongside a new axis is a helpful mental model.\n",
        "\n",
        "With broadcasting, you can generally apply two-tensor element-wise operations if one\n",
        "tensor has shape (a, b, … n, n + 1, … m) and the other has shape (n, n + 1, … m). The\n",
        "broadcasting will then automatically happen for axes a through n - 1.\n",
        " The following example applies the **element-wise maximum operation** to two tensors\n",
        "of different shapes via broadcasting:"
      ]
    },
    {
      "cell_type": "code",
      "metadata": {
        "id": "GFAMBPpZXAT2"
      },
      "source": [
        "import numpy as np\n",
        "\n",
        "x = np.random.random((64, 3, 32, 10)) # x is a random tensor with shape (64, 3, 32, 10)\n",
        "y = np.random.random((32, 10)) # y is a random tensor with shape (32, 10)\n",
        "\n",
        "z = np.maximum(x, y) # The output z has shape (64, 3, 32, 10) like x"
      ],
      "execution_count": null,
      "outputs": []
    },
    {
      "cell_type": "markdown",
      "metadata": {
        "id": "9QimXazx8G37"
      },
      "source": [
        "### **Tensor dot**\n",
        "\n",
        "The dot operation, also called a **tensor product** (not to be confused with an elementwise product) is the most common, most useful tensor operation. Contrary to\n",
        "element-wise operations, it combines entries in the input tensors.\n",
        " An element-wise product is done with the * operator in Numpy, Keras, Theano,\n",
        "and TensorFlow. dot uses a different syntax in TensorFlow, but in both Numpy and\n",
        "Keras it’s done using the standard dot operator:"
      ]
    },
    {
      "cell_type": "code",
      "metadata": {
        "id": "Nn_rkxc4XHVV"
      },
      "source": [
        "import numpy as np\n",
        "\n",
        "# z = np.dot(x, y)"
      ],
      "execution_count": null,
      "outputs": []
    },
    {
      "cell_type": "markdown",
      "metadata": {
        "id": "95IODsh08Vh3"
      },
      "source": [
        "In mathematical notation, you’d note the operation with a dot (.):\n",
        "\n",
        "$z=x.y$\n",
        "\n",
        "You’ll have noticed that the dot product between two vectors is a scalar and that only\n",
        "vectors with the same number of elements are compatible for a dot product.\n",
        "\n",
        " You can also take the dot product between a matrix x and a vector y, which returns\n",
        "a vector where the coefficients are the dot products between y and the rows of x.<br><br>\n",
        "\n",
        "\n",
        "Note that as soon as one of the **two tensors has an ndim greater than 1**, dot is no longer symmetric, which is to say that dot(x, y) isn’t the same as dot(y, x).\n",
        "\n",
        "\n",
        " Of course, a dot product generalizes to tensors with an arbitrary number of axes.\n",
        "The most common applications may be the dot product between two matrices. You\n",
        "can take the dot product of two matrices x and y (dot(x, y)) if and only if\n",
        "x.shape[1] == y.shape[0]. The result is a matrix with shape (x.shape[0],\n",
        "y.shape[1]), where the coefficients are the vector products between the rows of x\n",
        "and the columns of y.<br><br>\n",
        "\n",
        " More generally, you can take the dot product between higher-dimensional tensors,\n",
        "following the same rules for shape compatibility as outlined earlier for the 2D case:\n",
        "(a, b, c, d) . (d,) -> (a, b, c)<br>\n",
        "(a, b, c, d) . (d, e) -> (a, b, c, e)"
      ]
    },
    {
      "cell_type": "markdown",
      "metadata": {
        "id": "fAy8xVlt-fed"
      },
      "source": [
        "### **Tensor reshaping**\n",
        "\n",
        "Reshaping a tensor means rearranging its rows and columns to match a target shape.\n",
        "Naturally, the reshaped tensor has the same total number of coefficients as the initial\n",
        "tensor. Reshaping is best understood via simple examples:"
      ]
    },
    {
      "cell_type": "code",
      "metadata": {
        "id": "5s9IkPJ--sJa",
        "outputId": "e59971e3-ecef-4337-cf12-9021d63f46e3",
        "colab": {
          "base_uri": "https://localhost:8080/",
          "height": 34
        }
      },
      "source": [
        "x = np.array([[0., 1.],\n",
        "              [2., 3.],\n",
        "              [4., 5.]])\n",
        "print(x.shape)"
      ],
      "execution_count": null,
      "outputs": [
        {
          "output_type": "stream",
          "text": [
            "(3, 2)\n"
          ],
          "name": "stdout"
        }
      ]
    },
    {
      "cell_type": "code",
      "metadata": {
        "id": "LqyZnmf4-3eI"
      },
      "source": [
        "x = x.reshape((6, 1))"
      ],
      "execution_count": null,
      "outputs": []
    },
    {
      "cell_type": "code",
      "metadata": {
        "id": "yYFgt-i8-5xk",
        "outputId": "28924953-4dd5-4381-e515-f3a869b1f3a3",
        "colab": {
          "base_uri": "https://localhost:8080/",
          "height": 119
        }
      },
      "source": [
        "x"
      ],
      "execution_count": null,
      "outputs": [
        {
          "output_type": "execute_result",
          "data": {
            "text/plain": [
              "array([[0.],\n",
              "       [1.],\n",
              "       [2.],\n",
              "       [3.],\n",
              "       [4.],\n",
              "       [5.]])"
            ]
          },
          "metadata": {
            "tags": []
          },
          "execution_count": 10
        }
      ]
    },
    {
      "cell_type": "code",
      "metadata": {
        "id": "P-Va6cZo_Tg2",
        "outputId": "4af269ad-7462-47d5-b5f1-0975bec7b33e",
        "colab": {
          "base_uri": "https://localhost:8080/",
          "height": 51
        }
      },
      "source": [
        "x = x.reshape((2, 3))\n",
        "print(x)"
      ],
      "execution_count": null,
      "outputs": [
        {
          "output_type": "stream",
          "text": [
            "[[0. 1. 2.]\n",
            " [3. 4. 5.]]\n"
          ],
          "name": "stdout"
        }
      ]
    },
    {
      "cell_type": "markdown",
      "metadata": {
        "id": "xFKYOjcO-_Yj"
      },
      "source": [
        "A special case of reshaping that’s commonly encountered is **transposition**. Transposing a\n",
        "matrix means exchanging its rows and its columns, so that x[i, :] becomes x[:, i]:"
      ]
    },
    {
      "cell_type": "markdown",
      "metadata": {
        "id": "nyU_TrjdphUQ"
      },
      "source": [
        "## **Momentum**\n",
        "\n",
        "In particular, the concept of momentum, which is used in\n",
        "many of these variants, deserves your attention. Momentum addresses two issues with *SGD*: **convergence speed** and **local minima**. Consider figure 2.13, which shows the curve of a loss as a function of a network parameter.\n",
        "\n",
        "As you can see, around a certain parameter value, there is a local minimum: around\n",
        "that point, moving left would result in the loss increasing, but so would moving right.\n",
        "If the parameter under consideration were being optimized via SGD with a small\n",
        "learning rate, then the optimization process would get stuck at the local minimum\n",
        "instead of making its way to the global minimum.\n",
        "\n",
        "\n",
        "<img src=\"https://drive.google.com/uc?id=1PXOzSazkVEpMg0T5-TcWCn3IeEDSxvJ0\"></img>\n"
      ]
    },
    {
      "cell_type": "markdown",
      "metadata": {
        "id": "qLcCbdnGyp6W"
      },
      "source": [
        "As you can see, around a certain parameter value, there is a local minimum: around that point, moving left would result in the loss increasing, but so would moving right.\n",
        "If the parameter under consideration were being optimized via SGD with a small learning rate, then the optimization process would get stuck at the local minimum\n",
        "instead of making its way to the global minimum.\n",
        "\n",
        "You can avoid such issues by using momentum, which draws inspiration from physics. A useful mental image here is to think of the optimization process as a small ball\n",
        "rolling down the loss curve. If it has enough momentum, the ball won’t get stuck in a\n",
        "ravine and will end up at the global minimum. Momentum is implemented by moving\n",
        "the ball at each step based not only on the current slope value (current acceleration)\n",
        "but also on the current velocity (resulting from past acceleration). In practice, this\n",
        "means updating the parameter w based not only on the current gradient value but also\n",
        "on the previous parameter update, such as in this naive implementation:"
      ]
    },
    {
      "cell_type": "code",
      "metadata": {
        "id": "Ahay7L87zKJD"
      },
      "source": [
        "# past_velocity = 0.\n",
        "# momentum = 0.1 # constant momentum factor\n",
        "# while loss > 0.01: # optimization loop\n",
        "#   w, loss, gradient = get_current_parameters()\n",
        "#   velocity = past_velocity * momentum + learning_rate * gradient\n",
        "#   w=w+ momentum * velocity - learning_rate * gradient\n",
        "#   past_velocity = velocity\n",
        "#   update_parameter(w)"
      ],
      "execution_count": null,
      "outputs": []
    },
    {
      "cell_type": "markdown",
      "metadata": {
        "id": "TpwHuz9wzGow"
      },
      "source": [
        "# <font color=\"Orange\">**Neural Networks with Keras Fundamentals**</font>\n",
        "\n"
      ]
    },
    {
      "cell_type": "markdown",
      "metadata": {
        "id": "qc1ZtMyokw86"
      },
      "source": [
        "Some fundamental ideas of Neural Networks:\n",
        "- **Learning** means finding a combination of model parameters that minimizes a loss function for a given set of training data samples and their corresponding targets.\n",
        "- Learning happens by drawing random batches of data samples and their\n",
        "targets, and computing the gradient of the network parameters with\n",
        "respect to the loss on the batch. The network parameters are then moved\n",
        "a bit (the magnitude of the move is defined by the learning rate) in the\n",
        "opposite direction from the gradient.\n",
        "- The entire learning process is made possible by the fact that neural networks are chains of differentiable tensor operations, and thus it’s possible\n",
        "to apply the chain rule of derivation to find the gradient function mapping the current parameters and current batch of data to a gradient value.\n",
        "- Two key concepts you’ll see frequently in future chapters are **loss** and **optimizers**. These are the two things you need to define before you begin feeding data into a network.\n",
        "- The **loss** is the quantity you’ll attempt to minimize during training, so it\n",
        "should represent a measure of success for the task you’re trying to solve.\n",
        "- The **optimizer** specifies the exact way in which the gradient of the loss will\n",
        "be used to update parameters: for instance, it could be the RMSProp optimizer, SGD with momentum, and so on."
      ]
    },
    {
      "cell_type": "markdown",
      "metadata": {
        "id": "cQrOO4eyz5r3"
      },
      "source": [
        "In this chapter, we will apply what you’ve learned to three new problems\n",
        "covering the three most common use cases of neural networks: \n",
        "- **binary classification** (Classifying movie reviews as positive or negative)\n",
        "- **multiclass classification** (Classifying news wires by topic) \n",
        "- **scalar regression** (Estimating the price of a house, given real-estate data)"
      ]
    },
    {
      "cell_type": "markdown",
      "metadata": {
        "id": "ajsD639_z51c"
      },
      "source": [
        "As you saw in the previous chapters, training a neural network revolves around the following objects:\n",
        "* **Layers**, which are combined into a **network** (or **model**)\n",
        "* The **input data** and corresponding **targets**\n",
        "* The **loss function**, which defines the feedback signal used for learning\n",
        "* The **optimizer**, which determines how learning proceeds"
      ]
    },
    {
      "cell_type": "markdown",
      "metadata": {
        "id": "vt_bT8rsz57i"
      },
      "source": [
        "<img src=\"https://drive.google.com/uc?id=1iY3ZV5UcAH0qu5Jv8OYs7y6TYBdjuiUc\"></img>\n",
        "\n"
      ]
    },
    {
      "cell_type": "markdown",
      "metadata": {
        "id": "HF6wbUZCz5-F"
      },
      "source": [
        "Let’s take a closer look at layers, networks, loss functions, and optimizers"
      ]
    },
    {
      "cell_type": "markdown",
      "metadata": {
        "id": "Xf9G6G68Dj9X"
      },
      "source": [
        "## <font color=\"MediumSeaGreen\">**Layers**</font>\n",
        "***\n",
        "The fundamental data structure in neural networks is the **layer**, to which you were\n",
        "introduced in chapter 2. A layer is a data-processing module that takes as input one or\n",
        "more tensors and that outputs one or more tensors. Some layers are stateless, but\n",
        "more frequently layers have a state: the layer’s **weights**, one or several tensors learned\n",
        "with stochastic gradient descent, which together contain the network’s **knowledge**.\n",
        "\n",
        "\n",
        " Different layers are appropriate for different tensor formats and different types of data\n",
        "processing. For instance, simple vector data, stored in 2D tensors of shape (samples,\n",
        "features), is often processed by **densely connected** layers, also called **fully connected** or **dense\n",
        "layers** (the Dense class in Keras). Sequence data, stored in 3D tensors of shape (samples,\n",
        "timesteps, features), is typically processed by **recurrent** layers such as an **LSTM** layer.\n",
        "Image data, stored in 4D tensors, is usually processed by 2D **convolution** layers (Conv2D).\n",
        "\n",
        "You can think of layers as the LEGO bricks of deep learning, a metaphor that is\n",
        "made explicit by frameworks like Keras. Building deep-learning models in Keras is\n",
        "done by clipping together compatible layers to form useful *data-transformation pipelines*. The notion of **layer compatibility** here refers specifically to the fact that every layer\n",
        "will only accept input tensors of a certain shape and will return output tensors of a certain shape. "
      ]
    },
    {
      "cell_type": "code",
      "metadata": {
        "id": "WJCHMJ1qqJEZ"
      },
      "source": [
        "from keras import layers\n",
        "\n",
        "layer = layers.Dense(32, input_shape=(784,))"
      ],
      "execution_count": null,
      "outputs": []
    },
    {
      "cell_type": "markdown",
      "metadata": {
        "id": "Jx0_9cEODjPo"
      },
      "source": [
        "We’re creating a layer that will only accept as input 2D tensors where the first dimension is 784 (axis 0, the batch dimension, is unspecified, and thus any value would be\n",
        "accepted). This layer will return a tensor where the first dimension has been transformed to be 32.\n",
        "\n",
        "Thus this layer can only be connected to a downstream layer that expects 32-\n",
        "dimensional vectors as its input. When using Keras, you don’t have to worry about\n",
        "compatibility, because the layers you add to your models are dynamically built to\n",
        "match the shape of the incoming layer. For instance, suppose you write the following:"
      ]
    },
    {
      "cell_type": "code",
      "metadata": {
        "id": "hyexnLv-FhZF"
      },
      "source": [
        "from keras import models\n",
        "from keras import layers\n",
        "\n",
        "model = models.Sequential()\n",
        "model.add(layers.Dense(32, input_shape=(784,)))\n",
        "model.add(layers.Dense(32))"
      ],
      "execution_count": null,
      "outputs": []
    },
    {
      "cell_type": "code",
      "metadata": {
        "id": "ocJow-mPIHSS"
      },
      "source": [
        ""
      ],
      "execution_count": null,
      "outputs": []
    },
    {
      "cell_type": "markdown",
      "metadata": {
        "id": "YNonnII6IPGY"
      },
      "source": [
        "## <font color=\"MediumSeaGreen\">**Models: networks of layers**</font>\n",
        "***"
      ]
    },
    {
      "cell_type": "markdown",
      "metadata": {
        "id": "9Qg6oW3DIkfT"
      },
      "source": [
        "A deep-learning model is a directed, acyclic graph of layers. The most common\n",
        "instance is a linear stack of layers, mapping a single input to a single output.\n",
        " But as you move forward, you’ll be exposed to a much broader variety of network\n",
        "topologies. Some common ones include the following:\n",
        "* Two-branch networks\n",
        "* Multihead networks\n",
        "* Inception blocks\n",
        "\n",
        "\n",
        "The topology of a network defines a **hypothesis space**. You may remember that in chapter 1, we defined machine learning as “searching for useful representations of some\n",
        "input data, within a predefined space of possibilities, using guidance from a feedback\n",
        "signal.” By choosing a network topology, you constrain your **space of possibilities**\n",
        "(hypothesis space) to a specific series of tensor operations, mapping input data to output data. What you’ll then be searching for is a good set of values for the weight tensors involved in these tensor operations."
      ]
    },
    {
      "cell_type": "markdown",
      "metadata": {
        "id": "YLJz1xriLi-6"
      },
      "source": [
        "## <font color=\"MediumSeaGreen\">**Loss functions and optimizers: keys to configuring the learning process**</font>\n",
        "***\n",
        "Once the network architecture is defined, you still have to choose two more things:\n",
        "* Loss function (objective function)—The quantity that will be minimized during\n",
        "training. It represents a measure of success for the task at hand.\n",
        "* Optimizer—Determines how the network will be updated based on the loss function. It implements a specific variant of stochastic gradient descent (SGD).\n",
        "\n",
        "\n",
        "A neural network that has multiple outputs may have multiple loss functions (one per\n",
        "output). But the gradient-descent process must be based on a single scalar loss value;\n",
        "so, for multiloss networks, all losses are combined (via averaging) into a single scalar\n",
        "quantity.\n",
        "\n",
        "\n",
        " Choosing the right objective function for the right problem is extremely important: your network will take any shortcut it can, to minimize the loss; so if the objective\n",
        "doesn’t fully correlate with success for the task at hand, your network will end up\n",
        "doing things you may not have wanted. Imagine a stupid, omnipotent AI trained via\n",
        "SGD, with this poorly chosen objective function: “maximizing the average well-being\n",
        "of all humans alive.” To make its job easier, this AI might choose to kill all humans\n",
        "except a few and focus on the well-being of the remaining ones—because average\n",
        "well-being isn’t affected by how many humans are left. That might not be what you\n",
        "intended! Just remember that all neural networks you build will be just as ruthless in\n",
        "lowering their loss function—so choose the objective wisely, or you’ll have to face\n",
        "unintended side effects\n",
        "\n",
        "You'll use **binary crossentropy** for a two-class classification\n",
        "problem, **categorical crossentropy** for a many-class classification problem, **meansquared error** for a regression problem, **connectionist temporal classification** (CTC)\n",
        "for a sequence-learning problem, and so on. Only when you’re working on truly new\n",
        "research problems will you have to develop your own objective functions. In the next\n",
        "few chapters, we’ll detail explicitly which loss functions to choose for a wide range of\n",
        "common tasks. \n",
        "\n",
        "* **binary crossentropy/log loss** (two-class classification)\n",
        "* **categorical crossentropy** (many-class classification)\n",
        "* **meansquared error** (for a regression problem)\n",
        "* **connectionist temporal classification** (sequence-learning problem).\n",
        "\n",
        "\n",
        "**Crossentropy** is a quantity from the field of Information Theory that measures the distance between probability distributions or, in this case, between the ground-truth distribution and your predictions.\n",
        "\n",
        "**Categorical crossentropy**, expects the labels to follow\n",
        "a categorical encoding. With integer labels, you should use sparse_categorical_\n",
        "crossentropy.\n",
        "\n",
        "**Categorical crossentropy** minimizes the distance between the probability distributions\n",
        "output by the network and the true distribution of the targets."
      ]
    },
    {
      "cell_type": "markdown",
      "metadata": {
        "id": "_yG3IPyfPy5H"
      },
      "source": [
        "## <font color=\"MediumSeaGreen\">**Typical Keras workflow**</font>\n",
        "***\n",
        "Typical Keras workflow:\n",
        "1. Define your training data: input tensors and target tensors.\n",
        "2.  Define a network of layers (or **model**) that maps your inputs to your targets.\n",
        "\n",
        "3. Configure the learning process by choosing a loss function, an optimizer, and\n",
        "some metrics to monitor.\n",
        "4.  Iterate on your training data by calling the **fit()** method of your model.\n",
        "\n",
        "\n",
        "\n",
        "There are two ways to define a model: using the **Sequential** class (only for linear\n",
        "stacks of layers, which is the most common network architecture by far) or the **functional API** (for directed acyclic graphs of layers, which lets you build completely arbitrary architectures)."
      ]
    },
    {
      "cell_type": "code",
      "metadata": {
        "id": "fFmyFqTwIR5T"
      },
      "source": [
        "from keras import models\n",
        "from keras import layers\n",
        "\n",
        "model = models.Sequential()\n",
        "model.add(layers.Dense(32, activation='relu', input_shape=(784,)))\n",
        "model.add(layers.Dense(10, activation='softmax'))"
      ],
      "execution_count": null,
      "outputs": []
    },
    {
      "cell_type": "markdown",
      "metadata": {
        "id": "PRLdAkgmRWpx"
      },
      "source": [
        "And here’s the same model defined using the functional API:"
      ]
    },
    {
      "cell_type": "code",
      "metadata": {
        "id": "t8kNAztcRT3e"
      },
      "source": [
        "input_tensor = layers.Input(shape=(784,))\n",
        "x = layers.Dense(32, activation='relu')(input_tensor)\n",
        "output_tensor = layers.Dense(10, activation='softmax')(x)\n",
        "\n",
        "model = models.Model(inputs=input_tensor, outputs=output_tensor)"
      ],
      "execution_count": null,
      "outputs": []
    },
    {
      "cell_type": "markdown",
      "metadata": {
        "id": "Ku44HwaVQZje"
      },
      "source": [
        "With the functional API, you’re manipulating the data tensors that the model processes and applying layers to this tensor as if they were functions."
      ]
    },
    {
      "cell_type": "markdown",
      "metadata": {
        "id": "m14JwyFPLiPA"
      },
      "source": [
        "The **learning process is configured in the compilation step**, where you specify the\n",
        "optimizer and loss function(s) that the model should use, as well as the metrics you\n",
        "want to monitor during training. Here’s an example with a single loss function, which\n",
        "is by far the most common case:"
      ]
    },
    {
      "cell_type": "code",
      "metadata": {
        "id": "fsiuxkBFSRQ_"
      },
      "source": [
        "from keras import optimizers\n",
        "model.compile(optimizer=optimizers.RMSprop(lr=0.001),\n",
        "              loss='mse',\n",
        "              metrics=['accuracy'])"
      ],
      "execution_count": null,
      "outputs": []
    },
    {
      "cell_type": "markdown",
      "metadata": {
        "id": "W-u-AyWwS10r"
      },
      "source": [
        "Finally, the learning process consists of passing Numpy arrays of input data (and the\n",
        "corresponding target data) to the model via the **fit()** method, similar to what you\n",
        "would do in *Scikit-Learn* and several other machine-learning libraries:"
      ]
    },
    {
      "cell_type": "code",
      "metadata": {
        "id": "pM3fCjXQSX1j"
      },
      "source": [
        "model.fit(input_tensor, target_tensor, batch_size=128, epochs=10)"
      ],
      "execution_count": null,
      "outputs": []
    },
    {
      "cell_type": "code",
      "metadata": {
        "id": "7NwGDxQZS7ZP"
      },
      "source": [
        ""
      ],
      "execution_count": null,
      "outputs": []
    },
    {
      "cell_type": "markdown",
      "metadata": {
        "id": "Q1gkLtfFUkGB"
      },
      "source": [
        "## <font color=\"Tomato\">**Classifying movie reviews: a binary classification example**</font>\n",
        "***"
      ]
    },
    {
      "cell_type": "markdown",
      "metadata": {
        "id": "0zxugwHCU1r-"
      },
      "source": [
        "In this example, you’ll learn to classify movie reviews using the **IMDB Dataset**\n",
        "into positive or negative, based on the text content of the reviews.\n",
        "\n",
        "Just like the MNIST dataset, the **IMDB dataset** comes packaged with Keras. It has\n",
        "already been preprocessed: the reviews (sequences of words) have been turned into\n",
        "*sequences of integers*, where **each integer stands for a specific word in a dictionary**."
      ]
    },
    {
      "cell_type": "code",
      "metadata": {
        "id": "kqpGwU9UUl-C"
      },
      "source": [
        "from keras.datasets import imdb\n",
        "\n",
        "(train_data, train_labels), (test_data, test_labels) = imdb.load_data(\n",
        "num_words=10000)"
      ],
      "execution_count": null,
      "outputs": []
    },
    {
      "cell_type": "markdown",
      "metadata": {
        "id": "qoRG9oXHV5dX"
      },
      "source": [
        "The argument num_words=10000 means you’ll only keep the top 10,000 most frequently occurring words in the training data. Rare words will be discarded. This allows\n",
        "you to work with vector data of manageable size."
      ]
    },
    {
      "cell_type": "code",
      "metadata": {
        "id": "MQgVdg90Vpa9",
        "outputId": "11cb1f58-33fa-4d52-b98a-cc2dad40da7a",
        "colab": {
          "base_uri": "https://localhost:8080/",
          "height": 1000
        }
      },
      "source": [
        "train_data[9]"
      ],
      "execution_count": null,
      "outputs": [
        {
          "output_type": "execute_result",
          "data": {
            "text/plain": [
              "[1,\n",
              " 14,\n",
              " 20,\n",
              " 47,\n",
              " 111,\n",
              " 439,\n",
              " 3445,\n",
              " 19,\n",
              " 12,\n",
              " 15,\n",
              " 166,\n",
              " 12,\n",
              " 216,\n",
              " 125,\n",
              " 40,\n",
              " 6,\n",
              " 364,\n",
              " 352,\n",
              " 707,\n",
              " 1187,\n",
              " 39,\n",
              " 294,\n",
              " 11,\n",
              " 22,\n",
              " 396,\n",
              " 13,\n",
              " 28,\n",
              " 8,\n",
              " 202,\n",
              " 12,\n",
              " 1109,\n",
              " 23,\n",
              " 94,\n",
              " 2,\n",
              " 151,\n",
              " 111,\n",
              " 211,\n",
              " 469,\n",
              " 4,\n",
              " 20,\n",
              " 13,\n",
              " 258,\n",
              " 546,\n",
              " 1104,\n",
              " 7273,\n",
              " 12,\n",
              " 16,\n",
              " 38,\n",
              " 78,\n",
              " 33,\n",
              " 211,\n",
              " 15,\n",
              " 12,\n",
              " 16,\n",
              " 2849,\n",
              " 63,\n",
              " 93,\n",
              " 12,\n",
              " 6,\n",
              " 253,\n",
              " 106,\n",
              " 10,\n",
              " 10,\n",
              " 48,\n",
              " 335,\n",
              " 267,\n",
              " 18,\n",
              " 6,\n",
              " 364,\n",
              " 1242,\n",
              " 1179,\n",
              " 20,\n",
              " 19,\n",
              " 6,\n",
              " 1009,\n",
              " 7,\n",
              " 1987,\n",
              " 189,\n",
              " 5,\n",
              " 6,\n",
              " 8419,\n",
              " 7,\n",
              " 2723,\n",
              " 2,\n",
              " 95,\n",
              " 1719,\n",
              " 6,\n",
              " 6035,\n",
              " 7,\n",
              " 3912,\n",
              " 7144,\n",
              " 49,\n",
              " 369,\n",
              " 120,\n",
              " 5,\n",
              " 28,\n",
              " 49,\n",
              " 253,\n",
              " 10,\n",
              " 10,\n",
              " 13,\n",
              " 1041,\n",
              " 19,\n",
              " 85,\n",
              " 795,\n",
              " 15,\n",
              " 4,\n",
              " 481,\n",
              " 9,\n",
              " 55,\n",
              " 78,\n",
              " 807,\n",
              " 9,\n",
              " 375,\n",
              " 8,\n",
              " 1167,\n",
              " 8,\n",
              " 794,\n",
              " 76,\n",
              " 7,\n",
              " 4,\n",
              " 58,\n",
              " 5,\n",
              " 4,\n",
              " 816,\n",
              " 9,\n",
              " 243,\n",
              " 7,\n",
              " 43,\n",
              " 50]"
            ]
          },
          "metadata": {
            "tags": []
          },
          "execution_count": 11
        }
      ]
    },
    {
      "cell_type": "markdown",
      "metadata": {
        "id": "pFz-W8-NW9n8"
      },
      "source": [
        "Here’s how you can quickly decode one of these reviews back to English\n",
        "words:"
      ]
    },
    {
      "cell_type": "code",
      "metadata": {
        "id": "jsMaeC-IWWHk",
        "outputId": "89f63f43-4fc7-45c1-99de-a5fccc40f39f",
        "colab": {
          "base_uri": "https://localhost:8080/",
          "height": 88
        }
      },
      "source": [
        "word_index = imdb.get_word_index() #  dictionary mapping words to an integer index\n",
        "\n",
        "reverse_word_index = dict( # Reverses it, mapping integer indices to words\n",
        "    [(value, key) for (key, value) in word_index.items()])\n",
        "\n",
        "# Decodes the review. Note that the indices are offset by 3 because 0, 1, and 2 are\n",
        "# reserved indices for “padding,” “start of sequence,” and “unknown.”\n",
        "decoded_review = ' '.join(\n",
        "    [reverse_word_index.get(i - 3, '?') for i in train_data[0]])\n",
        "\n",
        "print(decoded_review)"
      ],
      "execution_count": null,
      "outputs": [
        {
          "output_type": "stream",
          "text": [
            "Downloading data from https://storage.googleapis.com/tensorflow/tf-keras-datasets/imdb_word_index.json\n",
            "1646592/1641221 [==============================] - 0s 0us/step\n",
            "? this film was just brilliant casting location scenery story direction everyone's really suited the part they played and you could just imagine being there robert ? is an amazing actor and now the same being director ? father came from the same scottish island as myself so i loved the fact there was a real connection with this film the witty remarks throughout the film were great it was just brilliant so much that i bought the film as soon as it was released for ? and would recommend it to everyone to watch and the fly fishing was amazing really cried at the end it was so sad and you know what they say if you cry at a film it must have been good and this definitely was also ? to the two little boy's that played the ? of norman and paul they were just brilliant children are often left out of the ? list i think because the stars that play them all grown up are such a big profile for the whole film but these children are amazing and should be praised for what they have done don't you think the whole story was so lovely because it was true and was someone's life after all that was shared with us all\n"
          ],
          "name": "stdout"
        }
      ]
    },
    {
      "cell_type": "code",
      "metadata": {
        "id": "zvjCNHhLaOmZ",
        "outputId": "04fb2ce0-68ef-446c-ca78-273684a35602",
        "colab": {
          "base_uri": "https://localhost:8080/",
          "height": 34
        }
      },
      "source": [
        "# max word index\n",
        "max([max(sequence) for sequence in train_data])"
      ],
      "execution_count": null,
      "outputs": [
        {
          "output_type": "execute_result",
          "data": {
            "text/plain": [
              "9999"
            ]
          },
          "metadata": {
            "tags": []
          },
          "execution_count": 4
        }
      ]
    },
    {
      "cell_type": "markdown",
      "metadata": {
        "id": "PfX12PM1ZNwR"
      },
      "source": [
        "\n",
        "### **Preparing the data**\n",
        "\n",
        "You can’t feed lists of integers into a neural network. You have to turn your lists into\n",
        "tensors. There are two ways to do that:\n",
        "* Pad your lists so that they all have the same length, turn them into an integer\n",
        "tensor of shape *(samples, word_indices)*, and then use as the first layer in\n",
        "your network a layer capable of handling such integer tensors (the **Embedding**\n",
        "layer, which we’ll cover in detail later in the book).\n",
        "* One-hot encode your lists to turn them into vectors of 0s and 1s. This would\n",
        "mean, for instance, turning the sequence [3, 5] into a 10,000-dimensional vector that would be all 0s except for indices 3 and 5, which would be 1s. Then you\n",
        "could use as the first layer in your network a Dense layer, capable of handling\n",
        "floating-point vector data."
      ]
    },
    {
      "cell_type": "code",
      "metadata": {
        "id": "WHjitfPXXCWZ"
      },
      "source": [
        "# Encoding the integer sequences into a binary matrix\n",
        "import numpy as np\n",
        "\n",
        "def vectorize_sequences(sequences, dimension=10000):\n",
        "    results = np.zeros((len(sequences), dimension))\n",
        "    for i, sequence in enumerate(sequences):\n",
        "        results[i, sequence] = 1.\n",
        "    return results\n",
        "\n",
        "x_train = vectorize_sequences(train_data)\n",
        "x_test = vectorize_sequences(test_data)"
      ],
      "execution_count": null,
      "outputs": []
    },
    {
      "cell_type": "code",
      "metadata": {
        "id": "i3XJaFDubl3q",
        "outputId": "79382208-9509-4e0e-9c00-bd3ef60da132",
        "colab": {
          "base_uri": "https://localhost:8080/",
          "height": 34
        }
      },
      "source": [
        "x_train.shape"
      ],
      "execution_count": null,
      "outputs": [
        {
          "output_type": "execute_result",
          "data": {
            "text/plain": [
              "(25000, 10000)"
            ]
          },
          "metadata": {
            "tags": []
          },
          "execution_count": 6
        }
      ]
    },
    {
      "cell_type": "code",
      "metadata": {
        "id": "Ram7yOk1cBmO"
      },
      "source": [
        "# vectorize labels\n",
        "y_train = np.asarray(train_labels).astype('float32')\n",
        "y_test = np.asarray(test_labels).astype('float32')"
      ],
      "execution_count": null,
      "outputs": []
    },
    {
      "cell_type": "code",
      "metadata": {
        "id": "AC0firQZcISd",
        "outputId": "349b658b-934a-4ff2-b46a-e9e8fe5d50f0",
        "colab": {
          "base_uri": "https://localhost:8080/",
          "height": 34
        }
      },
      "source": [
        "y_train.shape"
      ],
      "execution_count": null,
      "outputs": [
        {
          "output_type": "execute_result",
          "data": {
            "text/plain": [
              "(25000,)"
            ]
          },
          "metadata": {
            "tags": []
          },
          "execution_count": 8
        }
      ]
    },
    {
      "cell_type": "markdown",
      "metadata": {
        "id": "4-cfAClecRTT"
      },
      "source": [
        "### **Building your network**\n",
        "\n",
        "\n",
        "\n",
        "The input data is vectors, and the labels are scalars (1s and 0s): this is the easiest setup\n",
        "you’ll ever encounter. A type of network that performs well on such a problem is\n",
        "a simple stack of fully connected (Dense) layers with relu activations: Dense(16,\n",
        "activation='relu').\n",
        "\n",
        "The argument being passed to each Dense layer (16) is the number of hidden\n",
        "units of the layer. A **hidden unit** is a dimension in the representation space of the layer. You may remember from chapter 2 that each such Dense layer with a relu activation\n",
        "implements the following chain of tensor operations:\n",
        "\n",
        "$output = relu(dot(W, input) + b)$"
      ]
    },
    {
      "cell_type": "markdown",
      "metadata": {
        "id": "_Sq_AvM1c3yi"
      },
      "source": [
        "Having 16 hidden units means the weight matrix W will have shape (input_dimension,\n",
        "16): **the dot product with W will project the input data onto a 16-dimensional representation space** (and then you’ll add the bias vector b and apply the relu operation). You\n",
        "can intuitively understand the dimensionality of your representation space as “how\n",
        "much freedom you’re allowing the network to have when learning internal representations.” Having more hidden units (a higher-dimensional representation space)\n",
        "allows your network to learn more-complex representations, but it makes the network\n",
        "more computationally expensive and may lead to learning unwanted patterns (patterns that will improve performance on the training data but not on the test data)."
      ]
    },
    {
      "cell_type": "markdown",
      "metadata": {
        "id": "fOWccJ9JeMTv"
      },
      "source": [
        "A **relu** (rectified linear unit) is a function meant to zero out negative values\n",
        "(see figure 3.4), whereas a sigmoid “squashes” arbitrary values into the [0, 1] interval\n",
        "(see figure 3.5), outputting something that can be interpreted as a probability."
      ]
    },
    {
      "cell_type": "markdown",
      "metadata": {
        "id": "tLUK1muCeXPV"
      },
      "source": [
        "\n",
        "\n",
        "<img src=\"https://drive.google.com/uc?id=1St5aIduDDPOxDIQiIaYXvWiOwNeJGwcH\"></img>"
      ]
    },
    {
      "cell_type": "code",
      "metadata": {
        "id": "5JfdM5wqc4ZR"
      },
      "source": [
        "# Model definition\n",
        "from keras import models\n",
        "from keras import layers\n",
        "\n",
        "model = models.Sequential()\n",
        "model.add(layers.Dense(16, activation='relu', input_shape=(10000,)))\n",
        "model.add(layers.Dense(16, activation='relu'))\n",
        "model.add(layers.Dense(1, activation='sigmoid'))"
      ],
      "execution_count": null,
      "outputs": []
    },
    {
      "cell_type": "code",
      "metadata": {
        "id": "FcOhjjyReqJD"
      },
      "source": [
        ""
      ],
      "execution_count": null,
      "outputs": []
    },
    {
      "cell_type": "markdown",
      "metadata": {
        "id": "HPCNUbIafA3z"
      },
      "source": [
        "### What are activation functions, and why are they necessary?\n",
        "\n",
        "Without an activation function like **relu** (also called a non-linearity), the Dense layer\n",
        "would consist of two linear operations—a dot product and an addition:\n",
        "\n",
        "$output = dot(W, input) + b$\n",
        "\n",
        "So the layer could only learn linear transformations (affine transformations) of the\n",
        "input data: the **hypothesis space** of the layer would be the set of all possible linear\n",
        "transformations of the input data into a 16-dimensional space. Such a hypothesis\n",
        "space is too restricted and wouldn’t benefit from multiple layers of representations,\n",
        "because a deep stack of linear layers would still implement a linear operation: adding\n",
        "more layers wouldn’t extend the hypothesis space.\n",
        "\n",
        "\n",
        "In order to get access to a much richer hypothesis space that would benefit from\n",
        "deep representations, you need a non-linearity, or activation function. **relu** is the\n",
        "most popular activation function in deep learning, but there are many other candidates, which all come with similarly strange names: **prelu**, **elu**, and so on."
      ]
    },
    {
      "cell_type": "code",
      "metadata": {
        "id": "I3PEqoD1fC1K"
      },
      "source": [
        ""
      ],
      "execution_count": null,
      "outputs": []
    },
    {
      "cell_type": "markdown",
      "metadata": {
        "id": "Lp__IMYOfiiu"
      },
      "source": [
        "Best to use **binary_crossentropy** loss. It isn’t the only viable choice: you could use, for instance,\n",
        "**mean_squared_error**. But crossentropy is usually the best choice when you’re dealing\n",
        "with models that output probabilities. \n",
        "\n",
        "**Crossentropy** is a quantity from the field of Information Theory that measures the distance between probability distributions or, in this\n",
        "case, between the ground-truth distribution and your predictions"
      ]
    },
    {
      "cell_type": "code",
      "metadata": {
        "id": "FE88KSl5fmxi"
      },
      "source": [
        "# Compile the model\n",
        "model.compile(optimizer='rmsprop',\n",
        "              loss='binary_crossentropy',\n",
        "              metrics=['accuracy'])"
      ],
      "execution_count": null,
      "outputs": []
    },
    {
      "cell_type": "markdown",
      "metadata": {
        "id": "zzmOo6rxgM-T"
      },
      "source": [
        "You’re passing your optimizer, loss function, and metrics as strings, which is possible\n",
        "because **rmsprop**, **binary_crossentropy**, and **accuracy** are packaged as part of Keras.\n",
        "Sometimes you may want to configure the parameters of your optimizer or pass a custom loss function or metric function. The former can be done by passing an **optimizer**\n",
        "class instance as the optimizer argument, as shown in listing 3.5; the latter can be\n",
        "done by passing function objects as the loss and/or metrics arguments, as shown:"
      ]
    },
    {
      "cell_type": "code",
      "metadata": {
        "id": "qjoGpFscf--C"
      },
      "source": [
        "# Configuring the optimizer\n",
        "from keras import optimizers\n",
        "\n",
        "model.compile(optimizer=optimizers.RMSprop(lr=0.001),\n",
        "              loss='binary_crossentropy',\n",
        "              metrics=['accuracy'])"
      ],
      "execution_count": null,
      "outputs": []
    },
    {
      "cell_type": "code",
      "metadata": {
        "id": "43XbyCupgYHN"
      },
      "source": [
        "# Using custom losses and metrics\n",
        "from keras import losses\n",
        "from keras import metrics\n",
        "\n",
        "model.compile(optimizer=optimizers.RMSprop(lr=0.001),\n",
        "              loss=losses.binary_crossentropy,\n",
        "              metrics=[metrics.binary_accuracy])"
      ],
      "execution_count": null,
      "outputs": []
    },
    {
      "cell_type": "markdown",
      "metadata": {
        "id": "gKG2j_H3gvEx"
      },
      "source": [
        "### **Training and validating**\n",
        "\n",
        "Set aside a validation set."
      ]
    },
    {
      "cell_type": "code",
      "metadata": {
        "id": "4lEk3P_Qge0B"
      },
      "source": [
        "x_val = x_train[:10000]\n",
        "partial_x_train = x_train[10000:]\n",
        "\n",
        "y_val = y_train[:10000]\n",
        "partial_y_train = y_train[10000:]"
      ],
      "execution_count": null,
      "outputs": []
    },
    {
      "cell_type": "code",
      "metadata": {
        "id": "YkXM90RGg02u",
        "outputId": "a76e778e-8a44-4945-b899-912702cc598b",
        "colab": {
          "base_uri": "https://localhost:8080/",
          "height": 51
        }
      },
      "source": [
        "print(x_val.shape)\n",
        "print(partial_x_train.shape)"
      ],
      "execution_count": null,
      "outputs": [
        {
          "output_type": "stream",
          "text": [
            "(10000, 10000)\n",
            "(15000, 10000)\n"
          ],
          "name": "stdout"
        }
      ]
    },
    {
      "cell_type": "markdown",
      "metadata": {
        "id": "wRyVIlHghSEs"
      },
      "source": [
        "You’ll now train the model for 20 epochs (20 iterations over all samples in the\n",
        "**x_train** and **y_train** tensors), in mini-batches of 512 samples. At the same time,\n",
        "you’ll monitor loss and accuracy on the 10,000 samples that you set apart. You do so by\n",
        "passing the validation data as the validation_data argument."
      ]
    },
    {
      "cell_type": "code",
      "metadata": {
        "id": "edzd_EiRhBp9",
        "outputId": "c45823a1-139e-4c4a-ad2c-eb84aca22e72",
        "colab": {
          "base_uri": "https://localhost:8080/",
          "height": 697
        }
      },
      "source": [
        "# Training your model\n",
        "model.compile(optimizer='rmsprop',\n",
        "              loss='binary_crossentropy',\n",
        "              metrics=['acc'])\n",
        "\n",
        "history = model.fit(partial_x_train,\n",
        "                    partial_y_train,\n",
        "                    epochs=20,\n",
        "                    batch_size=512,\n",
        "                    validation_data=(x_val, y_val))"
      ],
      "execution_count": null,
      "outputs": [
        {
          "output_type": "stream",
          "text": [
            "Epoch 1/20\n",
            "30/30 [==============================] - 1s 29ms/step - loss: 0.5276 - acc: 0.7897 - val_loss: 0.4122 - val_acc: 0.8523\n",
            "Epoch 2/20\n",
            "30/30 [==============================] - 1s 19ms/step - loss: 0.3210 - acc: 0.9023 - val_loss: 0.3331 - val_acc: 0.8683\n",
            "Epoch 3/20\n",
            "30/30 [==============================] - 1s 19ms/step - loss: 0.2340 - acc: 0.9231 - val_loss: 0.2861 - val_acc: 0.8867\n",
            "Epoch 4/20\n",
            "30/30 [==============================] - 1s 19ms/step - loss: 0.1823 - acc: 0.9413 - val_loss: 0.2774 - val_acc: 0.8901\n",
            "Epoch 5/20\n",
            "30/30 [==============================] - 1s 19ms/step - loss: 0.1510 - acc: 0.9514 - val_loss: 0.2764 - val_acc: 0.8892\n",
            "Epoch 6/20\n",
            "30/30 [==============================] - 1s 18ms/step - loss: 0.1220 - acc: 0.9635 - val_loss: 0.2937 - val_acc: 0.8859\n",
            "Epoch 7/20\n",
            "30/30 [==============================] - 1s 19ms/step - loss: 0.1038 - acc: 0.9693 - val_loss: 0.3039 - val_acc: 0.8832\n",
            "Epoch 8/20\n",
            "30/30 [==============================] - 1s 19ms/step - loss: 0.0879 - acc: 0.9744 - val_loss: 0.3415 - val_acc: 0.8803\n",
            "Epoch 9/20\n",
            "30/30 [==============================] - 1s 19ms/step - loss: 0.0700 - acc: 0.9812 - val_loss: 0.3420 - val_acc: 0.8771\n",
            "Epoch 10/20\n",
            "30/30 [==============================] - 1s 19ms/step - loss: 0.0604 - acc: 0.9835 - val_loss: 0.3721 - val_acc: 0.8760\n",
            "Epoch 11/20\n",
            "30/30 [==============================] - 1s 19ms/step - loss: 0.0467 - acc: 0.9890 - val_loss: 0.3984 - val_acc: 0.8732\n",
            "Epoch 12/20\n",
            "30/30 [==============================] - 1s 19ms/step - loss: 0.0389 - acc: 0.9923 - val_loss: 0.4206 - val_acc: 0.8751\n",
            "Epoch 13/20\n",
            "30/30 [==============================] - 1s 18ms/step - loss: 0.0310 - acc: 0.9944 - val_loss: 0.4573 - val_acc: 0.8748\n",
            "Epoch 14/20\n",
            "30/30 [==============================] - 1s 19ms/step - loss: 0.0252 - acc: 0.9952 - val_loss: 0.5037 - val_acc: 0.8664\n",
            "Epoch 15/20\n",
            "30/30 [==============================] - 1s 19ms/step - loss: 0.0225 - acc: 0.9949 - val_loss: 0.5174 - val_acc: 0.8703\n",
            "Epoch 16/20\n",
            "30/30 [==============================] - 1s 19ms/step - loss: 0.0128 - acc: 0.9991 - val_loss: 0.5534 - val_acc: 0.8695\n",
            "Epoch 17/20\n",
            "30/30 [==============================] - 1s 20ms/step - loss: 0.0124 - acc: 0.9987 - val_loss: 0.5894 - val_acc: 0.8675\n",
            "Epoch 18/20\n",
            "30/30 [==============================] - 1s 18ms/step - loss: 0.0102 - acc: 0.9987 - val_loss: 0.6258 - val_acc: 0.8668\n",
            "Epoch 19/20\n",
            "30/30 [==============================] - 1s 19ms/step - loss: 0.0064 - acc: 0.9997 - val_loss: 0.6885 - val_acc: 0.8629\n",
            "Epoch 20/20\n",
            "30/30 [==============================] - 1s 18ms/step - loss: 0.0075 - acc: 0.9985 - val_loss: 0.7017 - val_acc: 0.8636\n"
          ],
          "name": "stdout"
        }
      ]
    },
    {
      "cell_type": "markdown",
      "metadata": {
        "id": "9Z6xtx8Dh3ZY"
      },
      "source": [
        "On CPU, this will take less than 2 seconds per epoch—training is over in 20 seconds.\n",
        "At the end of every epoch, there is a slight pause as the model computes its loss and\n",
        "accuracy on the 10,000 samples of the validation data.\n",
        "\n",
        "\n",
        "Note that the call to model.fit() returns a **History object**. This object has a member history, which is a dictionary containing data about everything that happened\n",
        "during training. Let’s look at it:"
      ]
    },
    {
      "cell_type": "code",
      "metadata": {
        "id": "G4DOoBf4hwn_",
        "outputId": "2b15b982-9281-4e73-cf20-7a51d84ecdd6",
        "colab": {
          "base_uri": "https://localhost:8080/",
          "height": 34
        }
      },
      "source": [
        "history_dict = history.history\n",
        "history_dict.keys()"
      ],
      "execution_count": null,
      "outputs": [
        {
          "output_type": "execute_result",
          "data": {
            "text/plain": [
              "dict_keys(['loss', 'acc', 'val_loss', 'val_acc'])"
            ]
          },
          "metadata": {
            "tags": []
          },
          "execution_count": 16
        }
      ]
    },
    {
      "cell_type": "markdown",
      "metadata": {
        "id": "ZxL0fd8liM_4"
      },
      "source": [
        "The dictionary contains four entries: one per metric that was being monitored during\n",
        "training and during validation. In the following two listing, let’s use Matplotlib to plot\n",
        "the training and validation loss side by side (see figure 3.7), as well as the training and\n",
        "validation accuracy (see figure 3.8). "
      ]
    },
    {
      "cell_type": "markdown",
      "metadata": {
        "id": "GqANgw2_iRSO"
      },
      "source": [
        "### **Visualizing metrics**"
      ]
    },
    {
      "cell_type": "code",
      "metadata": {
        "id": "LTtQtx1iiIuV",
        "outputId": "4ca16f49-1a3c-4074-dc2c-6e533248d632",
        "colab": {
          "base_uri": "https://localhost:8080/",
          "height": 295
        }
      },
      "source": [
        "# Plotting training and validation loss\n",
        "import matplotlib.pyplot as plt\n",
        "\n",
        "history_dict = history.history\n",
        "loss_values = history_dict['loss']\n",
        "val_loss_values = history_dict['val_loss']\n",
        "\n",
        "epochs = range(1, len(loss_values) + 1)\n",
        "\n",
        "plt.plot(epochs, loss_values, 'bo', label='Training loss') # bo is blue dot\n",
        "plt.plot(epochs, val_loss_values, 'b', label='Validation loss') # b is solid blue line\n",
        "plt.title('Training and validation loss')\n",
        "plt.xlabel('Epochs')\n",
        "plt.ylabel('Loss')\n",
        "plt.legend()\n",
        "plt.show()"
      ],
      "execution_count": null,
      "outputs": [
        {
          "output_type": "display_data",
          "data": {
            "image/png": "[encoded data removed]",
            "text/plain": [
              "<Figure size 432x288 with 1 Axes>"
            ]
          },
          "metadata": {
            "tags": [],
            "needs_background": "light"
          }
        }
      ]
    },
    {
      "cell_type": "code",
      "metadata": {
        "id": "yqa1Y9xCi3mW",
        "outputId": "996284a7-390d-47b0-e500-14a7efb76870",
        "colab": {
          "base_uri": "https://localhost:8080/",
          "height": 295
        }
      },
      "source": [
        "# Plotting training and validation accuracy\n",
        "\n",
        "plt.clf() # clears figure\n",
        "acc_values = history_dict['acc']\n",
        "val_acc_values = history_dict['val_acc']\n",
        "\n",
        "plt.plot(epochs, acc_values, 'bo', label='Training acc')\n",
        "plt.plot(epochs, val_acc_values, 'b', label='Validation acc')\n",
        "plt.title('Training and validation accuracy')\n",
        "plt.xlabel('Epochs')\n",
        "plt.ylabel('Loss')\n",
        "plt.legend()\n",
        "plt.show()"
      ],
      "execution_count": null,
      "outputs": [
        {
          "output_type": "display_data",
          "data": {
            "image/png": "[encoded data removed]",
            "text/plain": [
              "<Figure size 432x288 with 1 Axes>"
            ]
          },
          "metadata": {
            "tags": [],
            "needs_background": "light"
          }
        }
      ]
    },
    {
      "cell_type": "markdown",
      "metadata": {
        "id": "ja6mFKEtj7eu"
      },
      "source": [
        "This is an example of what we warned against earlier: a\n",
        "model that performs better on the training data isn’t necessarily a model that will do\n",
        "better on data it has never seen before. In precise terms, what you’re seeing is **overfitting**: after the second epoch, **you’re overoptimizing on the training data, and you end\n",
        "up learning representations that are specific to the training data and don’t generalize\n",
        "to data outside of the training set**."
      ]
    },
    {
      "cell_type": "code",
      "metadata": {
        "id": "FH1q2uVRjrua",
        "outputId": "97e3251a-9590-4b04-eda0-c786c8d074b6",
        "colab": {
          "base_uri": "https://localhost:8080/",
          "height": 215
        }
      },
      "source": [
        "# Retraining from scratch\n",
        "model = models.Sequential()\n",
        "model.add(layers.Dense(32, activation='relu', input_shape=(10000,)))\n",
        "model.add(layers.Dense(32, activation='relu'))\n",
        "model.add(layers.Dense(64, activation='relu'))\n",
        "model.add(layers.Dense(1, activation='sigmoid'))\n",
        "\n",
        "model.compile(optimizer='rmsprop',\n",
        "              loss='mse',\n",
        "              metrics=['accuracy'])\n",
        "\n",
        "model.fit(x_train, y_train, epochs=10, batch_size=512)\n",
        "results = model.evaluate(x_test, y_test)"
      ],
      "execution_count": null,
      "outputs": [
        {
          "output_type": "error",
          "ename": "NameError",
          "evalue": "ignored",
          "traceback": [
            "\u001b[0;31m---------------------------------------------------------------------------\u001b[0m",
            "\u001b[0;31mNameError\u001b[0m                                 Traceback (most recent call last)",
            "\u001b[0;32m<ipython-input-3-b04c83efae0d>\u001b[0m in \u001b[0;36m<module>\u001b[0;34m()\u001b[0m\n\u001b[1;32m     10\u001b[0m               metrics=['accuracy'])\n\u001b[1;32m     11\u001b[0m \u001b[0;34m\u001b[0m\u001b[0m\n\u001b[0;32m---> 12\u001b[0;31m \u001b[0mmodel\u001b[0m\u001b[0;34m.\u001b[0m\u001b[0mfit\u001b[0m\u001b[0;34m(\u001b[0m\u001b[0mx_train\u001b[0m\u001b[0;34m,\u001b[0m \u001b[0my_train\u001b[0m\u001b[0;34m,\u001b[0m \u001b[0mepochs\u001b[0m\u001b[0;34m=\u001b[0m\u001b[0;36m10\u001b[0m\u001b[0;34m,\u001b[0m \u001b[0mbatch_size\u001b[0m\u001b[0;34m=\u001b[0m\u001b[0;36m512\u001b[0m\u001b[0;34m)\u001b[0m\u001b[0;34m\u001b[0m\u001b[0;34m\u001b[0m\u001b[0m\n\u001b[0m\u001b[1;32m     13\u001b[0m \u001b[0mresults\u001b[0m \u001b[0;34m=\u001b[0m \u001b[0mmodel\u001b[0m\u001b[0;34m.\u001b[0m\u001b[0mevaluate\u001b[0m\u001b[0;34m(\u001b[0m\u001b[0mx_test\u001b[0m\u001b[0;34m,\u001b[0m \u001b[0my_test\u001b[0m\u001b[0;34m)\u001b[0m\u001b[0;34m\u001b[0m\u001b[0;34m\u001b[0m\u001b[0m\n",
            "\u001b[0;31mNameError\u001b[0m: name 'x_train' is not defined"
          ]
        }
      ]
    },
    {
      "cell_type": "code",
      "metadata": {
        "id": "-AAo998Nkd7Y",
        "outputId": "4d5c2a91-826e-438c-cb2e-d5088abbbf75",
        "colab": {
          "base_uri": "https://localhost:8080/",
          "height": 34
        }
      },
      "source": [
        "# returns loss and accuracy on x_test\n",
        "results"
      ],
      "execution_count": null,
      "outputs": [
        {
          "output_type": "execute_result",
          "data": {
            "text/plain": [
              "[0.5935375094413757, 0.8646799921989441]"
            ]
          },
          "metadata": {
            "tags": []
          },
          "execution_count": 31
        }
      ]
    },
    {
      "cell_type": "markdown",
      "metadata": {
        "id": "TDA4byRck2cI"
      },
      "source": [
        "### **Using a trained network to generate predictions on new data**"
      ]
    },
    {
      "cell_type": "code",
      "metadata": {
        "id": "aUjo0grzkfXX",
        "outputId": "45760b26-05ce-470f-ff31-36e30e2b32ee",
        "colab": {
          "base_uri": "https://localhost:8080/",
          "height": 136
        }
      },
      "source": [
        "model.predict(x_test)"
      ],
      "execution_count": null,
      "outputs": [
        {
          "output_type": "execute_result",
          "data": {
            "text/plain": [
              "array([[0.17760067],\n",
              "       [0.9999198 ],\n",
              "       [0.9157734 ],\n",
              "       ...,\n",
              "       [0.16096908],\n",
              "       [0.1118544 ],\n",
              "       [0.72514415]], dtype=float32)"
            ]
          },
          "metadata": {
            "tags": []
          },
          "execution_count": 25
        }
      ]
    },
    {
      "cell_type": "markdown",
      "metadata": {
        "id": "biIptVY-k7x0"
      },
      "source": [
        "### Future experiments\n",
        "\n",
        "* You used two hidden layers. Try using one or three hidden layers, and see how\n",
        "doing so affects validation and test accuracy.\n",
        "* Try using layers with more hidden units or fewer hidden units: 32 units, 64 units,\n",
        "and so on.\n",
        "* Try using the **mse** loss function instead of **binary_crossentropy**.\n",
        "* Try using the **tanh activation** (an activation that was popular in the early days of\n",
        "neural networks) instead of **relu**."
      ]
    },
    {
      "cell_type": "markdown",
      "metadata": {
        "id": "2mbBh7x-mK_t"
      },
      "source": [
        "### **Wrapping up**\n",
        "Here’s what you should take away from this example:\n",
        "\n",
        "* You usually need to do quite a bit of preprocessing on your raw data in order to\n",
        "be able to feed it—as tensors—into a neural network. Sequences of words can\n",
        "be encoded as **binary vectors**, but there are other encoding options, too.\n",
        "* Stacks of **Dense** layers with **relu** activations can solve a wide range of problems\n",
        "(including sentiment classification), and you’ll likely use them frequently.\n",
        "* In a binary classification problem (two output classes), your network should\n",
        "end with a **Dense** layer with one unit and a **sigmoid** activation: the output of\n",
        "your network should be a scalar between 0 and 1, encoding a probability.\n",
        "* With such a scalar sigmoid output on a binary classification problem, the loss\n",
        "function you should use is **binary_crossentropy**.\n",
        "* The **rmsprop optimizer** is generally a good enough choice, whatever your problem. That’s one less thing for you to worry about.\n",
        "* As they get better on their training data, neural networks eventually start overfitting and end up obtaining increasingly worse results on data they’ve never\n",
        "seen before. Be sure to always monitor performance on data that is outside of\n",
        "the training set."
      ]
    },
    {
      "cell_type": "markdown",
      "metadata": {
        "id": "wch54HUDmjpO"
      },
      "source": [
        "## <font color=\"Tomato\">**Classifying newswires: a multiclass classification example**<font>\n",
        "***"
      ]
    },
    {
      "cell_type": "markdown",
      "metadata": {
        "id": "xKp3ZWgTmogy"
      },
      "source": [
        "In the previous section, you saw how to classify vector inputs into two mutually exclusive classes using a densely connected neural network. But what happens when you\n",
        "have more than two classes?\n",
        "\n",
        "In this section, you’ll build a network to **classify Reuters newswires into 46 mutually\n",
        "exclusive topics**. Because you have many classes, this problem is an instance of **multiclass classification**; and because each data point should be classified into only one category, the problem is more specifically an instance of **single-label**, **multiclass classification**.\n",
        "If each data point could belong to multiple categories (in this case, topics), you’d be\n",
        "facing a multilabel, multiclass classification problem."
      ]
    },
    {
      "cell_type": "markdown",
      "metadata": {
        "id": "IvdA-ktym5ou"
      },
      "source": [
        "**The Reuters dataset**\n",
        "\n",
        "You’ll work with the *Reuters* dataset, a set of short newswires and their topics, published\n",
        "by Reuters in 1986. It’s a simple, widely used toy dataset for text classification. There\n",
        "are 46 different topics; some topics are more represented than others, but each topic\n",
        "has at least 10 examples in the training set."
      ]
    },
    {
      "cell_type": "code",
      "metadata": {
        "id": "x7SNHgxuk4To"
      },
      "source": [
        "# Loading dataset\n",
        "from keras.datasets import reuters\n",
        "(train_data, train_labels), (test_data, test_labels) = reuters.load_data(\n",
        "    num_words=10000)"
      ],
      "execution_count": null,
      "outputs": []
    },
    {
      "cell_type": "markdown",
      "metadata": {
        "id": "eNRO84aynKrH"
      },
      "source": [
        "As with the IMDB dataset, the argument num_words=10000 restricts the data to the\n",
        "10,000 most frequently occurring words found in the data.\n",
        "\n",
        "You have 8,982 training examples and 2,246 test examples:"
      ]
    },
    {
      "cell_type": "code",
      "metadata": {
        "id": "mP3SwvxEnE2W",
        "outputId": "d652ba58-7c0b-4505-b99c-b4837fae7377",
        "colab": {
          "base_uri": "https://localhost:8080/",
          "height": 51
        }
      },
      "source": [
        "print(len(train_data))\n",
        "print(len(test_data))"
      ],
      "execution_count": null,
      "outputs": [
        {
          "output_type": "stream",
          "text": [
            "8982\n",
            "2246\n"
          ],
          "name": "stdout"
        }
      ]
    },
    {
      "cell_type": "markdown",
      "metadata": {
        "id": "a2z4dg9Nnht6"
      },
      "source": [
        "As with the IMDB reviews, each example is a list of integers (**word indices**):"
      ]
    },
    {
      "cell_type": "code",
      "metadata": {
        "id": "Un3Ez8_HnHgD",
        "outputId": "153b9cc3-2c87-413c-8aac-86b742e665a0",
        "colab": {
          "base_uri": "https://localhost:8080/",
          "height": 34
        }
      },
      "source": [
        "len(train_data[0])"
      ],
      "execution_count": null,
      "outputs": [
        {
          "output_type": "execute_result",
          "data": {
            "text/plain": [
              "87"
            ]
          },
          "metadata": {
            "tags": []
          },
          "execution_count": 22
        }
      ]
    },
    {
      "cell_type": "markdown",
      "metadata": {
        "id": "mYt_5F4wnuwp"
      },
      "source": [
        "### **Prepare data**"
      ]
    },
    {
      "cell_type": "code",
      "metadata": {
        "id": "k5x_2y1CnbPF"
      },
      "source": [
        "# Vectorize data\n",
        "import numpy as np\n",
        "\n",
        "def vectorize_sequences(sequences, dimension=10000):\n",
        "    results = np.zeros((len(sequences), dimension))\n",
        "    for i, sequence in enumerate(sequences):\n",
        "        results[i, sequence] = 1.\n",
        "    return results\n",
        "\n",
        "x_train = vectorize_sequences(train_data) # vectorized training data\n",
        "x_test = vectorize_sequences(test_data) # vectorized test data"
      ],
      "execution_count": null,
      "outputs": []
    },
    {
      "cell_type": "code",
      "metadata": {
        "id": "7S3YnLZWrKvl",
        "outputId": "c3c38c3b-7296-425e-c412-b79276407ad8",
        "colab": {
          "base_uri": "https://localhost:8080/",
          "height": 34
        }
      },
      "source": [
        "test_labels[0:6]"
      ],
      "execution_count": null,
      "outputs": [
        {
          "output_type": "execute_result",
          "data": {
            "text/plain": [
              "array([ 3, 10,  1,  4,  4,  3])"
            ]
          },
          "metadata": {
            "tags": []
          },
          "execution_count": 24
        }
      ]
    },
    {
      "cell_type": "markdown",
      "metadata": {
        "id": "dNbIu7KqqHKJ"
      },
      "source": [
        "To vectorize the labels, there are two possibilities: you can cast the label list as an integer tensor, or you can use one-hot encoding. **One-hot encoding** is a widely used format for ***categorical data***, also called categorical encoding. For a more detailed\n",
        "explanation of one-hot encoding, see section 6.1. In this case, one-hot encoding of\n",
        "the labels consists of embedding each label as an all-zero vector with a 1 in the place of\n",
        "the label index. Here’s an example:"
      ]
    },
    {
      "cell_type": "code",
      "metadata": {
        "id": "BW3SRgFEnznS"
      },
      "source": [
        "def to_one_hot(labels, dimension=46):\n",
        "    results = np.zeros((len(labels), dimension))\n",
        "    for i, label in enumerate(labels):\n",
        "        results[i, label] = 1.\n",
        "    return results\n",
        "\n",
        "one_hot_train_labels = to_one_hot(train_labels) # vectorized train labels\n",
        "one_hot_test_labels = to_one_hot(test_labels) # vectorized test labels"
      ],
      "execution_count": null,
      "outputs": []
    },
    {
      "cell_type": "markdown",
      "metadata": {
        "id": "a1PEoifJq11V"
      },
      "source": [
        "Note that there is a built-in way to do this in Keras, which you’ve already seen in action\n",
        "in the MNIST example:"
      ]
    },
    {
      "cell_type": "code",
      "metadata": {
        "id": "l_mKnTdMqvkj"
      },
      "source": [
        "from keras.utils.np_utils import to_categorical\n",
        "\n",
        "one_hot_train_labels = to_categorical(train_labels)\n",
        "one_hot_test_labels = to_categorical(test_labels)"
      ],
      "execution_count": null,
      "outputs": []
    },
    {
      "cell_type": "markdown",
      "metadata": {
        "id": "DWZihRaMrz3q"
      },
      "source": [
        "### **Building your network**\n"
      ]
    },
    {
      "cell_type": "markdown",
      "metadata": {
        "id": "BpOzuIIdsDXP"
      },
      "source": [
        "This topic-classification problem looks similar to the previous movie-review classification problem: in both cases, you’re trying to classify short snippets of text. But there is\n",
        "a new constraint here: the number of output classes has gone from 2 to 46. The\n",
        "dimensionality of the output space is much larger."
      ]
    },
    {
      "cell_type": "code",
      "metadata": {
        "id": "thvuhch1r05s"
      },
      "source": [
        "# Model definition\n",
        "from keras import models\n",
        "from keras import layers\n",
        "\n",
        "model = models.Sequential()\n",
        "model.add(layers.Dense(64, activation='relu', input_shape=(10000,)))\n",
        "model.add(layers.Dense(64, activation='relu'))\n",
        "model.add(layers.Dense(46, activation='softmax'))"
      ],
      "execution_count": null,
      "outputs": []
    },
    {
      "cell_type": "markdown",
      "metadata": {
        "id": "U_QjDjf4sxN0"
      },
      "source": [
        "The best loss function to use in this case is **categorical_crossentropy**. It measures\n",
        "the distance between two probability distributions: here, between the probability distribution output by the network and the true distribution of the labels. By minimizing\n",
        "the distance between these two distributions, you train the network to output something as close as possible to the true labels"
      ]
    },
    {
      "cell_type": "code",
      "metadata": {
        "id": "Ggou58qwszv9"
      },
      "source": [
        "# Compiling model\n",
        "model.compile(optimizer='rmsprop',\n",
        "              loss='categorical_crossentropy',\n",
        "              metrics=['accuracy'])"
      ],
      "execution_count": null,
      "outputs": []
    },
    {
      "cell_type": "code",
      "metadata": {
        "id": "Te89iJiRtGyx"
      },
      "source": [
        ""
      ],
      "execution_count": null,
      "outputs": []
    },
    {
      "cell_type": "markdown",
      "metadata": {
        "id": "qB4qDYc8tUWk"
      },
      "source": [
        "### Validating your approach"
      ]
    },
    {
      "cell_type": "code",
      "metadata": {
        "id": "JkgCYw60tVsv"
      },
      "source": [
        "# Set aside valid set\n",
        "x_val = x_train[:1000]\n",
        "partial_x_train = x_train[1000:]\n",
        "\n",
        "y_val = one_hot_train_labels[:1000]\n",
        "partial_y_train = one_hot_train_labels[1000:]"
      ],
      "execution_count": null,
      "outputs": []
    },
    {
      "cell_type": "code",
      "metadata": {
        "id": "t264AXQ9tYyW",
        "outputId": "73d13cf0-1fd9-4695-b364-26cdde7f2e40",
        "colab": {
          "base_uri": "https://localhost:8080/",
          "height": 717
        }
      },
      "source": [
        "history = model.fit(partial_x_train,\n",
        "                    partial_y_train,\n",
        "                    epochs=20,\n",
        "                    batch_size=512,\n",
        "                    validation_data=(x_val, y_val))"
      ],
      "execution_count": null,
      "outputs": [
        {
          "output_type": "stream",
          "text": [
            "Epoch 1/20\n",
            "16/16 [==============================] - 0s 23ms/step - loss: 2.5871 - accuracy: 0.5238 - val_loss: 1.7028 - val_accuracy: 0.6380\n",
            "Epoch 2/20\n",
            "16/16 [==============================] - 0s 14ms/step - loss: 1.4240 - accuracy: 0.7066 - val_loss: 1.3193 - val_accuracy: 0.7050\n",
            "Epoch 3/20\n",
            "16/16 [==============================] - 0s 14ms/step - loss: 1.0752 - accuracy: 0.7699 - val_loss: 1.1548 - val_accuracy: 0.7490\n",
            "Epoch 4/20\n",
            "16/16 [==============================] - 0s 14ms/step - loss: 0.8576 - accuracy: 0.8153 - val_loss: 1.0545 - val_accuracy: 0.7670\n",
            "Epoch 5/20\n",
            "16/16 [==============================] - 0s 13ms/step - loss: 0.6897 - accuracy: 0.8493 - val_loss: 0.9813 - val_accuracy: 0.7920\n",
            "Epoch 6/20\n",
            "16/16 [==============================] - 0s 13ms/step - loss: 0.5524 - accuracy: 0.8839 - val_loss: 0.9335 - val_accuracy: 0.8140\n",
            "Epoch 7/20\n",
            "16/16 [==============================] - 0s 14ms/step - loss: 0.4479 - accuracy: 0.9055 - val_loss: 0.9316 - val_accuracy: 0.7980\n",
            "Epoch 8/20\n",
            "16/16 [==============================] - 0s 14ms/step - loss: 0.3617 - accuracy: 0.9243 - val_loss: 0.9085 - val_accuracy: 0.8060\n",
            "Epoch 9/20\n",
            "16/16 [==============================] - 0s 14ms/step - loss: 0.2986 - accuracy: 0.9346 - val_loss: 0.9160 - val_accuracy: 0.8090\n",
            "Epoch 10/20\n",
            "16/16 [==============================] - 0s 15ms/step - loss: 0.2518 - accuracy: 0.9425 - val_loss: 0.9307 - val_accuracy: 0.8080\n",
            "Epoch 11/20\n",
            "16/16 [==============================] - 0s 15ms/step - loss: 0.2145 - accuracy: 0.9478 - val_loss: 0.9538 - val_accuracy: 0.8100\n",
            "Epoch 12/20\n",
            "16/16 [==============================] - 0s 14ms/step - loss: 0.1866 - accuracy: 0.9499 - val_loss: 0.9586 - val_accuracy: 0.8020\n",
            "Epoch 13/20\n",
            "16/16 [==============================] - 0s 14ms/step - loss: 0.1681 - accuracy: 0.9534 - val_loss: 1.0449 - val_accuracy: 0.7890\n",
            "Epoch 14/20\n",
            "16/16 [==============================] - 0s 15ms/step - loss: 0.1518 - accuracy: 0.9529 - val_loss: 0.9652 - val_accuracy: 0.8070\n",
            "Epoch 15/20\n",
            "16/16 [==============================] - 0s 14ms/step - loss: 0.1409 - accuracy: 0.9555 - val_loss: 0.9528 - val_accuracy: 0.8110\n",
            "Epoch 16/20\n",
            "16/16 [==============================] - 0s 15ms/step - loss: 0.1334 - accuracy: 0.9549 - val_loss: 0.9902 - val_accuracy: 0.8130\n",
            "Epoch 17/20\n",
            "16/16 [==============================] - 0s 15ms/step - loss: 0.1269 - accuracy: 0.9558 - val_loss: 1.0501 - val_accuracy: 0.8030\n",
            "Epoch 18/20\n",
            "16/16 [==============================] - 0s 14ms/step - loss: 0.1193 - accuracy: 0.9574 - val_loss: 1.0898 - val_accuracy: 0.7930\n",
            "Epoch 19/20\n",
            "16/16 [==============================] - 0s 15ms/step - loss: 0.1184 - accuracy: 0.9583 - val_loss: 1.0453 - val_accuracy: 0.8100\n",
            "Epoch 20/20\n",
            "16/16 [==============================] - 0s 15ms/step - loss: 0.1121 - accuracy: 0.9570 - val_loss: 1.0752 - val_accuracy: 0.7950\n"
          ],
          "name": "stdout"
        }
      ]
    },
    {
      "cell_type": "markdown",
      "metadata": {
        "id": "IWtQpHcBt9HE"
      },
      "source": [
        "**Plot training and validation loss**"
      ]
    },
    {
      "cell_type": "code",
      "metadata": {
        "id": "MDWZy4THtfLI"
      },
      "source": [
        "import matplotlib.pyplot as plt\n",
        "\n",
        "# takes in history object and prints training and validation loss\n",
        "def plot_loss(history):\n",
        "    loss = history.history['loss']\n",
        "    val_loss = history.history['val_loss']\n",
        "\n",
        "    epochs = range(1, len(loss) + 1)\n",
        "\n",
        "    plt.plot(epochs, loss, 'bo', label='Training loss')\n",
        "    plt.plot(epochs, val_loss, 'b', label='Validation loss')\n",
        "    plt.title('Training and validation loss')\n",
        "    plt.xlabel('Epochs')\n",
        "    plt.ylabel('Loss')\n",
        "    plt.legend()\n",
        "    \n",
        "    plt.show()"
      ],
      "execution_count": null,
      "outputs": []
    },
    {
      "cell_type": "code",
      "metadata": {
        "id": "24OxJ-5ouZsc",
        "outputId": "f11b8b28-04c0-4135-f0a5-0bba1e296ba0",
        "colab": {
          "base_uri": "https://localhost:8080/",
          "height": 295
        }
      },
      "source": [
        "plot_loss(history)"
      ],
      "execution_count": null,
      "outputs": [
        {
          "output_type": "display_data",
          "data": {
            "image/png": "[encoded data removed]",
            "text/plain": [
              "<Figure size 432x288 with 1 Axes>"
            ]
          },
          "metadata": {
            "tags": [],
            "needs_background": "light"
          }
        }
      ]
    },
    {
      "cell_type": "code",
      "metadata": {
        "id": "WxEMU_Mtu1Bm"
      },
      "source": [
        ""
      ],
      "execution_count": null,
      "outputs": []
    },
    {
      "cell_type": "code",
      "metadata": {
        "id": "CROTfn-4ucWC"
      },
      "source": [
        "def plot_accuracy(history):\n",
        "    acc = history.history['accuracy']\n",
        "    val_acc = history.history['val_accuracy']\n",
        "\n",
        "    epochs = range(1, len(acc) + 1)\n",
        "\n",
        "    plt.plot(epochs, acc, 'bo', label='Training acc')\n",
        "    plt.plot(epochs, val_acc, 'b', label='Validation acc')\n",
        "    plt.title('Training and validation accuracy')\n",
        "    plt.xlabel('Epochs')\n",
        "    plt.ylabel('Loss')\n",
        "    plt.legend()\n",
        "\n",
        "    plt.show()"
      ],
      "execution_count": null,
      "outputs": []
    },
    {
      "cell_type": "code",
      "metadata": {
        "id": "uSDj9Y09upct",
        "outputId": "99c5998c-b0bb-48ab-c049-465b1ff1dde2",
        "colab": {
          "base_uri": "https://localhost:8080/",
          "height": 295
        }
      },
      "source": [
        "plt.clf()\n",
        "plot_accuracy(history)"
      ],
      "execution_count": null,
      "outputs": [
        {
          "output_type": "display_data",
          "data": {
            "image/png": "[encoded data removed]",
            "text/plain": [
              "<Figure size 432x288 with 1 Axes>"
            ]
          },
          "metadata": {
            "tags": [],
            "needs_background": "light"
          }
        }
      ]
    },
    {
      "cell_type": "markdown",
      "metadata": {
        "id": "84XeTnf8vcs4"
      },
      "source": [
        "The network begins to overfit after nine epochs. Let’s train a new network from\n",
        "scratch for nine epochs and then evaluate it on the test set."
      ]
    },
    {
      "cell_type": "code",
      "metadata": {
        "id": "tBoL-L_7uqpJ",
        "outputId": "da234d57-dcca-4daa-998a-04ef254e499d",
        "colab": {
          "base_uri": "https://localhost:8080/",
          "height": 360
        }
      },
      "source": [
        "model = models.Sequential()\n",
        "model.add(layers.Dense(64, activation='relu', input_shape=(10000,)))\n",
        "model.add(layers.Dense(64, activation='relu'))\n",
        "model.add(layers.Dense(46, activation='softmax'))\n",
        "\n",
        "model.compile(optimizer='rmsprop',\n",
        "              loss='categorical_crossentropy',\n",
        "              metrics=['accuracy'])\n",
        "\n",
        "model.fit(partial_x_train,\n",
        "          partial_y_train,\n",
        "          epochs=9,\n",
        "          batch_size=512,\n",
        "          validation_data=(x_val, y_val))\n",
        "\n",
        "results = model.evaluate(x_test, one_hot_test_labels)"
      ],
      "execution_count": null,
      "outputs": [
        {
          "output_type": "stream",
          "text": [
            "Epoch 1/9\n",
            "16/16 [==============================] - 0s 22ms/step - loss: 2.5812 - accuracy: 0.5256 - val_loss: 1.6941 - val_accuracy: 0.6470\n",
            "Epoch 2/9\n",
            "16/16 [==============================] - 0s 14ms/step - loss: 1.3717 - accuracy: 0.7087 - val_loss: 1.2703 - val_accuracy: 0.7260\n",
            "Epoch 3/9\n",
            "16/16 [==============================] - 0s 14ms/step - loss: 1.0111 - accuracy: 0.7824 - val_loss: 1.1102 - val_accuracy: 0.7530\n",
            "Epoch 4/9\n",
            "16/16 [==============================] - 0s 13ms/step - loss: 0.7965 - accuracy: 0.8316 - val_loss: 1.0334 - val_accuracy: 0.7780\n",
            "Epoch 5/9\n",
            "16/16 [==============================] - 0s 13ms/step - loss: 0.6342 - accuracy: 0.8670 - val_loss: 0.9593 - val_accuracy: 0.7910\n",
            "Epoch 6/9\n",
            "16/16 [==============================] - 0s 15ms/step - loss: 0.5110 - accuracy: 0.8898 - val_loss: 0.9315 - val_accuracy: 0.8050\n",
            "Epoch 7/9\n",
            "16/16 [==============================] - 0s 13ms/step - loss: 0.4141 - accuracy: 0.9136 - val_loss: 0.9721 - val_accuracy: 0.7820\n",
            "Epoch 8/9\n",
            "16/16 [==============================] - 0s 14ms/step - loss: 0.3391 - accuracy: 0.9297 - val_loss: 0.9148 - val_accuracy: 0.8130\n",
            "Epoch 9/9\n",
            "16/16 [==============================] - 0s 13ms/step - loss: 0.2797 - accuracy: 0.9405 - val_loss: 0.8983 - val_accuracy: 0.8120\n",
            "71/71 [==============================] - 0s 3ms/step - loss: 0.9863 - accuracy: 0.7863\n"
          ],
          "name": "stdout"
        }
      ]
    },
    {
      "cell_type": "code",
      "metadata": {
        "id": "1jw9GoCJvocO",
        "outputId": "e4830102-a5da-4f8b-fb6e-8fa81ac76718",
        "colab": {
          "base_uri": "https://localhost:8080/",
          "height": 34
        }
      },
      "source": [
        "print(results)"
      ],
      "execution_count": null,
      "outputs": [
        {
          "output_type": "stream",
          "text": [
            "[0.9862919449806213, 0.7862867116928101]\n"
          ],
          "name": "stdout"
        }
      ]
    },
    {
      "cell_type": "markdown",
      "metadata": {
        "id": "qFVTxbxewrNt"
      },
      "source": [
        "**Make predictions**"
      ]
    },
    {
      "cell_type": "code",
      "metadata": {
        "id": "u6UEtkIKv1rG"
      },
      "source": [
        "predictions = model.predict(x_test)"
      ],
      "execution_count": null,
      "outputs": []
    },
    {
      "cell_type": "code",
      "metadata": {
        "id": "p6Qhl_SWwvKw",
        "outputId": "12b89db1-c190-4731-ed86-76437c2d76b1",
        "colab": {
          "base_uri": "https://localhost:8080/",
          "height": 34
        }
      },
      "source": [
        "predictions[0].shape"
      ],
      "execution_count": null,
      "outputs": [
        {
          "output_type": "execute_result",
          "data": {
            "text/plain": [
              "(46,)"
            ]
          },
          "metadata": {
            "tags": []
          },
          "execution_count": 51
        }
      ]
    },
    {
      "cell_type": "code",
      "metadata": {
        "id": "8a_H8XdcwwSw",
        "outputId": "0cda2a19-e69f-48da-f8bd-9d9e5462d649",
        "colab": {
          "base_uri": "https://localhost:8080/",
          "height": 34
        }
      },
      "source": [
        "np.sum(predictions[0])"
      ],
      "execution_count": null,
      "outputs": [
        {
          "output_type": "execute_result",
          "data": {
            "text/plain": [
              "0.9999999"
            ]
          },
          "metadata": {
            "tags": []
          },
          "execution_count": 52
        }
      ]
    },
    {
      "cell_type": "code",
      "metadata": {
        "id": "JNa3uVvLwxSl",
        "outputId": "d72b986d-d24d-4537-8944-cb639ffa0135",
        "colab": {
          "base_uri": "https://localhost:8080/",
          "height": 34
        }
      },
      "source": [
        "np.argmax(predictions[0])"
      ],
      "execution_count": null,
      "outputs": [
        {
          "output_type": "execute_result",
          "data": {
            "text/plain": [
              "3"
            ]
          },
          "metadata": {
            "tags": []
          },
          "execution_count": 53
        }
      ]
    },
    {
      "cell_type": "code",
      "metadata": {
        "id": "0eEwGjFxwymr"
      },
      "source": [
        ""
      ],
      "execution_count": null,
      "outputs": []
    },
    {
      "cell_type": "markdown",
      "metadata": {
        "id": "WmVWjFnyxD94"
      },
      "source": [
        "### **A different way to handle the labels and the loss**\n",
        "\n",
        "We mentioned earlier that another way to encode the labels would be to cast them as\n",
        "an integer tensor, like this:"
      ]
    },
    {
      "cell_type": "code",
      "metadata": {
        "id": "YRabJ4t4xEr2"
      },
      "source": [
        "y_train = np.array(train_labels)\n",
        "y_test = np.array(test_labels)"
      ],
      "execution_count": null,
      "outputs": []
    },
    {
      "cell_type": "markdown",
      "metadata": {
        "id": "DsKg7FK4xJel"
      },
      "source": [
        "The only thing this approach would change is the choice of the loss function. The loss\n",
        "function used in listing 3.21, categorical_crossentropy, expects the labels to follow\n",
        "a categorical encoding. With integer labels, you should use **sparse_categorical_\n",
        "crossentropy**:"
      ]
    },
    {
      "cell_type": "markdown",
      "metadata": {
        "id": "sGAPAVlfVObp"
      },
      "source": [
        "The only thing this approach would change is the choice of the loss function. The loss\n",
        "function used in listing 3.21, **categorical_crossentropy**, expects the labels to follow\n",
        "a categorical encoding. With integer labels, you should use **sparse_categorical_\n",
        "crossentropy**:"
      ]
    },
    {
      "cell_type": "code",
      "metadata": {
        "id": "BUQ-UiMsxIXn"
      },
      "source": [
        "model.compile(optimizer='rmsprop',\n",
        "              loss='sparse_categorical_crossentropy',\n",
        "              metrics=['acc'])"
      ],
      "execution_count": null,
      "outputs": []
    },
    {
      "cell_type": "markdown",
      "metadata": {
        "id": "apc0AM2ObI7x"
      },
      "source": [
        "This new loss function is still mathematically the same as categorical_crossentropy;\n",
        "it just has a different interface."
      ]
    },
    {
      "cell_type": "markdown",
      "metadata": {
        "id": "_TMrO0q7b3hE"
      },
      "source": [
        "If you replace the middle intermediate layer with 4 units stead of 46, validation accuracy will peak at ~71%, an 8% drop.\n",
        "\n",
        "\n",
        "This drop\n",
        "is mostly due to the fact that you’re trying to compress a lot of information (***enough\n",
        "information to recover the separation hyperplanes of 46 classes***) into an intermediate\n",
        "space that is too low-dimensional. The network is able to cram most of the necessary\n",
        "information into these eight-dimensional representations, but not all of it"
      ]
    },
    {
      "cell_type": "markdown",
      "metadata": {
        "id": "GCyR8tuUiVWR"
      },
      "source": [
        "### **Wrapping up**\n",
        "\n",
        "There are two ways to handle labels in multiclass classification:\n",
        "* Encoding the labels via categorical encoding (also known as one-hot encoding) and using categorical_crossentropy as a loss function\n",
        "* Encoding the labels as integers and using the sparse_categorical_crossentropy\n",
        "loss function\n",
        "* If you need to classify data into a large number of categories, you should avoid\n",
        "creating information bottlenecks in your network due to intermediate layers\n",
        "that are too small. "
      ]
    },
    {
      "cell_type": "markdown",
      "metadata": {
        "id": "WNWKOahkjA43"
      },
      "source": [
        "## <font color=\"Tomato\">**Predicting house prices: a regression example**</font>\n",
        "***\n",
        "\n",
        "We will use the *The Boston Housing Price dataset*.\n",
        "\n",
        "\n",
        "You’ll attempt to predict the median price of homes in a given Boston suburb in the\n",
        "mid-1970s, given data points about the suburb at the time, such as the crime rate, the\n",
        "local property tax rate, and so on. The dataset you’ll use has an interesting difference\n",
        "from the two previous examples. It has relatively few data points: only 506, split\n",
        "between 404 training samples and 102 test samples. And each ***feature*** in the input data\n",
        "(for example, the crime rate) has a different scale. For instance, some values are proportions, which take values between 0 and 1; others take values between 1 and 12, others between 0 and 100, and so on."
      ]
    },
    {
      "cell_type": "code",
      "metadata": {
        "id": "jQq13He2iciu",
        "outputId": "3eb19e6e-4184-468e-9441-0afda5419602",
        "colab": {
          "base_uri": "https://localhost:8080/",
          "height": 51
        }
      },
      "source": [
        "from keras.datasets import boston_housing\n",
        "\n",
        "(train_data, train_targets), (test_data, test_targets) = boston_housing.load_data()"
      ],
      "execution_count": null,
      "outputs": [
        {
          "output_type": "stream",
          "text": [
            "Downloading data from https://storage.googleapis.com/tensorflow/tf-keras-datasets/boston_housing.npz\n",
            "57344/57026 [==============================] - 0s 0us/step\n"
          ],
          "name": "stdout"
        }
      ]
    },
    {
      "cell_type": "code",
      "metadata": {
        "id": "oVMsuvpFl_d-",
        "outputId": "db76ef2f-ed96-44bd-af99-5f4a7203a2d9",
        "colab": {
          "base_uri": "https://localhost:8080/",
          "height": 34
        }
      },
      "source": [
        "train_data.shape"
      ],
      "execution_count": null,
      "outputs": [
        {
          "output_type": "execute_result",
          "data": {
            "text/plain": [
              "(404, 13)"
            ]
          },
          "metadata": {
            "tags": []
          },
          "execution_count": 4
        }
      ]
    },
    {
      "cell_type": "code",
      "metadata": {
        "id": "9BlC_J52mHDq",
        "outputId": "d1c2b0e1-eb21-41bf-b2ff-fd62578b6bab",
        "colab": {
          "base_uri": "https://localhost:8080/",
          "height": 34
        }
      },
      "source": [
        "test_data.shape"
      ],
      "execution_count": null,
      "outputs": [
        {
          "output_type": "execute_result",
          "data": {
            "text/plain": [
              "(102, 13)"
            ]
          },
          "metadata": {
            "tags": []
          },
          "execution_count": 5
        }
      ]
    },
    {
      "cell_type": "code",
      "metadata": {
        "id": "DfZUmoYtmID_",
        "outputId": "8717637f-6b70-413a-9c0c-0a460a6490bb",
        "colab": {
          "base_uri": "https://localhost:8080/",
          "height": 68
        }
      },
      "source": [
        "train_data[0]"
      ],
      "execution_count": null,
      "outputs": [
        {
          "output_type": "execute_result",
          "data": {
            "text/plain": [
              "array([  1.23247,   0.     ,   8.14   ,   0.     ,   0.538  ,   6.142  ,\n",
              "        91.7    ,   3.9769 ,   4.     , 307.     ,  21.     , 396.9    ,\n",
              "        18.72   ])"
            ]
          },
          "metadata": {
            "tags": []
          },
          "execution_count": 6
        }
      ]
    },
    {
      "cell_type": "code",
      "metadata": {
        "id": "pSkiDfO4oSXL",
        "outputId": "d245c705-2c20-432f-afa3-40a96eeaefc0",
        "colab": {
          "base_uri": "https://localhost:8080/",
          "height": 646
        }
      },
      "source": [
        "train_targets"
      ],
      "execution_count": null,
      "outputs": [
        {
          "output_type": "execute_result",
          "data": {
            "text/plain": [
              "array([15.2, 42.3, 50. , 21.1, 17.7, 18.5, 11.3, 15.6, 15.6, 14.4, 12.1,\n",
              "       17.9, 23.1, 19.9, 15.7,  8.8, 50. , 22.5, 24.1, 27.5, 10.9, 30.8,\n",
              "       32.9, 24. , 18.5, 13.3, 22.9, 34.7, 16.6, 17.5, 22.3, 16.1, 14.9,\n",
              "       23.1, 34.9, 25. , 13.9, 13.1, 20.4, 20. , 15.2, 24.7, 22.2, 16.7,\n",
              "       12.7, 15.6, 18.4, 21. , 30.1, 15.1, 18.7,  9.6, 31.5, 24.8, 19.1,\n",
              "       22. , 14.5, 11. , 32. , 29.4, 20.3, 24.4, 14.6, 19.5, 14.1, 14.3,\n",
              "       15.6, 10.5,  6.3, 19.3, 19.3, 13.4, 36.4, 17.8, 13.5, 16.5,  8.3,\n",
              "       14.3, 16. , 13.4, 28.6, 43.5, 20.2, 22. , 23. , 20.7, 12.5, 48.5,\n",
              "       14.6, 13.4, 23.7, 50. , 21.7, 39.8, 38.7, 22.2, 34.9, 22.5, 31.1,\n",
              "       28.7, 46. , 41.7, 21. , 26.6, 15. , 24.4, 13.3, 21.2, 11.7, 21.7,\n",
              "       19.4, 50. , 22.8, 19.7, 24.7, 36.2, 14.2, 18.9, 18.3, 20.6, 24.6,\n",
              "       18.2,  8.7, 44. , 10.4, 13.2, 21.2, 37. , 30.7, 22.9, 20. , 19.3,\n",
              "       31.7, 32. , 23.1, 18.8, 10.9, 50. , 19.6,  5. , 14.4, 19.8, 13.8,\n",
              "       19.6, 23.9, 24.5, 25. , 19.9, 17.2, 24.6, 13.5, 26.6, 21.4, 11.9,\n",
              "       22.6, 19.6,  8.5, 23.7, 23.1, 22.4, 20.5, 23.6, 18.4, 35.2, 23.1,\n",
              "       27.9, 20.6, 23.7, 28. , 13.6, 27.1, 23.6, 20.6, 18.2, 21.7, 17.1,\n",
              "        8.4, 25.3, 13.8, 22.2, 18.4, 20.7, 31.6, 30.5, 20.3,  8.8, 19.2,\n",
              "       19.4, 23.1, 23. , 14.8, 48.8, 22.6, 33.4, 21.1, 13.6, 32.2, 13.1,\n",
              "       23.4, 18.9, 23.9, 11.8, 23.3, 22.8, 19.6, 16.7, 13.4, 22.2, 20.4,\n",
              "       21.8, 26.4, 14.9, 24.1, 23.8, 12.3, 29.1, 21. , 19.5, 23.3, 23.8,\n",
              "       17.8, 11.5, 21.7, 19.9, 25. , 33.4, 28.5, 21.4, 24.3, 27.5, 33.1,\n",
              "       16.2, 23.3, 48.3, 22.9, 22.8, 13.1, 12.7, 22.6, 15. , 15.3, 10.5,\n",
              "       24. , 18.5, 21.7, 19.5, 33.2, 23.2,  5. , 19.1, 12.7, 22.3, 10.2,\n",
              "       13.9, 16.3, 17. , 20.1, 29.9, 17.2, 37.3, 45.4, 17.8, 23.2, 29. ,\n",
              "       22. , 18. , 17.4, 34.6, 20.1, 25. , 15.6, 24.8, 28.2, 21.2, 21.4,\n",
              "       23.8, 31. , 26.2, 17.4, 37.9, 17.5, 20. ,  8.3, 23.9,  8.4, 13.8,\n",
              "        7.2, 11.7, 17.1, 21.6, 50. , 16.1, 20.4, 20.6, 21.4, 20.6, 36.5,\n",
              "        8.5, 24.8, 10.8, 21.9, 17.3, 18.9, 36.2, 14.9, 18.2, 33.3, 21.8,\n",
              "       19.7, 31.6, 24.8, 19.4, 22.8,  7.5, 44.8, 16.8, 18.7, 50. , 50. ,\n",
              "       19.5, 20.1, 50. , 17.2, 20.8, 19.3, 41.3, 20.4, 20.5, 13.8, 16.5,\n",
              "       23.9, 20.6, 31.5, 23.3, 16.8, 14. , 33.8, 36.1, 12.8, 18.3, 18.7,\n",
              "       19.1, 29. , 30.1, 50. , 50. , 22. , 11.9, 37.6, 50. , 22.7, 20.8,\n",
              "       23.5, 27.9, 50. , 19.3, 23.9, 22.6, 15.2, 21.7, 19.2, 43.8, 20.3,\n",
              "       33.2, 19.9, 22.5, 32.7, 22. , 17.1, 19. , 15. , 16.1, 25.1, 23.7,\n",
              "       28.7, 37.2, 22.6, 16.4, 25. , 29.8, 22.1, 17.4, 18.1, 30.3, 17.5,\n",
              "       24.7, 12.6, 26.5, 28.7, 13.3, 10.4, 24.4, 23. , 20. , 17.8,  7. ,\n",
              "       11.8, 24.4, 13.8, 19.4, 25.2, 19.4, 19.4, 29.1])"
            ]
          },
          "metadata": {
            "tags": []
          },
          "execution_count": 7
        }
      ]
    },
    {
      "cell_type": "code",
      "metadata": {
        "id": "s58BpBRgoXAL"
      },
      "source": [
        ""
      ],
      "execution_count": null,
      "outputs": []
    },
    {
      "cell_type": "markdown",
      "metadata": {
        "id": "quWVpAgSzZn3"
      },
      "source": [
        "### **Preparing the data**"
      ]
    },
    {
      "cell_type": "markdown",
      "metadata": {
        "id": "GGsA7th5sxUS"
      },
      "source": [
        "#### ***Normalizing data***\n",
        "\n",
        "It would be problematic to feed into a neural network values that all take wildly different ranges. The network might be able to automatically adapt to such heterogeneous\n",
        "data, but it would definitely make learning more difficult. A widespread best practice\n",
        "to deal with such data is to do **feature-wise normalization**: for each feature in the input\n",
        "data (a column in the input data matrix), you **subtract the mean of the feature and\n",
        "divide by the standard deviation**, **so that the feature is centered around 0 and has a\n",
        "unit standard deviation**. This is easily done in Numpy."
      ]
    },
    {
      "cell_type": "code",
      "metadata": {
        "id": "gb6B6Ne9zbTb"
      },
      "source": [
        "# Normalizing data\n",
        "mean = train_data.mean(axis=0)\n",
        "train_data -= mean\n",
        "std = train_data.std(axis=0)\n",
        "train_data /= std\n",
        "\n",
        "test_data -= mean\n",
        "test_data /= std"
      ],
      "execution_count": null,
      "outputs": []
    },
    {
      "cell_type": "markdown",
      "metadata": {
        "id": "7t1D5ZKt0UGJ"
      },
      "source": [
        "Note that the quantities used for normalizing the test data are computed using the\n",
        "training data. You should never use in your workflow any quantity computed on the\n",
        "test data, even for something as simple as data normalization."
      ]
    },
    {
      "cell_type": "code",
      "metadata": {
        "id": "emjiulDK0UsK"
      },
      "source": [
        ""
      ],
      "execution_count": null,
      "outputs": []
    },
    {
      "cell_type": "markdown",
      "metadata": {
        "id": "QWnidOBD0Xyz"
      },
      "source": [
        "### **Building your network**"
      ]
    },
    {
      "cell_type": "code",
      "metadata": {
        "id": "8NHVLZSU0ZxQ"
      },
      "source": [
        "from keras import models\n",
        "from keras import layers\n",
        "\n",
        "# We don't want to do this every time we make a new model, so function!\n",
        "def build_model():\n",
        "    model = models.Sequential()\n",
        "    model.add(layers.Dense(64, activation='relu',\n",
        "                           input_shape=(train_data.shape[1],)))\n",
        "    model.add(layers.Dense(64, activation='relu'))\n",
        "    model.add(layers.Dense(1))\n",
        "    model.compile(optimizer='rmsprop', loss='mse', metrics=['mae'])\n",
        "\n",
        "    return model"
      ],
      "execution_count": null,
      "outputs": []
    },
    {
      "cell_type": "markdown",
      "metadata": {
        "id": "3XjPV7zy1x-E"
      },
      "source": [
        "The network ends with a single unit and no activation (it will be a linear layer). This is\n",
        "a typical setup for scalar regression (a regression where you’re trying to predict a single\n",
        "continuous value). Applying an activation function would constrain the range the output can take; for instance, if you applied a **sigmoid** activation function to the last layer,\n",
        "the network could only learn to predict values between 0 and 1. Here, because the last\n",
        "layer is purely linear, the network is free to learn to predict values in any range.<br><br>\n",
        "\n",
        "\n",
        "Note that you compile the network with the mse loss function—mean squared error,\n",
        "the square of the difference between the predictions and the targets. This is a widely\n",
        "used loss function for regression problems.\n",
        "\n",
        " You’re also monitoring a new metric during training: ***mean absolute error*** (MAE). It’s\n",
        "the absolute value of the difference between the predictions and the targets. For\n",
        "instance, an MAE of 0.5 on this problem would mean your predictions are off by $500\n",
        "on average"
      ]
    },
    {
      "cell_type": "code",
      "metadata": {
        "id": "WxfSk3P80tyy"
      },
      "source": [
        ""
      ],
      "execution_count": null,
      "outputs": []
    },
    {
      "cell_type": "markdown",
      "metadata": {
        "id": "A6ddZOiG2VaR"
      },
      "source": [
        "### **Validating your approach using K-fold validation**"
      ]
    },
    {
      "cell_type": "markdown",
      "metadata": {
        "id": "7U0ltW7o2t9c"
      },
      "source": [
        "To evaluate your network while you keep adjusting its parameters (such as the number\n",
        "of epochs used for training), you could split the data into a training set and a validation set, as you did in the previous examples. But because you have so few data points,\n",
        "the validation set would end up being very small (for instance, about 100 examples).\n",
        "As a consequence, the validation scores might change a lot depending on which data\n",
        "points you chose to use for validation and which you chose for training: the validation\n",
        "scores might have a high ***variance*** with regard to the validation split. This would prevent you from reliably evaluating your model.\n",
        "\n",
        "Variance measures how far a set of numbers is spread out from their average value."
      ]
    },
    {
      "cell_type": "markdown",
      "metadata": {
        "id": "nzxeQ312FSWx"
      },
      "source": [
        "The best practice in such situations is to use ***K-fold*** cross-validation (see figure 3.11).\n",
        "It consists of splitting the available data into ***K*** partitions (typically K = 4 or 5), instantiating ***K*** identical models, and training each one on K – 1 partitions while evaluating on\n",
        "the remaining partition. The validation score for the model used is then the **average of\n",
        "the K validation scores** obtained. In terms of code, this is straightforward."
      ]
    },
    {
      "cell_type": "markdown",
      "metadata": {
        "id": "CrIVe0uEHeVP"
      },
      "source": [
        "<img src=\"https://drive.google.com/uc?id=10kXYyuIEbv2f2ZW_TuyXuDNc37TSbWl9\"></img>\n",
        "\n"
      ]
    },
    {
      "cell_type": "code",
      "metadata": {
        "id": "M8zF1nB42We0",
        "outputId": "cdf0117c-fa37-4d94-97f4-f6310e7d24ed",
        "colab": {
          "base_uri": "https://localhost:8080/",
          "height": 51
        }
      },
      "source": [
        "import numpy as np\n",
        "\n",
        "k=4\n",
        "print(len(train_data))\n",
        "\n",
        "num_val_samples = len(train_data) // k\n",
        "print(num_val_samples)\n",
        "\n",
        "num_epochs = 100\n",
        "all_scores = []"
      ],
      "execution_count": null,
      "outputs": [
        {
          "output_type": "stream",
          "text": [
            "404\n",
            "101\n"
          ],
          "name": "stdout"
        }
      ]
    },
    {
      "cell_type": "code",
      "metadata": {
        "id": "eZ5EKDoQIWkG",
        "outputId": "85badbfd-30ec-4edb-fc65-7f9badfd1821",
        "colab": {
          "base_uri": "https://localhost:8080/",
          "height": 85
        }
      },
      "source": [
        "for i in range(k):\n",
        "\n",
        "    print('processing fold #', i)\n",
        "\n",
        "    # prepares validation data from partition #k\n",
        "    val_data = train_data[i * num_val_samples: (i + 1) * num_val_samples]\n",
        "    val_targets = train_targets[i * num_val_samples: (i + 1) * num_val_samples]\n",
        "\n",
        "    # prepares the training data: data from all other partitions\n",
        "    partial_train_data = np.concatenate(\n",
        "        [train_data[:i * num_val_samples],\n",
        "        train_data[(i + 1) * num_val_samples:]],\n",
        "        axis=0)\n",
        "    \n",
        "    partial_train_targets = np.concatenate(\n",
        "        [train_targets[:i * num_val_samples],\n",
        "        train_targets[(i + 1) * num_val_samples:]],\n",
        "        axis=0)\n",
        "\n",
        "    model = build_model() # build and compile keras model\n",
        "    model.fit(partial_train_data, partial_train_targets,\n",
        "              epochs=num_epochs, batch_size=1, verbose=0)\n",
        "    \n",
        "    # evaluate model on validation data\n",
        "    val_mse, val_mae = model.evaluate(val_data, val_targets, verbose=0)\n",
        "    all_scores.append(val_mae)"
      ],
      "execution_count": null,
      "outputs": [
        {
          "output_type": "stream",
          "text": [
            "processing fold # 0\n",
            "processing fold # 1\n",
            "processing fold # 2\n",
            "processing fold # 3\n"
          ],
          "name": "stdout"
        }
      ]
    },
    {
      "cell_type": "code",
      "metadata": {
        "id": "N_N0c9MWJUlD",
        "outputId": "36773e96-fc73-4b9e-98d1-ef3269bfc203",
        "colab": {
          "base_uri": "https://localhost:8080/",
          "height": 51
        }
      },
      "source": [
        "print(all_scores)\n",
        "print(np.mean(all_scores))"
      ],
      "execution_count": null,
      "outputs": [
        {
          "output_type": "stream",
          "text": [
            "[2.532926559448242, 2.423518180847168, 2.9132192134857178, 2.4634039402008057]\n",
            "2.5832669734954834\n"
          ],
          "name": "stdout"
        }
      ]
    },
    {
      "cell_type": "markdown",
      "metadata": {
        "id": "YD8OtV2RONVA"
      },
      "source": [
        "The different runs do indeed show rather different validation scores ***(Mean Absolute Error)***, from 2.6 to 3.2.\n",
        "The average (3.0) is a much more reliable metric than any single score—that’s the\n",
        "entire point of K-fold cross-validation. In this case, you’re off by $3,000 on average,\n",
        "which is significant considering that the prices range from \\$10,000 to \\$50,000."
      ]
    },
    {
      "cell_type": "markdown",
      "metadata": {
        "id": "Lqn_U9hvPAwT"
      },
      "source": [
        "Let’s try training the network a bit longer: 500 epochs. To keep a record of how\n",
        "well the model does at each epoch, you’ll modify the training loop to save the perepoch validation score log."
      ]
    },
    {
      "cell_type": "code",
      "metadata": {
        "id": "iRm9KlVoJVXg",
        "outputId": "81101bd4-071a-4dfb-cfca-fd68023f89bd",
        "colab": {
          "base_uri": "https://localhost:8080/",
          "height": 85
        }
      },
      "source": [
        "# Saving the validation loss at each fold\n",
        "num_epochs = 200\n",
        "all_mae_histories = []\n",
        "for i in range(k):\n",
        "    print('processing fold #', i)\n",
        "\n",
        "    # prepares validation data from partition #k\n",
        "    val_data = train_data[i * num_val_samples: (i + 1) * num_val_samples]\n",
        "    val_targets = train_targets[i * num_val_samples: (i + 1) * num_val_samples]\n",
        "\n",
        "    # prepares the training data: data from all other partitions\n",
        "    partial_train_data = np.concatenate(\n",
        "        [train_data[:i * num_val_samples],\n",
        "        train_data[(i + 1) * num_val_samples:]],\n",
        "        axis=0)\n",
        "    \n",
        "    partial_train_targets = np.concatenate(\n",
        "        [train_targets[:i * num_val_samples],\n",
        "        train_targets[(i + 1) * num_val_samples:]],\n",
        "        axis=0)\n",
        "\n",
        "    model = build_model() # build and compile model\n",
        "    history = model.fit(partial_train_data, partial_train_targets,\n",
        "        validation_data=(val_data, val_targets),\n",
        "        epochs=num_epochs, batch_size=1, verbose=0)\n",
        "    \n",
        "    mae_history = history.history['val_mae']\n",
        "    all_mae_histories.append(mae_history)\n",
        "    "
      ],
      "execution_count": null,
      "outputs": [
        {
          "output_type": "stream",
          "text": [
            "processing fold # 0\n",
            "processing fold # 1\n",
            "processing fold # 2\n",
            "processing fold # 3\n"
          ],
          "name": "stdout"
        }
      ]
    },
    {
      "cell_type": "markdown",
      "metadata": {
        "id": "4HdASbrAWRhx"
      },
      "source": [
        "**History object**<br>\n",
        "Its History.history attribute is a record of training loss values and metrics values at successive epochs, as well as validation loss values and validation metrics values (if applicable).\n",
        "\n",
        "\n",
        "For the first fold, let's print the ***Mean Absolute Error*** (MAE) metric on the validation set at each epoch (200 epochs)."
      ]
    },
    {
      "cell_type": "code",
      "metadata": {
        "id": "LCXE5Zi1VZO_",
        "outputId": "7cdc6158-4871-4a0b-c332-94cf1469c81c",
        "colab": {
          "base_uri": "https://localhost:8080/",
          "height": 34
        }
      },
      "source": [
        "print(len(all_mae_histories[0]))"
      ],
      "execution_count": null,
      "outputs": [
        {
          "output_type": "stream",
          "text": [
            "200\n"
          ],
          "name": "stdout"
        }
      ]
    },
    {
      "cell_type": "markdown",
      "metadata": {
        "id": "k35eu7VHRGg9"
      },
      "source": [
        "You can then compute the average of the per-epoch ***MAE*** **(Mean scores for all folds)**."
      ]
    },
    {
      "cell_type": "code",
      "metadata": {
        "id": "S3H3m_YBTlj0"
      },
      "source": [
        "average_mae_history = [np.mean([x[i] for x in all_mae_histories]) for i in range(num_epochs)]"
      ],
      "execution_count": null,
      "outputs": []
    },
    {
      "cell_type": "code",
      "metadata": {
        "id": "pIoujdchVSlg",
        "outputId": "4dfc6d01-80bb-464c-cd5a-39a7cda533f9",
        "colab": {
          "base_uri": "https://localhost:8080/",
          "height": 71
        }
      },
      "source": [
        "print(average_mae_history)\n",
        "print(len(average_mae_history))"
      ],
      "execution_count": null,
      "outputs": [
        {
          "output_type": "stream",
          "text": [
            "[4.619982600212097, 3.3669437766075134, 3.055215001106262, 2.9292619824409485, 2.7855955958366394, 2.7613282799720764, 2.6783535480499268, 2.7021983861923218, 2.6946849822998047, 2.7415801882743835, 2.5988723635673523, 2.4602808356285095, 2.575784146785736, 2.4400537610054016, 2.5305939316749573, 2.476058304309845, 2.4738600850105286, 2.411781430244446, 2.464357078075409, 2.4809171557426453, 2.398305833339691, 2.445758879184723, 2.4291434288024902, 2.4683979749679565, 2.394391894340515, 2.568010091781616, 2.6078187823295593, 2.4697732627391815, 2.3860210180282593, 2.2960946559906006, 2.574113965034485, 2.389059215784073, 2.38352632522583, 2.4987210631370544, 2.331186592578888, 2.3989044427871704, 2.349738895893097, 2.286318361759186, 2.392315447330475, 2.461774528026581, 2.32744300365448, 2.4412729144096375, 2.3038523197174072, 2.3897128105163574, 2.344736099243164, 2.3730810284614563, 2.4390261471271515, 2.313112735748291, 2.4989964365959167, 2.3955480456352234, 2.4598940014839172, 2.4522831439971924, 2.5390143394470215, 2.533794581890106, 2.5089683532714844, 2.4874752163887024, 2.2769930958747864, 2.4069871306419373, 2.525559425354004, 2.3479228615760803, 2.4109925031661987, 2.282664656639099, 2.4761425256729126, 2.5155147314071655, 2.3255229592323303, 2.262998580932617, 2.369656503200531, 2.4081481099128723, 2.3440551161766052, 2.310223877429962, 2.4701603651046753, 2.4554706811904907, 2.344239056110382, 2.4332231879234314, 2.3431429266929626, 2.3571556210517883, 2.6287525296211243, 2.377107620239258, 2.283518671989441, 2.427785634994507, 2.4610233902931213, 2.334474742412567, 2.2847657799720764, 2.4117106795310974, 2.4141321182250977, 2.368167459964752, 2.4060230255126953, 2.328602910041809, 2.4136118292808533, 2.320499062538147, 2.4824885725975037, 2.407682240009308, 2.5037899017333984, 2.401927649974823, 2.4378342032432556, 2.371349334716797, 2.459998607635498, 2.4340025782585144, 2.751098871231079, 2.4412036538124084, 2.4990130066871643, 2.43892765045166, 2.4818997383117676, 2.4154630303382874, 2.335016965866089, 2.4217164516448975, 2.5785905718803406, 2.4769476652145386, 2.5770785808563232, 2.495415210723877, 2.393013298511505, 2.4955726265907288, 2.5284224152565002, 2.527449667453766, 2.499871850013733, 2.318135440349579, 2.424385130405426, 2.4672539234161377, 2.433069169521332, 2.4544560313224792, 2.4651729464530945, 2.6221452951431274, 2.5190564393997192, 2.5395058393478394, 2.4888174533843994, 2.4565855264663696, 2.4661759734153748, 2.442503869533539, 2.545855224132538, 2.548614263534546, 2.485151946544647, 2.5174002051353455, 2.4540308117866516, 2.534850299358368, 2.459358811378479, 2.499675989151001, 2.4633851051330566, 2.5525810718536377, 2.51921808719635, 2.660194754600525, 2.4518784880638123, 2.5268611311912537, 2.420450270175934, 2.592533826828003, 2.4921141266822815, 2.5233532190322876, 2.453001856803894, 2.4512128233909607, 2.4211599826812744, 2.420489013195038, 2.528837025165558, 2.5415749549865723, 2.5960678458213806, 2.475149691104889, 2.538724422454834, 2.550490081310272, 2.4952961802482605, 2.4399346709251404, 2.51470285654068, 2.480676233768463, 2.593502700328827, 2.4210126399993896, 2.4899776577949524, 2.5869531631469727, 2.4093854427337646, 2.5237980484962463, 2.5341619849205017, 2.503214120864868, 2.610750436782837, 2.5168553590774536, 2.6592700481414795, 2.551506519317627, 2.47044175863266, 2.5112081170082092, 2.416991174221039, 2.5792269110679626, 2.5760369896888733, 2.486489415168762, 2.4448233246803284, 2.517809748649597, 2.735150635242462, 2.49198842048645, 2.5164243578910828, 2.511716842651367, 2.539954721927643, 2.6670783162117004, 2.525926113128662, 2.5436841249465942, 2.544343411922455, 2.546868860721588, 2.6737533807754517, 2.694956123828888, 2.5674501061439514, 2.6054988503456116, 2.513469099998474, 2.7023969292640686, 2.584753453731537, 2.612337112426758, 2.646980404853821, 2.644900858402252]\n",
            "200\n"
          ],
          "name": "stdout"
        }
      ]
    },
    {
      "cell_type": "markdown",
      "metadata": {
        "id": "gLKeNoCZQ8K-"
      },
      "source": [
        "Let's plot the **validation scores** **(MAE)** per epoch:"
      ]
    },
    {
      "cell_type": "code",
      "metadata": {
        "id": "IC2MOu6qQ7re",
        "outputId": "dd4acab3-730b-4e46-939a-3d1e618d1de0",
        "colab": {
          "base_uri": "https://localhost:8080/",
          "height": 279
        }
      },
      "source": [
        "import matplotlib.pyplot as plt\n",
        "\n",
        "plt.plot(range(1, len(average_mae_history) + 1), average_mae_history)\n",
        "plt.xlabel('Epochs')\n",
        "plt.ylabel('Validation MAE')\n",
        "plt.show()"
      ],
      "execution_count": null,
      "outputs": [
        {
          "output_type": "display_data",
          "data": {
            "image/png": "[encoded data removed]",
            "text/plain": [
              "<Figure size 432x288 with 1 Axes>"
            ]
          },
          "metadata": {
            "tags": [],
            "needs_background": "light"
          }
        }
      ]
    },
    {
      "cell_type": "markdown",
      "metadata": {
        "id": "R5c1Mt7RiwU_"
      },
      "source": [
        "### <font color=\"DodgerBlue\">**Visualizing metrics using Seaborn**</font>\n",
        "\n",
        "If you want to customize the *seaborn* styles, you can pass a dictionary of parameters to the **rc** argument of axes_style() and set_style(). Note that you can only override the parameters that are part of the style definition through this method. (However, the higher-level set_theme() function takes a dictionary of any matplotlib parameters).\n",
        "\n",
        "As per the docs, you can get seaborn's current rc settings with seaborn.axes_style()\n",
        "\n",
        "[Seaborn rc argument options](https://stackoverflow.com/questions/30729473/seaborn-legend-with-background-color)"
      ]
    },
    {
      "cell_type": "code",
      "metadata": {
        "id": "dURGchTuYTGU",
        "outputId": "cf0cafaa-3c39-448c-c3ac-f159824bca3e",
        "colab": {
          "base_uri": "https://localhost:8080/",
          "height": 296
        }
      },
      "source": [
        "import seaborn as sns\n",
        "\n",
        "plt.clf() # clears figure\n",
        "\n",
        "ax = sns.lineplot(x=range(1, len(average_mae_history) + 1), y=average_mae_history)\n",
        "\n",
        "# The Axes contains most of the figure elements: \n",
        "# Axis, Tick, Line2D, Text, Polygon, etc., and sets the coordinate system.\n",
        "ax.set(xlabel=\"Epochs\", ylabel = \"Validation MAE\")\n",
        "\n",
        "# Set the aesthetic style of the plots.\n",
        "sns.set_style('whitegrid', {'axes.labelcolor': 'white', 'axes.grid': True, \n",
        "                            \"figure.facecolor\":  (1.0, 0.0, 0.0, 0.0),\n",
        "                            'xtick.color': 'white',\n",
        "                            'ytick.color': 'white'})\n",
        "ax.plot()\n"
      ],
      "execution_count": null,
      "outputs": [
        {
          "output_type": "execute_result",
          "data": {
            "text/plain": [
              "[]"
            ]
          },
          "metadata": {
            "tags": []
          },
          "execution_count": 172
        },
        {
          "output_type": "display_data",
          "data": {
            "image/png": "[encoded data removed]",
            "text/plain": [
              "<Figure size 432x288 with 1 Axes>"
            ]
          },
          "metadata": {
            "tags": [],
            "needs_background": "dark"
          }
        }
      ]
    },
    {
      "cell_type": "markdown",
      "metadata": {
        "id": "lkD1n7pfVKxU"
      },
      "source": [
        "It may be a little difficult to see the plot, due to scaling issues and relatively high variance. Let’s do the following:\n",
        "\n",
        "* Omit the first 10 data points, which are on a different scale than the rest of the curve.\n",
        "* Replace each point with an exponential moving average of the previous points,\n",
        "to obtain a smooth curve.<br><br>\n",
        "***\n",
        "<br>\n",
        "\n",
        "\n",
        "Look into **Exponential Moving Average (EMA)** to understand how this works:\n",
        "\n",
        "An exponential moving average (EMA) is a type of moving average (MA) that places a greater weight and significance on the most recent data points. The exponential moving average is also referred to as the exponentially weighted moving average. An **exponentially weighted moving average reacts more significantly to recent price changes than a simple moving average (SMA)**, which applies an equal weight to all observations in the period."
      ]
    },
    {
      "cell_type": "code",
      "metadata": {
        "id": "zpYMh86BVBzn"
      },
      "source": [
        "# Plotting validation scores, excluding the first 10 data points\n",
        "def smooth_curve(points, factor=0.9):\n",
        "    smoothed_points = []\n",
        "    for point in points:\n",
        "        if smoothed_points:\n",
        "            previous = smoothed_points[-1]\n",
        "            smoothed_points.append(previous * factor + point * (1 - factor))\n",
        "        else:\n",
        "            smoothed_points.append(point)\n",
        "    return smoothed_points"
      ],
      "execution_count": null,
      "outputs": []
    },
    {
      "cell_type": "code",
      "metadata": {
        "id": "ftVMRt3gl738"
      },
      "source": [
        "smooth_mae_history = smooth_curve(average_mae_history[10:])"
      ],
      "execution_count": null,
      "outputs": []
    },
    {
      "cell_type": "code",
      "metadata": {
        "id": "u2An15mDqQwD",
        "outputId": "859d45fe-3657-4dcf-fea8-7bfc784fe357",
        "colab": {
          "base_uri": "https://localhost:8080/",
          "height": 296
        }
      },
      "source": [
        "plt.clf() # clears figure\n",
        "\n",
        "ax = sns.lineplot(range(1, len(smooth_mae_history) + 1), y=smooth_mae_history)\n",
        "ax.set(xlabel=\"Epochs\", ylabel = \"Validation MAE\")\n",
        "ax.plot()"
      ],
      "execution_count": null,
      "outputs": [
        {
          "output_type": "execute_result",
          "data": {
            "text/plain": [
              "[]"
            ]
          },
          "metadata": {
            "tags": []
          },
          "execution_count": 180
        },
        {
          "output_type": "display_data",
          "data": {
            "image/png": "[encoded data removed]",
            "text/plain": [
              "<Figure size 432x288 with 1 Axes>"
            ]
          },
          "metadata": {
            "tags": [],
            "needs_background": "dark"
          }
        }
      ]
    },
    {
      "cell_type": "markdown",
      "metadata": {
        "id": "qdXs2vG6qw6R"
      },
      "source": [
        "According to this plot, validation **MAE** stops improving significantly after 80 epochs.\n",
        "Past that point, you start overfitting.\n",
        "\n",
        "\n",
        "Once you’re finished tuning other parameters of the model (in addition to the\n",
        "number of epochs, you could also adjust the size of the hidden layers), you can train a\n",
        "final production model on all of the training data, with the best parameters, and then\n",
        "look at its performance on the test data."
      ]
    },
    {
      "cell_type": "code",
      "metadata": {
        "id": "ccdbols0qFge",
        "outputId": "1c356940-5f78-4051-b057-1fb79cacc184",
        "colab": {
          "base_uri": "https://localhost:8080/",
          "height": 34
        }
      },
      "source": [
        "model = build_model() # get a fresh, compiled model\n",
        "model.fit(train_data, train_targets, # train on entirety of data\n",
        "    epochs=80, batch_size=16, verbose=0)\n",
        "test_mse_score, test_mae_score = model.evaluate(test_data, test_targets)"
      ],
      "execution_count": null,
      "outputs": [
        {
          "output_type": "stream",
          "text": [
            "4/4 [==============================] - 0s 3ms/step - loss: 16.9136 - mae: 2.5886\n"
          ],
          "name": "stdout"
        }
      ]
    },
    {
      "cell_type": "code",
      "metadata": {
        "id": "KCEIGAUWrLRL",
        "outputId": "d0d36aed-42e6-407b-b6c2-7bfb67d0606c",
        "colab": {
          "base_uri": "https://localhost:8080/",
          "height": 34
        }
      },
      "source": [
        "test_mae_score"
      ],
      "execution_count": null,
      "outputs": [
        {
          "output_type": "execute_result",
          "data": {
            "text/plain": [
              "2.588634729385376"
            ]
          },
          "metadata": {
            "tags": []
          },
          "execution_count": 185
        }
      ]
    },
    {
      "cell_type": "markdown",
      "metadata": {
        "id": "CSngcSTurm9S"
      },
      "source": [
        "You’re still off by about $2,590."
      ]
    },
    {
      "cell_type": "markdown",
      "metadata": {
        "id": "6z5q8Vz4r6JI"
      },
      "source": [
        "### **Wrapping up**"
      ]
    },
    {
      "cell_type": "markdown",
      "metadata": {
        "id": "0rkFaeilsOkp"
      },
      "source": [
        "Here’s what you should take away from this example:\n",
        "* Regression is done using different loss functions than what we used for classification. *Mean squared error* (***MSE***) is a loss function commonly used for regression.\n",
        "\n",
        "* Similarly, evaluation metrics to be used for regression differ from those used for\n",
        "classification; naturally, the concept of accuracy doesn’t apply for regression. A\n",
        "common regression metric is *mean absolute error* (***MAE***).\n",
        "* When features in the input data have values in different ranges, each feature\n",
        "should be scaled independently as a preprocessing step.\n",
        "\n",
        "* When there is little data available, using K-fold validation is a great way to reliably evaluate a model.\n",
        "\n",
        "* When little training data is available, it’s preferable to use a small network with\n",
        "few hidden layers (typically only one or two), in order to avoid severe overfitting. \n",
        "\n",
        "* As training progresses, neural networks eventually begin to overfit and\n",
        "obtain worse results on never-before-seen data."
      ]
    },
    {
      "cell_type": "code",
      "metadata": {
        "id": "HGIeZZJLrfJd"
      },
      "source": [
        ""
      ],
      "execution_count": null,
      "outputs": []
    },
    {
      "cell_type": "code",
      "metadata": {
        "id": "vJF7BJDvrcvy"
      },
      "source": [
        ""
      ],
      "execution_count": null,
      "outputs": []
    },
    {
      "cell_type": "markdown",
      "metadata": {
        "id": "GTR5nh_MwZ9S"
      },
      "source": [
        "# <font color=\"Orange\">**Fundamentals of Machine Learning**</font>"
      ]
    },
    {
      "cell_type": "markdown",
      "metadata": {
        "id": "9z3c6Amvwhdt"
      },
      "source": [
        "This chapter covers:\n",
        "* Forms of machine learning beyond classification\n",
        "and regression\n",
        "* Formal evaluation procedures for machine learning models\n",
        "* Preparing data for deep learning\n",
        "* Feature engineering\n",
        "* Tackling overfitting\n",
        "* The universal workflow for approaching machinelearning problems"
      ]
    },
    {
      "cell_type": "code",
      "metadata": {
        "id": "pij-1zDOwn28"
      },
      "source": [
        ""
      ],
      "execution_count": null,
      "outputs": []
    },
    {
      "cell_type": "markdown",
      "metadata": {
        "id": "IAVqVZwaw5Gw"
      },
      "source": [
        "## <font color=\"MediumSeaGreen\">**Four branches of machine learning**</font>\n",
        "***"
      ]
    },
    {
      "cell_type": "markdown",
      "metadata": {
        "id": "E6n1h8O5xdxB"
      },
      "source": [
        "**Supervised learning**\n",
        "\n",
        "This is by far the most common case. It consists of learning to map input data to\n",
        "known targets (also called annotations), given a set of examples (often annotated by\n",
        "humans). All four examples you’ve encountered in this book so far were canonical\n",
        "examples of supervised learning. Generally, almost all applications of deep learning\n",
        "that are in the spotlight these days belong in this category, such as optical character\n",
        "recognition, speech recognition, image classification, and language translation.\n",
        "\n",
        "Although supervised learning mostly consists of **classification** and **regression**, there\n",
        "are more exotic variants as well, including the following (with examples):\n",
        "* ***Sequence generation***—Given a picture, predict a caption describing it. Sequence\n",
        "generation can sometimes be reformulated as a series of classification problems\n",
        "(such as repeatedly predicting a word or token in a sequence).\n",
        "\n",
        "* ***Syntax tree prediction***—Given a sentence, predict its decomposition into a syntax\n",
        "tree.\n",
        "\n",
        "* ***Object detection***—Given a picture, draw a bounding box around certain objects\n",
        "inside the picture. This can also be expressed as a classification problem (given\n",
        "many candidate bounding boxes, classify the contents of each one) or as a joint\n",
        "classification and regression problem, where the bounding-box coordinates are\n",
        "predicted via vector regression.\n",
        "\n",
        "* ***Image segmentation***—Given a picture, draw a pixel-level mask on a specific object."
      ]
    },
    {
      "cell_type": "markdown",
      "metadata": {
        "id": "6xBuXNlQzD_g"
      },
      "source": [
        "**Unupervised learning**\n",
        "\n",
        "\n",
        "This branch of machine learning consists of finding interesting transformations of the\n",
        "input data without the help of any targets, for the purposes of ***data visualization, data\n",
        "compression, or data denoising, or to better understand the correlations present in\n",
        "the data at hand***. \n",
        "\n",
        "Unsupervised learning is the bread and butter of **data analytics**, and\n",
        "it’s often a necessary step in better understanding a dataset before attempting to solve\n",
        "a supervised-learning problem. **Dimensionality reduction** and **clustering** are well-known\n",
        "categories of unsupervised learning. "
      ]
    },
    {
      "cell_type": "markdown",
      "metadata": {
        "id": "AobTqjRBzdGC"
      },
      "source": [
        "**Self-supervised learning**\n",
        "\n",
        "This is a specific instance of supervised learning, but it’s different enough that it\n",
        "deserves its own category. Self-supervised learning is supervised learning without human-annotated labels—you can think of it as supervised learning without any\n",
        "humans in the loop. There are still labels involved (because the learning has to be\n",
        "supervised by something), but they’re generated from the input data, typically using a\n",
        "heuristic algorithm.\n",
        "\n",
        "\n",
        "For instance, **autoencoders** are a well-known instance of self-supervised learning,\n",
        "where the generated targets are the input, unmodified. In the same way, trying to predict the next frame in a video, given past frames, or the next word in a text, given previous words, are instances of self-supervised learning (**temporally supervised learning**, in this\n",
        "case: supervision comes from future input data). Note that the distinction between\n",
        "supervised, self-supervised, and unsupervised learning can be blurry sometimes—these\n",
        "categories are more of a continuum without solid borders. **Self-supervised learning can\n",
        "be reinterpreted as either supervised or unsupervised learning, depending on whether\n",
        "you pay attention to the learning mechanism or to the context of its application.**"
      ]
    },
    {
      "cell_type": "markdown",
      "metadata": {
        "id": "hy4RbuTn02ou"
      },
      "source": [
        "**NOTE:** \n",
        "\n",
        "In this book, we’ll focus specifically on supervised learning, because\n",
        "it’s by far the dominant form of deep learning today, with a wide range of\n",
        "industry applications. We’ll also take a briefer look at self-supervised learning\n",
        "in later chapters. "
      ]
    },
    {
      "cell_type": "markdown",
      "metadata": {
        "id": "GsOECQby09Op"
      },
      "source": [
        "**Reinforcement learning**\n",
        "\n",
        "Long overlooked, this branch of machine learning recently started to get a lot of\n",
        "attention after Google DeepMind successfully applied it to learning to play Atari\n",
        "games (and, later, learning to play Go at the highest level).\n",
        "In reinforcement learning,\n",
        "an **agent** receives information about its environment and learns to choose actions that\n",
        "will maximize some reward. For instance, a neural network that “looks” at a videogame screen and outputs game actions in order to maximize its score can be trained\n",
        "via reinforcement learning.\n",
        "\n",
        "Currently, reinforcement learning is mostly a research area and hasn’t yet had significant practical successes beyond games. In time, however, we expect to see reinforcement learning take over an increasingly large range of real-world applications:\n",
        "self-driving cars, robotics, resource management, education, and so on. It’s an idea\n",
        "whose time has come, or will come soon. "
      ]
    },
    {
      "cell_type": "markdown",
      "metadata": {
        "id": "162QXT-K1SmC"
      },
      "source": [
        "## <font color=\"MediumSeaGreen\">**Classification and regression glossary**</font>\n",
        "***\n",
        "Classification and regression involve many specialized terms. You’ve come across\n",
        "some of them in earlier examples, and you’ll see more of them in future chapters.\n",
        "They have precise, machine-learning-specific definitions, and you should be familiar\n",
        "with them:\n",
        "* **Sample** or **input**—One data point that goes into your model. Samples are drawn from the dataset to create the training and testing sets.\n",
        "\n",
        "* **Training example**—Supervised learning is the machine learning task of learning a function that maps an input to an output based on example input-output pairs. It infers a function from labeled training data consisting of a set of training examples. In supervised learning, each example is a pair consisting of an *input object* or *sample* (typically a vector) and a desired output value (also called the supervisory signal).\n",
        "\n",
        "* **Prediction** or **output**—What comes out of your model.\n",
        "\n",
        "* **Target**—The truth. What your model should ideally have predicted, according\n",
        "to an external source of data.\n",
        "\n",
        "* **Prediction error** or **loss value**—A measure of the distance between your\n",
        "model’s prediction and the target.\n",
        "\n",
        "* **Classes**—A set of possible labels to choose from in a classification problem.\n",
        "For example, when classifying cat and dog pictures, “dog” and “cat” are the\n",
        "two classes.\n",
        "\n",
        "* **Label**—A specific instance of a class annotation in a classification problem.\n",
        "For instance, if picture #1234 is annotated as containing the class “dog,”\n",
        "then “dog” is a label of picture #1234.\n",
        "\n",
        "* **Ground-truth** or **annotations**—All targets for a dataset, typically collected by\n",
        "humans.\n",
        "\n",
        "* **Binary classification**—A classification task where each input sample should\n",
        "be categorized into two exclusive categories.\n",
        "\n",
        "* **Multiclass classification**—A classification task where each input sample\n",
        "should be categorized into more than two categories: for instance, classifying\n",
        "handwritten digits.\n",
        "\n",
        "* **Multilabel classification**—A classification task where each input sample can\n",
        "be assigned multiple labels. For instance, a given image may contain both a\n",
        "cat and a dog and should be annotated both with the “cat” label and the\n",
        "“dog” label. The number of labels per image is usually variable.\n",
        "\n",
        "* **Scalar regression**—A task where the target is a continuous scalar value. Predicting house prices is a good example: the different target prices form a continuous space.\n",
        "\n",
        "* **Vector regression**—A task where the target is a set of continuous values: for\n",
        "example, a continuous vector. If you’re doing regression against multiple values (such as the coordinates of a bounding box in an image), then you’re\n",
        "doing vector regression.\n",
        "\n",
        "* **Mini-batch** or **batch**—A small set of samples (typically between 8 and 128)\n",
        "that are processed simultaneously by the model. The number of samples is\n",
        "often a power of 2, to facilitate memory allocation on GPU. ***When training, a\n",
        "mini-batch is used to compute a single gradient-descent update applied to\n",
        "the weights of the model***. "
      ]
    },
    {
      "cell_type": "markdown",
      "metadata": {
        "id": "PjI1m8nc6m4G"
      },
      "source": [
        "## <font color=\"MediumSeaGreen\">**Evaluating machine-learning models**</font>\n",
        "***"
      ]
    },
    {
      "cell_type": "markdown",
      "metadata": {
        "id": "wfwddVaX7RzF"
      },
      "source": [
        "In the three examples presented in chapter 3, we split the data into a training set, a\n",
        "validation set, and a test set. The reason not to evaluate the models on the same data\n",
        "they were trained on quickly became evident: after just a few epochs, all three models\n",
        "began to **overfit**. **That is, their performance on never-before-seen data started stalling\n",
        "(or worsening) compared to their performance on the training data—which always\n",
        "improves as training progresses.**\n",
        "\n",
        "\n",
        "In machine learning, the goal is to achieve models that generalize—that perform\n",
        "well on never-before-seen data—and overfitting is the central obstacle. You can only\n",
        "control that which you can observe, so it’s crucial to be able to reliably measure the\n",
        "generalization power of your model. The following sections look at strategies for mitigating overfitting and maximizing generalization. **In this section, we’ll focus on how\n",
        "to measure generalization: how to evaluate machine-learning models.**"
      ]
    },
    {
      "cell_type": "markdown",
      "metadata": {
        "id": "HZqRqiWo753l"
      },
      "source": [
        "### **Training, validation, and test sets**"
      ]
    },
    {
      "cell_type": "markdown",
      "metadata": {
        "id": "BB__qZjw8Bf6"
      },
      "source": [
        "Evaluating a model always boils down to splitting the available data into three sets:\n",
        "training, validation, and test. You train on the training data and evaluate your model\n",
        "on the validation data. Once your model is ready for prime time, you test it one final\n",
        "time on the test data."
      ]
    },
    {
      "cell_type": "markdown",
      "metadata": {
        "id": "nb-Egi-18WAV"
      },
      "source": [
        "You may ask, why not have two sets: a training set and a test set? You’d train on the\n",
        "training data and evaluate on the test data. Much simpler!\n",
        "\n",
        "The reason is that developing a model always involves tuning its configuration: for\n",
        "example, choosing the number of layers or the size of the layers (called the **hyperparameters** of the model, to distinguish them from the **parameters**, which are the **network’s weights**). You do this tuning by using as a ***feedback signal*** the performance of\n",
        "the model on the validation data. In essence, this **tuning** is a form of **learning**: a **search\n",
        "for a good configuration in some parameter space**. As a result, tuning the configuration of the model based on its performance on the validation set can quickly result in\n",
        "**overfitting to the validation set**, even though your model is never directly trained on it.\n",
        "\n",
        "\n",
        "Central to this phenomenon is the notion of **information leaks**. Every time you tune\n",
        "a hyperparameter of your model based on the model’s performance on the validation\n",
        "set, some information about the validation data leaks into the model. If you do this\n",
        "only once, for one parameter, then very few bits of information will leak, and your validation set will remain reliable to evaluate the model. But if you repeat this many\n",
        "times—running one experiment, evaluating on the validation set, and modifying your\n",
        "model as a result—then you’ll leak an increasingly significant amount of information\n",
        "about the validation set into the model.\n",
        "\n",
        "\n",
        "At the end of the day, you’ll end up with a model that performs artificially well on\n",
        "the validation data, because that’s what you optimized it for. You care about performance on completely new data, not the validation data, so you need to use a completely different, never-before-seen dataset to evaluate the model: the test dataset. Your\n",
        "model shouldn’t have had access to any information about the test set, even indirectly"
      ]
    },
    {
      "cell_type": "markdown",
      "metadata": {
        "id": "-E74SGy_9ikT"
      },
      "source": [
        "If anything about the model has been tuned based on test set performance, then your\n",
        "measure of generalization will be flawed.\n",
        " Splitting your data into training, validation, and test sets may seem straightforward,\n",
        "but there are a few advanced ways to do it that can come in handy when little data is\n",
        "available. Let’s review three classic evaluation recipes: simple **hold-out validation**, **Kfold validation**, and **iterated K-fold validation with shuffling**."
      ]
    },
    {
      "cell_type": "markdown",
      "metadata": {
        "id": "z2UMZU1394b4"
      },
      "source": [
        "#### ***SIMPLE HOLD-OUT VALIDATION***\n",
        "Set apart some fraction of your data as your test set. Train on the remaining data, and\n",
        "evaluate on the test set. As you saw in the previous sections, in order to prevent information leaks, you shouldn’t tune your model based on the test set, and therefore you\n",
        "should **also** reserve a validation set.\n",
        "\n",
        "\n",
        "Once you’ve tuned your\n",
        "hyperparameters, it’s common to\n",
        "train your final model from scratch\n",
        "on all non-test data available.\n",
        "\n",
        "\n",
        "This is the simplest evaluation protocol, and it suffers from one flaw: if little data is\n",
        "available, then your validation and test sets may contain too few samples to be statistically representative of the data at hand. This is easy to recognize: if different random\n",
        "shuffling rounds of the data before splitting end up yielding very different measures\n",
        "of model performance, then you’re having this issue. K-fold validation and iterated\n",
        "K-fold validation are two ways to address this, as discussed next. "
      ]
    },
    {
      "cell_type": "markdown",
      "metadata": {
        "id": "g4Bi-2k_-WKz"
      },
      "source": [
        "#### ***K-FOLD VALIDATION***"
      ]
    },
    {
      "cell_type": "markdown",
      "metadata": {
        "id": "Om55a6Ls-dgY"
      },
      "source": [
        "With this approach, you split your data into K partitions of equal size. For each partition i, train a model on the remaining K – 1 partitions, and evaluate it on partition i.\n",
        "Your final score is then the averages of the K scores obtained. This method is helpful\n",
        "when the performance of your model shows significant variance based on your traintest split. Like hold-out validation, this method doesn’t exempt you from using a distinct validation set for model calibration"
      ]
    },
    {
      "cell_type": "markdown",
      "metadata": {
        "id": "lsG0ACbb-wnq"
      },
      "source": [
        "#### ***ITERATED K-FOLD VALIDATION WITH SHUFFLING***\n",
        "This one is for situations in which you have relatively little data available and you need\n",
        "to evaluate your model as precisely as possible. I’ve found it to be extremely helpful in\n",
        "Kaggle competitions. It consists of applying K-fold validation multiple times, shuffling\n",
        "the data every time before splitting it K ways. The final score is the average of the\n",
        "scores obtained at each run of K-fold validation. Note that you end up training and\n",
        "evaluating P × K models (where P is the number of iterations you use), which can very\n",
        "expensive. "
      ]
    },
    {
      "cell_type": "markdown",
      "metadata": {
        "id": "GWvIGMJT_AiR"
      },
      "source": [
        "### **Things to keep in mind**\n",
        "Keep an eye out for the following when you’re choosing an evaluation protocol:\n",
        "* **Data representativeness**—You want both your training set and test set to be representative of the data at hand. For instance, if you’re trying to classify images of\n",
        "digits, and you’re starting from an array of samples where the samples are\n",
        "ordered by their class, taking the first 80% of the array as your training set and\n",
        "the remaining 20% as your test set will result in your training set containing\n",
        "only classes 0–7, whereas your test set contains only classes 8–9. This seems like\n",
        "a ridiculous mistake, but it’s surprisingly common. For this reason, you usually\n",
        "should **randomly shuffle your data before splitting it** into training and test sets.\n",
        "\n",
        "* **The arrow of time**—If you’re trying to predict the future given the past (for example, tomorrow’s weather, stock movements, and so on), you should not randomly shuffle your data before splitting it, because doing so will create a\n",
        "temporal leak: your model will effectively be trained on data from the future. In\n",
        "such situations, **you should always make sure all data in your test set is posterior\n",
        "to the data in the training set**.\n",
        "\n",
        "* **Redundancy in your data**—If some data points in your data appear twice (fairly\n",
        "common with real-world data), then shuffling the data and splitting it into a\n",
        "training set and a validation set will result in redundancy between the training\n",
        "and validation sets. In effect, you’ll be testing on part of your training data,\n",
        "which is the worst thing you can do! **Make sure your training set and validation\n",
        "set are disjoint.**"
      ]
    },
    {
      "cell_type": "markdown",
      "metadata": {
        "id": "AEH7AT9A_2ko"
      },
      "source": [
        "## <font color=\"MediumSeaGreen\">**Data preprocessing, feature engineering, and feature learning**</font>\n",
        "***"
      ]
    },
    {
      "cell_type": "markdown",
      "metadata": {
        "id": "dnzuv27P_9Gd"
      },
      "source": [
        "### **Data preprocessing for neural networks**\n",
        "\n",
        "\n",
        "Data preprocessing aims at making the raw data at hand more amenable to neural\n",
        "networks. This includes **vectorization, normalization, handling missing values, and\n",
        "feature extraction**.\n",
        "\n"
      ]
    },
    {
      "cell_type": "markdown",
      "metadata": {
        "id": "obmWY6vHAOaw"
      },
      "source": [
        "#### *VECTORIZATION*\n",
        "All inputs and targets in a neural network must be tensors of floating-point data (or, in\n",
        "specific cases, tensors of integers). Whatever data you need to process—sound,\n",
        "images, text—you must first turn into tensors, a step called **data vectorization**. For\n",
        "instance, in the two previous text-classification examples, we started from text represented as lists of integers (standing for sequences of words), and we used one-hot\n",
        "encoding to turn them into a tensor of float32 data. In the examples of classifying\n",
        "digits and predicting house prices, the data already came in vectorized form, so you\n",
        "were able to skip this step. "
      ]
    },
    {
      "cell_type": "markdown",
      "metadata": {
        "id": "QrOtht30ARkD"
      },
      "source": [
        "#### *VALUE NORMALIZATION*\n",
        "\n",
        "In the digit-classification example, you started from image data encoded as integers in\n",
        "the 0–255 range, encoding grayscale values. Before you fed this data into your network, you had to cast it to float32 and divide by 255 so you’d end up with floatingpoint values in the 0–1 range. Similarly, when predicting house prices, you started\n",
        "from features that took a variety of ranges—some features had small floating-point values, others had fairly large integer values. Before you fed this data into your network,\n",
        "you had to normalize each feature independently so that it had a standard deviation\n",
        "of 1 and a mean of 0.\n",
        "\n",
        "\n",
        "In general, **it isn’t safe to feed into a neural network data that takes relatively large values** (for example, multidigit integers, which are much larger than the initial values taken\n",
        "by the weights of a network) or data that is heterogeneous (for example, data where one\n",
        "feature is in the range 0–1 and another is in the range 100–200). **Doing so can trigger\n",
        "large gradient updates that will prevent the network from converging**. To make learning\n",
        "easier for your network, your data should have the following characteristics:\n",
        "\n",
        "* Take small values—Typically, most values should be in the 0–1 range.\n",
        "* Be homogenous—That is, all features should take values in roughly the same\n",
        "range.\n",
        "\n",
        "\n",
        "Additionally, the following stricter normalization practice is common and can help,\n",
        "although it isn’t always necessary (for example, you didn’t do this in the digit-classification\n",
        "example):\n",
        "* Normalize each feature independently to have a mean of 0.\n",
        "* Normalize each feature independently to have a standard deviation of 1."
      ]
    },
    {
      "cell_type": "code",
      "metadata": {
        "id": "MuCOCAHHxAXX"
      },
      "source": [
        "# # This is easy to do with Numpy arrays\n",
        "\n",
        "x -= x.mean(axis=0) # Assuming x is a 2D data matrix of shape (samples, features) \n",
        "x /= x.std(axis=0)"
      ],
      "execution_count": null,
      "outputs": []
    },
    {
      "cell_type": "markdown",
      "metadata": {
        "id": "F60yGydYBlXu"
      },
      "source": [
        "#### *HANDLING MISSING VALUES*\n",
        "You may sometimes have missing values in your data. For instance, in the house-price\n",
        "example, the first feature (the column of index 0 in the data) was the per capita crime\n",
        "rate. What if this feature wasn’t available for all samples? You’d then have missing values in the training or test data.\n",
        "\n",
        " In general, with neural networks, it’s safe to input missing values as 0, with the condition that 0 isn’t already a meaningful value. The network will learn from exposure to\n",
        "the data that the value 0 means missing data and will start ignoring the value.\n",
        "\n",
        " Note that if you’re expecting missing values in the test data, but the network was\n",
        "trained on data without any missing values, the network won’t have learned to ignore\n",
        "missing values! In this situation, you should artificially generate training samples with\n",
        "missing entries: copy some training samples several times, and drop some of the features that you expect are likely to be missing in the test data. "
      ]
    },
    {
      "cell_type": "markdown",
      "metadata": {
        "id": "J9H7iQLRB_W1"
      },
      "source": [
        "### **Feature engineering**\n",
        "Feature engineering is the process of using your own knowledge about the data and about\n",
        "the machine-learning algorithm at hand (in this case, a neural network) to make the\n",
        "algorithm work better by applying\n",
        "hardcoded (nonlearned) transformations to the data before it goes\n",
        "into the model. In many cases, it isn’t\n",
        "reasonable to expect a machinelearning model to be able to learn\n",
        "from completely arbitrary data. The\n",
        "data needs to be presented to the\n",
        "model in a way that will make the\n",
        "model’s job easier.\n",
        "\n",
        "\n",
        "\n",
        "Feature engineering: making a problem easier by expressing\n",
        "it in a simpler way. It usually requires understanding the problem in depth.\n",
        "\n",
        "Before deep learning, feature engineering used to be critical, because classical\n",
        "shallow algorithms didn’t have hypothesis spaces rich enough to learn useful features\n",
        "by themselves. The way you presented the data to the algorithm was essential to its success. For instance, before convolutional neural networks became successful on the\n",
        "MNIST digit-classification problem, solutions were typically based on hardcoded features such as the number of loops in a digit image, the height of each digit in an\n",
        "image, a histogram of pixel values, and so on."
      ]
    },
    {
      "cell_type": "markdown",
      "metadata": {
        "id": "UFrz6pmQCz7r"
      },
      "source": [
        "Fortunately, modern deep learning removes the need for most feature engineering, because neural networks are capable of automatically extracting useful features\n",
        "from raw data. Does this mean you don’t have to worry about feature engineering as\n",
        "long as you’re using deep neural networks? No, for two reasons:\n",
        "\n",
        "* Good features still allow you to solve problems more elegantly while using fewer\n",
        "resources. For instance, it would be ridiculous to solve the problem of reading a\n",
        "clock face using a convolutional neural network.\n",
        "* Good features let you solve a problem with far less data. The ability of deep learning models to learn features on their own relies on having lots of training\n",
        "data available; if you have only a few samples, then the information value in\n",
        "their features becomes critical. "
      ]
    },
    {
      "cell_type": "markdown",
      "metadata": {
        "id": "ARB4At0NDF5P"
      },
      "source": [
        "## <font color=\"MediumSeaGreen\">**Overfitting and underfitting**</font>\n",
        "***"
      ]
    },
    {
      "cell_type": "markdown",
      "metadata": {
        "id": "V1ANlVerDHnR"
      },
      "source": [
        "The fundamental issue in machine learning is the tension between optimization\n",
        "and generalization. **Optimization** refers to the process of adjusting a model to get the\n",
        "best performance possible on the training data (the learning in machine learning),\n",
        "whereas **generalization** refers to how well the trained model performs on data it has\n",
        "never seen before. The goal of the game is to get good generalization, of course, but\n",
        "you don’t control generalization; you can only adjust the model based on its training\n",
        "data.\n",
        "\n",
        "At the beginning of training, optimization and generalization are correlated: the\n",
        "lower the loss on training data, the lower the loss on test data. While this is happening,\n",
        "your model is said to be underfit: there is still progress to be made; the network hasn’t\n",
        "yet modeled all relevant patterns in the training data. But after a certain number of\n",
        "iterations on the training data, generalization stops improving, and validation metrics\n",
        "stall and then begin to degrade: the model is starting to **overfit**. That is, it’s **beginning\n",
        "to learn patterns that are specific to the training data but that are misleading or irrelevant when it comes to new data**."
      ]
    },
    {
      "cell_type": "markdown",
      "metadata": {
        "id": "Q_N2HJ8bDp23"
      },
      "source": [
        "To prevent a model from learning misleading or irrelevant patterns found in the\n",
        "training data, the **best solution is to get more training data**. A model trained on more data\n",
        "will naturally generalize better. When that isn’t possible, the next-best solution is to\n",
        "**modulate the quantity of information that your model is allowed to store or to add\n",
        "constraints on what information it’s allowed to store**. If a network can only afford to\n",
        "memorize a small number of patterns, the optimization process will force it to focus\n",
        "on the most prominent patterns, which have a better chance of generalizing well.\n",
        "\n",
        "The processing of fighting overfitting this way is called **regularization**. "
      ]
    },
    {
      "cell_type": "markdown",
      "metadata": {
        "id": "4URUVpEVEYwr"
      },
      "source": [
        "#### **Reducing the network’s size**\n",
        "\n",
        "The simplest way to prevent overfitting is to reduce the size of the model: the number\n",
        "of learnable parameters in the model (which is determined by the number of layers\n",
        "and the number of units per layer). In deep learning, the number of learnable parameters in a model is often referred to as the model’s **capacity**. Intuitively, a model with\n",
        "more parameters has more **memorization capacity** and therefore can easily learn a perfect dictionary-like mapping between training samples and their targets—a mapping\n",
        "without any generalization power.\n",
        "\n",
        " For instance, a model with 500,000 binary parameters could easily be made to learn the class of every digit in the MNIST training set.\n",
        "\n",
        "\n",
        "If the network has limited memorization resources, it won’t be\n",
        "able to learn this mapping as easily; thus, in order to minimize its loss, it will have to\n",
        "resort to learning compressed representations that have predictive power regarding\n",
        "the targets—precisely the type of representations we’re interested in. At the same\n",
        "time, keep in mind that you should use models that have enough parameters that they\n",
        "don’t underfit: your model shouldn’t be starved for memorization resources. There is\n",
        "a compromise to be found between too much capacity and not enough capacity.\n",
        "\n",
        "\n",
        "Unfortunately, there is no magical formula to determine the right number of layers or the right size for each layer. You must evaluate an array of different architectures (on your validation set, not on your test set, of course) in order to find the\n",
        "correct model size for your data. The general workflow to find an appropriate model\n",
        "size is to **start with relatively few layers and parameters, and increase the size of the layers or add new layers until you see diminishing returns with regard to validation loss**.\n",
        "\n",
        "The more **capacity**\n",
        "the network has, the more quickly it can model the training data (resulting in a low\n",
        "training loss), but the more susceptible it is to overfitting (resulting in a large difference between the training and validation loss). "
      ]
    },
    {
      "cell_type": "markdown",
      "metadata": {
        "id": "FRXxni7rGfBr"
      },
      "source": [
        "#### **Adding weight regularization**"
      ]
    },
    {
      "cell_type": "markdown",
      "metadata": {
        "id": "ePBRp9qgGnWP"
      },
      "source": [
        "You may be familiar with the principle of ***Occam’s razor***: given two explanations for\n",
        "something, the explanation most likely to be correct is the simplest one—the one that\n",
        "makes fewer assumptions. This idea also applies to the models learned by neural networks: given some training data and a network architecture, multiple sets of weight\n",
        "values (multiple models) could explain the data. Simpler models are less likely to overfit than complex ones.\n",
        "\n",
        "A ***simple model*** in this context is a model where the **distribution of parameter values\n",
        "has less entropy** (or a model with fewer parameters, as you saw in the previous section). Thus a common way to mitigate overfitting is to put constraints on the complexity of a network by forcing its weights to take only small values, which makes the\n",
        "distribution of weight values more regular. This is called **weight regularization**, and it’s\n",
        "done by adding to the loss function of the network a ***cost*** associated with having large\n",
        "weights. This cost comes in two flavors:\n",
        "\n",
        "* ***L1 regularization***—The cost added is proportional to the absolute value of the\n",
        "weight coefficients (the L1 norm of the weights).\n",
        "* ***L2 regularization***—The cost added is proportional to the square of the value of the\n",
        "weight coefficients (the L2 norm of the weights). L2 regularization is also called **weight decay** in the context of neural networks. Don’t let the different name confuse you: weight decay is mathematically the same as L2 regularization.\n",
        "\n",
        "In Keras, weight regularization is added by passing **weight regularizer instances** to layers\n",
        "as keyword arguments. Let’s add L2 weight regularization to the movie-review classification network."
      ]
    },
    {
      "cell_type": "code",
      "metadata": {
        "id": "AUR2ttCCBfyk"
      },
      "source": [
        "# L2 regularization/weight decay\n",
        "from keras import regularizers\n",
        "from keras import models\n",
        "from keras import layers\n",
        "\n",
        "model = models.Sequential()\n",
        "\n",
        "model.add(layers.Dense(16, kernel_regularizer=regularizers.l2(0.001),\n",
        "                       activation='relu', input_shape=(10000,)))\n",
        "\n",
        "model.add(layers.Dense(16, kernel_regularizer=regularizers.l2(0.001),\n",
        "                       activation='relu'))\n",
        "\n",
        "model.add(layers.Dense(1, activation='sigmoid'))"
      ],
      "execution_count": null,
      "outputs": []
    },
    {
      "cell_type": "markdown",
      "metadata": {
        "id": "n7yWPwbDIlDC"
      },
      "source": [
        "l2(0.001) means every coefficient in the weight matrix of the layer will add 0.001 *\n",
        "weight_coefficient_value to the total loss of the network. Note that because this\n",
        "penalty is only added at training time, the loss for this network will be much higher at\n",
        "training than at test time."
      ]
    },
    {
      "cell_type": "markdown",
      "metadata": {
        "id": "-ynCwIL1JYVX"
      },
      "source": [
        "#### **Adding dropout**"
      ]
    },
    {
      "cell_type": "markdown",
      "metadata": {
        "id": "NYNCdmI9JgBG"
      },
      "source": [
        "***Dropout*** is one of the most effective and most commonly used regularization techniques for neural networks, developed by Geoff Hinton (backprop paper) and his students at the University of Toronto. \n",
        "\n",
        "Dropout, applied to a layer, consists of randomly dropping out\n",
        "(setting to zero) a number of output features of the layer during training. Let’s say a\n",
        "given layer would normally return a vector [0.2, 0.5, 1.3, 0.8, 1.1] for a given input\n",
        "sample during training. After applying dropout, this vector will have a few zero entries\n",
        "distributed at random: for example, [0, 0.5, 1.3, 0, 1.1]. The dropout rate is the fraction\n",
        "of the features that are zeroed out; it’s usually set between 0.2 and 0.5. At test time, no\n",
        "units are dropped out; instead, the layer’s output values are scaled down by a factor\n",
        "equal to the dropout rate, to balance for the fact that more units are active than at\n",
        "training time.\n",
        "\n",
        "Consider a Numpy matrix containing the output of a layer, layer_output, of\n",
        "shape (batch_size, features). At training time, we zero out at random a fraction of\n",
        "the values in the matrix:\n",
        "\n",
        "\n",
        "*layer_output *= np.random.randint(0, high=2, size=layer_output.shape)*<br><br>\n",
        "\n",
        "\n",
        "\n",
        "At test time, we scale down the output by the dropout rate. Here, we scale by 0.5\n",
        "(because we previously dropped half the units):\n",
        "\n",
        "\n",
        "*layer_output *= 0.5*"
      ]
    },
    {
      "cell_type": "markdown",
      "metadata": {
        "id": "Y7FkyItoKobZ"
      },
      "source": [
        "Note that this process can be implemented by doing both operations at training time\n",
        "and leaving the output unchanged at test time, which is often the way it’s implemented in practice (see figure 4.8):\n",
        "\n",
        "\n",
        "*layer_output *= np.random.randint(0, high=2, size=layer_output.shape)*\n",
        "\n",
        "\n",
        "*layer_output /= 0.5* # scaling up"
      ]
    },
    {
      "cell_type": "markdown",
      "metadata": {
        "id": "8UmNmf1fLJyH"
      },
      "source": [
        "Randomly removing a different\n",
        "subset of neurons on each example would prevent conspiracies and thus reduce overfitting.\n",
        "\n",
        " The core idea is that introducing noise in the output values of a layer can\n",
        "break up happenstance patterns that aren’t significant (what Hinton refers to as conspiracies), which the network will start memorizing if no noise is present.\n",
        "\n",
        " In Keras, you can introduce dropout in a network via the Dropout layer, **which is\n",
        "applied to the output of the layer right before it:**\n",
        "\n",
        "*model.add(layers.Dropout(0.5))*\n",
        "\n",
        "Let’s add two Dropout layers in the IMDB network to see how well they do at reducing\n",
        "overfitting."
      ]
    },
    {
      "cell_type": "code",
      "metadata": {
        "id": "SFu2-BKVISGq"
      },
      "source": [
        "model = models.Sequential()\n",
        "model.add(layers.Dense(16, activation='relu', input_shape=(10000,)))\n",
        "model.add(layers.Dropout(0.5))\n",
        "model.add(layers.Dense(16, activation='relu'))\n",
        "model.add(layers.Dropout(0.5))\n",
        "model.add(layers.Dense(1, activation='sigmoid'))"
      ],
      "execution_count": null,
      "outputs": []
    },
    {
      "cell_type": "markdown",
      "metadata": {
        "id": "Dbhd3bpmMA3B"
      },
      "source": [
        "#### **Recap**\n",
        "\n",
        "To recap, these are the most common ways to prevent overfitting in neural networks:\n",
        "* Get more training data.\n",
        "* Reduce the capacity of the network.\n",
        "* Add weight regularization.\n",
        "* Add dropout. "
      ]
    },
    {
      "cell_type": "markdown",
      "metadata": {
        "id": "YSRG28MUNEfN"
      },
      "source": [
        "## <font color=\"MediumSeaGreen\">**The universal workflow of machine learning**</font>\n",
        "***"
      ]
    },
    {
      "cell_type": "markdown",
      "metadata": {
        "id": "gwrH1EgkLfg9"
      },
      "source": [
        "Keep in mind that machine learning can only be used to memorize patterns that\n",
        "are present in your training data. You can only recognize what you’ve seen before.\n",
        "Using machine learning trained on past data to predict the future is making the\n",
        "assumption that the future will behave like the past. That often isn’t the case.<br><br>\n",
        "\n",
        "\n",
        "\n",
        "\n",
        "1. **Defining the problem and assembling a dataset**\n",
        "    - What will your input data be? What are you trying to predict? You can only learn\n",
        "to predict something if you have available training data: for example, you can\n",
        "only learn to classify the sentiment of movie reviews if you have both movie\n",
        "reviews and sentiment annotations available. As such, data availability is usually\n",
        "the limiting factor at this stage (unless you have the means to pay people to collect data for you).\n",
        "    - What type of problem are you facing? Is it binary classification? Multiclass classification? Scalar regression? Vector regression? Multiclass, multilabel classification? Something else, like clustering, generation, or reinforcement learning?\n",
        "Identifying the problem type will guide your choice of model architecture, loss\n",
        "function, and so on.\n",
        "    - You hypothesize that your outputs can be predicted given your inputs.\n",
        "    - You hypothesize that your available data is sufficiently informative to learn the\n",
        "relationship between inputs and outputs. \n",
        "\n",
        " One class of unsolvable problems you should be aware of is nonstationary problems.\n",
        "Suppose you’re trying to build a recommendation engine for clothing, you’re training\n",
        "it on one month of data (August), and you want to start generating recommendations\n",
        "in the winter. One big issue is that the kinds of clothes people buy change from season\n",
        "to season: clothes buying is a nonstationary phenomenon over the scale of a few\n",
        "months. What you’re trying to model changes over time. In this case, the right move is\n",
        "to constantly retrain your model on data from the recent past, or gather data at a\n",
        "timescale where the problem is stationary. For a cyclical problem like clothes buying, a\n",
        "few years’ worth of data will suffice to capture seasonal variation—but remember to\n",
        "make the time of the year an input of your model!<br>\n",
        "\n",
        "\n",
        "\n",
        "2. **Choosing a measure of success**<br>\n",
        "    * To control something, you need to be able to observe it. To achieve success, you must\n",
        "define what you mean by success—accuracy? Precision and recall? Customer-retention\n",
        "rate? **Your metric for success will guide the choice of a loss function**: what your model\n",
        "will optimize. It should directly align with your higher-level goals, such as the success\n",
        "of your business. \n",
        "\n",
        "    * For *balanced-classification* problems, where every class is equally likely, **accuracy** and **area under the receiver operating characteristic curve (ROC AUC)** are common metrics. For *class-imbalanced problems*, you can use **precision and recall**. For *ranking problems* or *multilabel classification*, you can use **mean average precision**. And it isn’t uncommon\n",
        "to have to define your own **custom metric** by which to measure success. To get a sense\n",
        "of the diversity of machine-learning success metrics and how they relate to different\n",
        "problem domains, it’s helpful to browse the data science competitions on Kaggle\n",
        "(https://kaggle.com); they showcase a wide range of problems and evaluation metrics.<br> \n",
        "\n",
        "\n",
        "\n",
        "3. **Deciding on an evaluation protocol**<br>\n",
        "Once you know what you’re aiming for, you must establish how you’ll measure your\n",
        "current progress. We’ve previously reviewed three common evaluation protocols:\n",
        "    * Maintaining a hold-out validation set—The way to go when you have plenty of\n",
        "data\n",
        "    * Doing K-fold cross-validation—The right choice when you have too few samples\n",
        "for hold-out validation to be reliable\n",
        "    * Doing iterated K-fold validation—For performing highly accurate model evaluation when little data is available\n",
        "Just pick one of these. In most cases, the first will work well enough. \n",
        "\n",
        "\n",
        "4.  **Preparing your data**\n",
        "    * As you saw previously, your data should be formatted as tensors.\n",
        "    * The values taken by these tensors should usually be scaled to small values: for\n",
        "example, in the [-1, 1] range or [0, 1] range.\n",
        "    * If different features take values in different ranges (heterogeneous data), then\n",
        "the data should be normalized.\n",
        "    * You may want to do some feature engineering, especially for small-data problems.\n",
        "\n",
        " Once your tensors of input data and target data are ready, you can begin to train models. \n",
        "\n",
        "\n",
        "5. **Developing a model that does better than a baseline**\n",
        "\n",
        " Your goal at this stage is to achieve ***statistical power***: that is, to develop a small model\n",
        "that is capable of beating a dumb baseline. In the MNIST digit-classification example,\n",
        "anything that achieves an accuracy greater than 0.1 can be said to have statistical\n",
        "power; in the IMDB example, it’s anything with an accuracy greater than 0.5.\n",
        "\n",
        " **Note that it’s not always possible to achieve statistical power. If you can’t beat a random baseline after trying multiple reasonable architectures, it may be that the answer\n",
        "to the question you’re asking isn’t present in the input data.** Remember that you make\n",
        "two hypotheses:\n",
        "    * You hypothesize that your outputs can be predicted given your inputs.\n",
        "    * You hypothesize that the available data is sufficiently informative to learn the\n",
        "relationship between inputs and outputs.\n",
        "It may well be that these hypotheses are false, in which case you must go back to the\n",
        "drawing board.\n",
        "\n",
        " Assuming that things go well, you need to make **three key choices** to build your\n",
        "first working model:\n",
        "* **Last-layer activation**—This establishes useful constraints on the network’s output. For instance, the IMDB classification example used sigmoid in the last\n",
        "layer; the regression example didn’t use any last-layer activation; and so on.\n",
        "* **Loss function**—This should match the type of problem you’re trying to solve. For\n",
        "instance, the IMDB example used binary_crossentropy, the regression example used mse, and so on.\n",
        "* **Optimization configuration**—What optimizer will you use? What will its learning\n",
        "rate be? In most cases, it’s safe to go with rmsprop and its default learning rate.\n",
        "\n",
        " Regarding the choice of a loss function, **note that it isn’t always possible to directly\n",
        "optimize for the metric that measures success on a problem. Sometimes there is no\n",
        "easy way to turn a metric into a loss function**; loss functions, after all, need to be computable given only a mini-batch of data (ideally, a loss function should be computable\n",
        "for as little as a single data point) and must be differentiable (otherwise, you can’t use\n",
        "backpropagation to train your network). For instance, the widely used classification\n",
        "metric ROC AUC can’t be directly optimized. Hence, in classification tasks, it’s common to optimize for a proxy metric of ROC AUC, such as crossentropy. In general, you\n",
        "can hope that the lower the crossentropy gets, the higher the ROC AUC will be.\n",
        "\n",
        " Choosing the right last-layer activation and loss function for your model:\n",
        "\n",
        " <img src=\"https://drive.google.com/uc?id=1jqJIJhtPTSKMPHyhIwr3RB9LynzF9ieo\"></img><br>\n",
        " \n",
        "\n",
        "\n",
        "6. **Scaling up: developing a model that overfits**\n",
        "\n",
        " Remember that the universal tension in machine learning is between\n",
        "optimization and generalization; the ideal model is one that stands right at the border\n",
        "between underfitting and overfitting; between undercapacity and overcapacity. To figure out where this border lies, first you must cross it.\n",
        "\n",
        " To figure out how big a model you’ll need, you must develop a model that overfits.\n",
        "This is fairly easy:\n",
        "\n",
        "    1. Add layers.<br>\n",
        "    2. Make the layers bigger.<br>\n",
        "    3. Train for more epochs.<br>\n",
        "    \n",
        " Always **monitor the training loss and validation loss, as well as the training and validation values for any metrics you care about**. **When you see that the model’s performance on the validation data begins to degrade, you’ve achieved overfitting**.\n",
        "\n",
        " The next stage is to **start regularizing and tuning the model**, to get as close as possible to the ideal model that neither underfits nor overfits. \n",
        "\n",
        "\n",
        "\n",
        "7. **Regularizing your model and tuning your hyperparameters**\n",
        "\n",
        " This step will take the most time: you’ll repeatedly modify your model, train it, evaluate on your validation data (not the test data, at this point), modify it again, and\n",
        "repeat, until the model is as good as it can get. These are some things you should try:\n",
        "\n",
        "    * Add dropout.\n",
        "    * Try different architectures: add or remove layers.\n",
        "    * Add L1 and/or L2 regularization.\n",
        "    * Try different hyperparameters (such as the number of units per layer or the\n",
        "learning rate of the optimizer) to find the optimal configuration.\n",
        "    * Optionally, iterate on feature engineering: add new features, or remove features that don’t seem to be informative.\n",
        "\n",
        " Be mindful of the following: every time you use feedback from your validation process\n",
        "to tune your model, you leak information about the validation process into the model.\n",
        "Repeated just a few times, this is innocuous; but done systematically over many iterations, it will eventually cause your model to overfit to the validation process (even\n",
        "though no model is directly trained on any of the validation data). This makes the\n",
        "evaluation process less reliable.\n",
        "\n",
        " Once you’ve developed a satisfactory model configuration, you can train your final\n",
        "production model on all the available data (training and validation) and evaluate it\n",
        "one last time on the test set. If it turns out that performance on the test set is significantly worse than the performance measured on the validation data, this may mean\n",
        "either that your validation procedure wasn’t reliable after all, or that you began overfitting to the validation data while tuning the parameters of the model. In this case,\n",
        "you may want to switch to a more reliable evaluation protocol (such as iterated K-fold\n",
        "validation). "
      ]
    },
    {
      "cell_type": "markdown",
      "metadata": {
        "id": "2LWJH8l_X4A9"
      },
      "source": [
        "### **Summary**"
      ]
    },
    {
      "cell_type": "markdown",
      "metadata": {
        "id": "ZZny1fN6gqq8"
      },
      "source": [
        "1. Define the problem at hand and the data on which you’ll train. Collect\n",
        "this data, or annotate it with labels if need be.\n",
        "\n",
        "2. Choose how you’ll measure success on your problem. Which metrics will\n",
        "you monitor on your validation data?\n",
        "\n",
        "3. Determine your evaluation protocol: hold-out validation? K-fold validation? Which portion of the data should you use for validation?\n",
        "\n",
        "4. Develop a first model that does better than a basic baseline: a model with\n",
        "statistical power.\n",
        "\n",
        "5. Develop a model that overfits.\n",
        "\n",
        "6. Regularize your model and tune its hyperparameters, based on performance on the validation data. A lot of machine-learning research tends to\n",
        "focus only on this step—but keep the big picture in mind."
      ]
    },
    {
      "cell_type": "code",
      "metadata": {
        "id": "20I9wmNzi2jV"
      },
      "source": [
        ""
      ],
      "execution_count": null,
      "outputs": []
    },
    {
      "cell_type": "code",
      "metadata": {
        "id": "yMqzZmndi2tX"
      },
      "source": [
        ""
      ],
      "execution_count": null,
      "outputs": []
    },
    {
      "cell_type": "markdown",
      "metadata": {
        "id": "T7UWMNbmi0jr"
      },
      "source": [
        "# <font color=\"Orange\">**Deep learning for text and sequences**</font>"
      ]
    },
    {
      "cell_type": "markdown",
      "metadata": {
        "id": "Z3FZHArPi98q"
      },
      "source": [
        "This chapter covers:\n",
        "* *Preprocessing* text data into **useful\n",
        "representations**\n",
        "* Working with **recurrent neural networks**\n",
        "* Using **1D convnets** for sequence processing"
      ]
    },
    {
      "cell_type": "markdown",
      "metadata": {
        "id": "KfmmTH68i1cj"
      },
      "source": [
        "This chapter explores deep-learning models that can process text (understood as\n",
        "sequences of word or sequences of characters), timeseries, and sequence data in\n",
        "general. \n",
        "The two fundamental deep-learning algorithms for **sequence processing**\n",
        "are ***recurrent neural networks*** and ***1D convnets***, the one-dimensional version of the 2D\n",
        "convnets that we covered in the previous chapters. We’ll discuss both of these\n",
        "approaches in this chapter.\n",
        "\n",
        " Applications of these algorithms include the following:\n",
        "* **Document classification** and **timeseries classification**, such as identifying the\n",
        "topic of an article or the author of a book.\n",
        "\n",
        "* **Timeseries comparisons**, such as estimating how closely related two documents or two stock tickers are.\n",
        "\n",
        "* **Sequence-to-sequence learning**, such as decoding an English sentence into\n",
        "French\n",
        "\n",
        "* **Sentiment analysis**, such as classifying the sentiment of tweets or movie reviews\n",
        "as positive or negative\n",
        "\n",
        "* **Timeseries forecasting**, such as predicting the future weather at a certain location, given recent weather data"
      ]
    },
    {
      "cell_type": "markdown",
      "metadata": {
        "id": "TNq29Eerlt-k"
      },
      "source": [
        "## <font color=\"MediumSeaGreen\">**Working with text data**</font>\n",
        "***\n"
      ]
    },
    {
      "cell_type": "markdown",
      "metadata": {
        "id": "qI3t3bY3mPMs"
      },
      "source": [
        "Text is one of the most widespread forms of ***sequence data***. It can be understood as\n",
        "either a **sequence of characters** or a **sequence of words**, but it’s most common to work\n",
        "at the level of words. \n",
        "\n",
        "\n",
        "Like all other neural networks, deep-learning models don’t take as input raw text:\n",
        "they only work with **numeric tensors**. \n",
        "\n",
        "**Vectorizing text** is the ***process of transforming text\n",
        "into numeric tensors***. This can be done in multiple ways:\n",
        "* Segment text into words (tokenizing), and transform each word into a vector.\n",
        "\n",
        "* Segment text into characters (tokenizing), and transform each character into a vector.\n",
        "\n",
        "* Extract n-grams of words or characters (tokenizing), and transform each n-gram into a vector.\n",
        "N-grams are overlapping groups of multiple consecutive words or characters.\n",
        "\n",
        "\n",
        "\n",
        "\n",
        "\n",
        "\n",
        "\n",
        "\n",
        "\n"
      ]
    },
    {
      "cell_type": "markdown",
      "metadata": {
        "id": "yOlov6YdwJwa"
      },
      "source": [
        "### **Tokenization**\n",
        "\n",
        "Collectively, the different **units** into which you can break down text (words, characters, or n-grams) are called ***tokens***, and breaking text into such tokens is called ***tokenization***. \n",
        "\n",
        "All **text-vectorization** processes consist of applying some ***tokenization scheme*** and\n",
        "then associating ***numeric vectors*** with the ***generated tokens***. These vectors, packed\n",
        "into **sequence tensors** - 3D tensors of shape *(samples, timesteps,\n",
        "features)*, are fed into deep neural networks. **Each sample will be vectorized into a <ins>sequence</ins> of letters, characters, or n-grams**.\n",
        "\n",
        "There are multiple ways to\n",
        "**associate a vector with a token**. In this section, I’ll present two major ones: \n",
        "* ***one-hot\n",
        "encoding of tokens***<br>\n",
        "\n",
        "* ***token embedding*** (typically used exclusively for words, and called **word embedding**). \n",
        "\n",
        "The remainder of this section explains these techniques and shows\n",
        "how to use them to go from raw text to a Numpy tensor that you can send to a Keras\n",
        "network.<br>"
      ]
    },
    {
      "cell_type": "markdown",
      "metadata": {
        "id": "D0dxsnTZnz-e"
      },
      "source": [
        "**<ins>Vectorization process visualized</ins>**<br>\n",
        "\n",
        "<img src=\"https://drive.google.com/uc?id=1S6ux_kP7u_F95sSGI6ZpNx5BhVRuSmUw\"></img>"
      ]
    },
    {
      "cell_type": "markdown",
      "metadata": {
        "id": "YUPQVyDypiqO"
      },
      "source": [
        "### **Understanding n-grams and bag-of-words**\n",
        "\n"
      ]
    },
    {
      "cell_type": "markdown",
      "metadata": {
        "id": "BTL0W-PZpn9Z"
      },
      "source": [
        "**Word n-grams** are groups of *N* (or fewer) consecutive words that you can extract from\n",
        "a sentence. The same concept may also be applied to characters instead of words.\n",
        "\n",
        "Here’s a simple example. Consider the sentence “The cat sat on the mat.” It may be\n",
        "decomposed into the following set of 2-grams:\n",
        "\n",
        "`{\"The\", \"The cat\", \"cat\", \"cat sat\", \"sat\",\n",
        "\"sat on\", \"on\", \"on the\", \"the\", \"the mat\", \"mat\"}`\n",
        "\n",
        "It may also be decomposed into the following set of 3-grams:\n",
        "\n",
        "`{\"The\", \"The cat\", \"cat\", \"cat sat\", \"The cat sat\",\n",
        "\"sat\", \"sat on\", \"on\", \"cat sat on\", \"on the\", \"the\",\n",
        "\"sat on the\", \"the mat\", \"mat\", \"on the mat\"}`<br><br>\n",
        "\n",
        "\n",
        "\n",
        "\n",
        "Such a set is called a bag-of-2-grams or bag-of-3-grams, respectively. The term **bag**\n",
        "here refers to the fact that you’re ***dealing with a set of tokens rather than a list or\n",
        "sequence***: the tokens have no specific order. This family of tokenization methods is\n",
        "called **bag-of-words**.\n",
        "\n",
        "\n",
        "Because bag-of-words isn’t an order-preserving tokenization method (the tokens generated are understood as a set, not a sequence, and the general structure of the sentences is lost), it tends to be used in shallow language-processing models rather than\n",
        "in deep-learning models. \n",
        "\n",
        "Extracting n-grams is a form of feature engineering, and\n",
        "deep learning does away with this kind of rigid, brittle approach, replacing it with hierarchical feature learning.\n",
        "\n",
        "\n",
        "**One-dimensional convnets** and **recurrent neural networks**,\n",
        "introduced later in this chapter, are ***capable of learning representations for groups of\n",
        "words and characters without being explicitly told about the existence of such groups,\n",
        "by looking at continuous word or character sequences***. For this reason, we won’t\n",
        "cover **n-grams** any further in this book. But do keep in mind that they’re a powerful,\n",
        "unavoidable feature-engineering tool when using lightweight, ***shallow text-processing\n",
        "models*** such as **logistic regression** and **random forests**."
      ]
    },
    {
      "cell_type": "markdown",
      "metadata": {
        "id": "dPH9sOpvre6j"
      },
      "source": [
        "### **One-hot encoding of words and characters**"
      ]
    },
    {
      "cell_type": "markdown",
      "metadata": {
        "id": "Wiv_ECu2rlSB"
      },
      "source": [
        "**One-hot encoding** is the most common, **most basic way to turn a token into a vector**.\n",
        "You saw it in action in the initial *IMDB* and *Reuters* examples in chapter 3 (done with\n",
        "words, in that case). It consists of **associating a unique integer index with every word\n",
        "and then turning this integer index i into a binary vector of size N (the size of the\n",
        "vocabulary); the vector is all zeros except for the ith entry, which is 1 (one-hot encoding).**\n",
        "\n",
        " Of course, **one-hot encoding** can be done at the **character level**, as well. To unambiguously drive home what one-hot encoding is and how to implement it, let us show two toy examples: one for words, the other for characters."
      ]
    },
    {
      "cell_type": "markdown",
      "metadata": {
        "id": "E2SmAdNHsVmB"
      },
      "source": [
        "<ins>**Word-level one-hot encoding example**<ins><br>\n",
        "\n",
        "\n",
        "\n",
        "\n",
        "\n",
        "\n",
        "\n",
        "\n",
        "\n"
      ]
    },
    {
      "cell_type": "code",
      "metadata": {
        "id": "vihFtklvo-5J"
      },
      "source": [
        "# Word-level one-hot encoding (toy example)\n",
        "import numpy as np\n",
        "\n",
        "# Initial data: one entry per sample \n",
        "# (in this example, a sample is a sentence, but it could be an entire document)\n",
        "samples = ['The cat sat on the mat.', 'The dog ate my homework.']\n",
        "\n",
        "# Builds an index of all tokens (words) in the data\n",
        "token_index = {}\n",
        "for sample in samples:\n",
        "    # Tokenizes the samples via the split method. \n",
        "    # In real life, you’d also strip punctuation and special characters from the samples\n",
        "    for word in sample.split():\n",
        "        if word not in token_index:\n",
        "            # Assigns a unique index to each unique word. Note that you don’t attribute index 0 to anything\n",
        "            token_index[word] = len(token_index) + 1\n",
        "\n",
        "\n",
        "# Vectorizes the samples \n",
        "# Packs into sequence tensors - 3D tensors of shape (samples, timesteps, features)\n",
        "max_length = 10 # time/sequence order is second axis\n",
        "\n",
        "# This is where you store the results.\n",
        "# + 1 because index 0 is ignored\n",
        "results = np.zeros(shape=(len(samples),\n",
        "                          max_length,\n",
        "                          max(token_index.values()) + 1))\n",
        "\n",
        "for i, sample in enumerate(samples):\n",
        "    for j, word in list(enumerate(sample.split()))[:max_length]:\n",
        "        index = token_index.get(word)\n",
        "        results[i, j, index] = 1. "
      ],
      "execution_count": null,
      "outputs": []
    },
    {
      "cell_type": "markdown",
      "metadata": {
        "id": "ZN2_WXphu7Of"
      },
      "source": [
        "<ins>**Character-level one-hot encoding example**</ins><br>\n",
        "\n"
      ]
    },
    {
      "cell_type": "code",
      "metadata": {
        "id": "NcQrEaGm4y5F"
      },
      "source": [
        "#  Character-level one-hot encoding (toy example)\n",
        "import string\n",
        "import numpy as np\n",
        "\n",
        "samples = ['The cat sat on the mat.', 'The dog ate my homework.']\n",
        "\n",
        "# tokenize\n",
        "characters = string.printable # All printable ASCII characters\n",
        "token_index = dict(zip(range(1, len(characters) + 1), characters))\n",
        "\n",
        "max_length = 50 # time/sequence order axis dimension\n",
        "\n",
        "# if for 100 chars, want 101 dimension size for feature axis (index 0 ignored)\n",
        "results = np.zeros((len(samples), max_length, max(token_index.keys()) + 1))\n",
        "\n",
        "# vectorize samples into one 3D tensor ready for deep neural network input\n",
        "for i, sample in enumerate(samples):\n",
        "    for j, character in enumerate(sample):\n",
        "        index = token_index.get(character)\n",
        "        results[i, j, index] = 1."
      ],
      "execution_count": null,
      "outputs": []
    },
    {
      "cell_type": "code",
      "metadata": {
        "id": "yeyn6cZq6YF9",
        "outputId": "bab2c53f-02c4-4d3f-8522-fbc932edb7ee",
        "colab": {
          "base_uri": "https://localhost:8080/",
          "height": 51
        }
      },
      "source": [
        "print(len(characters))\n",
        "print(len(token_index))"
      ],
      "execution_count": null,
      "outputs": [
        {
          "output_type": "stream",
          "text": [
            "100\n",
            "100\n"
          ],
          "name": "stdout"
        }
      ]
    },
    {
      "cell_type": "markdown",
      "metadata": {
        "id": "7qwSyR7Qu50-"
      },
      "source": [
        "Note that *Keras* has built-in utilities for doing **one-hot encoding** of text at the <ins>word level</ins>\n",
        "or <ins>character level</ins>, starting from raw text data. You should use these utilities, because\n",
        "they take care of a number of important features such as stripping special characters\n",
        "from strings and only taking into account the N most common words in your dataset (a\n",
        "common restriction, to avoid dealing with very large input vector spaces)."
      ]
    },
    {
      "cell_type": "markdown",
      "metadata": {
        "id": "OYI90pvYxoSX"
      },
      "source": [
        "<ins>**Using Keras for word-level one-hot encoding**</ins><br>"
      ]
    },
    {
      "cell_type": "code",
      "metadata": {
        "id": "Luj-cTygMyCK",
        "outputId": "9b851cf5-0965-4e02-ae71-036458f8d1c6",
        "colab": {
          "base_uri": "https://localhost:8080/",
          "height": 34
        }
      },
      "source": [
        "from keras.preprocessing.text import Tokenizer\n",
        "\n",
        "samples = ['The cat sat on the mat.', 'The dog ate my homework.']\n",
        "\n",
        "# Creates a tokenizer, configured to only take into account the 1,000 most common words\n",
        "tokenizer = Tokenizer(num_words=1000)\n",
        "# Builds the word index\n",
        "tokenizer.fit_on_texts(samples)\n",
        "\n",
        "sequences = tokenizer.texts_to_sequences(samples) # Turns strings into lists of integer indices\n",
        "\n",
        "# You could also directly get the one-hot binary representations.\n",
        "# Vectorization modes other than one-hot encoding are supported by this tokenizer.\n",
        "one_hot_results = tokenizer.texts_to_matrix(samples, mode='binary')\n",
        "\n",
        "word_index = tokenizer.word_index # How you can recover the word index that was computed\n",
        "print('Found %s unique tokens.' % len(word_index))"
      ],
      "execution_count": null,
      "outputs": [
        {
          "output_type": "stream",
          "text": [
            "Found 9 unique tokens.\n"
          ],
          "name": "stdout"
        }
      ]
    },
    {
      "cell_type": "code",
      "metadata": {
        "id": "iNro7HMXxy_P",
        "outputId": "d88c0b9e-a31b-44dc-ffab-5fe873de397e",
        "colab": {
          "base_uri": "https://localhost:8080/",
          "height": 34
        }
      },
      "source": [
        "word_index['cat']"
      ],
      "execution_count": null,
      "outputs": [
        {
          "output_type": "execute_result",
          "data": {
            "text/plain": [
              "2"
            ]
          },
          "metadata": {
            "tags": []
          },
          "execution_count": 6
        }
      ]
    },
    {
      "cell_type": "code",
      "metadata": {
        "id": "UsfGIbQ5HSIa",
        "outputId": "fee4d42e-f40d-414c-88db-a0b1155e721a",
        "colab": {
          "base_uri": "https://localhost:8080/",
          "height": 34
        }
      },
      "source": [
        "one_hot_results[0].shape"
      ],
      "execution_count": null,
      "outputs": [
        {
          "output_type": "execute_result",
          "data": {
            "text/plain": [
              "(1000,)"
            ]
          },
          "metadata": {
            "tags": []
          },
          "execution_count": 4
        }
      ]
    },
    {
      "cell_type": "markdown",
      "metadata": {
        "id": "b7Cn35ssyHam"
      },
      "source": [
        "<ins>**One-hot hashing trick**</ins><br>\n",
        "\n",
        "\n",
        "A variant of one-hot encoding is the so-called **one-hot hashing trick**, which you can use\n",
        "when the **number of unique tokens in your vocabulary is too large to handle explicitly**.\n",
        "Instead of explicitly assigning an index to each word and keeping a reference of these\n",
        "indices in a dictionary, you can hash words into vectors of fixed size. This is typically\n",
        "done with a very lightweight hashing function. The main advantage of this method is\n",
        "that it does away with maintaining an explicit word index, which saves memory and\n",
        "allows online encoding of the data (you can generate token vectors right away, before\n",
        "you’ve seen all of the available data). The one drawback of this approach is that it’s\n",
        "susceptible to hash collisions: two different words may end up with the same hash, and\n",
        "subsequently any machine-learning model looking at these hashes won’t be able to tell\n",
        "the difference between these words. **The likelihood of hash collisions decreases when\n",
        "the dimensionality of the hashing space is much larger than the total number of\n",
        "unique tokens being hashed.**\n",
        "\n",
        "\n",
        "Stores the words as vectors of size 1,000. If you have close\n",
        "to 1,000 words (or more), you’ll see many hash collisions,\n",
        "which will decrease the accuracy of this encoding method."
      ]
    },
    {
      "cell_type": "code",
      "metadata": {
        "id": "Vns0r35Lx3y5"
      },
      "source": [
        "import numpy as np\n",
        "\n",
        "samples = ['The cat sat on the mat.', 'The dog ate my homework.']\n",
        "\n",
        "dimensionality = 1000\n",
        "max_length = 10\n",
        "\n",
        "results = np.zeros((len(samples), max_length, dimensionality))\n",
        "for i, sample in enumerate(samples):\n",
        "    for j, word in list(enumerate(sample.split()))[:max_length]:\n",
        "        # Hashes the word into a random integer index between 0 and 1,000\n",
        "        index = abs(hash(word)) % dimensionality\n",
        "        results[i, j, index] = 1."
      ],
      "execution_count": null,
      "outputs": []
    },
    {
      "cell_type": "markdown",
      "metadata": {
        "id": "XxSsqjp7zPNh"
      },
      "source": [
        "### **Word embeddings**"
      ]
    },
    {
      "cell_type": "markdown",
      "metadata": {
        "id": "HGWjxbA1zUKk"
      },
      "source": [
        "#### ***CONCEPT***<br>\n",
        "Another popular and powerful way to associate a vector with a word is the use of dense\n",
        "**word vectors**, also called **word embeddings**. Whereas the vectors obtained through one-hot\n",
        "encoding are binary, sparse (mostly made of zeros), and very high-dimensional (same\n",
        "dimensionality as the number of words in the vocabulary), word embeddings are low-dimensional floating-point vectors (that is, dense vectors, as opposed to sparse vectors); see figure 6.2. **Unlike the word vectors obtained via one-hot encoding, word\n",
        "embeddings are learned from data**. It’s common to see ***word embeddings*** that are\n",
        "**256-dimensional, 512-dimensional, or 1,024-dimensional** when dealing with very large\n",
        "vocabularies. On the other hand, one-hot encoding words generally leads to vectors\n",
        "that are 20,000-dimensional or greater (capturing a vocabulary of 20,000 tokens, in\n",
        "this case). So, **word embeddings pack more information into far fewer dimensions**."
      ]
    },
    {
      "cell_type": "markdown",
      "metadata": {
        "id": "cERK3o0DzuXC"
      },
      "source": [
        "<img src=\"https://drive.google.com/uc?id=1ChlnVSULKUDIwX1qSR_AgLuLqTAoW172\"></img>\n",
        "\n",
        "\n"
      ]
    },
    {
      "cell_type": "markdown",
      "metadata": {
        "id": "r7XudfEK0J_B"
      },
      "source": [
        "There are two ways to obtain **word embeddings**:\n",
        "* Learn word embeddings jointly with the main task you care about (such as document classification or sentiment prediction). In this setup, you start with random word vectors and then learn word vectors in the same way you learn the\n",
        "weights of a neural network.\n",
        "\n",
        "* Load into your model word embeddings that were precomputed using a different machine-learning task than the one you’re trying to solve. These are called **pretrained word embeddings**.\n",
        "\n",
        "Let’s look at both."
      ]
    },
    {
      "cell_type": "markdown",
      "metadata": {
        "id": "eVLtcz714-0x"
      },
      "source": [
        "\n",
        "\n",
        "The simplest way to **associate a dense vector with a word** is to choose the vector at\n",
        "random. The problem with this approach is that the resulting embedding space has\n",
        "no structure: for instance, the words *accurate* and *exact* may end up with completely\n",
        "different embeddings, even though they’re interchangeable in most sentences. It’s\n",
        "difficult for a deep neural network to make sense of such a noisy, unstructured\n",
        "embedding space.\n",
        "\n",
        "\n",
        "To get a bit more abstract, the **geometric relationships between word vectors**\n",
        "should reflect the **semantic relationships between these words**. Word embeddings are\n",
        "meant to **map human language into a geometric space**. For instance, in a reasonable\n",
        "embedding space, you would expect synonyms to be embedded into similar word vectors; and in general, you would expect the **geometric distance** (such as L2 distance aka Euclidean distance)\n",
        "between any two word vectors to relate to the **semantic distance** between the associated words (words meaning different things are embedded at points far away from\n",
        "each other, whereas related words are closer). In addition to distance, you may want\n",
        "specific ***directions*** in the embedding space to be meaningful. To make this clearer, let’s\n",
        "look at a concrete example"
      ]
    },
    {
      "cell_type": "markdown",
      "metadata": {
        "id": "csEh1gGD6Sol"
      },
      "source": [
        "In figure 6.3, four words are embedded on a 2D plane:\n",
        "*cat, dog, wolf, and tiger*. With the vector representations we\n",
        "chose here, some **semantic relationships** between these\n",
        "words can be encoded as **geometric transformations**. \n",
        "\n",
        "For instance, the same vector allows us to go from *cat* to *tiger*\n",
        "and from *dog* to *wolf*: this vector could be interpreted as the\n",
        "“from pet to wild animal” vector. Similarly, another vector\n",
        "lets us go from *dog* to *cat* and from *wolf* to *tiger*, which could\n",
        "be interpreted as a “from canine to feline” vector.\n",
        "\n",
        "\n",
        "\n",
        "\n",
        "<img src=\"https://drive.google.com/uc?id=1W5W8A1R611aiZdDkXZGwbCrQg0rvMZuY\"></img>\n",
        "\n",
        "\n",
        "\n",
        "\n",
        " In real-world **word-embedding spaces**, common examples of meaningful geometric transformations are “gender”\n",
        "vectors and “plural” vectors. For instance, by adding a “female” vector to the vector\n",
        "“king,” we obtain the vector “queen.” By adding a “plural” vector, we obtain “kings.”\n",
        "\n",
        "Word-embedding spaces typically feature thousands of such interpretable and potentially useful vectors.<br><br>\n",
        "\n",
        "\n",
        "\n",
        "\n",
        " Is there some ideal word-embedding space that would perfectly map human language and could be used for any natural-language-processing task? Possibly, but we\n",
        "have yet to compute anything of the sort. Also, there is no such a thing as *human language*—there are many different languages, and they aren’t isomorphic, because a language is the reflection of a specific culture and a specific context. \n",
        "\n",
        "But more\n",
        "pragmatically, what makes a **good word-embedding space depends heavily on your task**:\n",
        "the perfect word-embedding space for an English-language movie-review sentiment-analysis model may look different from the perfect embedding space for an English-language legal-document-classification model, **because the importance of certain\n",
        "semantic relationships varies from task to task.**\n",
        "\n",
        "\n",
        " It’s thus reasonable to **learn** a **new embedding space** with every new task. Fortunately, backpropagation makes this easy, and Keras makes it even easier. **It’s about\n",
        "learning the weights of a layer: the Embedding layer**\n",
        "\n",
        "\n"
      ]
    },
    {
      "cell_type": "markdown",
      "metadata": {
        "id": "DHvuVxhhCmmf"
      },
      "source": [
        "**Note about L1 (Manhattea) and L2 (Euclidian) distances:**\n",
        "\n",
        "\n",
        "Note that **L1 (Manhattan)** norm measures the distance along the \"streets\" (x axis) and \"avenues\" (y-axis) and adds the two numbers, rather than taking a diagonal length **(L2 norm)**\n",
        "\n",
        "\n"
      ]
    },
    {
      "cell_type": "markdown",
      "metadata": {
        "id": "x0zNlvWHCz0d"
      },
      "source": [
        "\n",
        "<img src=\"https://drive.google.com/uc?id=1l64W8EKhntdhI6eMM1KI32_-BLMQ9Teq\"></img>\n",
        "\n"
      ]
    },
    {
      "cell_type": "code",
      "metadata": {
        "id": "EKbbfeheC7Nw"
      },
      "source": [
        " "
      ],
      "execution_count": null,
      "outputs": []
    },
    {
      "cell_type": "code",
      "metadata": {
        "id": "fqQSBMcaCzGp"
      },
      "source": [
        ""
      ],
      "execution_count": null,
      "outputs": []
    },
    {
      "cell_type": "markdown",
      "metadata": {
        "id": "ljZE2BncAbUG"
      },
      "source": [
        "#### ***LEARNING WORD EMBEDDINGS WITH THE EMBEDDING LAYER***"
      ]
    },
    {
      "cell_type": "markdown",
      "metadata": {
        "id": "XvYPO_RK-0_d"
      },
      "source": [
        "**Word embeddings using Keras**<br>"
      ]
    },
    {
      "cell_type": "code",
      "metadata": {
        "id": "S2q2IzBbyxkp"
      },
      "source": [
        "from keras.layers import Embedding\n",
        "\n",
        "# The Embedding layer takes at least two arguments: \n",
        "# the number of possible tokens (here, 1,000: 1 + maximum word index)\n",
        "# the dimensionality of the embeddings (here, 64).\n",
        "embedding_layer = Embedding(1000, 64)"
      ],
      "execution_count": null,
      "outputs": []
    },
    {
      "cell_type": "markdown",
      "metadata": {
        "id": "0ngaavnt9gRR"
      },
      "source": [
        "The **Embedding layer** is best understood as a ***dictionary that maps integer indices\n",
        "(which stand for specific words) to dense vectors***. It takes integers as input, it looks up\n",
        "these integers in an internal dictionary, and it returns the associated vectors. It’s effectively a dictionary lookup (see figure 6.4).\n",
        "\n",
        "\n",
        "\n",
        "<img src=\"https://drive.google.com/uc?id=1B1noSRVoKzcacuTLdFwYbNpz1iLWNLcO\"></img>\n",
        "\n",
        "\n",
        "\n",
        "\n",
        "\n",
        "The **Embedding layer** takes as input a 2D tensor of integers, of shape *(samples,\n",
        "sequence_length)*, where each entry is a sequence of integers. It can embed\n",
        "sequences of variable lengths: for instance, you could feed into the Embedding layer in\n",
        "the previous example batches with shapes (32, 10) (batch of 32 sequences of length\n",
        "10) or (64, 15) (batch of 64 sequences of length 15). All sequences in a batch must\n",
        "have the same length, though (because you need to pack them into a single tensor),\n",
        "so sequences that are shorter than others should be padded with zeros, and sequences\n",
        "that are longer should be truncated.\n",
        "\n",
        "\n",
        "This layer returns a 3D floating-point tensor of shape *(samples, sequence_\n",
        "length, embedding_dimensionality)*. Such a 3D tensor can then be processed by\n",
        "an RNN layer or a 1D convolution layer (both will be introduced in the following\n",
        "sections)."
      ]
    },
    {
      "cell_type": "markdown",
      "metadata": {
        "id": "POHJSyF1-tRZ"
      },
      "source": [
        "When you instantiate an **Embedding layer**, its ***weights*** (its internal dictionary of\n",
        "token vectors) are initially random, just as with any other layer. During training, these\n",
        "word vectors are gradually adjusted via backpropagation, structuring the space into\n",
        "something the downstream model can exploit. Once fully trained, the embedding\n",
        "space will show a lot of structure—a kind of structure specialized for the specific problem for which you’re training your model.\n",
        "\n",
        " Let’s apply this idea to the IMDB movie-review sentiment-prediction task that\n",
        "you’re already familiar with. First, you’ll quickly prepare the data. You’ll restrict the\n",
        "movie reviews to the top 10,000 most common words (as you did the first time you\n",
        "worked with this dataset) and cut off the reviews after only 20 words. **The network will\n",
        "learn 8-dimensional embeddings for each of the 10,000 words, turn the input integer sequences (2D integer tensor) into embedded sequences (3D float tensor), flatten the\n",
        "tensor to 2D, and train a single Dense layer on top for classification.**\n",
        "\n",
        "**Remember:** the argument num_words=10000 means you’ll only keep the top 10,000 most frequently occurring words in the training data. Rare words will be discarded. This allows\n",
        "you to work with vector data of manageable size.\n",
        "\n",
        "\n",
        "**Loading the IMDB data for use with Embedding layer**<br>"
      ]
    },
    {
      "cell_type": "code",
      "metadata": {
        "id": "Oou5I1J19hxB",
        "outputId": "68884300-1814-466d-d87d-bc97e99f1b3e",
        "colab": {
          "base_uri": "https://localhost:8080/",
          "height": 139
        }
      },
      "source": [
        "# Loading the IMDB data for use with Embedding layer\n",
        "\n",
        "from keras.datasets import imdb\n",
        "from keras import preprocessing\n",
        "\n",
        "# Number of words to consider as features\n",
        "max_features = 10000 \n",
        "\n",
        "# Cuts off the text after this number of words (among the max_features most common words)\n",
        "maxlen = 20\n",
        "\n",
        "# Loads the data as lists of integers\n",
        "(x_train, y_train), (x_test, y_test) = imdb.load_data(\n",
        "    num_words=max_features)\n",
        "\n",
        "\n",
        "print(x_train.shape)\n",
        "print(x_train[0])\n",
        "# # Turns the lists of integers into a 2D integer tensor of shape (samples, maxlen)\n",
        "x_train = preprocessing.sequence.pad_sequences(x_train, maxlen=maxlen)\n",
        "x_test = preprocessing.sequence.pad_sequences(x_test, maxlen=maxlen)\n",
        "print(x_train.shape)\n",
        "\n",
        "# Each entry (sample) is a sequence of 20 integers\n",
        "print(x_train[0, 0])"
      ],
      "execution_count": null,
      "outputs": [
        {
          "output_type": "stream",
          "text": [
            "Downloading data from https://storage.googleapis.com/tensorflow/tf-keras-datasets/imdb.npz\n",
            "17465344/17464789 [==============================] - 1s 0us/step\n",
            "(25000,)\n",
            "[1, 14, 22, 16, 43, 530, 973, 1622, 1385, 65, 458, 4468, 66, 3941, 4, 173, 36, 256, 5, 25, 100, 43, 838, 112, 50, 670, 2, 9, 35, 480, 284, 5, 150, 4, 172, 112, 167, 2, 336, 385, 39, 4, 172, 4536, 1111, 17, 546, 38, 13, 447, 4, 192, 50, 16, 6, 147, 2025, 19, 14, 22, 4, 1920, 4613, 469, 4, 22, 71, 87, 12, 16, 43, 530, 38, 76, 15, 13, 1247, 4, 22, 17, 515, 17, 12, 16, 626, 18, 2, 5, 62, 386, 12, 8, 316, 8, 106, 5, 4, 2223, 5244, 16, 480, 66, 3785, 33, 4, 130, 12, 16, 38, 619, 5, 25, 124, 51, 36, 135, 48, 25, 1415, 33, 6, 22, 12, 215, 28, 77, 52, 5, 14, 407, 16, 82, 2, 8, 4, 107, 117, 5952, 15, 256, 4, 2, 7, 3766, 5, 723, 36, 71, 43, 530, 476, 26, 400, 317, 46, 7, 4, 2, 1029, 13, 104, 88, 4, 381, 15, 297, 98, 32, 2071, 56, 26, 141, 6, 194, 7486, 18, 4, 226, 22, 21, 134, 476, 26, 480, 5, 144, 30, 5535, 18, 51, 36, 28, 224, 92, 25, 104, 4, 226, 65, 16, 38, 1334, 88, 12, 16, 283, 5, 16, 4472, 113, 103, 32, 15, 16, 5345, 19, 178, 32]\n",
            "(25000, 20)\n",
            "65\n"
          ],
          "name": "stdout"
        }
      ]
    },
    {
      "cell_type": "code",
      "metadata": {
        "id": "eZdsRVg1_Rlv",
        "outputId": "6c304533-c6ff-4956-a7b6-8d39510ba38e",
        "colab": {
          "base_uri": "https://localhost:8080/",
          "height": 51
        }
      },
      "source": [
        "x_train[9]"
      ],
      "execution_count": null,
      "outputs": [
        {
          "output_type": "execute_result",
          "data": {
            "text/plain": [
              "array([  78,  807,    9,  375,    8, 1167,    8,  794,   76,    7,    4,\n",
              "         58,    5,    4,  816,    9,  243,    7,   43,   50], dtype=int32)"
            ]
          },
          "metadata": {
            "tags": []
          },
          "execution_count": 3
        }
      ]
    },
    {
      "cell_type": "code",
      "metadata": {
        "id": "KH-JS3LeAHVa",
        "outputId": "ad3083ad-27ec-4231-eca2-ee539aa22627",
        "colab": {
          "base_uri": "https://localhost:8080/",
          "height": 34
        }
      },
      "source": [
        "y_train.shape"
      ],
      "execution_count": null,
      "outputs": [
        {
          "output_type": "execute_result",
          "data": {
            "text/plain": [
              "(25000,)"
            ]
          },
          "metadata": {
            "tags": []
          },
          "execution_count": 4
        }
      ]
    },
    {
      "cell_type": "markdown",
      "metadata": {
        "id": "_bTauAVxGh1U"
      },
      "source": [
        "**Using Embedding layer and classifier on the IMDB data**"
      ]
    },
    {
      "cell_type": "code",
      "metadata": {
        "id": "JSBUWIMdBFjG",
        "outputId": "4510ff58-0bcf-425b-bb50-70b7a8b40af0",
        "colab": {
          "base_uri": "https://localhost:8080/",
          "height": 595
        }
      },
      "source": [
        "# Using Embedding layer and classifier on the IMDB data\n",
        "\n",
        "from keras.models import Sequential\n",
        "from keras.layers import Flatten, Dense, Embedding\n",
        "\n",
        "model = Sequential()\n",
        "\n",
        "# Specifies the maximum input length to the Embedding layer so you can later flatten the embedded inputs. \n",
        "# After the Embedding layer, the activations have shape (samples, maxlen, 8).\n",
        "model.add(Embedding(10000, 8, input_length=maxlen))\n",
        "\n",
        "# Flattens the 3D tensor of embeddings into a 2D tensor of shape (samples, maxlen * 8)\n",
        "model.add(Flatten())\n",
        "\n",
        "# Adds the classifier on top\n",
        "model.add(Dense(1, activation='sigmoid'))\n",
        "model.compile(optimizer='rmsprop',loss='binary_crossentropy', metrics=['acc'])\n",
        "    \n",
        "\n",
        "model.summary()\n",
        "\n",
        "history = model.fit(x_train, y_train,\n",
        "                    epochs=10,\n",
        "                    batch_size=32,\n",
        "                    validation_split=0.2)"
      ],
      "execution_count": null,
      "outputs": [
        {
          "output_type": "stream",
          "text": [
            "Model: \"sequential_1\"\n",
            "_________________________________________________________________\n",
            "Layer (type)                 Output Shape              Param #   \n",
            "=================================================================\n",
            "embedding (Embedding)        (None, 20, 8)             80000     \n",
            "_________________________________________________________________\n",
            "flatten (Flatten)            (None, 160)               0         \n",
            "_________________________________________________________________\n",
            "dense (Dense)                (None, 1)                 161       \n",
            "=================================================================\n",
            "Total params: 80,161\n",
            "Trainable params: 80,161\n",
            "Non-trainable params: 0\n",
            "_________________________________________________________________\n",
            "Epoch 1/10\n",
            "625/625 [==============================] - 2s 3ms/step - loss: 0.6708 - acc: 0.6173 - val_loss: 0.6238 - val_acc: 0.7032\n",
            "Epoch 2/10\n",
            "625/625 [==============================] - 2s 3ms/step - loss: 0.5470 - acc: 0.7482 - val_loss: 0.5296 - val_acc: 0.7294\n",
            "Epoch 3/10\n",
            "625/625 [==============================] - 2s 3ms/step - loss: 0.4631 - acc: 0.7868 - val_loss: 0.5022 - val_acc: 0.7480\n",
            "Epoch 4/10\n",
            "625/625 [==============================] - 2s 3ms/step - loss: 0.4226 - acc: 0.8081 - val_loss: 0.4938 - val_acc: 0.7532\n",
            "Epoch 5/10\n",
            "625/625 [==============================] - 2s 3ms/step - loss: 0.3950 - acc: 0.8253 - val_loss: 0.4937 - val_acc: 0.7572\n",
            "Epoch 6/10\n",
            "625/625 [==============================] - 2s 3ms/step - loss: 0.3719 - acc: 0.8365 - val_loss: 0.4961 - val_acc: 0.7554\n",
            "Epoch 7/10\n",
            "625/625 [==============================] - 2s 3ms/step - loss: 0.3510 - acc: 0.8479 - val_loss: 0.5012 - val_acc: 0.7558\n",
            "Epoch 8/10\n",
            "625/625 [==============================] - 2s 3ms/step - loss: 0.3320 - acc: 0.8592 - val_loss: 0.5068 - val_acc: 0.7524\n",
            "Epoch 9/10\n",
            "625/625 [==============================] - 2s 3ms/step - loss: 0.3134 - acc: 0.8705 - val_loss: 0.5159 - val_acc: 0.7518\n",
            "Epoch 10/10\n",
            "625/625 [==============================] - 2s 3ms/step - loss: 0.2960 - acc: 0.8792 - val_loss: 0.5223 - val_acc: 0.7502\n"
          ],
          "name": "stdout"
        }
      ]
    },
    {
      "cell_type": "markdown",
      "metadata": {
        "id": "ummAQFVWLGQ9"
      },
      "source": [
        "You get to a validation accuracy of ~76%, which is pretty good considering that you’re\n",
        "only looking at the first 20 words in every review. But **note that merely flattening the\n",
        "embedded sequences and training a single Dense layer on top leads to a model that\n",
        "treats each word in the input sequence separately**, without considering inter-word\n",
        "relationships and sentence structure (for example, this model would likely treat both\n",
        "“this movie is a bomb” and “this movie is the bomb” as being negative reviews). \n",
        "\n",
        "It’s\n",
        "much better to **add recurrent layers or 1D convolutional layers on top of the embedded sequences to learn features that take into account each sequence as a whole.**\n",
        "That’s what we’ll focus on in the next few sections. "
      ]
    },
    {
      "cell_type": "markdown",
      "metadata": {
        "id": "WpRRhdR-LhkS"
      },
      "source": [
        "#### ***USING PRETRAINED EMBEDDING LAYER***"
      ]
    },
    {
      "cell_type": "markdown",
      "metadata": {
        "id": "wEpiyUqKLpN1"
      },
      "source": [
        "Sometimes, you have so little training data available that you can’t use your data\n",
        "alone to learn an appropriate task-specific embedding of your vocabulary. What do\n",
        "you do then?\n",
        "\n",
        "\n",
        " Instead of learning word embeddings jointly with the problem you want to solve,\n",
        "you can load embedding vectors from a precomputed embedding space that you\n",
        "know is highly structured and exhibits useful properties—that captures generic\n",
        "aspects of language structure. The rationale behind using pretrained word embeddings in natural-language processing is much the same as for using pretrained convnets in image classification: you don’t have enough data available to learn truly\n",
        "powerful features on your own, but you expect the features that you need to be fairly\n",
        "generic—that is, common visual features or semantic features. In this case, it makes\n",
        "sense to reuse features learned on a different problem.\n",
        "\n",
        "\n",
        " Such word embeddings are generally computed using word-occurrence statistics\n",
        "(observations about what words co-occur in sentences or documents), using a variety of\n",
        "techniques, some involving neural networks, others not. The idea of a dense, low-dimensional embedding space for words, computed in an unsupervised way, was initially explored by Bengio et al. in the early 2000s,1\n",
        " but it only started to take off in\n",
        "research and industry applications after the release of one of the most famous and successful word-embedding schemes: \n",
        "\n",
        "The [**Word2vec algorithm**](https://code.google.com/archive/p/word2vec), developed by Tomas Mikolov at Google in 2013. Word2vec\n",
        "dimensions capture specific semantic properties, such as gender.<br>\n",
        "\n",
        "<br>\n",
        "\n",
        "\n",
        "\n",
        "\n",
        "There are various precomputed databases of word embeddings that you can download and use in a Keras Embedding layer. **Word2vec** is one of them. Another popular\n",
        "one is called [**Global Vectors for Word Representation (GloVe)**](https://nlp.stanford.edu/projects/glove), which was developed by Stanford researchers in 2014. This\n",
        "embedding technique is based on factorizing a matrix of word co-occurrence statistics. Its developers have made available precomputed embeddings for millions of\n",
        "English tokens, obtained from Wikipedia data and Common Crawl data.\n",
        "\n",
        " Let’s look at how you can get started using **GloVe embeddings** in a Keras model.\n",
        "The same method is valid for **Word2vec embeddings** or any other word-embedding\n",
        "database. You’ll also use this example to refresh the text-tokenization techniques\n",
        "introduced a few paragraphs ago: you’ll start from raw text and work your way up. "
      ]
    },
    {
      "cell_type": "markdown",
      "metadata": {
        "id": "8W1LZmGwMvQV"
      },
      "source": [
        "### <font color=\"Tomato\">**Putting it all together: from raw text to word embedding (IMDB data)**</font>"
      ]
    },
    {
      "cell_type": "markdown",
      "metadata": {
        "id": "38lWoxVvM9wo"
      },
      "source": [
        "You’ll use a model similar to the one we just went over:\n",
        "\n",
        "Embedding sentences (our samples - first axis) in\n",
        "sequences (second axis) of [word] vectors (third axis), flattening them, and training a Dense layer on top. But you’ll do\n",
        "so using pretrained word embeddings; and instead of using the pretokenized IMDB\n",
        "data packaged in Keras, you’ll start from scratch by downloading the original text data."
      ]
    },
    {
      "cell_type": "code",
      "metadata": {
        "id": "XSbiIHEWM9R2",
        "outputId": "ee89e8a1-4b25-4b01-b10a-d61f6594ccff",
        "colab": {
          "base_uri": "https://localhost:8080/",
          "height": 54
        }
      },
      "source": [
        "# to mount google drive for colab\n",
        "from google.colab import drive\n",
        "drive.mount('/content/drive')"
      ],
      "execution_count": null,
      "outputs": [
        {
          "output_type": "stream",
          "text": [
            "Drive already mounted at /content/drive; to attempt to forcibly remount, call drive.mount(\"/content/drive\", force_remount=True).\n"
          ],
          "name": "stdout"
        }
      ]
    },
    {
      "cell_type": "code",
      "metadata": {
        "id": "ygC4EF8iZFb9",
        "outputId": "d7b2fb1a-1900-40ad-cdf2-9203c241d97c",
        "colab": {
          "base_uri": "https://localhost:8080/",
          "height": 34
        }
      },
      "source": [
        "! ls"
      ],
      "execution_count": null,
      "outputs": [
        {
          "output_type": "stream",
          "text": [
            "drive  sample_data\n"
          ],
          "name": "stdout"
        }
      ]
    },
    {
      "cell_type": "code",
      "metadata": {
        "id": "5DztzOx9Xoxy",
        "outputId": "fb4a7f14-5ee7-42e4-efab-d661b19b0ce8",
        "colab": {
          "base_uri": "https://localhost:8080/",
          "height": 34
        }
      },
      "source": [
        "% cd /content"
      ],
      "execution_count": null,
      "outputs": [
        {
          "output_type": "stream",
          "text": [
            "/content\n"
          ],
          "name": "stdout"
        }
      ]
    },
    {
      "cell_type": "code",
      "metadata": {
        "id": "FmW6lTavX8kj"
      },
      "source": [
        "path_to_data = \"/content/drive/My Drive/machine learning/notebooks/data\""
      ],
      "execution_count": null,
      "outputs": []
    },
    {
      "cell_type": "code",
      "metadata": {
        "id": "QJE-U1rVZO1g",
        "outputId": "0e6ba200-7f97-4cc8-8cd6-9bb68285d5f1",
        "colab": {
          "base_uri": "https://localhost:8080/",
          "height": 34
        }
      },
      "source": [
        "% cd \"/content/drive/My Drive/machine learning/notebooks/data\""
      ],
      "execution_count": null,
      "outputs": [
        {
          "output_type": "stream",
          "text": [
            "/content/drive/My Drive/machine learning/notebooks/data\n"
          ],
          "name": "stdout"
        }
      ]
    },
    {
      "cell_type": "markdown",
      "metadata": {
        "id": "mpfEKGKrPQ4G"
      },
      "source": [
        "**DOWNLOADING THE IMDB DATA AS RAW TEXT**\n",
        "\n",
        "\n",
        "First, head to http://mng.bz/0tIo and download the raw IMDB dataset. Uncompress it.\n",
        "\n",
        " Now, let’s collect the individual training reviews into a list of strings, one string per\n",
        "review. You’ll also collect the review labels (positive/negative) into a labels list. "
      ]
    },
    {
      "cell_type": "code",
      "metadata": {
        "id": "XvRDRahUabHb",
        "outputId": "93e6a3c6-3219-4541-c5b1-44b1af3025c8",
        "colab": {
          "base_uri": "https://localhost:8080/",
          "height": 34
        }
      },
      "source": [
        "! ls"
      ],
      "execution_count": null,
      "outputs": [
        {
          "output_type": "stream",
          "text": [
            "drive  sample_data\n"
          ],
          "name": "stdout"
        }
      ]
    },
    {
      "cell_type": "code",
      "metadata": {
        "id": "-PBa5yPLAW20"
      },
      "source": [
        "# Processing the labels of the raw IMDB data\n",
        "import os\n",
        "\n",
        "imdb_dir = \"/content/drive/My Drive/machine learning/notebooks/data/aclImdb\"\n",
        "train_dir = os.path.join(imdb_dir, 'train')\n",
        "\n",
        "labels = []\n",
        "texts = []\n",
        "\n",
        "for label_type in ['neg', 'pos']:\n",
        "    dir_name = os.path.join(train_dir, label_type)\n",
        "    for fname in os.listdir(dir_name)[0:5]:\n",
        "        if fname[-4:] == '.txt':\n",
        "            # open a review file\n",
        "            f = open(os.path.join(dir_name, fname))\n",
        "            #  get entire review in a string, append to texts list\n",
        "            texts.append(f.read())\n",
        "            f.close()\n",
        "            if label_type == 'neg':\n",
        "                labels.append(0)\n",
        "            else:\n",
        "                labels.append(1)"
      ],
      "execution_count": null,
      "outputs": []
    },
    {
      "cell_type": "code",
      "metadata": {
        "id": "LTTYMIE6kXI-",
        "outputId": "e22e037b-5b32-4af8-9455-9d3d61cba576",
        "colab": {
          "base_uri": "https://localhost:8080/",
          "height": 154
        }
      },
      "source": [
        "texts[0]"
      ],
      "execution_count": null,
      "outputs": [
        {
          "output_type": "execute_result",
          "data": {
            "application/vnd.google.colaboratory.intrinsic+json": {
              "type": "string"
            },
            "text/plain": [
              "\"I am appalled at how bad this film is. As a pastiche of early 20th century Hollywood artistes it sets a new low - even past The Moderns or (gasp) Cradle Will Rock & I never thought I'd see a film worse than those 2. Granted they were about a slightly different milieu & period. Nevertheless the intents & results were distressingly similar.<br /><br />First off there's the horrible casting: Eddie Izzard as CHAPLIN? Excuse me? Peter, did you owe this guy something? Jennifer Tilly as Loulla Parsons?? Kirsten Dunst as Marion Davies??? Holy smoke, these people don't even begin to try to capture the look or sound of the period they are purportedly depicting.<br /><br />Well, Last Picture Show was a decent film, but this thing is a disaster & the rest of Bogdonovitch's pics haven't been much better. Guess rubbing up against Welles & Hitch & Ford wore off a long time ago. Still good for hosting TCM though.\""
            ]
          },
          "metadata": {
            "tags": []
          },
          "execution_count": 10
        }
      ]
    },
    {
      "cell_type": "code",
      "metadata": {
        "id": "R__pLOYAdGmB",
        "outputId": "3ac351e1-b24d-471d-9c8a-ab72519e508c",
        "colab": {
          "base_uri": "https://localhost:8080/",
          "height": 34
        }
      },
      "source": [
        "print(len(texts))"
      ],
      "execution_count": null,
      "outputs": [
        {
          "output_type": "stream",
          "text": [
            "10\n"
          ],
          "name": "stdout"
        }
      ]
    },
    {
      "cell_type": "markdown",
      "metadata": {
        "id": "gCR6oYw7QrYs"
      },
      "source": [
        "**TOKENIZING THE DATA**\n",
        "\n",
        "\n",
        "Let’s vectorize the text and prepare a training and validation split, using the concepts\n",
        "introduced earlier in this section. Because pretrained word embeddings are meant to\n",
        "be particularly useful on problems where little training data is available (otherwise,\n",
        "task-specific embeddings are likely to outperform them), we’ll add the following twist:\n",
        "restricting the training data to the first 200 samples. So you’ll learn to classify movie\n",
        "reviews after looking at just 200 examples."
      ]
    },
    {
      "cell_type": "code",
      "metadata": {
        "id": "X5m0QOUjQtuA",
        "outputId": "227324fa-8563-4136-ef37-755ee411b6a1",
        "colab": {
          "base_uri": "https://localhost:8080/",
          "height": 343
        }
      },
      "source": [
        "# Tokenizing the text of the raw IMDB data\n",
        "from keras.preprocessing.text import Tokenizer\n",
        "from keras.preprocessing.sequence import pad_sequences\n",
        "import numpy as np\n",
        "\n",
        "maxlen = 100 # Cuts off reviews after 100 words\n",
        "training_samples = 200 # Trains on 200 samples\n",
        "validation_samples = 10000\n",
        "max_words = 10000 # Considers only the top 10,000 words in the dataset\n",
        "\n",
        "tokenizer = Tokenizer(num_words=max_words)\n",
        "tokenizer.fit_on_texts(texts)\n",
        "sequences = tokenizer.texts_to_sequences(texts)\n",
        "\n",
        "print(\"Sequences is a\", type(sequences))\n",
        "print(\"Each element is a\", type(sequences[0]))\n",
        "print(\"Length of Sequences is\", len(sequences))\n",
        "print(\"First element of Sequences is\", sequences[0])\n",
        "word_index = tokenizer.word_index\n",
        "print('Found %s unique tokens.' % len(word_index))\n",
        "print('Type of word_index is',  type(word_index))\n",
        "print(\"index of word appalled is\", word_index.get(\"appalled\"))\n",
        "data = pad_sequences(sequences, maxlen=maxlen)\n",
        "\n",
        "labels = np.asarray(labels)\n",
        "print('Shape of data tensor:', data.shape)\n",
        "print('Shape of label tensor:', labels.shape)\n",
        "\n",
        "# Splits the data into a training set and a validation set, but first shuffles the data, \n",
        "# because you’re starting with data in which samples are ordered (all negative first, then all positive)\n",
        "indices = np.arange(data.shape[0])\n",
        "np.random.shuffle(indices)\n",
        "data = data[indices]\n",
        "labels = labels[indices]\n",
        "\n",
        "x_train = data[:training_samples]\n",
        "y_train = labels[:training_samples]\n",
        "x_val = data[training_samples: training_samples + validation_samples]\n",
        "y_val = labels[training_samples: training_samples + validation_samples]\n",
        "# Each entry (sample) is a sequence of 100 integers\n",
        "print(x_train.shape)\n",
        "print(x_train[1,10])\n",
        "print(x_train[9, :].shape)\n",
        "print(x_train[9, :])"
      ],
      "execution_count": null,
      "outputs": [
        {
          "output_type": "stream",
          "text": [
            "Sequences is a <class 'list'>\n",
            "Each element is a <class 'list'>\n",
            "Length of Sequences is 10\n",
            "First element of Sequences is [13, 118, 247, 37, 248, 83, 9, 10, 3, 14, 4, 249, 6, 250, 251, 252, 253, 254, 11, 84, 4, 119, 120, 26, 121, 1, 255, 43, 256, 257, 38, 258, 13, 85, 122, 123, 44, 4, 10, 259, 62, 86, 260, 261, 18, 124, 63, 4, 262, 263, 264, 125, 265, 1, 266, 267, 124, 268, 269, 7, 7, 87, 126, 127, 1, 270, 128, 271, 272, 14, 273, 274, 129, 275, 88, 17, 276, 9, 130, 277, 278, 279, 14, 280, 281, 282, 283, 14, 284, 285, 286, 131, 287, 64, 27, 26, 288, 5, 132, 5, 289, 1, 290, 43, 291, 6, 1, 125, 18, 15, 292, 293, 7, 7, 45, 89, 133, 39, 19, 4, 294, 10, 20, 9, 65, 3, 4, 295, 1, 296, 6, 297, 298, 299, 300, 66, 67, 301, 302, 46, 303, 304, 305, 306, 307, 126, 4, 134, 30, 308, 135, 28, 31, 309, 310, 136]\n",
            "Found 839 unique tokens.\n",
            "Type of word_index is <class 'dict'>\n",
            "index of word appalled is 247\n",
            "Shape of data tensor: (10, 100)\n",
            "Shape of label tensor: (10,)\n",
            "(10, 100)\n",
            "177\n",
            "(100,)\n",
            "[494 495 496 497 498 499 500 501 502 503 504 505 506 507 508 509   2 510\n",
            " 511   1 202  56   1 145   3  41  28   1 512  15  41  28   2  75   6  11\n",
            "   3 513   1  47   3 514  41  28  14  45 203  65 515  31   1 204   1  10\n",
            "   3  41  53   2   1  47  58 516  17 107 517   1 180   9   3   4  41 518\n",
            "  10 205  17   1   1 200   8   1  10 519 520 521  35  36 522 523   2  53\n",
            "  35 206  13 524  17   5  44   9  10 525]\n"
          ],
          "name": "stdout"
        }
      ]
    },
    {
      "cell_type": "markdown",
      "metadata": {
        "id": "-MQkQwqOSDND"
      },
      "source": [
        "**DOWNLOADING THE GLOVE WORD EMBEDDINGS**\n",
        "\n",
        "Go to https://nlp.stanford.edu/projects/glove, and download the precomputed\n",
        "embeddings from 2014 English Wikipedia. It’s an 822 MB zip file called glove.6B.zip,\n",
        "containing 100-dimensional embedding vectors for 400,000 words (or nonword\n",
        "tokens). Unzip it."
      ]
    },
    {
      "cell_type": "markdown",
      "metadata": {
        "id": "LK1DC03iSHsN"
      },
      "source": [
        "**PREPROCESSING THE EMBEDDINGS**"
      ]
    },
    {
      "cell_type": "code",
      "metadata": {
        "id": "BH_sDZ49RzC9",
        "outputId": "5bfe57a7-f10b-45df-e40d-498145fb704a",
        "colab": {
          "base_uri": "https://localhost:8080/",
          "height": 34
        }
      },
      "source": [
        "# Parsing the GloVe word-embeddings file\n",
        "glove_dir = '/content/drive/My Drive/machine learning/notebooks/data/glove.6B'\n",
        "\n",
        "embeddings_index = {}\n",
        "f = open(os.path.join(glove_dir, 'glove.6B.100d.txt'))\n",
        "for line in f:\n",
        "    values = line.split()\n",
        "    word = values[0]\n",
        "    coefs = np.asarray(values[1:], dtype='float32')\n",
        "    embeddings_index[word] = coefs\n",
        "f.close()\n",
        "\n",
        "print('Found %s word vectors.' % len(embeddings_index))\n"
      ],
      "execution_count": null,
      "outputs": [
        {
          "output_type": "stream",
          "text": [
            "Found 400000 word vectors.\n"
          ],
          "name": "stdout"
        }
      ]
    },
    {
      "cell_type": "code",
      "metadata": {
        "id": "6FrbCbXQcfpl",
        "outputId": "fcce5f04-bf10-415f-90e2-bffee1490c6a",
        "colab": {
          "base_uri": "https://localhost:8080/",
          "height": 68
        }
      },
      "source": [
        "print(embeddings_index.get(\"happy\").shape)\n",
        "print(type(embeddings_index.get(\"happy\")))\n",
        "print(len(embeddings_index))\n"
      ],
      "execution_count": null,
      "outputs": [
        {
          "output_type": "stream",
          "text": [
            "(100,)\n",
            "<class 'numpy.ndarray'>\n",
            "400000\n"
          ],
          "name": "stdout"
        }
      ]
    },
    {
      "cell_type": "markdown",
      "metadata": {
        "id": "wH1s95kqSSvy"
      },
      "source": [
        "Next, you’ll build an embedding matrix that you can load into an ***Embedding layer***. It\n",
        "must be a matrix of shape ***(max_words, embedding_dim)***, where each entry i contains\n",
        "the **embedding_dim**-dimensional vector for the word of index i in the reference word\n",
        "index (built during tokenization). Note that index 0 isn’t supposed to stand for any\n",
        "word or token—it’s a placeholder"
      ]
    },
    {
      "cell_type": "code",
      "metadata": {
        "id": "jg9OWOkbSZP4"
      },
      "source": [
        "embedding_dim = 100\n",
        "\n",
        "embedding_matrix = np.zeros((max_words, embedding_dim))\n",
        "for word, i in word_index.items():\n",
        "    if i < max_words:\n",
        "        embedding_vector = embeddings_index.get(word)\n",
        "        if embedding_vector is not None:\n",
        "            # Words not found in the embedding index will be all zeros.\n",
        "            embedding_matrix[i] = embedding_vector"
      ],
      "execution_count": null,
      "outputs": []
    },
    {
      "cell_type": "code",
      "metadata": {
        "id": "9x9L-UIalFyX",
        "outputId": "387b7148-62be-40b7-ae51-dcd8a616a0e9",
        "colab": {
          "base_uri": "https://localhost:8080/",
          "height": 34
        }
      },
      "source": [
        "# pretrained weights to load into Embedding layer\n",
        "embedding_matrix.shape"
      ],
      "execution_count": null,
      "outputs": [
        {
          "output_type": "execute_result",
          "data": {
            "text/plain": [
              "(10000, 100)"
            ]
          },
          "metadata": {
            "tags": []
          },
          "execution_count": 43
        }
      ]
    },
    {
      "cell_type": "markdown",
      "metadata": {
        "id": "9AQe4mlASm7y"
      },
      "source": [
        "**DEFINING A MODEL**"
      ]
    },
    {
      "cell_type": "code",
      "metadata": {
        "id": "SvdmaErISnzK",
        "outputId": "1d1f2f30-0c05-4ba6-f8d2-6b69cf84c588",
        "colab": {
          "base_uri": "https://localhost:8080/",
          "height": 289
        }
      },
      "source": [
        "from keras.models import Sequential\n",
        "from keras.layers import Embedding, Flatten, Dense\n",
        "\n",
        "# max len is 100 (sequence dimension)\n",
        "\n",
        "model = Sequential()\n",
        "model.add(Embedding(max_words, embedding_dim, input_length=maxlen))\n",
        "model.add(Flatten())\n",
        "model.add(Dense(32, activation='relu'))\n",
        "model.add(Dense(1, activation='sigmoid'))\n",
        "model.summary()"
      ],
      "execution_count": null,
      "outputs": [
        {
          "output_type": "stream",
          "text": [
            "Model: \"sequential\"\n",
            "_________________________________________________________________\n",
            "Layer (type)                 Output Shape              Param #   \n",
            "=================================================================\n",
            "embedding (Embedding)        (None, 100, 100)          1000000   \n",
            "_________________________________________________________________\n",
            "flatten (Flatten)            (None, 10000)             0         \n",
            "_________________________________________________________________\n",
            "dense (Dense)                (None, 32)                320032    \n",
            "_________________________________________________________________\n",
            "dense_1 (Dense)              (None, 1)                 33        \n",
            "=================================================================\n",
            "Total params: 1,320,065\n",
            "Trainable params: 1,320,065\n",
            "Non-trainable params: 0\n",
            "_________________________________________________________________\n"
          ],
          "name": "stdout"
        }
      ]
    },
    {
      "cell_type": "markdown",
      "metadata": {
        "id": "RBtFu_Eul0h6"
      },
      "source": [
        "The **Embedding layer** outputs 3D tensor of **(samples, 100, 100)**. First 100 is the dimensionality of sequences, second is dimensionality of the word embeddings."
      ]
    },
    {
      "cell_type": "markdown",
      "metadata": {
        "id": "f1VVOWkhSs-2"
      },
      "source": [
        "**LOADING THE GLOVE EMBEDDINGS IN THE MODEL**\n",
        "\n",
        "The Embedding layer has a single weight matrix: a 2D float matrix where each entry i is\n",
        "the (100-dimensional) **word vector** meant to be associated with index i. Simple enough. Load the GloVe\n",
        "matrix you prepared into the Embedding layer, the first layer in the model."
      ]
    },
    {
      "cell_type": "code",
      "metadata": {
        "id": "LyAVVn8RSwwo"
      },
      "source": [
        "# Loading pretrained word embeddings into the Embedding layer\n",
        "model.layers[0].set_weights([embedding_matrix])\n",
        "model.layers[0].trainable = False"
      ],
      "execution_count": null,
      "outputs": []
    },
    {
      "cell_type": "markdown",
      "metadata": {
        "id": "CZaXKEHjS1O4"
      },
      "source": [
        "Additionally, you’ll freeze the **Embedding** layer (set its ***trainable*** attribute to *False*),\n",
        "following the same rationale you’re already familiar with in the context of pretrained\n",
        "convnet features: when parts of a model are pretrained (like your Embedding layer)\n",
        "and parts are randomly initialized (like your classifier), the pretrained parts shouldn’t\n",
        "be updated during training, to avoid forgetting what they already know. The large gradient updates triggered by the randomly initialized layers would be disruptive to the\n",
        "already-learned features. "
      ]
    },
    {
      "cell_type": "markdown",
      "metadata": {
        "id": "GTqCDms4S8bf"
      },
      "source": [
        "**TRAINING AND EVALUATING THE MODEL**"
      ]
    },
    {
      "cell_type": "code",
      "metadata": {
        "id": "csoG3yGbnHnV",
        "outputId": "61cedca3-6d52-449d-aff1-a5c4e518fcbe",
        "colab": {
          "base_uri": "https://localhost:8080/",
          "height": 102
        }
      },
      "source": [
        "# Remember x_train is a 2d array where each entry is a number\n",
        "print(x_train.shape)\n",
        "print(y_train.shape)\n",
        "print(x_val.shape)\n",
        "print(y_val.shape)\n",
        "# first sentence, 10th word\n",
        "print(x_train[0,10])"
      ],
      "execution_count": null,
      "outputs": [
        {
          "output_type": "stream",
          "text": [
            "(200, 100)\n",
            "(200,)\n",
            "(1800, 100)\n",
            "(1800,)\n",
            "703\n"
          ],
          "name": "stdout"
        }
      ]
    },
    {
      "cell_type": "code",
      "metadata": {
        "id": "KXWj37MxS1tT",
        "outputId": "0d82b894-a905-4548-97d4-972bd2726fed",
        "colab": {
          "base_uri": "https://localhost:8080/",
          "height": 377
        }
      },
      "source": [
        "# Training and evaluation\n",
        "model.compile(optimizer='rmsprop',\n",
        "              loss='binary_crossentropy',\n",
        "              metrics=['acc'])\n",
        "\n",
        "history = model.fit(x_train, y_train,\n",
        "                    epochs=10,\n",
        "                    batch_size=32,\n",
        "                    validation_data=(x_val, y_val))\n",
        "\n",
        "model.save_weights('pre_trained_glove_model.h5')"
      ],
      "execution_count": null,
      "outputs": [
        {
          "output_type": "stream",
          "text": [
            "Epoch 1/10\n",
            "7/7 [==============================] - 0s 37ms/step - loss: 0.0022 - acc: 1.0000 - val_loss: 0.9279 - val_acc: 0.4983\n",
            "Epoch 2/10\n",
            "7/7 [==============================] - 0s 23ms/step - loss: 3.0915e-04 - acc: 1.0000 - val_loss: 0.8712 - val_acc: 0.4983\n",
            "Epoch 3/10\n",
            "7/7 [==============================] - 0s 22ms/step - loss: 1.4008e-04 - acc: 1.0000 - val_loss: 0.9069 - val_acc: 0.4967\n",
            "Epoch 4/10\n",
            "7/7 [==============================] - 0s 23ms/step - loss: 9.0593e-05 - acc: 1.0000 - val_loss: 0.9148 - val_acc: 0.4944\n",
            "Epoch 5/10\n",
            "7/7 [==============================] - 0s 26ms/step - loss: 5.9310e-05 - acc: 1.0000 - val_loss: 0.9197 - val_acc: 0.4950\n",
            "Epoch 6/10\n",
            "7/7 [==============================] - 0s 25ms/step - loss: 4.0189e-05 - acc: 1.0000 - val_loss: 0.9293 - val_acc: 0.4928\n",
            "Epoch 7/10\n",
            "7/7 [==============================] - 0s 22ms/step - loss: 2.7561e-05 - acc: 1.0000 - val_loss: 0.9428 - val_acc: 0.4900\n",
            "Epoch 8/10\n",
            "7/7 [==============================] - 0s 22ms/step - loss: 1.9271e-05 - acc: 1.0000 - val_loss: 0.9581 - val_acc: 0.4878\n",
            "Epoch 9/10\n",
            "7/7 [==============================] - 0s 21ms/step - loss: 1.3597e-05 - acc: 1.0000 - val_loss: 0.9912 - val_acc: 0.4906\n",
            "Epoch 10/10\n",
            "7/7 [==============================] - 0s 21ms/step - loss: 9.6462e-06 - acc: 1.0000 - val_loss: 0.9771 - val_acc: 0.4889\n"
          ],
          "name": "stdout"
        }
      ]
    },
    {
      "cell_type": "markdown",
      "metadata": {
        "id": "lKZ-NBPSTLT5"
      },
      "source": [
        "Now, plot the model’s performance over time (see figures 6.5 and 6.6)."
      ]
    },
    {
      "cell_type": "code",
      "metadata": {
        "id": "W1umxvEnTNPV",
        "outputId": "501702e0-2bf5-476b-9664-30f63c19a6c0",
        "colab": {
          "base_uri": "https://localhost:8080/",
          "height": 545
        }
      },
      "source": [
        "# Plotting the results\n",
        "import matplotlib.pyplot as plt\n",
        "\n",
        "acc = history.history['acc']\n",
        "val_acc = history.history['val_acc']\n",
        "loss = history.history['loss']\n",
        "val_loss = history.history['val_loss']\n",
        "\n",
        "\n",
        "epochs = range(1, len(acc) + 1)\n",
        "\n",
        "plt.plot(epochs, acc, 'bo', label='Training acc')\n",
        "plt.plot(epochs, val_acc, 'b', label='Validation acc')\n",
        "plt.title('Training and validation accuracy')\n",
        "plt.legend()\n",
        "\n",
        "plt.figure()\n",
        "\n",
        "plt.plot(epochs, loss, 'bo', label='Training loss')\n",
        "plt.plot(epochs, val_loss, 'b', label='Validation loss')\n",
        "plt.title('Training and validation loss')\n",
        "plt.legend()\n",
        "\n",
        "plt.show()"
      ],
      "execution_count": null,
      "outputs": [
        {
          "output_type": "display_data",
          "data": {
            "image/png": "[encoded data removed]",
            "text/plain": [
              "<Figure size 432x288 with 1 Axes>"
            ]
          },
          "metadata": {
            "tags": [],
            "needs_background": "light"
          }
        },
        {
          "output_type": "display_data",
          "data": {
            "image/png": "[encoded data removed]",
            "text/plain": [
              "<Figure size 432x288 with 1 Axes>"
            ]
          },
          "metadata": {
            "tags": [],
            "needs_background": "light"
          }
        }
      ]
    },
    {
      "cell_type": "markdown",
      "metadata": {
        "id": "nN5MXy3LTVqH"
      },
      "source": [
        "The model quickly starts overfitting, which is unsurprising given the small number of\n",
        "training samples. Validation accuracy has high variance for the same reason, but it\n",
        "seems to reach the high 50s.\n",
        "\n",
        "\n",
        " Note that your mileage may vary: because you have so few training samples, performance is heavily dependent on exactly which 200 samples you choose—and you’re\n",
        "choosing them at random. If this works poorly for you, try choosing a different random set of 200 samples, for the sake of the exercise (in real life, you don’t get to\n",
        "choose your training data).\n",
        "\n",
        "\n",
        " You can also train the same model without loading the pretrained word embeddings and without freezing the embedding layer. In that case, you’ll learn a taskspecific embedding of the input tokens, which is generally more powerful than\n",
        "pretrained word embeddings when lots of data is available. But in this case, you have\n",
        "only 200 training samples"
      ]
    },
    {
      "cell_type": "code",
      "metadata": {
        "id": "mkR5_-SrTWzc",
        "outputId": "a97246df-21ae-4631-b392-ec4618cbfc22",
        "colab": {
          "base_uri": "https://localhost:8080/",
          "height": 649
        }
      },
      "source": [
        "# Training the same model without pretrained word embeddings\n",
        "from keras.models import Sequential\n",
        "from keras.layers import Embedding, Flatten, Dense\n",
        "\n",
        "model = Sequential()\n",
        "model.add(Embedding(max_words, embedding_dim, input_length=maxlen))\n",
        "model.add(Flatten())\n",
        "model.add(Dense(32, activation='relu'))\n",
        "model.add(Dense(1, activation='sigmoid'))\n",
        "model.summary()\n",
        "\n",
        "model.compile(optimizer='rmsprop',\n",
        "              loss='binary_crossentropy',\n",
        "              metrics=['acc'])\n",
        "history = model.fit(x_train, y_train,\n",
        "                    epochs=10,\n",
        "                    batch_size=32,\n",
        "                    validation_data=(x_val, y_val))"
      ],
      "execution_count": null,
      "outputs": [
        {
          "output_type": "stream",
          "text": [
            "Model: \"sequential_1\"\n",
            "_________________________________________________________________\n",
            "Layer (type)                 Output Shape              Param #   \n",
            "=================================================================\n",
            "embedding_1 (Embedding)      (None, 100, 100)          1000000   \n",
            "_________________________________________________________________\n",
            "flatten_1 (Flatten)          (None, 10000)             0         \n",
            "_________________________________________________________________\n",
            "dense_2 (Dense)              (None, 32)                320032    \n",
            "_________________________________________________________________\n",
            "dense_3 (Dense)              (None, 1)                 33        \n",
            "=================================================================\n",
            "Total params: 1,320,065\n",
            "Trainable params: 1,320,065\n",
            "Non-trainable params: 0\n",
            "_________________________________________________________________\n",
            "Epoch 1/10\n",
            "7/7 [==============================] - 0s 34ms/step - loss: 0.6968 - acc: 0.4700 - val_loss: 0.6962 - val_acc: 0.4789\n",
            "Epoch 2/10\n",
            "7/7 [==============================] - 0s 24ms/step - loss: 0.5098 - acc: 0.9800 - val_loss: 0.6985 - val_acc: 0.4983\n",
            "Epoch 3/10\n",
            "7/7 [==============================] - 0s 22ms/step - loss: 0.2994 - acc: 0.9950 - val_loss: 0.7178 - val_acc: 0.4939\n",
            "Epoch 4/10\n",
            "7/7 [==============================] - 0s 23ms/step - loss: 0.1282 - acc: 1.0000 - val_loss: 0.7289 - val_acc: 0.4939\n",
            "Epoch 5/10\n",
            "7/7 [==============================] - 0s 22ms/step - loss: 0.0589 - acc: 1.0000 - val_loss: 0.7427 - val_acc: 0.4844\n",
            "Epoch 6/10\n",
            "7/7 [==============================] - 0s 22ms/step - loss: 0.0308 - acc: 1.0000 - val_loss: 0.7565 - val_acc: 0.4989\n",
            "Epoch 7/10\n",
            "7/7 [==============================] - 0s 22ms/step - loss: 0.0162 - acc: 1.0000 - val_loss: 0.7689 - val_acc: 0.4972\n",
            "Epoch 8/10\n",
            "7/7 [==============================] - 0s 23ms/step - loss: 0.0092 - acc: 1.0000 - val_loss: 0.7776 - val_acc: 0.4967\n",
            "Epoch 9/10\n",
            "7/7 [==============================] - 0s 23ms/step - loss: 0.0056 - acc: 1.0000 - val_loss: 0.7947 - val_acc: 0.4972\n",
            "Epoch 10/10\n",
            "7/7 [==============================] - 0s 22ms/step - loss: 0.0035 - acc: 1.0000 - val_loss: 0.7927 - val_acc: 0.4983\n"
          ],
          "name": "stdout"
        }
      ]
    },
    {
      "cell_type": "markdown",
      "metadata": {
        "id": "MPNplZ6oTniF"
      },
      "source": [
        "Validation accuracy stalls in the low 50s. So in this case, pretrained word embeddings\n",
        "outperform jointly learned embeddings. If you increase the number of training samples, this will quickly stop being the case—try it as an exercise.\n",
        " Finally, let’s evaluate the model on the test data. First, you need to tokenize the test\n",
        "data"
      ]
    },
    {
      "cell_type": "code",
      "metadata": {
        "id": "auokZ525TqEd"
      },
      "source": [
        "# Tokenizing the data of the test set\n",
        "test_dir = os.path.join(imdb_dir, 'test')\n",
        "\n",
        "labels = []\n",
        "texts = []\n",
        "\n",
        "for label_type in ['neg', 'pos']:\n",
        "    dir_name = os.path.join(test_dir, label_type)\n",
        "    for fname in sorted(os.listdir(dir_name)[0:20]):\n",
        "        if fname[-4:] == '.txt':\n",
        "            f = open(os.path.join(dir_name, fname))\n",
        "            texts.append(f.read())\n",
        "\n",
        "            f.close()\n",
        "            if label_type == 'neg':\n",
        "                labels.append(0)\n",
        "            else:\n",
        "                labels.append(1)\n",
        "\n",
        "sequences = tokenizer.texts_to_sequences(texts)\n",
        "x_test = pad_sequences(sequences, maxlen=maxlen)\n",
        "y_test = np.asarray(labels)"
      ],
      "execution_count": null,
      "outputs": []
    },
    {
      "cell_type": "markdown",
      "metadata": {
        "id": "gLTrV-QKT-Sl"
      },
      "source": [
        "Next, load and evaluate the first model"
      ]
    },
    {
      "cell_type": "code",
      "metadata": {
        "id": "t9fWpSrnT_tU",
        "outputId": "a32f6743-5fd0-45ea-b912-6a539492aff3",
        "colab": {
          "base_uri": "https://localhost:8080/",
          "height": 71
        }
      },
      "source": [
        "# Evaluate model on test set\n",
        "model.load_weights('pre_trained_glove_model.h5')\n",
        "# Returns the loss value & metrics values for the model in test mode.\n",
        "model.evaluate(x_test, y_test)"
      ],
      "execution_count": null,
      "outputs": [
        {
          "output_type": "stream",
          "text": [
            "2/2 [==============================] - 0s 2ms/step - loss: 0.8432 - acc: 0.5500\n"
          ],
          "name": "stdout"
        },
        {
          "output_type": "execute_result",
          "data": {
            "text/plain": [
              "[0.8431736826896667, 0.550000011920929]"
            ]
          },
          "metadata": {
            "tags": []
          },
          "execution_count": 55
        }
      ]
    },
    {
      "cell_type": "markdown",
      "metadata": {
        "id": "nwtp74o9UEM9"
      },
      "source": [
        "You get an appalling test accuracy of 56%. Working with just a handful of training\n",
        "samples is difficult!"
      ]
    },
    {
      "cell_type": "markdown",
      "metadata": {
        "id": "texzgwuiUM8_"
      },
      "source": [
        "### **Wrapping up**\n",
        "Now you’re able to do the following:\n",
        "- Turn raw text into something a neural network can process\n",
        "- Use the ***Embedding*** layer in a Keras model to learn task-specific token embeddings\n",
        "- Use pretrained **word embeddings** to get an extra boost on small natural language processing problems "
      ]
    },
    {
      "cell_type": "markdown",
      "metadata": {
        "id": "7gnH7a7wUXtN"
      },
      "source": [
        "## <font color=\"MediumSeaGreen\">**Understanding recurrent neural networks**</font>\n",
        "***"
      ]
    },
    {
      "cell_type": "markdown",
      "metadata": {
        "id": "Hvlgpa6ycvlF"
      },
      "source": [
        "### **Concept**"
      ]
    },
    {
      "cell_type": "markdown",
      "metadata": {
        "id": "rMXJ7pEOUlDs"
      },
      "source": [
        "A major characteristic of all neural networks you’ve seen so far, such as densely connected networks and convnets, is that they have no memory. Each input shown to\n",
        "them is processed independently, with no state kept in between inputs. With such networks, in order to process a sequence or a temporal series of data points, you have to\n",
        "show the entire sequence to the network at once: turn it into a single data point. For\n",
        "instance, this is what you did in the IMDB example: an entire movie review was transformed into a single large vector and processed in one go. Such networks are called\n",
        "**feedforward networks**.\n",
        "\n",
        "\n",
        " In contrast, as you’re reading the present sentence, you’re processing it word by\n",
        "word—or rather, eye saccade by eye saccade—while keeping memories of what came\n",
        "before; this gives you a fluid representation of the meaning conveyed by this sentence.\n",
        "Biological intelligence processes information incrementally while maintaining an\n",
        "internal model of what it’s processing, built from past information and constantly\n",
        "updated as new information comes in.\n",
        "\n",
        "\n",
        " A ***recurrent neural network*** (RNN) adopts the same principle, albeit in an extremely\n",
        "simplified version: it processes sequences by iterating through the sequence elements\n",
        "and maintaining a **state** containing information relative\n",
        "to what it has seen so far. In effect, an RNN is a type of\n",
        "neural network that has an internal **loop** (see figure 6.9).\n",
        "The state of the RNN is reset between processing two different, independent sequences (such as two different\n",
        "IMDB reviews), so you still consider one sequence a single data point: a single input to the network. What\n",
        "changes is that this data point is no longer processed in a\n",
        "single step; rather, the network internally loops over\n",
        "sequence elements.\n",
        "\n",
        "\n",
        "To make these notions of **loop** and **state** clear, let’s implement the forward pass of a\n",
        "toy RNN in Numpy. This RNN takes as input a sequence of vectors, which you’ll encode\n",
        "as a 2D tensor of size (timesteps, input_features). **It loops over timesteps, and at\n",
        "each timestep, it considers its current state at t and the input at t (of shape (input_\n",
        "features,), and combines them to obtain the output at t. You’ll then set the state for\n",
        "the next step to be this previous output.** For the first timestep, the previous output\n",
        "isn’t defined; hence, there is no current state. So, you’ll initialize the state as an all-zero vector called the **initial state** of the network.\n",
        "\n",
        "\n",
        "<img src=\"https://drive.google.com/uc?id=1CS4ehr8EQGPj0NZbBO2uI4BnuMBQ4Fpf\"></img><br>\n",
        "\n",
        "\n"
      ]
    },
    {
      "cell_type": "markdown",
      "metadata": {
        "id": "lay3dAyAV-W1"
      },
      "source": [
        "**RNN Pseudocode**"
      ]
    },
    {
      "cell_type": "code",
      "metadata": {
        "id": "BJHu1rG3WPNP"
      },
      "source": [
        "state_t = 0 # The state at t\n",
        "\n",
        "for input_t in input_sequence: # Iterates over sequence of elements\n",
        "    output_t = f(input_t, state_t)\n",
        "    state_t = output_t # The previous output becomes the state for the next iteration."
      ],
      "execution_count": null,
      "outputs": []
    },
    {
      "cell_type": "markdown",
      "metadata": {
        "id": "kRE5NS30WfNB"
      },
      "source": [
        "You can even flesh out the function f: the transformation of the input and state into an\n",
        "output will be parameterized by two matrices, W and U, and a bias vector. It’s similar to\n",
        "the transformation operated by a densely connected layer in a feedforward network."
      ]
    },
    {
      "cell_type": "markdown",
      "metadata": {
        "id": "R61O8MoLWhtY"
      },
      "source": [
        "**More detailed RNN Pseudocode**"
      ]
    },
    {
      "cell_type": "code",
      "metadata": {
        "id": "RyGvu1RxUEyD"
      },
      "source": [
        "state_t = 0\n",
        "for input_t in input_sequence:\n",
        "    output_t = activation(dot(W, input_t) + dot(U, state_t) + b)\n",
        "    state_t = output_t"
      ],
      "execution_count": null,
      "outputs": []
    },
    {
      "cell_type": "markdown",
      "metadata": {
        "id": "qG1jfbcUzX-O"
      },
      "source": [
        "To make these notions absolutely unambiguous, let’s write a naive Numpy implementation of the forward pass of the simple RNN."
      ]
    },
    {
      "cell_type": "code",
      "metadata": {
        "id": "0Ej9XXIgzZAY"
      },
      "source": [
        "import numpy as np\n",
        "\n",
        "# number of timesteps in input sequence\n",
        "timesteps = 100\n",
        "# dimensionality of input feature space\n",
        "input_features = 32\n",
        "# dimensionality of output feature space\n",
        "output_features = 64\n",
        "\n",
        "# Input data: random noise for the sake of the example\n",
        "inputs = np.random.random((timesteps, input_features))\n",
        "\n",
        "# Initial state: an all-zero vector\n",
        "state_t = np.zeros((output_features,))\n",
        "\n",
        "# Creates random weight matrices\n",
        "W = np.random.random((output_features, input_features))\n",
        "U = np.random.random((output_features, output_features))\n",
        "b = np.random.random((output_features,))\n",
        "\n",
        "successive_outputs = []\n",
        "# input_t is a vector of shape (input_features,)\n",
        "for input_t in inputs:\n",
        "    # Combines the input with the current state (the previous output) to obtain the current output\n",
        "    output_t = np.tanh(np.dot(W, input_t) + np.dot(U, state_t) + b)\n",
        "\n",
        "    # Stores this output in a list\n",
        "    successive_outputs.append(output_t)\n",
        "\n",
        "    # Updates the state of the network for the next timestep\n",
        "    state_t = output_t\n",
        "\n",
        "# The final output is a 2D tensor of shape (timesteps, output_features).\n",
        "final_output_sequence = np.concatenate(successive_outputs, axis=0)\n",
        "\n",
        "\n",
        "# PSA: hyperbolic tangent function tanh,\n",
        "# is a rescaling of the logistic sigmoid, such that its outputs range from -1 to 1"
      ],
      "execution_count": null,
      "outputs": []
    },
    {
      "cell_type": "markdown",
      "metadata": {
        "id": "0R5ACZAH0Bod"
      },
      "source": [
        "Easy enough: in summary, an **RNN is a for loop that reuses quantities computed\n",
        "during the previous iteration of the loop**, nothing more. Of course, there are many\n",
        "different RNNs fitting this definition that you could build—this example is one of the\n",
        "simplest RNN formulations. RNNs are characterized by their **step function**, such as the\n",
        "following function in this case (see figure 6.10):\n",
        "\n",
        "`output_t = np.tanh(np.dot(W, input_t) + np.dot(U, state_t) + b)`"
      ]
    },
    {
      "cell_type": "markdown",
      "metadata": {
        "id": "GzkIRMLC0Njc"
      },
      "source": [
        "<img src=\"https://drive.google.com/uc?id=1-fmi-ztURWJT2BSED68T8mcu7YgKI2yZ\"></img><br>\n",
        "\n",
        "\n"
      ]
    },
    {
      "cell_type": "markdown",
      "metadata": {
        "id": "iNh5-aEi0VqC"
      },
      "source": [
        "**NOTE:**<br> In this example, the final output is a 2D tensor of shape (timesteps,\n",
        "output_features), where each timestep is the output of the loop at time t.\n",
        "Each timestep t in the output tensor contains information about timesteps 0\n",
        "to t in the input sequence—about the entire past. For this reason, in many\n",
        "cases, you don’t need this full sequence of outputs; you just need the last output (output_t at the end of the loop), because it already contains information about the entire sequence."
      ]
    },
    {
      "cell_type": "markdown",
      "metadata": {
        "id": "UmZQ0-nKW4ib"
      },
      "source": [
        "### **A recurrent layer in Keras**"
      ]
    },
    {
      "cell_type": "markdown",
      "metadata": {
        "id": "YhOccnZYbHfP"
      },
      "source": [
        "The process you just naively implemented in Numpy corresponds to an actual Keras\n",
        "layer—the SimpleRNN layer:\n",
        "\n",
        "`from keras.layers import SimpleRNN`\n",
        "\n",
        "There is one minor difference: **SimpleRNN** processes batches of sequences, like all other\n",
        "Keras layers, not a single sequence as in the Numpy example. This means it takes inputs\n",
        "of shape ***(batch_size, timesteps, input_features)***, rather than ***(timesteps,\n",
        "input_features)***.\n",
        "\n",
        "\n",
        " Like all recurrent layers in Keras, SimpleRNN can be run in two different modes: it\n",
        "can return either the full sequences of successive outputs for each timestep (a 3D tensor of shape ***(batch_size, timesteps, output_features)***) or only the last output for\n",
        "each input sequence (a 2D tensor of shape ***(batch_size, output_features)***). These\n",
        "two modes are controlled by the **return_sequences** constructor argument. Let’s look\n",
        "at an example that uses **SimpleRNN** and returns only the output at the last timestep:"
      ]
    },
    {
      "cell_type": "code",
      "metadata": {
        "id": "RxnBUhQZW55u",
        "outputId": "604fd3c6-c0b2-4983-ba5e-59ad0861fff5",
        "colab": {
          "base_uri": "https://localhost:8080/",
          "height": 221
        }
      },
      "source": [
        "from keras.models import Sequential\n",
        "from keras.layers import Embedding, SimpleRNN\n",
        "\n",
        "model = Sequential()\n",
        "model.add(Embedding(10000, 32))\n",
        "model.add(SimpleRNN(32))\n",
        "model.summary()"
      ],
      "execution_count": null,
      "outputs": [
        {
          "output_type": "stream",
          "text": [
            "Model: \"sequential_2\"\n",
            "_________________________________________________________________\n",
            "Layer (type)                 Output Shape              Param #   \n",
            "=================================================================\n",
            "embedding_2 (Embedding)      (None, None, 32)          320000    \n",
            "_________________________________________________________________\n",
            "simple_rnn (SimpleRNN)       (None, 32)                2080      \n",
            "=================================================================\n",
            "Total params: 322,080\n",
            "Trainable params: 322,080\n",
            "Non-trainable params: 0\n",
            "_________________________________________________________________\n"
          ],
          "name": "stdout"
        }
      ]
    },
    {
      "cell_type": "markdown",
      "metadata": {
        "id": "AGl_BG8SbkwM"
      },
      "source": [
        "The following example returns the full state sequence:"
      ]
    },
    {
      "cell_type": "code",
      "metadata": {
        "id": "rW_PqjixblT-",
        "outputId": "f77a6368-21ad-4e8e-bc91-5ef3d9ea3082",
        "colab": {
          "base_uri": "https://localhost:8080/",
          "height": 221
        }
      },
      "source": [
        "model = Sequential()\n",
        "model.add(Embedding(10000, 32))\n",
        "model.add(SimpleRNN(32, return_sequences=True))\n",
        "model.summary()"
      ],
      "execution_count": null,
      "outputs": [
        {
          "output_type": "stream",
          "text": [
            "Model: \"sequential_4\"\n",
            "_________________________________________________________________\n",
            "Layer (type)                 Output Shape              Param #   \n",
            "=================================================================\n",
            "embedding_4 (Embedding)      (None, None, 32)          320000    \n",
            "_________________________________________________________________\n",
            "simple_rnn_2 (SimpleRNN)     (None, None, 32)          2080      \n",
            "=================================================================\n",
            "Total params: 322,080\n",
            "Trainable params: 322,080\n",
            "Non-trainable params: 0\n",
            "_________________________________________________________________\n"
          ],
          "name": "stdout"
        }
      ]
    },
    {
      "cell_type": "markdown",
      "metadata": {
        "id": "rNCvV9bJbpRr"
      },
      "source": [
        "It’s sometimes useful to stack several recurrent layers one after the other in order to\n",
        "increase the representational power of a network. In such a setup, you have to get all\n",
        "of the intermediate layers to return full sequence of outputs:"
      ]
    },
    {
      "cell_type": "code",
      "metadata": {
        "id": "s65Zc3Gjbt8d",
        "outputId": "8067b772-1d16-4b44-bc01-76779a53313e",
        "colab": {
          "base_uri": "https://localhost:8080/",
          "height": 323
        }
      },
      "source": [
        "model = Sequential()\n",
        "model.add(Embedding(10000, 32))\n",
        "model.add(SimpleRNN(32, return_sequences=True))\n",
        "model.add(SimpleRNN(32, return_sequences=True))\n",
        "model.add(SimpleRNN(32, return_sequences=True))\n",
        "model.add(SimpleRNN(32))\n",
        "model.summary()"
      ],
      "execution_count": null,
      "outputs": [
        {
          "output_type": "stream",
          "text": [
            "Model: \"sequential_5\"\n",
            "_________________________________________________________________\n",
            "Layer (type)                 Output Shape              Param #   \n",
            "=================================================================\n",
            "embedding_5 (Embedding)      (None, None, 32)          320000    \n",
            "_________________________________________________________________\n",
            "simple_rnn_3 (SimpleRNN)     (None, None, 32)          2080      \n",
            "_________________________________________________________________\n",
            "simple_rnn_4 (SimpleRNN)     (None, None, 32)          2080      \n",
            "_________________________________________________________________\n",
            "simple_rnn_5 (SimpleRNN)     (None, None, 32)          2080      \n",
            "_________________________________________________________________\n",
            "simple_rnn_6 (SimpleRNN)     (None, 32)                2080      \n",
            "=================================================================\n",
            "Total params: 328,320\n",
            "Trainable params: 328,320\n",
            "Non-trainable params: 0\n",
            "_________________________________________________________________\n"
          ],
          "name": "stdout"
        }
      ]
    },
    {
      "cell_type": "markdown",
      "metadata": {
        "id": "HCKp6qm3b1ym"
      },
      "source": [
        "Now, let’s use such a model on the **IMDB movie-review-classification problem**. First,\n",
        "***preprocess the data***."
      ]
    },
    {
      "cell_type": "code",
      "metadata": {
        "id": "rtXYkzfAb5Zf",
        "outputId": "8cb9d76d-5925-4f64-9c0e-dfb4c920085e",
        "colab": {
          "base_uri": "https://localhost:8080/",
          "height": 119
        }
      },
      "source": [
        "from keras.datasets import imdb\n",
        "from keras.preprocessing import sequence\n",
        "\n",
        "max_features = 10000\n",
        "maxlen = 500\n",
        "batch_size = 32\n",
        "\n",
        "print('Loading data...')\n",
        "(input_train, y_train), (input_test, y_test) = imdb.load_data(\n",
        "    num_words=max_features)\n",
        "\n",
        "# 25k dimensional array, each entry is a list of word indices\n",
        "print(len(input_train), 'train sequences')\n",
        "print(len(input_test), 'test sequences')\n",
        "\n",
        "print('Pad sequences (samples x time)')\n",
        "\n",
        "input_train = sequence.pad_sequences(input_train, maxlen=maxlen)\n",
        "input_test = sequence.pad_sequences(input_test, maxlen=maxlen)\n",
        "print('input_train shape:', input_train.shape)\n",
        "print('input_test shape:', input_test.shape)"
      ],
      "execution_count": null,
      "outputs": [
        {
          "output_type": "stream",
          "text": [
            "Loading data...\n",
            "25000 train sequences\n",
            "25000 test sequences\n",
            "Pad sequences (samples x time)\n",
            "input_train shape: (25000, 500)\n",
            "input_test shape: (25000, 500)\n"
          ],
          "name": "stdout"
        }
      ]
    },
    {
      "cell_type": "markdown",
      "metadata": {
        "id": "NM89Dy6ycEdu"
      },
      "source": [
        "Let’s train a simple recurrent network using an **Embedding** layer and a **SimpleRNN**\n",
        "layer"
      ]
    },
    {
      "cell_type": "code",
      "metadata": {
        "id": "lLprBJ1NcHGN",
        "outputId": "79b96da7-27b6-4735-f4da-7f2da451cd44",
        "colab": {
          "base_uri": "https://localhost:8080/",
          "height": 377
        }
      },
      "source": [
        "# Training the model with Embedding and SimpleRNN layers\n",
        "from keras.layers import Dense\n",
        "\n",
        "model = Sequential()\n",
        "\n",
        "model.add(Embedding(max_features, 32))\n",
        "model.add(SimpleRNN(32))\n",
        "model.add(Dense(1, activation='sigmoid'))\n",
        "\n",
        "model.compile(optimizer='rmsprop', loss='binary_crossentropy', metrics=['acc'])\n",
        "history = model.fit(input_train, y_train,\n",
        "                    epochs=10,\n",
        "                    batch_size=128,\n",
        "                    validation_split=0.2)"
      ],
      "execution_count": null,
      "outputs": [
        {
          "output_type": "stream",
          "text": [
            "Epoch 1/10\n",
            "157/157 [==============================] - 52s 334ms/step - loss: 0.5843 - acc: 0.6855 - val_loss: 0.4835 - val_acc: 0.7804\n",
            "Epoch 2/10\n",
            "157/157 [==============================] - 53s 338ms/step - loss: 0.3798 - acc: 0.8393 - val_loss: 0.4843 - val_acc: 0.7950\n",
            "Epoch 3/10\n",
            "157/157 [==============================] - 52s 332ms/step - loss: 0.2756 - acc: 0.8902 - val_loss: 0.3670 - val_acc: 0.8460\n",
            "Epoch 4/10\n",
            "157/157 [==============================] - 52s 330ms/step - loss: 0.2173 - acc: 0.9173 - val_loss: 0.3733 - val_acc: 0.8424\n",
            "Epoch 5/10\n",
            "157/157 [==============================] - 54s 341ms/step - loss: 0.1562 - acc: 0.9417 - val_loss: 0.3782 - val_acc: 0.8594\n",
            "Epoch 6/10\n",
            "157/157 [==============================] - 54s 344ms/step - loss: 0.1007 - acc: 0.9647 - val_loss: 0.4757 - val_acc: 0.8360\n",
            "Epoch 7/10\n",
            "157/157 [==============================] - 53s 338ms/step - loss: 0.0650 - acc: 0.9790 - val_loss: 0.5243 - val_acc: 0.8102\n",
            "Epoch 8/10\n",
            "157/157 [==============================] - 52s 331ms/step - loss: 0.0380 - acc: 0.9888 - val_loss: 0.5652 - val_acc: 0.8298\n",
            "Epoch 9/10\n",
            "157/157 [==============================] - 52s 333ms/step - loss: 0.0290 - acc: 0.9918 - val_loss: 0.5629 - val_acc: 0.8434\n",
            "Epoch 10/10\n",
            "157/157 [==============================] - 53s 337ms/step - loss: 0.0178 - acc: 0.9952 - val_loss: 0.8132 - val_acc: 0.7532\n"
          ],
          "name": "stdout"
        }
      ]
    },
    {
      "cell_type": "markdown",
      "metadata": {
        "id": "vXNSMnaXcQgN"
      },
      "source": [
        "Now, let’s display the training and validation loss and accuracy (see figures 6.11 and 6.12)."
      ]
    },
    {
      "cell_type": "code",
      "metadata": {
        "id": "_dlTfcuGcRIR",
        "outputId": "2c5907cc-bd8d-4d9f-ba28-ff321ebf693e",
        "colab": {
          "base_uri": "https://localhost:8080/",
          "height": 545
        }
      },
      "source": [
        "# Plotting results\n",
        "import matplotlib.pyplot as plt\n",
        "\n",
        "acc = history.history['acc']\n",
        "val_acc = history.history['val_acc']\n",
        "loss = history.history['loss']\n",
        "val_loss = history.history['val_loss']\n",
        "\n",
        "epochs = range(1, len(acc) + 1)\n",
        "\n",
        "plt.plot(epochs, acc, 'bo', label='Training acc')\n",
        "plt.plot(epochs, val_acc, 'b', label='Validation acc')\n",
        "\n",
        "\n",
        "plt.title('Training and validation accuracy')\n",
        "plt.legend()\n",
        "\n",
        "plt.figure()\n",
        "\n",
        "plt.plot(epochs, loss, 'bo', label='Training loss')\n",
        "plt.plot(epochs, val_loss, 'b', label='Validation loss')\n",
        "plt.title('Training and validation loss')\n",
        "plt.legend()\n",
        "plt.show()"
      ],
      "execution_count": null,
      "outputs": [
        {
          "output_type": "display_data",
          "data": {
            "image/png": "[encoded data removed]",
            "text/plain": [
              "<Figure size 432x288 with 1 Axes>"
            ]
          },
          "metadata": {
            "tags": [],
            "needs_background": "light"
          }
        },
        {
          "output_type": "display_data",
          "data": {
            "image/png": "[encoded data removed]",
            "text/plain": [
              "<Figure size 432x288 with 1 Axes>"
            ]
          },
          "metadata": {
            "tags": [],
            "needs_background": "light"
          }
        }
      ]
    },
    {
      "cell_type": "markdown",
      "metadata": {
        "id": "eo9Ll4yZcf3e"
      },
      "source": [
        "As a reminder, in chapter 3, the first naive approach to this dataset got you to a test\n",
        "accuracy of 88%. Unfortunately, this small recurrent network doesn’t perform well\n",
        "compared to this baseline (only 85% validation accuracy). Part of the problem is that\n",
        "your inputs only consider the first 500 words, rather than full sequences—hence, the\n",
        "RNN has access to less information than the earlier baseline model. The remainder of\n",
        "the problem is that **SimpleRNN** isn’t good at processing long sequences, such as text.\n",
        "\n",
        "\n",
        "**Other types of recurrent layers perform much better**. Let’s look at some more advanced layers. "
      ]
    },
    {
      "cell_type": "markdown",
      "metadata": {
        "id": "3XCroGGcc7VH"
      },
      "source": [
        "### **Understanding the LSTM and GRU layers**"
      ]
    },
    {
      "cell_type": "markdown",
      "metadata": {
        "id": "Z6Ds5Toh4d5Y"
      },
      "source": [
        "**SimpleRNN** isn’t the only recurrent layer available in Keras. There are two others: **LSTM**\n",
        "and **GRU**. In practice, you’ll always use one of these, because **SimpleRNN** is generally too\n",
        "simplistic to be of real use. **SimpleRNN** has a major issue: although it should theoretically\n",
        "be able to **retain at time t information about inputs seen many timesteps before, in\n",
        "practice, such long-term dependencies are impossible to learn**. This is due to the **vanishing gradient problem**, an effect that is similar to what is observed with non-recurrent\n",
        "networks (feedforward networks) that are many layers deep: as you keep adding layers\n",
        "to a network, the network eventually becomes untrainable. The theoretical reasons for\n",
        "this effect were studied by Hochreiter, Schmidhuber, and Bengio in the early 1990s.\n",
        "The **LSTM** and **GRU layers** are designed to solve this problem.\n",
        "\n",
        "\n",
        " Let’s consider the **LSTM layer**. The underlying Long Short-Term Memory (**LSTM**)\n",
        "algorithm was developed by Hochreiter and Schmidhuber in 1997; it was the culmination of their research on the vanishing gradient problem.\n",
        "\n",
        "\n",
        " This layer is a variant of the **SimpleRNN** layer you already know about; it adds a **way\n",
        "to carry information across many timesteps**. Imagine a conveyor belt running parallel\n",
        "to the sequence you’re processing. Information from the sequence can jump onto the\n",
        "conveyor belt at any point, be transported to a later timestep, and jump off, intact,\n",
        "when you need it. This is essentially what LSTM does: it saves information for later,\n",
        "thus preventing older signals from gradually vanishing during processing.\n",
        "\n",
        "\n",
        " To understand this in detail, let’s start from the SimpleRNN cell (see figure 6.13).\n",
        "Because you’ll have a lot of weight matrices, index the W and U matrices in the cell with\n",
        "the letter o (**Wo** and **Uo**) for *output*."
      ]
    },
    {
      "cell_type": "markdown",
      "metadata": {
        "id": "OgQxicpH6jfX"
      },
      "source": [
        "<img src=\"https://drive.google.com/uc?id=1j2J1LlyemP5AyFHBLNWeNw9i38TfkyrW\"></img><br>\n",
        "\n",
        "\n",
        "\n",
        "\n",
        "\n"
      ]
    },
    {
      "cell_type": "markdown",
      "metadata": {
        "id": "6ISap-IK7wKi"
      },
      "source": [
        "Let’s add to this picture an additional data flow that carries information across timesteps. Call its values at different timesteps **Ct**, where **C** stands for **carry**. This information will have the following impact on the cell: it will be combined with the input\n",
        "connection and the recurrent connection (via a dense transformation: a dot product\n",
        "with a weight matrix followed by a bias add and the application of an activation function), and it will affect the state being sent to the next timestep (via an activation\n",
        "function an a multiplication operation). Conceptually, the carry dataflow is a way to\n",
        "modulate (modify) the next output and the next state (see figure 6.14). Simple so far."
      ]
    },
    {
      "cell_type": "markdown",
      "metadata": {
        "id": "1D9Gtr7W7_mb"
      },
      "source": [
        "<img src=\"https://drive.google.com/uc?id=1sL0NxwWnkk7HYgj8gSgh0UXoe30Ip6xv\"></img><br>\n",
        "\n",
        "\n"
      ]
    },
    {
      "cell_type": "markdown",
      "metadata": {
        "id": "ZqUWWjNE8WZi"
      },
      "source": [
        "Now the subtlety: the way the next value of the carry dataflow is computed. It involves\n",
        "three distinct transformations. All three have the form of a **SimpleRNN** cell:"
      ]
    },
    {
      "cell_type": "code",
      "metadata": {
        "id": "5mnUQPL9ch6s"
      },
      "source": [
        "# y = activation(dot(state_t, U) + dot(input_t, W) + b)"
      ],
      "execution_count": null,
      "outputs": []
    },
    {
      "cell_type": "markdown",
      "metadata": {
        "id": "QhKSaXcE8k9u"
      },
      "source": [
        "But all three transformations have their own weight matrices, which you’ll index with\n",
        "the letters **i**, **f**, and **k**. Here’s what you have so far (it may seem a bit arbitrary, but bear\n",
        "with me)."
      ]
    },
    {
      "cell_type": "markdown",
      "metadata": {
        "id": "QlDR9hwIdDPc"
      },
      "source": [
        "**Pseudocode details of the LSTM architecture (1/2)**\n",
        "\n"
      ]
    },
    {
      "cell_type": "code",
      "metadata": {
        "id": "VtE5z9q786bn"
      },
      "source": [
        "output_t = activation(dot(state_t, Uo) + dot(input_t, Wo) + dot(C_t, Vo) + bo)\n",
        "\n",
        "i_t = activation(dot(state_t, Ui) + dot(input_t, Wi) + bi)\n",
        "f_t = activation(dot(state_t, Uf) + dot(input_t, Wf) + bf)\n",
        "k_t = activation(dot(state_t, Uk) + dot(input_t, Wk) + bk)"
      ],
      "execution_count": null,
      "outputs": []
    },
    {
      "cell_type": "markdown",
      "metadata": {
        "id": "D9P0EAJC9DDQ"
      },
      "source": [
        "You obtain the new carry state (the next c_t) by combining i_t, f_t, and k_t."
      ]
    },
    {
      "cell_type": "markdown",
      "metadata": {
        "id": "DVTlwyxZ9Irv"
      },
      "source": [
        "**Pseudocode details of the LSTM architecture (2/2)**"
      ]
    },
    {
      "cell_type": "code",
      "metadata": {
        "id": "lLvOvqN789Zd"
      },
      "source": [
        "c_t+1 = i_t * k_t + c_t * f_t"
      ],
      "execution_count": null,
      "outputs": []
    },
    {
      "cell_type": "markdown",
      "metadata": {
        "id": "Cp9YXYyW9U0j"
      },
      "source": [
        "Add this as shown in figure 6.15. And that’s it. Not so complicated—merely a tad\n",
        "complex.\n",
        "\n",
        "\n",
        "<img src=\"https://drive.google.com/uc?id=1fxKDXg83kqfTTw7ildjOjU8J-lpiytgl\"></img><br>\n",
        "\n",
        "\n",
        "\n",
        "\n",
        "\n"
      ]
    },
    {
      "cell_type": "markdown",
      "metadata": {
        "id": "J7JOwShv9aiK"
      },
      "source": [
        "If you want to get philosophical, you can interpret what each of these operations is\n",
        "meant to do. For instance, you can say that multiplying *c_t* and *f_t* is a way to deliberately forget irrelevant information in the carry dataflow. Meanwhile, i_t and k_t provide information about the present, updating the carry track with new information.\n",
        "But at the end of the day, these interpretations don’t mean much, because what these\n",
        "operations actually do is determined by the contents of the weights parameterizing\n",
        "them; and the weights are learned in an end-to-end fashion, starting over with each\n",
        "training round, making it impossible to credit this or that operation with a specific\n",
        "purpose. The specification of an RNN cell (as just described) determines your hypothesis space—the space in which you’ll search for a good model configuration during\n",
        "training—but it doesn’t determine what the cell does; that is up to the cell weights.\n",
        "The same cell with different weights can be doing very different things. So the combination of operations making up an RNN cell is better interpreted as a set of constraints\n",
        "on your search, not as a design in an engineering sense.<br>\n",
        " To a researcher, it seems that the choice of such constraints—the question of how to\n",
        "implement RNN cells—is better left to optimization algorithms (like genetic algorithms\n",
        "or reinforcement learning processes) than to human engineers. And in the future,\n",
        "that’s how we’ll build networks. In summary: you don’t need to understand anything\n",
        "about the specific architecture of an LSTM cell; as a human, it shouldn’t be your job to\n",
        "understand it. Just keep in mind what the LSTM cell is meant to do: allow past information to be reinjected at a later time, thus fighting the vanishing-gradient problem. "
      ]
    },
    {
      "cell_type": "markdown",
      "metadata": {
        "id": "PZNQLvkV-KAY"
      },
      "source": [
        "#### **A concrete LSTM example in Keras**"
      ]
    },
    {
      "cell_type": "markdown",
      "metadata": {
        "id": "5j3UY0xa-N48"
      },
      "source": [
        "Now let’s switch to more practical concerns: you’ll set up a model using an LSTM layer\n",
        "and train it on the IMDB data (see figures 6.16 and 6.17). The network is similar to the\n",
        "one with SimpleRNN that was just presented. You only specify the output dimensionality of the LSTM layer; leave every other argument (there are many) at the Keras defaults. Keras has good defaults, and things will almost always “just work” without you\n",
        "having to spend time tuning parameters by hand."
      ]
    },
    {
      "cell_type": "code",
      "metadata": {
        "id": "lOVg_96o9yTH",
        "outputId": "c7159f2e-64c6-43d5-bbb3-91f1e4217e04",
        "colab": {
          "base_uri": "https://localhost:8080/",
          "height": 377
        }
      },
      "source": [
        "# Using the LSTM layer in Keras\n",
        "from keras.layers import LSTM\n",
        "\n",
        "model = Sequential()\n",
        "model.add(Embedding(max_features, 32))\n",
        "model.add(LSTM(32))\n",
        "model.add(Dense(1, activation='sigmoid'))\n",
        "\n",
        "model.compile(optimizer='rmsprop',\n",
        "              loss='binary_crossentropy',\n",
        "              metrics=['acc'])\n",
        "\n",
        "history = model.fit(input_train, y_train,\n",
        "                    epochs=10,\n",
        "                    batch_size=128,\n",
        "                    validation_split=0.2)"
      ],
      "execution_count": null,
      "outputs": [
        {
          "output_type": "stream",
          "text": [
            "Epoch 1/10\n",
            "157/157 [==============================] - 5s 29ms/step - loss: 0.5083 - acc: 0.7598 - val_loss: 0.3869 - val_acc: 0.8484\n",
            "Epoch 2/10\n",
            "157/157 [==============================] - 4s 27ms/step - loss: 0.3119 - acc: 0.8777 - val_loss: 0.3092 - val_acc: 0.8816\n",
            "Epoch 3/10\n",
            "157/157 [==============================] - 4s 27ms/step - loss: 0.2424 - acc: 0.9083 - val_loss: 0.2796 - val_acc: 0.8876\n",
            "Epoch 4/10\n",
            "157/157 [==============================] - 4s 27ms/step - loss: 0.2039 - acc: 0.9255 - val_loss: 0.2807 - val_acc: 0.8882\n",
            "Epoch 5/10\n",
            "157/157 [==============================] - 4s 28ms/step - loss: 0.1765 - acc: 0.9355 - val_loss: 0.3025 - val_acc: 0.8882\n",
            "Epoch 6/10\n",
            "157/157 [==============================] - 4s 27ms/step - loss: 0.1610 - acc: 0.9420 - val_loss: 0.3756 - val_acc: 0.8818\n",
            "Epoch 7/10\n",
            "157/157 [==============================] - 4s 27ms/step - loss: 0.1494 - acc: 0.9481 - val_loss: 0.3431 - val_acc: 0.8472\n",
            "Epoch 8/10\n",
            "157/157 [==============================] - 4s 27ms/step - loss: 0.1336 - acc: 0.9548 - val_loss: 0.3184 - val_acc: 0.8724\n",
            "Epoch 9/10\n",
            "157/157 [==============================] - 4s 27ms/step - loss: 0.1235 - acc: 0.9570 - val_loss: 0.3947 - val_acc: 0.8834\n",
            "Epoch 10/10\n",
            "157/157 [==============================] - 4s 27ms/step - loss: 0.1141 - acc: 0.9598 - val_loss: 0.3832 - val_acc: 0.8420\n"
          ],
          "name": "stdout"
        }
      ]
    },
    {
      "cell_type": "markdown",
      "metadata": {
        "id": "P4bQkVK2_jDF"
      },
      "source": [
        "This time, you achieve up to 89% validation accuracy. Not bad: certainly much better\n",
        "than the SimpleRNN network—that’s largely because **LSTM** suffers much less from the\n",
        "vanishing-gradient problem—and slightly better than the fully connected approach\n",
        "from chapter 3, even though you’re looking at less data than you were in chapter 3.\n",
        "You’re truncating sequences after 500 timesteps, whereas in chapter 3, you were considering full sequences.<br>\n",
        "\n",
        " But this result isn’t groundbreaking for such a computationally intensive\n",
        "approach. Why isn’t **LSTM** performing better? One reason is that you made no effort\n",
        "to tune hyperparameters such as the embeddings dimensionality or the LSTM output\n",
        "dimensionality. Another may be lack of regularization. But honestly, the primary reason is that analyzing the **global, long-term structure of the reviews** (what LSTM is good\n",
        "at) isn’t helpful for a sentiment-analysis problem. Such a basic problem is well solved\n",
        "by looking at what words occur in each review, and at what frequency. That’s what the\n",
        "first fully connected approach looked at. But there are far more difficult natural language processing problems out there, where the strength of LSTM will become\n",
        "apparent: in particular, question-answering and machine translation."
      ]
    },
    {
      "cell_type": "code",
      "metadata": {
        "id": "pqGXY46L_dSV"
      },
      "source": [
        ""
      ],
      "execution_count": null,
      "outputs": []
    },
    {
      "cell_type": "code",
      "metadata": {
        "id": "NSC2P9yhgtPn",
        "outputId": "4a902974-8bcb-46ee-be14-32b0496bcca8",
        "colab": {
          "base_uri": "https://localhost:8080/",
          "height": 232
        }
      },
      "source": [
        "# Using the LSTM Layer in Keras\n",
        "\n",
        "from keras.layers import LSTM\n",
        "\n",
        "model = Sequential()\n",
        "model.add(Embedding(max_features, 32))\n",
        "model.add(LSTM(32))\n",
        "model.add(Dense(1, activation='sigmoid'))\n",
        "\n",
        "model.compile(optimizer='rmsprop',\n",
        "              loss='binary_crossentropy',\n",
        "              metrics=['acc'])\n",
        "\n",
        "history = model.fit(input_train, y_train,\n",
        "                    epochs=10,\n",
        "                    batch_size=128,\n",
        "                    validation_split=0.2)"
      ],
      "execution_count": null,
      "outputs": [
        {
          "output_type": "error",
          "ename": "NameError",
          "evalue": "ignored",
          "traceback": [
            "\u001b[0;31m---------------------------------------------------------------------------\u001b[0m",
            "\u001b[0;31mNameError\u001b[0m                                 Traceback (most recent call last)",
            "\u001b[0;32m<ipython-input-1-0bf639f81c77>\u001b[0m in \u001b[0;36m<module>\u001b[0;34m()\u001b[0m\n\u001b[1;32m      3\u001b[0m \u001b[0;32mfrom\u001b[0m \u001b[0mkeras\u001b[0m\u001b[0;34m.\u001b[0m\u001b[0mlayers\u001b[0m \u001b[0;32mimport\u001b[0m \u001b[0mLSTM\u001b[0m\u001b[0;34m\u001b[0m\u001b[0;34m\u001b[0m\u001b[0m\n\u001b[1;32m      4\u001b[0m \u001b[0;34m\u001b[0m\u001b[0m\n\u001b[0;32m----> 5\u001b[0;31m \u001b[0mmodel\u001b[0m \u001b[0;34m=\u001b[0m \u001b[0mSequential\u001b[0m\u001b[0;34m(\u001b[0m\u001b[0;34m)\u001b[0m\u001b[0;34m\u001b[0m\u001b[0;34m\u001b[0m\u001b[0m\n\u001b[0m\u001b[1;32m      6\u001b[0m \u001b[0mmodel\u001b[0m\u001b[0;34m.\u001b[0m\u001b[0madd\u001b[0m\u001b[0;34m(\u001b[0m\u001b[0mEmbedding\u001b[0m\u001b[0;34m(\u001b[0m\u001b[0mmax_features\u001b[0m\u001b[0;34m,\u001b[0m \u001b[0;36m32\u001b[0m\u001b[0;34m)\u001b[0m\u001b[0;34m)\u001b[0m\u001b[0;34m\u001b[0m\u001b[0;34m\u001b[0m\u001b[0m\n\u001b[1;32m      7\u001b[0m \u001b[0mmodel\u001b[0m\u001b[0;34m.\u001b[0m\u001b[0madd\u001b[0m\u001b[0;34m(\u001b[0m\u001b[0mLSTM\u001b[0m\u001b[0;34m(\u001b[0m\u001b[0;36m32\u001b[0m\u001b[0;34m)\u001b[0m\u001b[0;34m)\u001b[0m\u001b[0;34m\u001b[0m\u001b[0;34m\u001b[0m\u001b[0m\n",
            "\u001b[0;31mNameError\u001b[0m: name 'Sequential' is not defined"
          ]
        }
      ]
    },
    {
      "cell_type": "code",
      "metadata": {
        "id": "L8p2APMLhE5M"
      },
      "source": [
        "# Plotting results\n",
        "import matplotlib.pyplot as plt\n",
        "\n",
        "acc = history.history['acc']\n",
        "val_acc = history.history['val_acc']\n",
        "loss = history.history['loss']\n",
        "val_loss = history.history['val_loss']\n",
        "\n",
        "epochs = range(1, len(acc) + 1)\n",
        "\n",
        "plt.plot(epochs, acc, 'bo', label='Training acc')\n",
        "plt.plot(epochs, val_acc, 'b', label='Validation acc')\n",
        "\n",
        "\n",
        "plt.title('Training and validation accuracy')\n",
        "plt.legend()\n",
        "\n",
        "plt.figure()\n",
        "\n",
        "plt.plot(epochs, loss, 'bo', label='Training loss')\n",
        "plt.plot(epochs, val_loss, 'b', label='Validation loss')\n",
        "plt.title('Training and validation loss')\n",
        "plt.legend()\n",
        "plt.show()"
      ],
      "execution_count": null,
      "outputs": []
    },
    {
      "cell_type": "markdown",
      "metadata": {
        "id": "V_Rnw5uJmfOj"
      },
      "source": [
        ""
      ]
    }
  ]
}